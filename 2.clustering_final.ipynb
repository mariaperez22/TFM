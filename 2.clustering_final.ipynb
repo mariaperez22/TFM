{
 "cells": [
  {
   "cell_type": "markdown",
   "id": "f9594bd7",
   "metadata": {},
   "source": [
    "V2 limpia"
   ]
  },
  {
   "cell_type": "code",
   "execution_count": 88,
   "id": "c36231c7",
   "metadata": {},
   "outputs": [],
   "source": [
    "# 📦 Imports\n",
    "import pandas as pd\n",
    "import joblib\n",
    "import zipfile\n",
    "from sklearn.cluster import KMeans\n",
    "from sklearn.feature_extraction.text import TfidfVectorizer\n",
    "from collections import Counter\n",
    "import matplotlib.pyplot as plt"
   ]
  },
  {
   "cell_type": "code",
   "execution_count": 89,
   "id": "11d46ca1",
   "metadata": {},
   "outputs": [],
   "source": [
    "\n",
    "# 📥 Cargar ambos datasets procesados y unirlos\n",
    "DATASETS = [\"dataset1\", \"dataset2\"]\n",
    "frames = []"
   ]
  },
  {
   "cell_type": "markdown",
   "id": "f81b82b8",
   "metadata": {},
   "source": [
    "Leemos los dataset desde zip"
   ]
  },
  {
   "cell_type": "code",
   "execution_count": 90,
   "id": "88db0fc0",
   "metadata": {},
   "outputs": [],
   "source": [
    "for name in DATASETS:\n",
    "    with zipfile.ZipFile(f\"{name}_procesado.zip\", 'r') as zip_ref:\n",
    "        zip_ref.extractall(\"./\")\n",
    "    df_temp = pd.read_csv(f\"{name}_procesado.csv\")\n",
    "    df_temp[\"source\"] = name  # Para saber de dónde viene cada fila\n",
    "    frames.append(df_temp)"
   ]
  },
  {
   "cell_type": "code",
   "execution_count": 91,
   "id": "8dde8907",
   "metadata": {},
   "outputs": [
    {
     "name": "stdout",
     "output_type": "stream",
     "text": [
      "✅ Datasets unidos: 1676567 filas\n"
     ]
    }
   ],
   "source": [
    "# 🔗 Unir datasets\n",
    "combined_df = pd.concat(frames, ignore_index=True)\n",
    "print(f\"✅ Datasets unidos: {combined_df.shape[0]} filas\")"
   ]
  },
  {
   "cell_type": "code",
   "execution_count": 92,
   "id": "7605b159",
   "metadata": {},
   "outputs": [
    {
     "data": {
      "text/plain": [
       "0          Digital Marketing Specialist social media mana...\n",
       "1          Web Developer frontend web developers design a...\n",
       "2          Operations Manager quality control managers es...\n",
       "3          Network Engineer wireless network engineers de...\n",
       "4          Event Manager a conference manager coordinates...\n",
       "                                 ...                        \n",
       "1676562                                                  NaN\n",
       "1676563                                                  NaN\n",
       "1676564                                                  NaN\n",
       "1676565                                                  NaN\n",
       "1676566                                                  NaN\n",
       "Name: combined_text, Length: 1676567, dtype: object"
      ]
     },
     "execution_count": 92,
     "metadata": {},
     "output_type": "execute_result"
    }
   ],
   "source": [
    "combined_df['combined_text']"
   ]
  },
  {
   "cell_type": "code",
   "execution_count": 93,
   "id": "2a11fcda",
   "metadata": {},
   "outputs": [],
   "source": [
    "combined_df[\"full_text_df1\"] = combined_df['combined_text']"
   ]
  },
  {
   "cell_type": "code",
   "execution_count": 94,
   "id": "c386c0c5",
   "metadata": {},
   "outputs": [],
   "source": [
    "combined_df[\"full_text_combined\"] = (\n",
    "    combined_df[\"full_text_df1\"].fillna(\"\") + \" \" +\n",
    "    combined_df[\"full_text\"].fillna(\"\")\n",
    ").str.strip()"
   ]
  },
  {
   "cell_type": "code",
   "execution_count": 95,
   "id": "afe367a4",
   "metadata": {},
   "outputs": [
    {
     "data": {
      "text/plain": [
       "0          Digital Marketing Specialist\n",
       "1                         Web Developer\n",
       "2                    Operations Manager\n",
       "3                      Network Engineer\n",
       "4                         Event Manager\n",
       "                       ...             \n",
       "1676562                             NaN\n",
       "1676563                             NaN\n",
       "1676564                             NaN\n",
       "1676565                             NaN\n",
       "1676566                             NaN\n",
       "Name: job title, Length: 1676567, dtype: object"
      ]
     },
     "execution_count": 95,
     "metadata": {},
     "output_type": "execute_result"
    }
   ],
   "source": [
    "combined_df[\"job title\"]"
   ]
  },
  {
   "cell_type": "code",
   "execution_count": 96,
   "id": "7fa77074",
   "metadata": {},
   "outputs": [
    {
     "name": "stdout",
     "output_type": "stream",
     "text": [
      "✅ TF-IDF aplicado al texto combinado\n"
     ]
    }
   ],
   "source": [
    "# 🔠 Vectorización conjunta del texto\n",
    "vectorizer = TfidfVectorizer(\n",
    "    max_features=1500,\n",
    "    stop_words='english',\n",
    "    max_df=0.85,\n",
    "    min_df=5,\n",
    "    ngram_range=(1, 2)\n",
    ")\n",
    "combined_df = combined_df.dropna(subset=[\"full_text_combined\"])\n",
    "combined_df = combined_df[combined_df[\"full_text_combined\"].str.strip() != \"\"]\n",
    "text_features = vectorizer.fit_transform(combined_df[\"full_text_combined\"])\n",
    "print(\"✅ TF-IDF aplicado al texto combinado\")"
   ]
  },
  {
   "cell_type": "code",
   "execution_count": 97,
   "id": "cd821778",
   "metadata": {},
   "outputs": [
    {
     "name": "stdout",
     "output_type": "stream",
     "text": [
      "Index(['O*NET-SOC Code', 'Title', 'Element ID', 'Element Name', 'Scale ID',\n",
      "       'Scale Name', 'Data Value', 'N', 'Standard Error', 'Lower CI Bound',\n",
      "       'Upper CI Bound', 'Recommend Suppress', 'Not Relevant', 'Date',\n",
      "       'Domain Source'],\n",
      "      dtype='object')\n"
     ]
    }
   ],
   "source": [
    "import pandas as pd\n",
    "\n",
    "# Cargar el CSV con las skills desde O*NET\n",
    "df_skills = pd.read_csv(\"dataset4/Skills.csv\", sep=\";\")  # Ajusta el nombre si es distinto\n",
    "\n",
    "# Verificar columnas disponibles\n",
    "print(df_skills.columns)"
   ]
  },
  {
   "cell_type": "code",
   "execution_count": 98,
   "id": "9ed3df5a",
   "metadata": {},
   "outputs": [],
   "source": [
    "df_knowledge = pd.read_csv(\"dataset4/Knowledge.csv\", sep=\";\")"
   ]
  },
  {
   "cell_type": "code",
   "execution_count": 99,
   "id": "375396ee",
   "metadata": {},
   "outputs": [],
   "source": [
    "# Obtener todos los nombres de skills y conocimientos sin filtro\n",
    "skills_filtered = df_skills[\"Element Name\"].dropna().str.lower().str.strip().unique().tolist()\n",
    "knowledge_filtered = df_knowledge[\"Element Name\"].dropna().str.lower().str.strip().unique().tolist()"
   ]
  },
  {
   "cell_type": "markdown",
   "id": "13980950",
   "metadata": {},
   "source": [
    "aqui cogemos lños de onet que no sean nan, las pasamos a minusculas, separamos que sean unicas  y en una lista y quitamos espacios delante y detras\n"
   ]
  },
  {
   "cell_type": "code",
   "execution_count": 100,
   "id": "ae43460b",
   "metadata": {},
   "outputs": [
    {
     "data": {
      "text/plain": [
       "['repairing',\n",
       " 'equipment selection',\n",
       " 'active listening',\n",
       " 'sociology and anthropology',\n",
       " 'chemistry',\n",
       " 'engineering and technology',\n",
       " 'negotiation',\n",
       " 'fine arts',\n",
       " 'science',\n",
       " 'administrative',\n",
       " 'mathematics',\n",
       " 'foreign language',\n",
       " 'law and government',\n",
       " 'technology design',\n",
       " 'judgment and decision making',\n",
       " 'coordination',\n",
       " 'management of material resources',\n",
       " 'public safety and security',\n",
       " 'operation and control',\n",
       " 'psychology',\n",
       " 'transportation',\n",
       " 'operations analysis',\n",
       " 'personnel and human resources',\n",
       " 'philosophy and theology',\n",
       " 'sales and marketing',\n",
       " 'economics and accounting',\n",
       " 'social perceptiveness',\n",
       " 'persuasion',\n",
       " 'writing',\n",
       " 'biology',\n",
       " 'time management',\n",
       " 'systems analysis',\n",
       " 'communications and media',\n",
       " 'administration and management',\n",
       " 'english language',\n",
       " 'therapy and counseling',\n",
       " 'design',\n",
       " 'education and training',\n",
       " 'computers and electronics',\n",
       " 'management of personnel resources',\n",
       " 'food production',\n",
       " 'learning strategies',\n",
       " 'building and construction',\n",
       " 'reading comprehension',\n",
       " 'troubleshooting',\n",
       " 'medicine and dentistry',\n",
       " 'critical thinking',\n",
       " 'mechanical',\n",
       " 'service orientation',\n",
       " 'customer and personal service',\n",
       " 'geography',\n",
       " 'management of financial resources',\n",
       " 'operations monitoring',\n",
       " 'installation',\n",
       " 'equipment maintenance',\n",
       " 'telecommunications',\n",
       " 'complex problem solving',\n",
       " 'history and archeology',\n",
       " 'systems evaluation',\n",
       " 'programming',\n",
       " 'physics',\n",
       " 'instructing',\n",
       " 'production and processing',\n",
       " 'speaking',\n",
       " 'quality control analysis',\n",
       " 'monitoring',\n",
       " 'active learning']"
      ]
     },
     "execution_count": 100,
     "metadata": {},
     "output_type": "execute_result"
    }
   ],
   "source": [
    "all_terms = list(set(skills_filtered + knowledge_filtered))\n",
    "\n",
    "all_terms"
   ]
  },
  {
   "cell_type": "code",
   "execution_count": 101,
   "id": "ca29a87d",
   "metadata": {},
   "outputs": [
    {
     "data": {
      "text/plain": [
       "['reading comprehension',\n",
       " 'active listening',\n",
       " 'writing',\n",
       " 'speaking',\n",
       " 'mathematics',\n",
       " 'science',\n",
       " 'critical thinking',\n",
       " 'active learning',\n",
       " 'learning strategies',\n",
       " 'monitoring',\n",
       " 'social perceptiveness',\n",
       " 'coordination',\n",
       " 'persuasion',\n",
       " 'negotiation',\n",
       " 'instructing',\n",
       " 'service orientation',\n",
       " 'complex problem solving',\n",
       " 'operations analysis',\n",
       " 'technology design',\n",
       " 'equipment selection',\n",
       " 'installation',\n",
       " 'programming',\n",
       " 'operations monitoring',\n",
       " 'operation and control',\n",
       " 'equipment maintenance',\n",
       " 'troubleshooting',\n",
       " 'repairing',\n",
       " 'quality control analysis',\n",
       " 'judgment and decision making',\n",
       " 'systems analysis',\n",
       " 'systems evaluation',\n",
       " 'time management',\n",
       " 'management of financial resources',\n",
       " 'management of material resources',\n",
       " 'management of personnel resources']"
      ]
     },
     "execution_count": 101,
     "metadata": {},
     "output_type": "execute_result"
    }
   ],
   "source": [
    "skills_filtered"
   ]
  },
  {
   "cell_type": "code",
   "execution_count": 102,
   "id": "ff2b14a4",
   "metadata": {},
   "outputs": [],
   "source": [
    "from flashtext import KeywordProcessor\n",
    "\n",
    "keyword_processor = KeywordProcessor()\n",
    "for skill in all_terms:\n",
    "    keyword_processor.add_keyword(skill)"
   ]
  },
  {
   "cell_type": "markdown",
   "id": "0cccdbda",
   "metadata": {},
   "source": [
    "aplicar a lo que haya puesto en los full_text"
   ]
  },
  {
   "cell_type": "code",
   "execution_count": 103,
   "id": "c4b56ef3",
   "metadata": {},
   "outputs": [],
   "source": [
    "# Aplicar al campo 'description'\n",
    "combined_df[\"skills_extraidas\"] = combined_df[\"full_text_combined\"].fillna(\"\").apply(\n",
    "    lambda x: \", \".join(sorted(set(keyword_processor.extract_keywords(x.lower()))))\n",
    ")"
   ]
  },
  {
   "cell_type": "code",
   "execution_count": 104,
   "id": "cb0e9617",
   "metadata": {},
   "outputs": [
    {
     "name": "stdout",
     "output_type": "stream",
     "text": [
      "🎯 Términos más detectados:\n",
      " - : 644443\n",
      " - design: 427238\n",
      " - transportation: 349349\n",
      " - troubleshooting: 121530\n",
      " - coordination: 115733\n",
      " - negotiation: 112802\n",
      " - writing: 67448\n",
      " - administrative: 63540\n",
      " - programming: 52122\n",
      " - monitoring: 47398\n",
      " - time management: 41777\n",
      " - psychology: 38056\n",
      " - mechanical: 30809\n",
      " - critical thinking: 15008\n",
      " - installation: 12508\n",
      " - science: 11121\n",
      " - administration and management: 10399\n",
      " - chemistry: 7518\n",
      " - active listening: 7148\n",
      " - systems analysis: 7141\n",
      " - fine arts: 3705\n",
      " - equipment selection: 3648\n",
      " - therapy and counseling: 3454\n",
      " - speaking: 1424\n",
      " - sales and marketing: 906\n",
      " - biology: 884\n",
      " - mathematics: 867\n",
      " - persuasion: 575\n",
      " - telecommunications: 489\n",
      " - english language: 472\n"
     ]
    }
   ],
   "source": [
    "from collections import Counter\n",
    "\n",
    "skills_detected = combined_df[\"skills_extraidas\"].dropna().str.split(\", \").explode()\n",
    "top_terms = Counter(skills_detected).most_common(30)\n",
    "\n",
    "print(\"🎯 Términos más detectados:\")\n",
    "for skill, count in top_terms:\n",
    "    print(f\" - {skill}: {count}\")"
   ]
  },
  {
   "cell_type": "code",
   "execution_count": 105,
   "id": "fc88597d",
   "metadata": {},
   "outputs": [
    {
     "data": {
      "text/plain": [
       "0           Digital Marketing Specialist social media man...\n",
       "1          design Web Developer frontend web developers d...\n",
       "2           Operations Manager quality control managers e...\n",
       "3          design, transportation, troubleshooting Networ...\n",
       "4          coordination Event Manager a conference manage...\n",
       "                                 ...                        \n",
       "1676562     area director of business development nexion ...\n",
       "1676563     area director of business development nexion ...\n",
       "1676564     area director of business development nexion ...\n",
       "1676565     area director of business development nexion ...\n",
       "1676566     area director of business development nexion ...\n",
       "Name: text_for_clustering, Length: 1676567, dtype: object"
      ]
     },
     "execution_count": 105,
     "metadata": {},
     "output_type": "execute_result"
    }
   ],
   "source": [
    "### 2. Combinar texto base para clustering (puedes ajustar esta fusión)\n",
    "combined_df[\"text_for_clustering\"] = combined_df[\"skills_extraidas\"].fillna(\"\") + \" \" + combined_df[\"full_text_combined\"].fillna(\"\")\n",
    "\n",
    "combined_df[\"text_for_clustering\"]"
   ]
  },
  {
   "cell_type": "code",
   "execution_count": 106,
   "id": "a7a5a5de",
   "metadata": {},
   "outputs": [
    {
     "name": "stdout",
     "output_type": "stream",
     "text": [
      "✅ TF-IDF vector shape: (1676567, 1500)\n"
     ]
    }
   ],
   "source": [
    "### 3. TF-IDF sobre el texto combinado\n",
    "tfidf = TfidfVectorizer(\n",
    "    max_features=1500,\n",
    "    stop_words=\"english\",\n",
    "    ngram_range=(1, 2),\n",
    "    max_df=0.85,\n",
    "    min_df=5\n",
    ")\n",
    "X = tfidf.fit_transform(combined_df[\"text_for_clustering\"])\n",
    "print(\"✅ TF-IDF vector shape:\", X.shape)"
   ]
  },
  {
   "cell_type": "markdown",
   "id": "6eca931e",
   "metadata": {},
   "source": [
    "KMEANS"
   ]
  },
  {
   "cell_type": "code",
   "execution_count": 107,
   "id": "b7a8c130",
   "metadata": {},
   "outputs": [],
   "source": [
    "k = 37\n",
    "kmeans = KMeans(n_clusters=k, random_state=42)\n",
    "combined_df[\"cluster\"] = kmeans.fit_predict(X)"
   ]
  },
  {
   "cell_type": "code",
   "execution_count": 108,
   "id": "617abf27",
   "metadata": {},
   "outputs": [
    {
     "name": "stdout",
     "output_type": "stream",
     "text": [
      "\n",
      "🟦 Clúster 0 — 13859 ofertas / 13859 con skills extraídas\n",
      "🔝 Top 10 skills/conocimientos:\n",
      " - design: 13843\n",
      " - transportation: 8273\n",
      " - mechanical: 29\n",
      " - writing: 13\n",
      " - coordination: 9\n",
      " - troubleshooting: 6\n",
      " - installation: 4\n",
      " - critical thinking: 4\n",
      " - monitoring: 4\n",
      " - programming: 2\n",
      "\n",
      "🟦 Clúster 1 — 41505 ofertas / 41505 con skills extraídas\n",
      "🔝 Top 10 skills/conocimientos:\n",
      " - negotiation: 38018\n",
      " - transportation: 8466\n",
      " - time management: 8\n",
      " - monitoring: 5\n",
      " - coordination: 4\n",
      " - writing: 3\n",
      " - critical thinking: 2\n",
      " - science: 2\n",
      "\n",
      "🟦 Clúster 2 — 48249 ofertas / 48249 con skills extraídas\n",
      "🔝 Top 10 skills/conocimientos:\n",
      " - negotiation: 14213\n",
      " - transportation: 9182\n",
      " - persuasion: 470\n",
      " - sales and marketing: 313\n",
      " - time management: 233\n",
      " - administrative: 197\n",
      " - design: 161\n",
      " - monitoring: 147\n",
      " - coordination: 138\n",
      " - speaking: 109\n",
      "\n",
      "🟦 Clúster 3 — 34731 ofertas / 34731 con skills extraídas\n",
      "🔝 Top 10 skills/conocimientos:\n",
      " - writing: 10373\n",
      " - transportation: 7012\n",
      " - design: 6899\n",
      " - programming: 6\n",
      " - english language: 3\n",
      " - complex problem solving: 3\n",
      " - troubleshooting: 3\n",
      " - monitoring: 2\n",
      "\n",
      "🟦 Clúster 4 — 69718 ofertas / 69718 con skills extraídas\n",
      "🔝 Top 10 skills/conocimientos:\n",
      " - transportation: 13850\n",
      " - monitoring: 3547\n",
      " - science: 58\n",
      " - administrative: 44\n",
      " - time management: 37\n",
      " - coordination: 27\n",
      " - writing: 22\n",
      " - design: 15\n",
      " - critical thinking: 8\n",
      " - speaking: 6\n",
      "\n",
      "🟦 Clúster 5 — 87524 ofertas / 87524 con skills extraídas\n",
      "🔝 Top 10 skills/conocimientos:\n",
      " - troubleshooting: 52479\n",
      " - design: 27891\n",
      " - transportation: 17319\n",
      " - systems analysis: 7049\n",
      " - writing: 6985\n",
      " - monitoring: 3744\n",
      " - programming: 3486\n",
      " - installation: 195\n",
      " - science: 194\n",
      " - coordination: 97\n",
      "\n",
      "🟦 Clúster 6 — 24667 ofertas / 24667 con skills extraídas\n",
      "🔝 Top 10 skills/conocimientos:\n",
      " - transportation: 4935\n",
      " - speaking: 70\n",
      " - design: 55\n",
      " - troubleshooting: 30\n",
      " - science: 30\n",
      " - writing: 19\n",
      " - monitoring: 18\n",
      " - installation: 8\n",
      " - administrative: 6\n",
      " - coordination: 6\n",
      "\n",
      "🟦 Clúster 7 — 21209 ofertas / 21209 con skills extraídas\n",
      "🔝 Top 10 skills/conocimientos:\n",
      " - design: 21206\n",
      " - transportation: 4071\n",
      " - time management: 40\n",
      " - fine arts: 15\n",
      " - sales and marketing: 6\n",
      "\n",
      "🟦 Clúster 8 — 20911 ofertas / 20911 con skills extraídas\n",
      "🔝 Top 10 skills/conocimientos:\n",
      " - transportation: 4131\n",
      " - negotiation: 3509\n",
      " - monitoring: 6\n",
      " - mechanical: 2\n",
      " - time management: 2\n",
      " - administrative: 1\n",
      " - science: 1\n",
      " - education and training: 1\n",
      "\n",
      "🟦 Clúster 9 — 101919 ofertas / 101919 con skills extraídas\n",
      "🔝 Top 10 skills/conocimientos:\n",
      " - transportation: 20197\n",
      " - design: 7215\n",
      " - monitoring: 6995\n",
      " - writing: 3761\n",
      " - troubleshooting: 3381\n",
      " - sales and marketing: 208\n",
      " - science: 137\n",
      " - time management: 69\n",
      " - coordination: 46\n",
      " - english language: 25\n",
      "\n",
      "🟦 Clúster 10 — 41898 ofertas / 41898 con skills extraídas\n",
      "🔝 Top 10 skills/conocimientos:\n",
      " - administrative: 41898\n",
      " - time management: 27792\n",
      " - coordination: 17569\n",
      " - transportation: 8436\n",
      " - design: 14\n",
      " - writing: 9\n",
      " - critical thinking: 7\n",
      " - monitoring: 6\n",
      " - sales and marketing: 1\n",
      "\n",
      "🟦 Clúster 11 — 42075 ofertas / 42075 con skills extraídas\n",
      "🔝 Top 10 skills/conocimientos:\n",
      " - transportation: 8354\n",
      " - troubleshooting: 6926\n",
      " - critical thinking: 3455\n",
      " - speaking: 24\n",
      " - installation: 24\n",
      " - negotiation: 23\n",
      " - time management: 23\n",
      " - administrative: 20\n",
      " - active listening: 18\n",
      " - design: 18\n",
      "\n",
      "🟦 Clúster 12 — 45023 ofertas / 45023 con skills extraídas\n",
      "🔝 Top 10 skills/conocimientos:\n",
      " - design: 17184\n",
      " - writing: 13698\n",
      " - transportation: 8981\n",
      " - coordination: 3492\n",
      " - science: 10\n",
      " - sales and marketing: 8\n",
      " - psychology: 6\n",
      " - administrative: 2\n",
      "\n",
      "🟦 Clúster 13 — 42161 ofertas / 42161 con skills extraídas\n",
      "🔝 Top 10 skills/conocimientos:\n",
      " - design: 14101\n",
      " - transportation: 8499\n",
      " - programming: 7085\n",
      " - monitoring: 3484\n",
      " - science: 82\n",
      " - coordination: 58\n",
      " - writing: 49\n",
      " - troubleshooting: 30\n",
      " - public safety and security: 28\n",
      " - physics: 12\n",
      "\n",
      "🟦 Clúster 14 — 41654 ofertas / 41654 con skills extraídas\n",
      "🔝 Top 10 skills/conocimientos:\n",
      " - transportation: 19453\n",
      " - coordination: 10272\n",
      " - design: 43\n",
      " - negotiation: 25\n",
      " - science: 10\n",
      " - monitoring: 8\n",
      " - critical thinking: 8\n",
      " - time management: 7\n",
      " - sales and marketing: 5\n",
      " - administrative: 5\n",
      "\n",
      "🟦 Clúster 15 — 59553 ofertas / 59553 con skills extraídas\n",
      "🔝 Top 10 skills/conocimientos:\n",
      " - design: 17586\n",
      " - writing: 13848\n",
      " - transportation: 11809\n",
      " - critical thinking: 10343\n",
      " - programming: 7167\n",
      " - science: 3714\n",
      " - chemistry: 3469\n",
      " - psychology: 3321\n",
      " - troubleshooting: 85\n",
      " - monitoring: 48\n",
      "\n",
      "🟦 Clúster 16 — 38271 ofertas / 38271 con skills extraídas\n",
      "🔝 Top 10 skills/conocimientos:\n",
      " - design: 31357\n",
      " - transportation: 7556\n",
      " - programming: 3568\n",
      " - troubleshooting: 3558\n",
      " - science: 5\n",
      " - coordination: 4\n",
      " - writing: 2\n",
      "\n",
      "🟦 Clúster 17 — 31343 ofertas / 31343 con skills extraídas\n",
      "🔝 Top 10 skills/conocimientos:\n",
      " - transportation: 6086\n",
      " - administrative: 3647\n",
      " - design: 64\n",
      " - writing: 41\n",
      " - time management: 40\n",
      " - negotiation: 37\n",
      " - coordination: 31\n",
      " - critical thinking: 28\n",
      " - programming: 13\n",
      " - monitoring: 8\n",
      "\n",
      "🟦 Clúster 18 — 52510 ofertas / 52510 con skills extraídas\n",
      "🔝 Top 10 skills/conocimientos:\n",
      " - transportation: 10432\n",
      " - psychology: 10422\n",
      " - active listening: 6917\n",
      " - coordination: 3620\n",
      " - therapy and counseling: 3453\n",
      " - administrative: 67\n",
      " - science: 16\n",
      " - monitoring: 9\n",
      " - design: 7\n",
      " - time management: 5\n",
      "\n",
      "🟦 Clúster 19 — 45315 ofertas / 45315 con skills extraídas\n",
      "🔝 Top 10 skills/conocimientos:\n",
      " - design: 41773\n",
      " - transportation: 9095\n",
      " - equipment selection: 3575\n",
      " - physics: 3\n",
      "\n",
      "🟦 Clúster 20 — 48544 ofertas / 48544 con skills extraídas\n",
      "🔝 Top 10 skills/conocimientos:\n",
      " - design: 27674\n",
      " - transportation: 9772\n",
      " - writing: 3483\n",
      " - coordination: 3393\n",
      " - chemistry: 19\n",
      " - biology: 17\n",
      " - science: 16\n",
      " - education and training: 12\n",
      " - monitoring: 11\n",
      " - critical thinking: 4\n",
      "\n",
      "🟦 Clúster 21 — 38036 ofertas / 38036 con skills extraídas\n",
      "🔝 Top 10 skills/conocimientos:\n",
      " - design: 38036\n",
      " - psychology: 20583\n",
      " - transportation: 7614\n",
      "\n",
      "🟦 Clúster 22 — 24435 ofertas / 24435 con skills extraídas\n",
      "🔝 Top 10 skills/conocimientos:\n",
      " - coordination: 6972\n",
      " - transportation: 4917\n",
      " - science: 76\n",
      " - monitoring: 71\n",
      " - critical thinking: 43\n",
      " - administrative: 32\n",
      " - education and training: 12\n",
      " - speaking: 10\n",
      " - programming: 9\n",
      " - design: 7\n",
      "\n",
      "🟦 Clúster 23 — 38318 ofertas / 38318 con skills extraídas\n",
      "🔝 Top 10 skills/conocimientos:\n",
      " - coordination: 34678\n",
      " - administration and management: 10361\n",
      " - transportation: 7545\n",
      " - negotiation: 6860\n",
      " - administrative: 39\n",
      " - design: 24\n",
      " - time management: 14\n",
      " - monitoring: 14\n",
      " - programming: 8\n",
      " - writing: 3\n",
      "\n",
      "🟦 Clúster 24 — 28224 ofertas / 28224 con skills extraídas\n",
      "🔝 Top 10 skills/conocimientos:\n",
      " - transportation: 5475\n",
      " - time management: 36\n",
      " - programming: 24\n",
      " - design: 20\n",
      " - administrative: 16\n",
      " - monitoring: 14\n",
      " - service orientation: 10\n",
      " - critical thinking: 6\n",
      " - science: 5\n",
      " - geography: 4\n",
      "\n",
      "🟦 Clúster 25 — 14568 ofertas / 14568 con skills extraídas\n",
      "🔝 Top 10 skills/conocimientos:\n",
      " - coordination: 10688\n",
      " - design: 7249\n",
      " - negotiation: 3500\n",
      " - transportation: 2772\n",
      " - mechanical: 129\n",
      " - installation: 117\n",
      " - monitoring: 99\n",
      " - administrative: 80\n",
      " - time management: 56\n",
      " - writing: 33\n",
      "\n",
      "🟦 Clúster 26 — 29283 ofertas / 29283 con skills extraídas\n",
      "🔝 Top 10 skills/conocimientos:\n",
      " - monitoring: 7314\n",
      " - transportation: 5722\n",
      " - design: 4125\n",
      " - time management: 3605\n",
      " - writing: 3556\n",
      " - coordination: 240\n",
      " - science: 211\n",
      " - installation: 136\n",
      " - negotiation: 132\n",
      " - administrative: 113\n",
      "\n",
      "🟦 Clúster 27 — 66155 ofertas / 66155 con skills extraídas\n",
      "🔝 Top 10 skills/conocimientos:\n",
      " - design: 27961\n",
      " - programming: 24328\n",
      " - transportation: 13221\n",
      " - troubleshooting: 10521\n",
      " - administrative: 6988\n",
      " - time management: 6988\n",
      " - monitoring: 3469\n",
      " - science: 43\n",
      " - writing: 8\n",
      " - installation: 3\n",
      "\n",
      "🟦 Clúster 28 — 31534 ofertas / 31534 con skills extraídas\n",
      "🔝 Top 10 skills/conocimientos:\n",
      " - troubleshooting: 31510\n",
      " - monitoring: 7092\n",
      " - design: 7041\n",
      " - transportation: 6290\n",
      " - science: 29\n",
      " - installation: 16\n",
      " - telecommunications: 3\n",
      " - equipment maintenance: 1\n",
      " - writing: 1\n",
      " - coordination: 1\n",
      "\n",
      "🟦 Clúster 29 — 31623 ofertas / 31623 con skills extraídas\n",
      "🔝 Top 10 skills/conocimientos:\n",
      " - transportation: 6310\n",
      " - design: 40\n",
      " - writing: 25\n",
      " - time management: 24\n",
      " - monitoring: 12\n",
      " - coordination: 9\n",
      " - speaking: 8\n",
      " - critical thinking: 6\n",
      " - programming: 2\n",
      " - negotiation: 2\n",
      "\n",
      "🟦 Clúster 30 — 42227 ofertas / 42227 con skills extraídas\n",
      "🔝 Top 10 skills/conocimientos:\n",
      " - design: 10539\n",
      " - transportation: 8432\n",
      " - mechanical: 7095\n",
      " - chemistry: 3548\n",
      " - science: 67\n",
      " - troubleshooting: 42\n",
      " - monitoring: 22\n",
      " - coordination: 16\n",
      " - writing: 14\n",
      " - biology: 11\n",
      "\n",
      "🟦 Clúster 31 — 17302 ofertas / 17302 con skills extraídas\n",
      "🔝 Top 10 skills/conocimientos:\n",
      " - design: 17299\n",
      " - coordination: 13946\n",
      " - transportation: 3429\n",
      "\n",
      "🟦 Clúster 32 — 38880 ofertas / 38880 con skills extraídas\n",
      "🔝 Top 10 skills/conocimientos:\n",
      " - negotiation: 27951\n",
      " - transportation: 7767\n",
      " - time management: 49\n",
      " - coordination: 45\n",
      " - writing: 36\n",
      " - design: 25\n",
      " - monitoring: 22\n",
      " - speaking: 18\n",
      " - sales and marketing: 11\n",
      " - science: 10\n",
      "\n",
      "🟦 Clúster 33 — 60377 ofertas / 60377 con skills extraídas\n",
      "🔝 Top 10 skills/conocimientos:\n",
      " - transportation: 12214\n",
      " - administrative: 150\n",
      " - monitoring: 109\n",
      " - coordination: 73\n",
      " - science: 35\n",
      " - speaking: 29\n",
      " - critical thinking: 27\n",
      " - design: 19\n",
      " - time management: 18\n",
      " - writing: 14\n",
      "\n",
      "🟦 Clúster 34 — 45722 ofertas / 45722 con skills extraídas\n",
      "🔝 Top 10 skills/conocimientos:\n",
      " - design: 45666\n",
      " - mechanical: 21084\n",
      " - transportation: 11940\n",
      " - installation: 3519\n",
      " - troubleshooting: 159\n",
      " - programming: 116\n",
      " - science: 75\n",
      " - writing: 45\n",
      " - coordination: 35\n",
      " - equipment selection: 29\n",
      "\n",
      "🟦 Clúster 35 — 52358 ofertas / 52358 con skills extraídas\n",
      "🔝 Top 10 skills/conocimientos:\n",
      " - transportation: 10400\n",
      " - negotiation: 10396\n",
      " - writing: 7057\n",
      " - administrative: 6940\n",
      " - time management: 6\n",
      " - speaking: 4\n",
      " - monitoring: 3\n",
      " - critical thinking: 2\n",
      "\n",
      "🟦 Clúster 36 — 164886 ofertas / 164886 con skills extraídas\n",
      "🔝 Top 10 skills/conocimientos:\n",
      " - design: 42081\n",
      " - transportation: 29392\n",
      " - troubleshooting: 12723\n",
      " - monitoring: 11087\n",
      " - coordination: 10243\n",
      " - installation: 8413\n",
      " - negotiation: 8106\n",
      " - programming: 6215\n",
      " - science: 6180\n",
      " - writing: 4227\n"
     ]
    }
   ],
   "source": [
    "from collections import Counter\n",
    "\n",
    "for cluster_id in sorted(combined_df[\"cluster\"].dropna().unique()):\n",
    "    subset = combined_df[combined_df[\"cluster\"] == cluster_id]\n",
    "    \n",
    "    skills_col = subset[\"skills_extraidas\"].dropna()\n",
    "    skills_exploded = skills_col.str.split(\", \").explode()\n",
    "    skills_cleaned = skills_exploded[skills_exploded.str.strip() != \"\"]\n",
    "    \n",
    "    total_ofertas = subset.shape[0]\n",
    "    total_con_skills = skills_col.shape[0]\n",
    "\n",
    "    print(f\"\\n🟦 Clúster {cluster_id} — {total_ofertas} ofertas / {total_con_skills} con skills extraídas\")\n",
    "\n",
    "    if not skills_cleaned.empty:\n",
    "        print(\"🔝 Top 10 skills/conocimientos:\")\n",
    "        for skill, count in Counter(skills_cleaned).most_common(10):\n",
    "            print(f\" - {skill}: {count}\")\n",
    "    else:\n",
    "        print(\"⚠️ No hay skills extraídas en este clúster.\")\n"
   ]
  },
  {
   "cell_type": "code",
   "execution_count": 109,
   "id": "258d0f16",
   "metadata": {},
   "outputs": [
    {
     "name": "stdout",
     "output_type": "stream",
     "text": [
      "\n",
      "🟦 Clúster 0 — 13859 ofertas / 13859 con skills extraídas\n",
      "🔝 Top 10 skills/conocimientos:\n",
      " - design: 13843\n",
      " - transportation: 8273\n",
      " - mechanical: 29\n",
      " - writing: 13\n",
      " - coordination: 9\n",
      " - troubleshooting: 6\n",
      " - installation: 4\n",
      " - critical thinking: 4\n",
      " - monitoring: 4\n",
      " - programming: 2\n",
      "📌 Títulos de puestos más comunes (job_title):\n",
      " - Civil Engineer (10285)\n",
      " - Urban Planner (3505)\n",
      "\n",
      "🟦 Clúster 1 — 41505 ofertas / 41505 con skills extraídas\n",
      "🔝 Top 10 skills/conocimientos:\n",
      " - negotiation: 38018\n",
      " - transportation: 8466\n",
      " - time management: 8\n",
      " - monitoring: 5\n",
      " - coordination: 4\n",
      " - writing: 3\n",
      " - critical thinking: 2\n",
      " - science: 2\n",
      "📌 Títulos de puestos más comunes (job_title):\n",
      " - Procurement Specialist (17348)\n",
      " - Procurement Manager (17226)\n",
      " - Procurement Coordinator (3424)\n",
      " - Purchasing Agent (3419)\n",
      "\n",
      "🟦 Clúster 2 — 48249 ofertas / 48249 con skills extraídas\n",
      "🔝 Top 10 skills/conocimientos:\n",
      " - negotiation: 14213\n",
      " - transportation: 9182\n",
      " - persuasion: 470\n",
      " - sales and marketing: 313\n",
      " - time management: 233\n",
      " - administrative: 197\n",
      " - design: 161\n",
      " - monitoring: 147\n",
      " - coordination: 138\n",
      " - speaking: 109\n",
      "📌 Títulos de puestos más comunes (job_title):\n",
      " - Sales Representative (10601)\n",
      " - Pharmaceutical Sales Representative (10450)\n",
      " - Sales Consultant (10338)\n",
      " - Sales Manager (6967)\n",
      " - Sales Associate (3482)\n",
      "\n",
      "🟦 Clúster 3 — 34731 ofertas / 34731 con skills extraídas\n",
      "🔝 Top 10 skills/conocimientos:\n",
      " - writing: 10373\n",
      " - transportation: 7012\n",
      " - design: 6899\n",
      " - programming: 6\n",
      " - english language: 3\n",
      " - complex problem solving: 3\n",
      " - troubleshooting: 3\n",
      " - monitoring: 2\n",
      "📌 Títulos de puestos más comunes (job_title):\n",
      " - Content Writer (10375)\n",
      " - Social Media Coordinator (6878)\n",
      " - SEO Analyst (3516)\n",
      " - SEO Specialist (3496)\n",
      " - Brand Ambassador (3492)\n",
      "\n",
      "🟦 Clúster 4 — 69718 ofertas / 69718 con skills extraídas\n",
      "🔝 Top 10 skills/conocimientos:\n",
      " - transportation: 13850\n",
      " - monitoring: 3547\n",
      " - science: 58\n",
      " - administrative: 44\n",
      " - time management: 37\n",
      " - coordination: 27\n",
      " - writing: 22\n",
      " - design: 15\n",
      " - critical thinking: 8\n",
      " - speaking: 6\n",
      "📌 Títulos de puestos más comunes (job_title):\n",
      " - Investment Analyst (10503)\n",
      " - Investment Banker (10427)\n",
      " - Financial Advisor (10382)\n",
      " - Finance Manager (10324)\n",
      " - Financial Analyst (10295)\n",
      "\n",
      "🟦 Clúster 5 — 87524 ofertas / 87524 con skills extraídas\n",
      "🔝 Top 10 skills/conocimientos:\n",
      " - troubleshooting: 52479\n",
      " - design: 27891\n",
      " - transportation: 17319\n",
      " - systems analysis: 7049\n",
      " - writing: 6985\n",
      " - monitoring: 3744\n",
      " - programming: 3486\n",
      " - installation: 195\n",
      " - science: 194\n",
      " - coordination: 97\n",
      "📌 Títulos de puestos más comunes (job_title):\n",
      " - IT Support Specialist (10525)\n",
      " - Software Architect (10464)\n",
      " - Systems Analyst (7037)\n",
      " - Network Administrator (7000)\n",
      " - Aerospace Engineer (6957)\n",
      "\n",
      "🟦 Clúster 6 — 24667 ofertas / 24667 con skills extraídas\n",
      "🔝 Top 10 skills/conocimientos:\n",
      " - transportation: 4935\n",
      " - speaking: 70\n",
      " - design: 55\n",
      " - troubleshooting: 30\n",
      " - science: 30\n",
      " - writing: 19\n",
      " - monitoring: 18\n",
      " - installation: 8\n",
      " - administrative: 6\n",
      " - coordination: 6\n",
      "📌 Títulos de puestos más comunes (job_title):\n",
      " - Network Security Specialist (10520)\n",
      " - Network Administrator (7027)\n",
      " - Network Technician (3487)\n",
      " - Network Engineer (3465)\n",
      "\n",
      "🟦 Clúster 7 — 21209 ofertas / 21209 con skills extraídas\n",
      "🔝 Top 10 skills/conocimientos:\n",
      " - design: 21206\n",
      " - transportation: 4071\n",
      " - time management: 40\n",
      " - fine arts: 15\n",
      " - sales and marketing: 6\n",
      "📌 Títulos de puestos más comunes (job_title):\n",
      " - Graphic Designer (7138)\n",
      " - Art Director (6939)\n",
      " - Web Designer (3464)\n",
      " - Front-End Developer (3430)\n",
      "\n",
      "🟦 Clúster 8 — 20911 ofertas / 20911 con skills extraídas\n",
      "🔝 Top 10 skills/conocimientos:\n",
      " - transportation: 4131\n",
      " - negotiation: 3509\n",
      " - monitoring: 6\n",
      " - mechanical: 2\n",
      " - time management: 2\n",
      " - administrative: 1\n",
      " - science: 1\n",
      " - education and training: 1\n",
      "📌 Títulos de puestos más comunes (job_title):\n",
      " - Paralegal (6982)\n",
      " - Litigation Attorney (3504)\n",
      " - Legal Advisor (3491)\n",
      " - Event Planner (3466)\n",
      " - Investment Banker (3427)\n",
      "\n",
      "🟦 Clúster 9 — 101919 ofertas / 101919 con skills extraídas\n",
      "🔝 Top 10 skills/conocimientos:\n",
      " - transportation: 20197\n",
      " - design: 7215\n",
      " - monitoring: 6995\n",
      " - writing: 3761\n",
      " - troubleshooting: 3381\n",
      " - sales and marketing: 208\n",
      " - science: 137\n",
      " - time management: 69\n",
      " - coordination: 46\n",
      " - english language: 25\n",
      "📌 Títulos de puestos más comunes (job_title):\n",
      " - Digital Marketing Specialist (14030)\n",
      " - Marketing Director (10408)\n",
      " - Email Marketing Specialist (10379)\n",
      " - SEM Specialist (10110)\n",
      " - Marketing Specialist (7207)\n",
      "\n",
      "🟦 Clúster 10 — 41898 ofertas / 41898 con skills extraídas\n",
      "🔝 Top 10 skills/conocimientos:\n",
      " - administrative: 41898\n",
      " - time management: 27792\n",
      " - coordination: 17569\n",
      " - transportation: 8436\n",
      " - design: 14\n",
      " - writing: 9\n",
      " - critical thinking: 7\n",
      " - monitoring: 6\n",
      " - sales and marketing: 1\n",
      "📌 Títulos de puestos más comunes (job_title):\n",
      " - Administrative Assistant (10496)\n",
      " - Executive Assistant (7014)\n",
      " - Office Manager (6914)\n",
      " - Project Coordinator (6803)\n",
      " - Data Entry Clerk (3563)\n",
      "\n",
      "🟦 Clúster 11 — 42075 ofertas / 42075 con skills extraídas\n",
      "🔝 Top 10 skills/conocimientos:\n",
      " - transportation: 8354\n",
      " - troubleshooting: 6926\n",
      " - critical thinking: 3455\n",
      " - speaking: 24\n",
      " - installation: 24\n",
      " - negotiation: 23\n",
      " - time management: 23\n",
      " - administrative: 20\n",
      " - active listening: 18\n",
      " - design: 18\n",
      "📌 Títulos de puestos más comunes (job_title):\n",
      " - Customer Support Specialist (13744)\n",
      " - Customer Service Representative (7027)\n",
      " - Customer Success Manager (7002)\n",
      " - Customer Service Manager (6989)\n",
      " - Account Manager (6913)\n",
      "\n",
      "🟦 Clúster 12 — 45023 ofertas / 45023 con skills extraídas\n",
      "🔝 Top 10 skills/conocimientos:\n",
      " - design: 17184\n",
      " - writing: 13698\n",
      " - transportation: 8981\n",
      " - coordination: 3492\n",
      " - science: 10\n",
      " - sales and marketing: 8\n",
      " - psychology: 6\n",
      " - administrative: 2\n",
      "📌 Títulos de puestos más comunes (job_title):\n",
      " - Market Research Analyst (10427)\n",
      " - Marketing Manager (6955)\n",
      " - Research Analyst (6850)\n",
      " - Research Scientist (6830)\n",
      " - Market Analyst (3541)\n",
      "\n",
      "🟦 Clúster 13 — 42161 ofertas / 42161 con skills extraídas\n",
      "🔝 Top 10 skills/conocimientos:\n",
      " - design: 14101\n",
      " - transportation: 8499\n",
      " - programming: 7085\n",
      " - monitoring: 3484\n",
      " - science: 82\n",
      " - coordination: 58\n",
      " - writing: 49\n",
      " - troubleshooting: 30\n",
      " - public safety and security: 28\n",
      " - physics: 12\n",
      "📌 Títulos de puestos más comunes (job_title):\n",
      " - Software Tester (20945)\n",
      " - QA Analyst (10516)\n",
      " - Quality Assurance Analyst (6991)\n",
      " - Java Developer (3512)\n",
      "\n",
      "🟦 Clúster 14 — 41654 ofertas / 41654 con skills extraídas\n",
      "🔝 Top 10 skills/conocimientos:\n",
      " - transportation: 19453\n",
      " - coordination: 10272\n",
      " - design: 43\n",
      " - negotiation: 25\n",
      " - science: 10\n",
      " - monitoring: 8\n",
      " - critical thinking: 8\n",
      " - time management: 7\n",
      " - sales and marketing: 5\n",
      " - administrative: 5\n",
      "📌 Títulos de puestos más comunes (job_title):\n",
      " - Supply Chain Manager (13902)\n",
      " - Purchasing Agent (13867)\n",
      " - Operations Manager (6932)\n",
      " - Supply Chain Analyst (3507)\n",
      " - Inventory Analyst (3342)\n",
      "\n",
      "🟦 Clúster 15 — 59553 ofertas / 59553 con skills extraídas\n",
      "🔝 Top 10 skills/conocimientos:\n",
      " - design: 17586\n",
      " - writing: 13848\n",
      " - transportation: 11809\n",
      " - critical thinking: 10343\n",
      " - programming: 7167\n",
      " - science: 3714\n",
      " - chemistry: 3469\n",
      " - psychology: 3321\n",
      " - troubleshooting: 85\n",
      " - monitoring: 48\n",
      "📌 Títulos de puestos más comunes (job_title):\n",
      " - Data Analyst (17402)\n",
      " - Marketing Analyst (10406)\n",
      " - Data Engineer (6926)\n",
      " - Research Analyst (6852)\n",
      " - Data Scientist (3531)\n",
      "\n",
      "🟦 Clúster 16 — 38271 ofertas / 38271 con skills extraídas\n",
      "🔝 Top 10 skills/conocimientos:\n",
      " - design: 31357\n",
      " - transportation: 7556\n",
      " - programming: 3568\n",
      " - troubleshooting: 3558\n",
      " - science: 5\n",
      " - coordination: 4\n",
      " - writing: 2\n",
      "📌 Títulos de puestos más comunes (job_title):\n",
      " - Software Engineer (10308)\n",
      " - Front-End Engineer (7086)\n",
      " - Web Developer (6909)\n",
      " - UI Developer (6898)\n",
      " - Java Developer (3562)\n",
      "\n",
      "🟦 Clúster 17 — 31343 ofertas / 31343 con skills extraídas\n",
      "🔝 Top 10 skills/conocimientos:\n",
      " - transportation: 6086\n",
      " - administrative: 3647\n",
      " - design: 64\n",
      " - writing: 41\n",
      " - time management: 40\n",
      " - negotiation: 37\n",
      " - coordination: 31\n",
      " - critical thinking: 28\n",
      " - programming: 13\n",
      " - monitoring: 8\n",
      "📌 Títulos de puestos más comunes (job_title):\n",
      " - HR Coordinator (10240)\n",
      " - Human Resources Manager (10180)\n",
      " - HR Manager (6913)\n",
      " - HR Generalist (3495)\n",
      "\n",
      "🟦 Clúster 18 — 52510 ofertas / 52510 con skills extraídas\n",
      "🔝 Top 10 skills/conocimientos:\n",
      " - transportation: 10432\n",
      " - psychology: 10422\n",
      " - active listening: 6917\n",
      " - coordination: 3620\n",
      " - therapy and counseling: 3453\n",
      " - administrative: 67\n",
      " - science: 16\n",
      " - monitoring: 9\n",
      " - design: 7\n",
      " - time management: 5\n",
      "📌 Títulos de puestos más comunes (job_title):\n",
      " - Occupational Therapist (10549)\n",
      " - Substance Abuse Counselor (10531)\n",
      " - Speech Therapist (10427)\n",
      " - Physical Therapist (10402)\n",
      " - Family Nurse Practitioner (3486)\n",
      "\n",
      "🟦 Clúster 19 — 45315 ofertas / 45315 con skills extraídas\n",
      "🔝 Top 10 skills/conocimientos:\n",
      " - design: 41773\n",
      " - transportation: 9095\n",
      " - equipment selection: 3575\n",
      " - physics: 3\n",
      "📌 Títulos de puestos más comunes (job_title):\n",
      " - UX/UI Designer (14036)\n",
      " - UI Developer (7028)\n",
      " - Interior Designer (6999)\n",
      " - Graphic Designer (6743)\n",
      " - UX Researcher (3542)\n",
      "\n",
      "🟦 Clúster 20 — 48544 ofertas / 48544 con skills extraídas\n",
      "🔝 Top 10 skills/conocimientos:\n",
      " - design: 27674\n",
      " - transportation: 9772\n",
      " - writing: 3483\n",
      " - coordination: 3393\n",
      " - chemistry: 19\n",
      " - biology: 17\n",
      " - science: 16\n",
      " - education and training: 12\n",
      " - monitoring: 11\n",
      " - critical thinking: 4\n",
      "📌 Títulos de puestos más comunes (job_title):\n",
      " - Architect (10478)\n",
      " - Environmental Consultant (10449)\n",
      " - Landscape Architect (6836)\n",
      " - Environmental Engineer (6803)\n",
      " - Urban Planner (3545)\n",
      "\n",
      "🟦 Clúster 21 — 38036 ofertas / 38036 con skills extraídas\n",
      "🔝 Top 10 skills/conocimientos:\n",
      " - design: 38036\n",
      " - psychology: 20583\n",
      " - transportation: 7614\n",
      "📌 Títulos de puestos más comunes (job_title):\n",
      " - UX/UI Designer (34515)\n",
      " - UX Researcher (3518)\n",
      "\n",
      "🟦 Clúster 22 — 24435 ofertas / 24435 con skills extraídas\n",
      "🔝 Top 10 skills/conocimientos:\n",
      " - coordination: 6972\n",
      " - transportation: 4917\n",
      " - science: 76\n",
      " - monitoring: 71\n",
      " - critical thinking: 43\n",
      " - administrative: 32\n",
      " - education and training: 12\n",
      " - speaking: 10\n",
      " - programming: 9\n",
      " - design: 7\n",
      "📌 Títulos de puestos más comunes (job_title):\n",
      " - Registered Nurse (10408)\n",
      " - Nurse Manager (10172)\n",
      " - Business Analyst (3439)\n",
      "\n",
      "🟦 Clúster 23 — 38318 ofertas / 38318 con skills extraídas\n",
      "🔝 Top 10 skills/conocimientos:\n",
      " - coordination: 34678\n",
      " - administration and management: 10361\n",
      " - transportation: 7545\n",
      " - negotiation: 6860\n",
      " - administrative: 39\n",
      " - design: 24\n",
      " - time management: 14\n",
      " - monitoring: 14\n",
      " - programming: 8\n",
      " - writing: 3\n",
      "📌 Títulos de puestos más comunes (job_title):\n",
      " - Executive Assistant (10361)\n",
      " - Event Coordinator (10339)\n",
      " - Event Planner (7016)\n",
      " - Office Manager (3529)\n",
      " - Event Manager (3494)\n",
      "\n",
      "🟦 Clúster 24 — 28224 ofertas / 28224 con skills extraídas\n",
      "🔝 Top 10 skills/conocimientos:\n",
      " - transportation: 5475\n",
      " - time management: 36\n",
      " - programming: 24\n",
      " - design: 20\n",
      " - administrative: 16\n",
      " - monitoring: 14\n",
      " - service orientation: 10\n",
      " - critical thinking: 6\n",
      " - science: 5\n",
      " - geography: 4\n",
      "📌 Títulos de puestos más comunes (job_title):\n",
      " - Tax Consultant (10483)\n",
      " - Financial Advisor (10305)\n",
      " - Accountant (3518)\n",
      " - Financial Planner (3499)\n",
      "\n",
      "🟦 Clúster 25 — 14568 ofertas / 14568 con skills extraídas\n",
      "🔝 Top 10 skills/conocimientos:\n",
      " - coordination: 10688\n",
      " - design: 7249\n",
      " - negotiation: 3500\n",
      " - transportation: 2772\n",
      " - mechanical: 129\n",
      " - installation: 117\n",
      " - monitoring: 99\n",
      " - administrative: 80\n",
      " - time management: 56\n",
      " - writing: 33\n",
      "📌 Títulos de puestos más comunes (job_title):\n",
      " - Project Coordinator (3523)\n",
      " - Architect (3479)\n",
      " - Project Manager (3430)\n",
      " - Structural Engineer (3399)\n",
      "\n",
      "🟦 Clúster 26 — 29283 ofertas / 29283 con skills extraídas\n",
      "🔝 Top 10 skills/conocimientos:\n",
      " - monitoring: 7314\n",
      " - transportation: 5722\n",
      " - design: 4125\n",
      " - time management: 3605\n",
      " - writing: 3556\n",
      " - coordination: 240\n",
      " - science: 211\n",
      " - installation: 136\n",
      " - negotiation: 132\n",
      " - administrative: 113\n",
      "📌 Títulos de puestos más comunes (job_title):\n",
      " - Project Manager (10494)\n",
      " - IT Manager (3509)\n",
      " - Project Coordinator (3480)\n",
      " - Product Manager (3440)\n",
      " - Landscape Designer (3416)\n",
      "\n",
      "🟦 Clúster 27 — 66155 ofertas / 66155 con skills extraídas\n",
      "🔝 Top 10 skills/conocimientos:\n",
      " - design: 27961\n",
      " - programming: 24328\n",
      " - transportation: 13221\n",
      " - troubleshooting: 10521\n",
      " - administrative: 6988\n",
      " - time management: 6988\n",
      " - monitoring: 3469\n",
      " - science: 43\n",
      " - writing: 8\n",
      " - installation: 3\n",
      "📌 Títulos de puestos más comunes (job_title):\n",
      " - Systems Administrator (10482)\n",
      " - Software Engineer (10404)\n",
      " - Database Administrator (10280)\n",
      " - Administrative Assistant (6988)\n",
      " - Back-End Developer (6982)\n",
      "\n",
      "🟦 Clúster 28 — 31534 ofertas / 31534 con skills extraídas\n",
      "🔝 Top 10 skills/conocimientos:\n",
      " - troubleshooting: 31510\n",
      " - monitoring: 7092\n",
      " - design: 7041\n",
      " - transportation: 6290\n",
      " - science: 29\n",
      " - installation: 16\n",
      " - telecommunications: 3\n",
      " - equipment maintenance: 1\n",
      " - writing: 1\n",
      " - coordination: 1\n",
      "📌 Títulos de puestos más comunes (job_title):\n",
      " - Network Engineer (20928)\n",
      " - Network Administrator (3554)\n",
      " - Network Technician (3490)\n",
      " - Network Analyst (3482)\n",
      "\n",
      "🟦 Clúster 29 — 31623 ofertas / 31623 con skills extraídas\n",
      "🔝 Top 10 skills/conocimientos:\n",
      " - transportation: 6310\n",
      " - design: 40\n",
      " - writing: 25\n",
      " - time management: 24\n",
      " - monitoring: 12\n",
      " - coordination: 9\n",
      " - speaking: 8\n",
      " - critical thinking: 6\n",
      " - programming: 2\n",
      " - negotiation: 2\n",
      "📌 Títulos de puestos más comunes (job_title):\n",
      " - Social Media Manager (14068)\n",
      " - Digital Marketing Specialist (13945)\n",
      " - Public Relations Specialist (3513)\n",
      "\n",
      "🟦 Clúster 30 — 42227 ofertas / 42227 con skills extraídas\n",
      "🔝 Top 10 skills/conocimientos:\n",
      " - design: 10539\n",
      " - transportation: 8432\n",
      " - mechanical: 7095\n",
      " - chemistry: 3548\n",
      " - science: 67\n",
      " - troubleshooting: 42\n",
      " - monitoring: 22\n",
      " - coordination: 16\n",
      " - writing: 14\n",
      " - biology: 11\n",
      "📌 Títulos de puestos más comunes (job_title):\n",
      " - Chemical Analyst (6995)\n",
      " - Mechanical Engineer (6983)\n",
      " - Chemical Engineer (6942)\n",
      " - Process Engineer (6935)\n",
      " - Operations Manager (3554)\n",
      "\n",
      "🟦 Clúster 31 — 17302 ofertas / 17302 con skills extraídas\n",
      "🔝 Top 10 skills/conocimientos:\n",
      " - design: 17299\n",
      " - coordination: 13946\n",
      " - transportation: 3429\n",
      "📌 Títulos de puestos más comunes (job_title):\n",
      " - Event Planner (6902)\n",
      " - Wedding Planner (6845)\n",
      " - Event Coordinator (3552)\n",
      "\n",
      "🟦 Clúster 32 — 38880 ofertas / 38880 con skills extraídas\n",
      "🔝 Top 10 skills/conocimientos:\n",
      " - negotiation: 27951\n",
      " - transportation: 7767\n",
      " - time management: 49\n",
      " - coordination: 45\n",
      " - writing: 36\n",
      " - design: 25\n",
      " - monitoring: 22\n",
      " - speaking: 18\n",
      " - sales and marketing: 11\n",
      " - science: 10\n",
      "📌 Títulos de puestos más comunes (job_title):\n",
      " - Sales Representative (7063)\n",
      " - Account Executive (7019)\n",
      " - Account Manager (6975)\n",
      " - Account Director (6926)\n",
      " - Customer Success Manager (3474)\n",
      "\n",
      "🟦 Clúster 33 — 60377 ofertas / 60377 con skills extraídas\n",
      "🔝 Top 10 skills/conocimientos:\n",
      " - transportation: 12214\n",
      " - administrative: 150\n",
      " - monitoring: 109\n",
      " - coordination: 73\n",
      " - science: 35\n",
      " - speaking: 29\n",
      " - critical thinking: 27\n",
      " - design: 19\n",
      " - time management: 18\n",
      " - writing: 14\n",
      "📌 Títulos de puestos más comunes (job_title):\n",
      " - Physician Assistant (10649)\n",
      " - Nurse Practitioner (10537)\n",
      " - Pediatrician (10525)\n",
      " - Dental Hygienist (10434)\n",
      " - Veterinarian (10430)\n",
      "\n",
      "🟦 Clúster 34 — 45722 ofertas / 45722 con skills extraídas\n",
      "🔝 Top 10 skills/conocimientos:\n",
      " - design: 45666\n",
      " - mechanical: 21084\n",
      " - transportation: 11940\n",
      " - installation: 3519\n",
      " - troubleshooting: 159\n",
      " - programming: 116\n",
      " - science: 75\n",
      " - writing: 45\n",
      " - coordination: 35\n",
      " - equipment selection: 29\n",
      "📌 Títulos de puestos más comunes (job_title):\n",
      " - Mechanical Designer (10282)\n",
      " - Structural Engineer (6959)\n",
      " - Electrical Designer (6929)\n",
      " - Mechanical Engineer (6911)\n",
      " - Electrical Engineer (3573)\n",
      "\n",
      "🟦 Clúster 35 — 52358 ofertas / 52358 con skills extraídas\n",
      "🔝 Top 10 skills/conocimientos:\n",
      " - transportation: 10400\n",
      " - negotiation: 10396\n",
      " - writing: 7057\n",
      " - administrative: 6940\n",
      " - time management: 6\n",
      " - speaking: 4\n",
      " - monitoring: 3\n",
      " - critical thinking: 2\n",
      "📌 Títulos de puestos más comunes (job_title):\n",
      " - Legal Assistant (10571)\n",
      " - Litigation Attorney (10388)\n",
      " - Legal Counsel (10340)\n",
      " - Legal Advisor (7031)\n",
      " - Legal Secretary (6900)\n",
      "\n",
      "🟦 Clúster 36 — 164886 ofertas / 164886 con skills extraídas\n",
      "🔝 Top 10 skills/conocimientos:\n",
      " - design: 42081\n",
      " - transportation: 29392\n",
      " - troubleshooting: 12723\n",
      " - monitoring: 11087\n",
      " - coordination: 10243\n",
      " - installation: 8413\n",
      " - negotiation: 8106\n",
      " - programming: 6215\n",
      " - science: 6180\n",
      " - writing: 4227\n",
      "📌 Títulos de puestos más comunes (job_title):\n",
      " - Art Teacher (10611)\n",
      " - Teacher (10512)\n",
      " - HR Coordinator (7020)\n",
      " - Landscape Architect (6979)\n",
      " - Social Worker (6925)\n"
     ]
    }
   ],
   "source": [
    "from collections import Counter\n",
    "\n",
    "for cluster_id in sorted(combined_df[\"cluster\"].dropna().unique()):\n",
    "    subset = combined_df[combined_df[\"cluster\"] == cluster_id]\n",
    "\n",
    "    skills_col = subset[\"skills_extraidas\"].dropna()\n",
    "    skills_exploded = skills_col.str.split(\", \").explode()\n",
    "    skills_cleaned = skills_exploded[skills_exploded.str.strip() != \"\"]\n",
    "\n",
    "    total_ofertas = subset.shape[0]\n",
    "    total_con_skills = skills_col.shape[0]\n",
    "\n",
    "    print(f\"\\n🟦 Clúster {int(cluster_id)} — {total_ofertas} ofertas / {total_con_skills} con skills extraídas\")\n",
    "\n",
    "    # 🔹 Skills más comunes\n",
    "    if not skills_cleaned.empty:\n",
    "        print(\"🔝 Top 10 skills/conocimientos:\")\n",
    "        for skill, count in Counter(skills_cleaned).most_common(10):\n",
    "            print(f\" - {skill}: {count}\")\n",
    "    else:\n",
    "        print(\"⚠️ No hay skills extraídas en este clúster.\")\n",
    "\n",
    "    # 🔹 Títulos reales más comunes\n",
    "    title_counts = subset[\"job title\"].dropna().value_counts().head(5)\n",
    "    if not title_counts.empty:\n",
    "        print(\"📌 Títulos de puestos más comunes (job_title):\")\n",
    "        for title, count in title_counts.items():\n",
    "            print(f\" - {title} ({count})\")\n",
    "    else:\n",
    "        print(\"⚠️ No hay títulos disponibles en 'job_title'\")\n",
    "\n"
   ]
  },
  {
   "cell_type": "markdown",
   "id": "2676852d",
   "metadata": {},
   "source": [
    "A tabla"
   ]
  },
  {
   "cell_type": "code",
   "execution_count": 110,
   "id": "edfcf1a7",
   "metadata": {},
   "outputs": [
    {
     "data": {
      "text/html": [
       "<div>\n",
       "<style scoped>\n",
       "    .dataframe tbody tr th:only-of-type {\n",
       "        vertical-align: middle;\n",
       "    }\n",
       "\n",
       "    .dataframe tbody tr th {\n",
       "        vertical-align: top;\n",
       "    }\n",
       "\n",
       "    .dataframe thead th {\n",
       "        text-align: right;\n",
       "    }\n",
       "</style>\n",
       "<table border=\"1\" class=\"dataframe\">\n",
       "  <thead>\n",
       "    <tr style=\"text-align: right;\">\n",
       "      <th></th>\n",
       "      <th>cluster</th>\n",
       "      <th>num_offers</th>\n",
       "      <th>matched_knowledge_terms</th>\n",
       "    </tr>\n",
       "  </thead>\n",
       "  <tbody>\n",
       "    <tr>\n",
       "      <th>0</th>\n",
       "      <td>0</td>\n",
       "      <td>13859</td>\n",
       "      <td>{'design': 13843, 'transportation': 8273, 'mec...</td>\n",
       "    </tr>\n",
       "    <tr>\n",
       "      <th>1</th>\n",
       "      <td>1</td>\n",
       "      <td>41505</td>\n",
       "      <td>{'transportation': 8466}</td>\n",
       "    </tr>\n",
       "    <tr>\n",
       "      <th>2</th>\n",
       "      <td>2</td>\n",
       "      <td>48249</td>\n",
       "      <td>{'transportation': 9182, 'sales and marketing'...</td>\n",
       "    </tr>\n",
       "    <tr>\n",
       "      <th>3</th>\n",
       "      <td>3</td>\n",
       "      <td>34731</td>\n",
       "      <td>{'transportation': 7012, 'design': 6899, 'engl...</td>\n",
       "    </tr>\n",
       "    <tr>\n",
       "      <th>4</th>\n",
       "      <td>4</td>\n",
       "      <td>69718</td>\n",
       "      <td>{'transportation': 13850, 'administrative': 44...</td>\n",
       "    </tr>\n",
       "    <tr>\n",
       "      <th>5</th>\n",
       "      <td>5</td>\n",
       "      <td>87524</td>\n",
       "      <td>{'design': 27891, 'transportation': 17319, 'ad...</td>\n",
       "    </tr>\n",
       "    <tr>\n",
       "      <th>6</th>\n",
       "      <td>6</td>\n",
       "      <td>24667</td>\n",
       "      <td>{'transportation': 4935, 'design': 55, 'admini...</td>\n",
       "    </tr>\n",
       "    <tr>\n",
       "      <th>7</th>\n",
       "      <td>7</td>\n",
       "      <td>21209</td>\n",
       "      <td>{'design': 21206, 'transportation': 4071, 'fin...</td>\n",
       "    </tr>\n",
       "    <tr>\n",
       "      <th>8</th>\n",
       "      <td>8</td>\n",
       "      <td>20911</td>\n",
       "      <td>{'transportation': 4131, 'mechanical': 2, 'adm...</td>\n",
       "    </tr>\n",
       "    <tr>\n",
       "      <th>9</th>\n",
       "      <td>9</td>\n",
       "      <td>101919</td>\n",
       "      <td>{'transportation': 20197, 'design': 7215, 'sal...</td>\n",
       "    </tr>\n",
       "    <tr>\n",
       "      <th>10</th>\n",
       "      <td>10</td>\n",
       "      <td>41898</td>\n",
       "      <td>{'administrative': 41898, 'transportation': 84...</td>\n",
       "    </tr>\n",
       "    <tr>\n",
       "      <th>11</th>\n",
       "      <td>11</td>\n",
       "      <td>42075</td>\n",
       "      <td>{'transportation': 8354, 'administrative': 20,...</td>\n",
       "    </tr>\n",
       "    <tr>\n",
       "      <th>12</th>\n",
       "      <td>12</td>\n",
       "      <td>45023</td>\n",
       "      <td>{'design': 17184, 'transportation': 8981, 'sal...</td>\n",
       "    </tr>\n",
       "    <tr>\n",
       "      <th>13</th>\n",
       "      <td>13</td>\n",
       "      <td>42161</td>\n",
       "      <td>{'design': 14101, 'transportation': 8499, 'pub...</td>\n",
       "    </tr>\n",
       "    <tr>\n",
       "      <th>14</th>\n",
       "      <td>14</td>\n",
       "      <td>41654</td>\n",
       "      <td>{'transportation': 19453, 'design': 43, 'sales...</td>\n",
       "    </tr>\n",
       "    <tr>\n",
       "      <th>15</th>\n",
       "      <td>15</td>\n",
       "      <td>59553</td>\n",
       "      <td>{'design': 17586, 'transportation': 11809, 'ch...</td>\n",
       "    </tr>\n",
       "    <tr>\n",
       "      <th>16</th>\n",
       "      <td>16</td>\n",
       "      <td>38271</td>\n",
       "      <td>{'design': 31357, 'transportation': 7556}</td>\n",
       "    </tr>\n",
       "    <tr>\n",
       "      <th>17</th>\n",
       "      <td>17</td>\n",
       "      <td>31343</td>\n",
       "      <td>{'transportation': 6086, 'administrative': 364...</td>\n",
       "    </tr>\n",
       "    <tr>\n",
       "      <th>18</th>\n",
       "      <td>18</td>\n",
       "      <td>52510</td>\n",
       "      <td>{'transportation': 10432, 'psychology': 10422,...</td>\n",
       "    </tr>\n",
       "    <tr>\n",
       "      <th>19</th>\n",
       "      <td>19</td>\n",
       "      <td>45315</td>\n",
       "      <td>{'design': 41773, 'transportation': 9095, 'phy...</td>\n",
       "    </tr>\n",
       "    <tr>\n",
       "      <th>20</th>\n",
       "      <td>20</td>\n",
       "      <td>48544</td>\n",
       "      <td>{'design': 27674, 'transportation': 9772, 'che...</td>\n",
       "    </tr>\n",
       "    <tr>\n",
       "      <th>21</th>\n",
       "      <td>21</td>\n",
       "      <td>38036</td>\n",
       "      <td>{'design': 38036, 'psychology': 20583, 'transp...</td>\n",
       "    </tr>\n",
       "    <tr>\n",
       "      <th>22</th>\n",
       "      <td>22</td>\n",
       "      <td>24435</td>\n",
       "      <td>{'transportation': 4917, 'administrative': 32,...</td>\n",
       "    </tr>\n",
       "    <tr>\n",
       "      <th>23</th>\n",
       "      <td>23</td>\n",
       "      <td>38318</td>\n",
       "      <td>{'administration and management': 10361, 'tran...</td>\n",
       "    </tr>\n",
       "    <tr>\n",
       "      <th>24</th>\n",
       "      <td>24</td>\n",
       "      <td>28224</td>\n",
       "      <td>{'transportation': 5475, 'design': 20, 'admini...</td>\n",
       "    </tr>\n",
       "    <tr>\n",
       "      <th>25</th>\n",
       "      <td>25</td>\n",
       "      <td>14568</td>\n",
       "      <td>{'design': 7249, 'transportation': 2772, 'mech...</td>\n",
       "    </tr>\n",
       "    <tr>\n",
       "      <th>26</th>\n",
       "      <td>26</td>\n",
       "      <td>29283</td>\n",
       "      <td>{'transportation': 5722, 'design': 4125, 'admi...</td>\n",
       "    </tr>\n",
       "    <tr>\n",
       "      <th>27</th>\n",
       "      <td>27</td>\n",
       "      <td>66155</td>\n",
       "      <td>{'design': 27961, 'transportation': 13221, 'ad...</td>\n",
       "    </tr>\n",
       "    <tr>\n",
       "      <th>28</th>\n",
       "      <td>28</td>\n",
       "      <td>31534</td>\n",
       "      <td>{'design': 7041, 'transportation': 6290, 'tele...</td>\n",
       "    </tr>\n",
       "    <tr>\n",
       "      <th>29</th>\n",
       "      <td>29</td>\n",
       "      <td>31623</td>\n",
       "      <td>{'transportation': 6310, 'design': 40, 'admini...</td>\n",
       "    </tr>\n",
       "    <tr>\n",
       "      <th>30</th>\n",
       "      <td>30</td>\n",
       "      <td>42227</td>\n",
       "      <td>{'design': 10539, 'transportation': 8432, 'mec...</td>\n",
       "    </tr>\n",
       "    <tr>\n",
       "      <th>31</th>\n",
       "      <td>31</td>\n",
       "      <td>17302</td>\n",
       "      <td>{'design': 17299, 'transportation': 3429}</td>\n",
       "    </tr>\n",
       "    <tr>\n",
       "      <th>32</th>\n",
       "      <td>32</td>\n",
       "      <td>38880</td>\n",
       "      <td>{'transportation': 7767, 'design': 25, 'sales ...</td>\n",
       "    </tr>\n",
       "    <tr>\n",
       "      <th>33</th>\n",
       "      <td>33</td>\n",
       "      <td>60377</td>\n",
       "      <td>{'transportation': 12214, 'administrative': 15...</td>\n",
       "    </tr>\n",
       "    <tr>\n",
       "      <th>34</th>\n",
       "      <td>34</td>\n",
       "      <td>45722</td>\n",
       "      <td>{'design': 45666, 'mechanical': 21084, 'transp...</td>\n",
       "    </tr>\n",
       "    <tr>\n",
       "      <th>35</th>\n",
       "      <td>35</td>\n",
       "      <td>52358</td>\n",
       "      <td>{'transportation': 10400, 'administrative': 6940}</td>\n",
       "    </tr>\n",
       "    <tr>\n",
       "      <th>36</th>\n",
       "      <td>36</td>\n",
       "      <td>164886</td>\n",
       "      <td>{'design': 42081, 'transportation': 29392, 'ps...</td>\n",
       "    </tr>\n",
       "  </tbody>\n",
       "</table>\n",
       "</div>"
      ],
      "text/plain": [
       "    cluster  num_offers                            matched_knowledge_terms\n",
       "0         0       13859  {'design': 13843, 'transportation': 8273, 'mec...\n",
       "1         1       41505                           {'transportation': 8466}\n",
       "2         2       48249  {'transportation': 9182, 'sales and marketing'...\n",
       "3         3       34731  {'transportation': 7012, 'design': 6899, 'engl...\n",
       "4         4       69718  {'transportation': 13850, 'administrative': 44...\n",
       "5         5       87524  {'design': 27891, 'transportation': 17319, 'ad...\n",
       "6         6       24667  {'transportation': 4935, 'design': 55, 'admini...\n",
       "7         7       21209  {'design': 21206, 'transportation': 4071, 'fin...\n",
       "8         8       20911  {'transportation': 4131, 'mechanical': 2, 'adm...\n",
       "9         9      101919  {'transportation': 20197, 'design': 7215, 'sal...\n",
       "10       10       41898  {'administrative': 41898, 'transportation': 84...\n",
       "11       11       42075  {'transportation': 8354, 'administrative': 20,...\n",
       "12       12       45023  {'design': 17184, 'transportation': 8981, 'sal...\n",
       "13       13       42161  {'design': 14101, 'transportation': 8499, 'pub...\n",
       "14       14       41654  {'transportation': 19453, 'design': 43, 'sales...\n",
       "15       15       59553  {'design': 17586, 'transportation': 11809, 'ch...\n",
       "16       16       38271          {'design': 31357, 'transportation': 7556}\n",
       "17       17       31343  {'transportation': 6086, 'administrative': 364...\n",
       "18       18       52510  {'transportation': 10432, 'psychology': 10422,...\n",
       "19       19       45315  {'design': 41773, 'transportation': 9095, 'phy...\n",
       "20       20       48544  {'design': 27674, 'transportation': 9772, 'che...\n",
       "21       21       38036  {'design': 38036, 'psychology': 20583, 'transp...\n",
       "22       22       24435  {'transportation': 4917, 'administrative': 32,...\n",
       "23       23       38318  {'administration and management': 10361, 'tran...\n",
       "24       24       28224  {'transportation': 5475, 'design': 20, 'admini...\n",
       "25       25       14568  {'design': 7249, 'transportation': 2772, 'mech...\n",
       "26       26       29283  {'transportation': 5722, 'design': 4125, 'admi...\n",
       "27       27       66155  {'design': 27961, 'transportation': 13221, 'ad...\n",
       "28       28       31534  {'design': 7041, 'transportation': 6290, 'tele...\n",
       "29       29       31623  {'transportation': 6310, 'design': 40, 'admini...\n",
       "30       30       42227  {'design': 10539, 'transportation': 8432, 'mec...\n",
       "31       31       17302          {'design': 17299, 'transportation': 3429}\n",
       "32       32       38880  {'transportation': 7767, 'design': 25, 'sales ...\n",
       "33       33       60377  {'transportation': 12214, 'administrative': 15...\n",
       "34       34       45722  {'design': 45666, 'mechanical': 21084, 'transp...\n",
       "35       35       52358  {'transportation': 10400, 'administrative': 6940}\n",
       "36       36      164886  {'design': 42081, 'transportation': 29392, 'ps..."
      ]
     },
     "execution_count": 110,
     "metadata": {},
     "output_type": "execute_result"
    }
   ],
   "source": [
    "# Agrupar skills por clúster y cruzar con áreas de conocimiento\n",
    "cluster_knowledge_summary = []\n",
    "\n",
    "for cluster_id in sorted(combined_df[\"cluster\"].dropna().unique()):\n",
    "    subset = combined_df[combined_df[\"cluster\"] == cluster_id]\n",
    "    skills = subset[\"skills_extraidas\"].dropna().str.lower().str.split(\", \").explode()\n",
    "    matched_knowledge = skills[skills.isin(knowledge_filtered)]\n",
    "    \n",
    "    # Contar ocurrencias de cada término de conocimiento\n",
    "    top_knowledge = matched_knowledge.value_counts().head(5).to_dict()\n",
    "    cluster_knowledge_summary.append({\n",
    "        \"cluster\": int(cluster_id),\n",
    "        \"num_offers\": len(subset),\n",
    "        \"matched_knowledge_terms\": top_knowledge\n",
    "    })\n",
    "\n",
    "\n",
    "\n",
    "summary_df = pd.DataFrame(cluster_knowledge_summary)\n",
    "summary_df"
   ]
  },
  {
   "cell_type": "code",
   "execution_count": 111,
   "id": "fdf53a68",
   "metadata": {},
   "outputs": [],
   "source": [
    "from collections import Counter\n",
    "\n",
    "# Nueva lista para los resultados\n",
    "resumen = []\n",
    "\n",
    "# Iterar por cada clúster\n",
    "for cluster_id in sorted(combined_df[\"cluster\"].dropna().unique()):\n",
    "    subset = combined_df[combined_df[\"cluster\"] == cluster_id]\n",
    "    \n",
    "    # Extraer skills como lista\n",
    "    all_terms = subset[\"skills_extraidas\"].dropna().str.split(\", \").explode()\n",
    "    \n",
    "    # Contar\n",
    "    term_counts = Counter(all_terms)\n",
    "    \n",
    "    if term_counts:\n",
    "        main_term = term_counts.most_common(1)[0][0]\n",
    "    else:\n",
    "        main_term = \"sin datos\"\n",
    "    \n",
    "    resumen.append({\n",
    "        \"cluster\": cluster_id,\n",
    "        \"num_offers\": len(subset),\n",
    "        \"main_term\": main_term,\n",
    "        \"term_counts\": dict(term_counts)\n",
    "    })\n",
    "\n",
    "# Crear el nuevo dataframe\n",
    "df_summary = pd.DataFrame(resumen)"
   ]
  },
  {
   "cell_type": "code",
   "execution_count": 112,
   "id": "97abd820",
   "metadata": {},
   "outputs": [
    {
     "data": {
      "application/vnd.plotly.v1+json": {
       "config": {
        "plotlyServerURL": "https://plot.ly"
       },
       "data": [
        {
         "branchvalues": "total",
         "customdata": [
          [
           ""
          ],
          [
           ""
          ],
          [
           ""
          ],
          [
           ""
          ],
          [
           ""
          ],
          [
           ""
          ],
          [
           ""
          ],
          [
           ""
          ],
          [
           ""
          ],
          [
           ""
          ],
          [
           ""
          ],
          [
           ""
          ],
          [
           ""
          ],
          [
           ""
          ],
          [
           ""
          ],
          [
           ""
          ],
          [
           ""
          ],
          [
           ""
          ],
          [
           ""
          ],
          [
           ""
          ],
          [
           ""
          ],
          [
           ""
          ],
          [
           "administrative"
          ],
          [
           "administrative"
          ],
          [
           "coordination"
          ],
          [
           "coordination"
          ],
          [
           "coordination"
          ],
          [
           "design"
          ],
          [
           "design"
          ],
          [
           "design"
          ],
          [
           "design"
          ],
          [
           "design"
          ],
          [
           "design"
          ],
          [
           "design"
          ],
          [
           "design"
          ],
          [
           "design"
          ],
          [
           "design"
          ],
          [
           "negotiation"
          ],
          [
           "negotiation"
          ],
          [
           "negotiation"
          ],
          [
           "troubleshooting"
          ],
          [
           "troubleshooting"
          ],
          [
           "troubleshooting"
          ]
         ],
         "domain": {
          "x": [
           0,
           1
          ],
          "y": [
           0,
           1
          ]
         },
         "hovertemplate": "labels=%{label}<br>num_offers=%{value}<br>parent=%{parent}<br>id=%{id}<br>main_term=%{customdata[0]}<extra></extra>",
         "ids": [
          "/14",
          "/26",
          "/24",
          "/22",
          "/33",
          "/18",
          "/17",
          "/35",
          "/15",
          "/30",
          "/13",
          "/12",
          "/29",
          "/9",
          "/8",
          "/36",
          "/6",
          "",
          "/2",
          "/4",
          "/11",
          "/3",
          "administrative/10",
          "administrative",
          "coordination/25",
          "coordination/23",
          "coordination",
          "design/34",
          "design",
          "design/31",
          "design/0",
          "design/27",
          "design/20",
          "design/19",
          "design/16",
          "design/7",
          "design/21",
          "negotiation/32",
          "negotiation",
          "negotiation/1",
          "troubleshooting/5",
          "troubleshooting",
          "troubleshooting/28"
         ],
         "labels": [
          "14",
          "26",
          "24",
          "22",
          "33",
          "18",
          "17",
          "35",
          "15",
          "30",
          "13",
          "12",
          "29",
          "9",
          "8",
          "36",
          "6",
          "",
          "2",
          "4",
          "11",
          "3",
          "10",
          "administrative",
          "25",
          "23",
          "coordination",
          "34",
          "design",
          "31",
          "0",
          "27",
          "20",
          "19",
          "16",
          "7",
          "21",
          "32",
          "negotiation",
          "1",
          "5",
          "troubleshooting",
          "28"
         ],
         "marker": {
          "colors": [
           "#636efa",
           "#636efa",
           "#636efa",
           "#636efa",
           "#636efa",
           "#636efa",
           "#636efa",
           "#636efa",
           "#636efa",
           "#636efa",
           "#636efa",
           "#636efa",
           "#636efa",
           "#636efa",
           "#636efa",
           "#636efa",
           "#636efa",
           "#636efa",
           "#636efa",
           "#636efa",
           "#636efa",
           "#636efa",
           "#EF553B",
           "#EF553B",
           "#00cc96",
           "#00cc96",
           "#00cc96",
           "#ab63fa",
           "#ab63fa",
           "#ab63fa",
           "#ab63fa",
           "#ab63fa",
           "#ab63fa",
           "#ab63fa",
           "#ab63fa",
           "#ab63fa",
           "#ab63fa",
           "#FFA15A",
           "#FFA15A",
           "#FFA15A",
           "#19d3f3",
           "#19d3f3",
           "#19d3f3"
          ]
         },
         "name": "",
         "parents": [
          "",
          "",
          "",
          "",
          "",
          "",
          "",
          "",
          "",
          "",
          "",
          "",
          "",
          "",
          "",
          "",
          "",
          "",
          "",
          "",
          "",
          "",
          "administrative",
          "",
          "coordination",
          "coordination",
          "",
          "design",
          "",
          "design",
          "design",
          "design",
          "design",
          "design",
          "design",
          "design",
          "design",
          "negotiation",
          "",
          "negotiation",
          "troubleshooting",
          "",
          "troubleshooting"
         ],
         "type": "sunburst",
         "values": {
          "bdata": "AAAAAMBW5EAAAAAAwJjcQAAAAAAAkNtAAAAAAMDc10AAAAAAIHvtQAAAAADAo+lAAAAAAMCb3kAAAAAAwJDpQAAAAAAgFO1AAAAAAGCe5EAAAAAAIJbkQAAAAADg++VAAAAAAMDh3kAAAAAA8OH4QAAAAADAa9RAAAAAALAgBEEAAAAAwBbYQAAAAADu+i9BAAAAACCP50AAAAAAYAXxQAAAAABgi+RAAAAAAGD14EAAAAAAQHXkQAAAAABAdeRAAAAAAAB0zEAAAAAAwLXiQAAAAADA0ulAAAAAAEBT5kAAAAAANGkUQQAAAACA5dBAAAAAAIARy0AAAAAAsCbwQAAAAAAAtOdAAAAAAGAg5kAAAAAA4K/iQAAAAABAttRAAAAAAICS4kAAAAAAAPziQAAAAAAQoPNAAAAAACBE5EAAAAAAQF71QAAAAAAgEf1AAAAAAIDL3kA=",
          "dtype": "f8"
         }
        }
       ],
       "layout": {
        "legend": {
         "tracegroupgap": 0
        },
        "margin": {
         "b": 25,
         "l": 25,
         "r": 25,
         "t": 50
        },
        "template": {
         "data": {
          "bar": [
           {
            "error_x": {
             "color": "#2a3f5f"
            },
            "error_y": {
             "color": "#2a3f5f"
            },
            "marker": {
             "line": {
              "color": "#E5ECF6",
              "width": 0.5
             },
             "pattern": {
              "fillmode": "overlay",
              "size": 10,
              "solidity": 0.2
             }
            },
            "type": "bar"
           }
          ],
          "barpolar": [
           {
            "marker": {
             "line": {
              "color": "#E5ECF6",
              "width": 0.5
             },
             "pattern": {
              "fillmode": "overlay",
              "size": 10,
              "solidity": 0.2
             }
            },
            "type": "barpolar"
           }
          ],
          "carpet": [
           {
            "aaxis": {
             "endlinecolor": "#2a3f5f",
             "gridcolor": "white",
             "linecolor": "white",
             "minorgridcolor": "white",
             "startlinecolor": "#2a3f5f"
            },
            "baxis": {
             "endlinecolor": "#2a3f5f",
             "gridcolor": "white",
             "linecolor": "white",
             "minorgridcolor": "white",
             "startlinecolor": "#2a3f5f"
            },
            "type": "carpet"
           }
          ],
          "choropleth": [
           {
            "colorbar": {
             "outlinewidth": 0,
             "ticks": ""
            },
            "type": "choropleth"
           }
          ],
          "contour": [
           {
            "colorbar": {
             "outlinewidth": 0,
             "ticks": ""
            },
            "colorscale": [
             [
              0,
              "#0d0887"
             ],
             [
              0.1111111111111111,
              "#46039f"
             ],
             [
              0.2222222222222222,
              "#7201a8"
             ],
             [
              0.3333333333333333,
              "#9c179e"
             ],
             [
              0.4444444444444444,
              "#bd3786"
             ],
             [
              0.5555555555555556,
              "#d8576b"
             ],
             [
              0.6666666666666666,
              "#ed7953"
             ],
             [
              0.7777777777777778,
              "#fb9f3a"
             ],
             [
              0.8888888888888888,
              "#fdca26"
             ],
             [
              1,
              "#f0f921"
             ]
            ],
            "type": "contour"
           }
          ],
          "contourcarpet": [
           {
            "colorbar": {
             "outlinewidth": 0,
             "ticks": ""
            },
            "type": "contourcarpet"
           }
          ],
          "heatmap": [
           {
            "colorbar": {
             "outlinewidth": 0,
             "ticks": ""
            },
            "colorscale": [
             [
              0,
              "#0d0887"
             ],
             [
              0.1111111111111111,
              "#46039f"
             ],
             [
              0.2222222222222222,
              "#7201a8"
             ],
             [
              0.3333333333333333,
              "#9c179e"
             ],
             [
              0.4444444444444444,
              "#bd3786"
             ],
             [
              0.5555555555555556,
              "#d8576b"
             ],
             [
              0.6666666666666666,
              "#ed7953"
             ],
             [
              0.7777777777777778,
              "#fb9f3a"
             ],
             [
              0.8888888888888888,
              "#fdca26"
             ],
             [
              1,
              "#f0f921"
             ]
            ],
            "type": "heatmap"
           }
          ],
          "histogram": [
           {
            "marker": {
             "pattern": {
              "fillmode": "overlay",
              "size": 10,
              "solidity": 0.2
             }
            },
            "type": "histogram"
           }
          ],
          "histogram2d": [
           {
            "colorbar": {
             "outlinewidth": 0,
             "ticks": ""
            },
            "colorscale": [
             [
              0,
              "#0d0887"
             ],
             [
              0.1111111111111111,
              "#46039f"
             ],
             [
              0.2222222222222222,
              "#7201a8"
             ],
             [
              0.3333333333333333,
              "#9c179e"
             ],
             [
              0.4444444444444444,
              "#bd3786"
             ],
             [
              0.5555555555555556,
              "#d8576b"
             ],
             [
              0.6666666666666666,
              "#ed7953"
             ],
             [
              0.7777777777777778,
              "#fb9f3a"
             ],
             [
              0.8888888888888888,
              "#fdca26"
             ],
             [
              1,
              "#f0f921"
             ]
            ],
            "type": "histogram2d"
           }
          ],
          "histogram2dcontour": [
           {
            "colorbar": {
             "outlinewidth": 0,
             "ticks": ""
            },
            "colorscale": [
             [
              0,
              "#0d0887"
             ],
             [
              0.1111111111111111,
              "#46039f"
             ],
             [
              0.2222222222222222,
              "#7201a8"
             ],
             [
              0.3333333333333333,
              "#9c179e"
             ],
             [
              0.4444444444444444,
              "#bd3786"
             ],
             [
              0.5555555555555556,
              "#d8576b"
             ],
             [
              0.6666666666666666,
              "#ed7953"
             ],
             [
              0.7777777777777778,
              "#fb9f3a"
             ],
             [
              0.8888888888888888,
              "#fdca26"
             ],
             [
              1,
              "#f0f921"
             ]
            ],
            "type": "histogram2dcontour"
           }
          ],
          "mesh3d": [
           {
            "colorbar": {
             "outlinewidth": 0,
             "ticks": ""
            },
            "type": "mesh3d"
           }
          ],
          "parcoords": [
           {
            "line": {
             "colorbar": {
              "outlinewidth": 0,
              "ticks": ""
             }
            },
            "type": "parcoords"
           }
          ],
          "pie": [
           {
            "automargin": true,
            "type": "pie"
           }
          ],
          "scatter": [
           {
            "fillpattern": {
             "fillmode": "overlay",
             "size": 10,
             "solidity": 0.2
            },
            "type": "scatter"
           }
          ],
          "scatter3d": [
           {
            "line": {
             "colorbar": {
              "outlinewidth": 0,
              "ticks": ""
             }
            },
            "marker": {
             "colorbar": {
              "outlinewidth": 0,
              "ticks": ""
             }
            },
            "type": "scatter3d"
           }
          ],
          "scattercarpet": [
           {
            "marker": {
             "colorbar": {
              "outlinewidth": 0,
              "ticks": ""
             }
            },
            "type": "scattercarpet"
           }
          ],
          "scattergeo": [
           {
            "marker": {
             "colorbar": {
              "outlinewidth": 0,
              "ticks": ""
             }
            },
            "type": "scattergeo"
           }
          ],
          "scattergl": [
           {
            "marker": {
             "colorbar": {
              "outlinewidth": 0,
              "ticks": ""
             }
            },
            "type": "scattergl"
           }
          ],
          "scattermap": [
           {
            "marker": {
             "colorbar": {
              "outlinewidth": 0,
              "ticks": ""
             }
            },
            "type": "scattermap"
           }
          ],
          "scattermapbox": [
           {
            "marker": {
             "colorbar": {
              "outlinewidth": 0,
              "ticks": ""
             }
            },
            "type": "scattermapbox"
           }
          ],
          "scatterpolar": [
           {
            "marker": {
             "colorbar": {
              "outlinewidth": 0,
              "ticks": ""
             }
            },
            "type": "scatterpolar"
           }
          ],
          "scatterpolargl": [
           {
            "marker": {
             "colorbar": {
              "outlinewidth": 0,
              "ticks": ""
             }
            },
            "type": "scatterpolargl"
           }
          ],
          "scatterternary": [
           {
            "marker": {
             "colorbar": {
              "outlinewidth": 0,
              "ticks": ""
             }
            },
            "type": "scatterternary"
           }
          ],
          "surface": [
           {
            "colorbar": {
             "outlinewidth": 0,
             "ticks": ""
            },
            "colorscale": [
             [
              0,
              "#0d0887"
             ],
             [
              0.1111111111111111,
              "#46039f"
             ],
             [
              0.2222222222222222,
              "#7201a8"
             ],
             [
              0.3333333333333333,
              "#9c179e"
             ],
             [
              0.4444444444444444,
              "#bd3786"
             ],
             [
              0.5555555555555556,
              "#d8576b"
             ],
             [
              0.6666666666666666,
              "#ed7953"
             ],
             [
              0.7777777777777778,
              "#fb9f3a"
             ],
             [
              0.8888888888888888,
              "#fdca26"
             ],
             [
              1,
              "#f0f921"
             ]
            ],
            "type": "surface"
           }
          ],
          "table": [
           {
            "cells": {
             "fill": {
              "color": "#EBF0F8"
             },
             "line": {
              "color": "white"
             }
            },
            "header": {
             "fill": {
              "color": "#C8D4E3"
             },
             "line": {
              "color": "white"
             }
            },
            "type": "table"
           }
          ]
         },
         "layout": {
          "annotationdefaults": {
           "arrowcolor": "#2a3f5f",
           "arrowhead": 0,
           "arrowwidth": 1
          },
          "autotypenumbers": "strict",
          "coloraxis": {
           "colorbar": {
            "outlinewidth": 0,
            "ticks": ""
           }
          },
          "colorscale": {
           "diverging": [
            [
             0,
             "#8e0152"
            ],
            [
             0.1,
             "#c51b7d"
            ],
            [
             0.2,
             "#de77ae"
            ],
            [
             0.3,
             "#f1b6da"
            ],
            [
             0.4,
             "#fde0ef"
            ],
            [
             0.5,
             "#f7f7f7"
            ],
            [
             0.6,
             "#e6f5d0"
            ],
            [
             0.7,
             "#b8e186"
            ],
            [
             0.8,
             "#7fbc41"
            ],
            [
             0.9,
             "#4d9221"
            ],
            [
             1,
             "#276419"
            ]
           ],
           "sequential": [
            [
             0,
             "#0d0887"
            ],
            [
             0.1111111111111111,
             "#46039f"
            ],
            [
             0.2222222222222222,
             "#7201a8"
            ],
            [
             0.3333333333333333,
             "#9c179e"
            ],
            [
             0.4444444444444444,
             "#bd3786"
            ],
            [
             0.5555555555555556,
             "#d8576b"
            ],
            [
             0.6666666666666666,
             "#ed7953"
            ],
            [
             0.7777777777777778,
             "#fb9f3a"
            ],
            [
             0.8888888888888888,
             "#fdca26"
            ],
            [
             1,
             "#f0f921"
            ]
           ],
           "sequentialminus": [
            [
             0,
             "#0d0887"
            ],
            [
             0.1111111111111111,
             "#46039f"
            ],
            [
             0.2222222222222222,
             "#7201a8"
            ],
            [
             0.3333333333333333,
             "#9c179e"
            ],
            [
             0.4444444444444444,
             "#bd3786"
            ],
            [
             0.5555555555555556,
             "#d8576b"
            ],
            [
             0.6666666666666666,
             "#ed7953"
            ],
            [
             0.7777777777777778,
             "#fb9f3a"
            ],
            [
             0.8888888888888888,
             "#fdca26"
            ],
            [
             1,
             "#f0f921"
            ]
           ]
          },
          "colorway": [
           "#636efa",
           "#EF553B",
           "#00cc96",
           "#ab63fa",
           "#FFA15A",
           "#19d3f3",
           "#FF6692",
           "#B6E880",
           "#FF97FF",
           "#FECB52"
          ],
          "font": {
           "color": "#2a3f5f"
          },
          "geo": {
           "bgcolor": "white",
           "lakecolor": "white",
           "landcolor": "#E5ECF6",
           "showlakes": true,
           "showland": true,
           "subunitcolor": "white"
          },
          "hoverlabel": {
           "align": "left"
          },
          "hovermode": "closest",
          "mapbox": {
           "style": "light"
          },
          "paper_bgcolor": "white",
          "plot_bgcolor": "#E5ECF6",
          "polar": {
           "angularaxis": {
            "gridcolor": "white",
            "linecolor": "white",
            "ticks": ""
           },
           "bgcolor": "#E5ECF6",
           "radialaxis": {
            "gridcolor": "white",
            "linecolor": "white",
            "ticks": ""
           }
          },
          "scene": {
           "xaxis": {
            "backgroundcolor": "#E5ECF6",
            "gridcolor": "white",
            "gridwidth": 2,
            "linecolor": "white",
            "showbackground": true,
            "ticks": "",
            "zerolinecolor": "white"
           },
           "yaxis": {
            "backgroundcolor": "#E5ECF6",
            "gridcolor": "white",
            "gridwidth": 2,
            "linecolor": "white",
            "showbackground": true,
            "ticks": "",
            "zerolinecolor": "white"
           },
           "zaxis": {
            "backgroundcolor": "#E5ECF6",
            "gridcolor": "white",
            "gridwidth": 2,
            "linecolor": "white",
            "showbackground": true,
            "ticks": "",
            "zerolinecolor": "white"
           }
          },
          "shapedefaults": {
           "line": {
            "color": "#2a3f5f"
           }
          },
          "ternary": {
           "aaxis": {
            "gridcolor": "white",
            "linecolor": "white",
            "ticks": ""
           },
           "baxis": {
            "gridcolor": "white",
            "linecolor": "white",
            "ticks": ""
           },
           "bgcolor": "#E5ECF6",
           "caxis": {
            "gridcolor": "white",
            "linecolor": "white",
            "ticks": ""
           }
          },
          "title": {
           "x": 0.05
          },
          "xaxis": {
           "automargin": true,
           "gridcolor": "white",
           "linecolor": "white",
           "ticks": "",
           "title": {
            "standoff": 15
           },
           "zerolinecolor": "white",
           "zerolinewidth": 2
          },
          "yaxis": {
           "automargin": true,
           "gridcolor": "white",
           "linecolor": "white",
           "ticks": "",
           "title": {
            "standoff": 15
           },
           "zerolinecolor": "white",
           "zerolinewidth": 2
          }
         }
        },
        "title": {
         "text": "Distribución jerárquica por término más frecuente (skills o conocimientos)"
        }
       }
      }
     },
     "metadata": {},
     "output_type": "display_data"
    }
   ],
   "source": [
    "import plotly.express as px\n",
    "\n",
    "fig = px.sunburst(\n",
    "    df_summary,\n",
    "    path=[\"main_term\", \"cluster\"],\n",
    "    values=\"num_offers\",\n",
    "    color=\"main_term\",\n",
    "    title=\"Distribución jerárquica por término más frecuente (skills o conocimientos)\"\n",
    ")\n",
    "fig.update_layout(margin=dict(t=50, l=25, r=25, b=25))\n",
    "fig.show()"
   ]
  },
  {
   "cell_type": "code",
   "execution_count": 113,
   "id": "1121a060",
   "metadata": {},
   "outputs": [],
   "source": [
    "def get_main_term_filtered(term_counts):\n",
    "    if isinstance(term_counts, dict):\n",
    "        # Filtrar términos vacíos, 'design' y 'transportation'\n",
    "        filtered = {k: v for k, v in term_counts.items() if k.strip() not in [\"\",]}\n",
    "        if filtered:\n",
    "            return max(filtered, key=filtered.get)\n",
    "    return \"sin datos\"\n",
    "\n",
    "df_summary[\"main_term_filtered\"] = df_summary[\"term_counts\"].apply(get_main_term_filtered)\n"
   ]
  },
  {
   "cell_type": "code",
   "execution_count": 114,
   "id": "a7b9291b",
   "metadata": {},
   "outputs": [
    {
     "data": {
      "application/vnd.plotly.v1+json": {
       "config": {
        "plotlyServerURL": "https://plot.ly"
       },
       "data": [
        {
         "branchvalues": "total",
         "customdata": [
          [
           "administrative"
          ],
          [
           "administrative"
          ],
          [
           "coordination"
          ],
          [
           "coordination"
          ],
          [
           "coordination"
          ],
          [
           "coordination"
          ],
          [
           "design"
          ],
          [
           "design"
          ],
          [
           "design"
          ],
          [
           "design"
          ],
          [
           "design"
          ],
          [
           "design"
          ],
          [
           "design"
          ],
          [
           "design"
          ],
          [
           "design"
          ],
          [
           "design"
          ],
          [
           "design"
          ],
          [
           "design"
          ],
          [
           "design"
          ],
          [
           "design"
          ],
          [
           "design"
          ],
          [
           "monitoring"
          ],
          [
           "monitoring"
          ],
          [
           "negotiation"
          ],
          [
           "negotiation"
          ],
          [
           "negotiation"
          ],
          [
           "negotiation"
          ],
          [
           "transportation"
          ],
          [
           "transportation"
          ],
          [
           "transportation"
          ],
          [
           "transportation"
          ],
          [
           "transportation"
          ],
          [
           "transportation"
          ],
          [
           "transportation"
          ],
          [
           "transportation"
          ],
          [
           "transportation"
          ],
          [
           "transportation"
          ],
          [
           "transportation"
          ],
          [
           "transportation"
          ],
          [
           "transportation"
          ],
          [
           "troubleshooting"
          ],
          [
           "troubleshooting"
          ],
          [
           "troubleshooting"
          ],
          [
           "writing"
          ],
          [
           "writing"
          ]
         ],
         "domain": {
          "x": [
           0,
           1
          ],
          "y": [
           0,
           1
          ]
         },
         "hovertemplate": "labels=%{label}<br>num_offers=%{value}<br>parent=%{parent}<br>id=%{id}<br>main_term_filtered=%{customdata[0]}<extra></extra>",
         "ids": [
          "administrative",
          "administrative/10",
          "coordination/22",
          "coordination/25",
          "coordination/23",
          "coordination",
          "design",
          "design/36",
          "design/34",
          "design/31",
          "design/30",
          "design/27",
          "design/21",
          "design/20",
          "design/19",
          "design/16",
          "design/0",
          "design/13",
          "design/12",
          "design/7",
          "design/15",
          "monitoring",
          "monitoring/26",
          "negotiation/1",
          "negotiation",
          "negotiation/2",
          "negotiation/32",
          "transportation",
          "transportation/35",
          "transportation/4",
          "transportation/33",
          "transportation/17",
          "transportation/29",
          "transportation/8",
          "transportation/24",
          "transportation/9",
          "transportation/11",
          "transportation/14",
          "transportation/18",
          "transportation/6",
          "troubleshooting/28",
          "troubleshooting",
          "troubleshooting/5",
          "writing/3",
          "writing"
         ],
         "labels": [
          "administrative",
          "10",
          "22",
          "25",
          "23",
          "coordination",
          "design",
          "36",
          "34",
          "31",
          "30",
          "27",
          "21",
          "20",
          "19",
          "16",
          "0",
          "13",
          "12",
          "7",
          "15",
          "monitoring",
          "26",
          "1",
          "negotiation",
          "2",
          "32",
          "transportation",
          "35",
          "4",
          "33",
          "17",
          "29",
          "8",
          "24",
          "9",
          "11",
          "14",
          "18",
          "6",
          "28",
          "troubleshooting",
          "5",
          "3",
          "writing"
         ],
         "marker": {
          "colors": [
           "#636efa",
           "#636efa",
           "#EF553B",
           "#EF553B",
           "#EF553B",
           "#EF553B",
           "#00cc96",
           "#00cc96",
           "#00cc96",
           "#00cc96",
           "#00cc96",
           "#00cc96",
           "#00cc96",
           "#00cc96",
           "#00cc96",
           "#00cc96",
           "#00cc96",
           "#00cc96",
           "#00cc96",
           "#00cc96",
           "#00cc96",
           "#ab63fa",
           "#ab63fa",
           "#FFA15A",
           "#FFA15A",
           "#FFA15A",
           "#FFA15A",
           "#19d3f3",
           "#19d3f3",
           "#19d3f3",
           "#19d3f3",
           "#19d3f3",
           "#19d3f3",
           "#19d3f3",
           "#19d3f3",
           "#19d3f3",
           "#19d3f3",
           "#19d3f3",
           "#19d3f3",
           "#19d3f3",
           "#FF6692",
           "#FF6692",
           "#FF6692",
           "#B6E880",
           "#B6E880"
          ]
         },
         "name": "",
         "parents": [
          "",
          "administrative",
          "coordination",
          "coordination",
          "coordination",
          "",
          "",
          "design",
          "design",
          "design",
          "design",
          "design",
          "design",
          "design",
          "design",
          "design",
          "design",
          "design",
          "design",
          "design",
          "design",
          "",
          "monitoring",
          "negotiation",
          "",
          "negotiation",
          "negotiation",
          "",
          "transportation",
          "transportation",
          "transportation",
          "transportation",
          "transportation",
          "transportation",
          "transportation",
          "transportation",
          "transportation",
          "transportation",
          "transportation",
          "transportation",
          "troubleshooting",
          "",
          "troubleshooting",
          "writing",
          ""
         ],
         "type": "sunburst",
         "values": {
          "bdata": "AAAAAEB15EAAAAAAQHXkQAAAAADA3NdAAAAAAAB0zEAAAAAAwLXiQAAAAACQ4PJAAAAAAA4BJUEAAAAAsCAEQQAAAABAU+ZAAAAAAIDl0EAAAAAAYJ7kQAAAAACwJvBAAAAAAICS4kAAAAAAALTnQAAAAABgIOZAAAAAAOCv4kAAAAAAgBHLQAAAAAAgluRAAAAAAOD75UAAAAAAQLbUQAAAAAAgFO1AAAAAAMCY3EAAAAAAwJjcQAAAAAAgRORAAAAAAKBn/0AAAAAAII/nQAAAAAAA/OJAAAAAAIYCIUEAAAAAwJDpQAAAAABgBfFAAAAAACB77UAAAAAAwJveQAAAAADA4d5AAAAAAMBr1EAAAAAAAJDbQAAAAADw4fhAAAAAAGCL5EAAAAAAwFbkQAAAAADAo+lAAAAAAMAW2EAAAAAAgMveQAAAAAAgEf1AAAAAAEBe9UAAAAAAYPXgQAAAAABg9eBA",
          "dtype": "f8"
         }
        }
       ],
       "layout": {
        "legend": {
         "tracegroupgap": 0
        },
        "margin": {
         "b": 25,
         "l": 25,
         "r": 25,
         "t": 50
        },
        "template": {
         "data": {
          "bar": [
           {
            "error_x": {
             "color": "#2a3f5f"
            },
            "error_y": {
             "color": "#2a3f5f"
            },
            "marker": {
             "line": {
              "color": "#E5ECF6",
              "width": 0.5
             },
             "pattern": {
              "fillmode": "overlay",
              "size": 10,
              "solidity": 0.2
             }
            },
            "type": "bar"
           }
          ],
          "barpolar": [
           {
            "marker": {
             "line": {
              "color": "#E5ECF6",
              "width": 0.5
             },
             "pattern": {
              "fillmode": "overlay",
              "size": 10,
              "solidity": 0.2
             }
            },
            "type": "barpolar"
           }
          ],
          "carpet": [
           {
            "aaxis": {
             "endlinecolor": "#2a3f5f",
             "gridcolor": "white",
             "linecolor": "white",
             "minorgridcolor": "white",
             "startlinecolor": "#2a3f5f"
            },
            "baxis": {
             "endlinecolor": "#2a3f5f",
             "gridcolor": "white",
             "linecolor": "white",
             "minorgridcolor": "white",
             "startlinecolor": "#2a3f5f"
            },
            "type": "carpet"
           }
          ],
          "choropleth": [
           {
            "colorbar": {
             "outlinewidth": 0,
             "ticks": ""
            },
            "type": "choropleth"
           }
          ],
          "contour": [
           {
            "colorbar": {
             "outlinewidth": 0,
             "ticks": ""
            },
            "colorscale": [
             [
              0,
              "#0d0887"
             ],
             [
              0.1111111111111111,
              "#46039f"
             ],
             [
              0.2222222222222222,
              "#7201a8"
             ],
             [
              0.3333333333333333,
              "#9c179e"
             ],
             [
              0.4444444444444444,
              "#bd3786"
             ],
             [
              0.5555555555555556,
              "#d8576b"
             ],
             [
              0.6666666666666666,
              "#ed7953"
             ],
             [
              0.7777777777777778,
              "#fb9f3a"
             ],
             [
              0.8888888888888888,
              "#fdca26"
             ],
             [
              1,
              "#f0f921"
             ]
            ],
            "type": "contour"
           }
          ],
          "contourcarpet": [
           {
            "colorbar": {
             "outlinewidth": 0,
             "ticks": ""
            },
            "type": "contourcarpet"
           }
          ],
          "heatmap": [
           {
            "colorbar": {
             "outlinewidth": 0,
             "ticks": ""
            },
            "colorscale": [
             [
              0,
              "#0d0887"
             ],
             [
              0.1111111111111111,
              "#46039f"
             ],
             [
              0.2222222222222222,
              "#7201a8"
             ],
             [
              0.3333333333333333,
              "#9c179e"
             ],
             [
              0.4444444444444444,
              "#bd3786"
             ],
             [
              0.5555555555555556,
              "#d8576b"
             ],
             [
              0.6666666666666666,
              "#ed7953"
             ],
             [
              0.7777777777777778,
              "#fb9f3a"
             ],
             [
              0.8888888888888888,
              "#fdca26"
             ],
             [
              1,
              "#f0f921"
             ]
            ],
            "type": "heatmap"
           }
          ],
          "histogram": [
           {
            "marker": {
             "pattern": {
              "fillmode": "overlay",
              "size": 10,
              "solidity": 0.2
             }
            },
            "type": "histogram"
           }
          ],
          "histogram2d": [
           {
            "colorbar": {
             "outlinewidth": 0,
             "ticks": ""
            },
            "colorscale": [
             [
              0,
              "#0d0887"
             ],
             [
              0.1111111111111111,
              "#46039f"
             ],
             [
              0.2222222222222222,
              "#7201a8"
             ],
             [
              0.3333333333333333,
              "#9c179e"
             ],
             [
              0.4444444444444444,
              "#bd3786"
             ],
             [
              0.5555555555555556,
              "#d8576b"
             ],
             [
              0.6666666666666666,
              "#ed7953"
             ],
             [
              0.7777777777777778,
              "#fb9f3a"
             ],
             [
              0.8888888888888888,
              "#fdca26"
             ],
             [
              1,
              "#f0f921"
             ]
            ],
            "type": "histogram2d"
           }
          ],
          "histogram2dcontour": [
           {
            "colorbar": {
             "outlinewidth": 0,
             "ticks": ""
            },
            "colorscale": [
             [
              0,
              "#0d0887"
             ],
             [
              0.1111111111111111,
              "#46039f"
             ],
             [
              0.2222222222222222,
              "#7201a8"
             ],
             [
              0.3333333333333333,
              "#9c179e"
             ],
             [
              0.4444444444444444,
              "#bd3786"
             ],
             [
              0.5555555555555556,
              "#d8576b"
             ],
             [
              0.6666666666666666,
              "#ed7953"
             ],
             [
              0.7777777777777778,
              "#fb9f3a"
             ],
             [
              0.8888888888888888,
              "#fdca26"
             ],
             [
              1,
              "#f0f921"
             ]
            ],
            "type": "histogram2dcontour"
           }
          ],
          "mesh3d": [
           {
            "colorbar": {
             "outlinewidth": 0,
             "ticks": ""
            },
            "type": "mesh3d"
           }
          ],
          "parcoords": [
           {
            "line": {
             "colorbar": {
              "outlinewidth": 0,
              "ticks": ""
             }
            },
            "type": "parcoords"
           }
          ],
          "pie": [
           {
            "automargin": true,
            "type": "pie"
           }
          ],
          "scatter": [
           {
            "fillpattern": {
             "fillmode": "overlay",
             "size": 10,
             "solidity": 0.2
            },
            "type": "scatter"
           }
          ],
          "scatter3d": [
           {
            "line": {
             "colorbar": {
              "outlinewidth": 0,
              "ticks": ""
             }
            },
            "marker": {
             "colorbar": {
              "outlinewidth": 0,
              "ticks": ""
             }
            },
            "type": "scatter3d"
           }
          ],
          "scattercarpet": [
           {
            "marker": {
             "colorbar": {
              "outlinewidth": 0,
              "ticks": ""
             }
            },
            "type": "scattercarpet"
           }
          ],
          "scattergeo": [
           {
            "marker": {
             "colorbar": {
              "outlinewidth": 0,
              "ticks": ""
             }
            },
            "type": "scattergeo"
           }
          ],
          "scattergl": [
           {
            "marker": {
             "colorbar": {
              "outlinewidth": 0,
              "ticks": ""
             }
            },
            "type": "scattergl"
           }
          ],
          "scattermap": [
           {
            "marker": {
             "colorbar": {
              "outlinewidth": 0,
              "ticks": ""
             }
            },
            "type": "scattermap"
           }
          ],
          "scattermapbox": [
           {
            "marker": {
             "colorbar": {
              "outlinewidth": 0,
              "ticks": ""
             }
            },
            "type": "scattermapbox"
           }
          ],
          "scatterpolar": [
           {
            "marker": {
             "colorbar": {
              "outlinewidth": 0,
              "ticks": ""
             }
            },
            "type": "scatterpolar"
           }
          ],
          "scatterpolargl": [
           {
            "marker": {
             "colorbar": {
              "outlinewidth": 0,
              "ticks": ""
             }
            },
            "type": "scatterpolargl"
           }
          ],
          "scatterternary": [
           {
            "marker": {
             "colorbar": {
              "outlinewidth": 0,
              "ticks": ""
             }
            },
            "type": "scatterternary"
           }
          ],
          "surface": [
           {
            "colorbar": {
             "outlinewidth": 0,
             "ticks": ""
            },
            "colorscale": [
             [
              0,
              "#0d0887"
             ],
             [
              0.1111111111111111,
              "#46039f"
             ],
             [
              0.2222222222222222,
              "#7201a8"
             ],
             [
              0.3333333333333333,
              "#9c179e"
             ],
             [
              0.4444444444444444,
              "#bd3786"
             ],
             [
              0.5555555555555556,
              "#d8576b"
             ],
             [
              0.6666666666666666,
              "#ed7953"
             ],
             [
              0.7777777777777778,
              "#fb9f3a"
             ],
             [
              0.8888888888888888,
              "#fdca26"
             ],
             [
              1,
              "#f0f921"
             ]
            ],
            "type": "surface"
           }
          ],
          "table": [
           {
            "cells": {
             "fill": {
              "color": "#EBF0F8"
             },
             "line": {
              "color": "white"
             }
            },
            "header": {
             "fill": {
              "color": "#C8D4E3"
             },
             "line": {
              "color": "white"
             }
            },
            "type": "table"
           }
          ]
         },
         "layout": {
          "annotationdefaults": {
           "arrowcolor": "#2a3f5f",
           "arrowhead": 0,
           "arrowwidth": 1
          },
          "autotypenumbers": "strict",
          "coloraxis": {
           "colorbar": {
            "outlinewidth": 0,
            "ticks": ""
           }
          },
          "colorscale": {
           "diverging": [
            [
             0,
             "#8e0152"
            ],
            [
             0.1,
             "#c51b7d"
            ],
            [
             0.2,
             "#de77ae"
            ],
            [
             0.3,
             "#f1b6da"
            ],
            [
             0.4,
             "#fde0ef"
            ],
            [
             0.5,
             "#f7f7f7"
            ],
            [
             0.6,
             "#e6f5d0"
            ],
            [
             0.7,
             "#b8e186"
            ],
            [
             0.8,
             "#7fbc41"
            ],
            [
             0.9,
             "#4d9221"
            ],
            [
             1,
             "#276419"
            ]
           ],
           "sequential": [
            [
             0,
             "#0d0887"
            ],
            [
             0.1111111111111111,
             "#46039f"
            ],
            [
             0.2222222222222222,
             "#7201a8"
            ],
            [
             0.3333333333333333,
             "#9c179e"
            ],
            [
             0.4444444444444444,
             "#bd3786"
            ],
            [
             0.5555555555555556,
             "#d8576b"
            ],
            [
             0.6666666666666666,
             "#ed7953"
            ],
            [
             0.7777777777777778,
             "#fb9f3a"
            ],
            [
             0.8888888888888888,
             "#fdca26"
            ],
            [
             1,
             "#f0f921"
            ]
           ],
           "sequentialminus": [
            [
             0,
             "#0d0887"
            ],
            [
             0.1111111111111111,
             "#46039f"
            ],
            [
             0.2222222222222222,
             "#7201a8"
            ],
            [
             0.3333333333333333,
             "#9c179e"
            ],
            [
             0.4444444444444444,
             "#bd3786"
            ],
            [
             0.5555555555555556,
             "#d8576b"
            ],
            [
             0.6666666666666666,
             "#ed7953"
            ],
            [
             0.7777777777777778,
             "#fb9f3a"
            ],
            [
             0.8888888888888888,
             "#fdca26"
            ],
            [
             1,
             "#f0f921"
            ]
           ]
          },
          "colorway": [
           "#636efa",
           "#EF553B",
           "#00cc96",
           "#ab63fa",
           "#FFA15A",
           "#19d3f3",
           "#FF6692",
           "#B6E880",
           "#FF97FF",
           "#FECB52"
          ],
          "font": {
           "color": "#2a3f5f"
          },
          "geo": {
           "bgcolor": "white",
           "lakecolor": "white",
           "landcolor": "#E5ECF6",
           "showlakes": true,
           "showland": true,
           "subunitcolor": "white"
          },
          "hoverlabel": {
           "align": "left"
          },
          "hovermode": "closest",
          "mapbox": {
           "style": "light"
          },
          "paper_bgcolor": "white",
          "plot_bgcolor": "#E5ECF6",
          "polar": {
           "angularaxis": {
            "gridcolor": "white",
            "linecolor": "white",
            "ticks": ""
           },
           "bgcolor": "#E5ECF6",
           "radialaxis": {
            "gridcolor": "white",
            "linecolor": "white",
            "ticks": ""
           }
          },
          "scene": {
           "xaxis": {
            "backgroundcolor": "#E5ECF6",
            "gridcolor": "white",
            "gridwidth": 2,
            "linecolor": "white",
            "showbackground": true,
            "ticks": "",
            "zerolinecolor": "white"
           },
           "yaxis": {
            "backgroundcolor": "#E5ECF6",
            "gridcolor": "white",
            "gridwidth": 2,
            "linecolor": "white",
            "showbackground": true,
            "ticks": "",
            "zerolinecolor": "white"
           },
           "zaxis": {
            "backgroundcolor": "#E5ECF6",
            "gridcolor": "white",
            "gridwidth": 2,
            "linecolor": "white",
            "showbackground": true,
            "ticks": "",
            "zerolinecolor": "white"
           }
          },
          "shapedefaults": {
           "line": {
            "color": "#2a3f5f"
           }
          },
          "ternary": {
           "aaxis": {
            "gridcolor": "white",
            "linecolor": "white",
            "ticks": ""
           },
           "baxis": {
            "gridcolor": "white",
            "linecolor": "white",
            "ticks": ""
           },
           "bgcolor": "#E5ECF6",
           "caxis": {
            "gridcolor": "white",
            "linecolor": "white",
            "ticks": ""
           }
          },
          "title": {
           "x": 0.05
          },
          "xaxis": {
           "automargin": true,
           "gridcolor": "white",
           "linecolor": "white",
           "ticks": "",
           "title": {
            "standoff": 15
           },
           "zerolinecolor": "white",
           "zerolinewidth": 2
          },
          "yaxis": {
           "automargin": true,
           "gridcolor": "white",
           "linecolor": "white",
           "ticks": "",
           "title": {
            "standoff": 15
           },
           "zerolinecolor": "white",
           "zerolinewidth": 2
          }
         }
        },
        "title": {
         "text": "Distribución jerárquica por término más frecuente (filtrado)"
        }
       }
      }
     },
     "metadata": {},
     "output_type": "display_data"
    }
   ],
   "source": [
    "fig = px.sunburst(\n",
    "    df_summary,\n",
    "    path=[\"main_term_filtered\", \"cluster\"],\n",
    "    values=\"num_offers\",\n",
    "    color=\"main_term_filtered\",\n",
    "    title=\"Distribución jerárquica por término más frecuente (filtrado)\"\n",
    ")\n",
    "fig.update_layout(margin=dict(t=50, l=25, r=25, b=25))\n",
    "fig.show()"
   ]
  },
  {
   "cell_type": "code",
   "execution_count": 115,
   "id": "568c31fb",
   "metadata": {},
   "outputs": [],
   "source": [
    "def get_main_term_filtered(term_counts):\n",
    "    if isinstance(term_counts, dict):\n",
    "        # Filtrar términos vacíos, 'design' y 'transportation'\n",
    "        filtered = {k: v for k, v in term_counts.items() if k.strip() not in [\"\",\"transportation\", \"design\"]}\n",
    "        if filtered:\n",
    "            return max(filtered, key=filtered.get)\n",
    "    return \"sin datos\"\n",
    "\n",
    "df_summary[\"main_term_filtered\"] = df_summary[\"term_counts\"].apply(get_main_term_filtered)"
   ]
  },
  {
   "cell_type": "code",
   "execution_count": 116,
   "id": "e49dfa77",
   "metadata": {},
   "outputs": [
    {
     "data": {
      "application/vnd.plotly.v1+json": {
       "config": {
        "plotlyServerURL": "https://plot.ly"
       },
       "data": [
        {
         "branchvalues": "total",
         "customdata": [
          [
           "administrative"
          ],
          [
           "administrative"
          ],
          [
           "administrative"
          ],
          [
           "administrative"
          ],
          [
           "coordination"
          ],
          [
           "coordination"
          ],
          [
           "coordination"
          ],
          [
           "coordination"
          ],
          [
           "coordination"
          ],
          [
           "coordination"
          ],
          [
           "equipment selection"
          ],
          [
           "equipment selection"
          ],
          [
           "mechanical"
          ],
          [
           "mechanical"
          ],
          [
           "mechanical"
          ],
          [
           "mechanical"
          ],
          [
           "monitoring"
          ],
          [
           "monitoring"
          ],
          [
           "monitoring"
          ],
          [
           "monitoring"
          ],
          [
           "negotiation"
          ],
          [
           "negotiation"
          ],
          [
           "negotiation"
          ],
          [
           "negotiation"
          ],
          [
           "negotiation"
          ],
          [
           "negotiation"
          ],
          [
           "programming"
          ],
          [
           "programming"
          ],
          [
           "programming"
          ],
          [
           "programming"
          ],
          [
           "psychology"
          ],
          [
           "psychology"
          ],
          [
           "psychology"
          ],
          [
           "speaking"
          ],
          [
           "speaking"
          ],
          [
           "time management"
          ],
          [
           "time management"
          ],
          [
           "time management"
          ],
          [
           "troubleshooting"
          ],
          [
           "troubleshooting"
          ],
          [
           "troubleshooting"
          ],
          [
           "troubleshooting"
          ],
          [
           "troubleshooting"
          ],
          [
           "writing"
          ],
          [
           "writing"
          ],
          [
           "writing"
          ],
          [
           "writing"
          ],
          [
           "writing"
          ],
          [
           "writing"
          ]
         ],
         "domain": {
          "x": [
           0,
           1
          ],
          "y": [
           0,
           1
          ]
         },
         "hovertemplate": "labels=%{label}<br>num_offers=%{value}<br>parent=%{parent}<br>id=%{id}<br>main_term_filtered=%{customdata[0]}<extra></extra>",
         "ids": [
          "administrative",
          "administrative/33",
          "administrative/10",
          "administrative/17",
          "coordination",
          "coordination/31",
          "coordination/25",
          "coordination/23",
          "coordination/22",
          "coordination/14",
          "equipment selection",
          "equipment selection/19",
          "mechanical",
          "mechanical/34",
          "mechanical/30",
          "mechanical/0",
          "monitoring",
          "monitoring/9",
          "monitoring/4",
          "monitoring/26",
          "negotiation/32",
          "negotiation/1",
          "negotiation/2",
          "negotiation",
          "negotiation/35",
          "negotiation/8",
          "programming",
          "programming/16",
          "programming/13",
          "programming/27",
          "psychology/21",
          "psychology/18",
          "psychology",
          "speaking/6",
          "speaking",
          "time management",
          "time management/24",
          "time management/7",
          "troubleshooting/11",
          "troubleshooting",
          "troubleshooting/5",
          "troubleshooting/36",
          "troubleshooting/28",
          "writing/3",
          "writing",
          "writing/20",
          "writing/15",
          "writing/12",
          "writing/29"
         ],
         "labels": [
          "administrative",
          "33",
          "10",
          "17",
          "coordination",
          "31",
          "25",
          "23",
          "22",
          "14",
          "equipment selection",
          "19",
          "mechanical",
          "34",
          "30",
          "0",
          "monitoring",
          "9",
          "4",
          "26",
          "32",
          "1",
          "2",
          "negotiation",
          "35",
          "8",
          "programming",
          "16",
          "13",
          "27",
          "21",
          "18",
          "psychology",
          "6",
          "speaking",
          "time management",
          "24",
          "7",
          "11",
          "troubleshooting",
          "5",
          "36",
          "28",
          "3",
          "writing",
          "20",
          "15",
          "12",
          "29"
         ],
         "marker": {
          "colors": [
           "#636efa",
           "#636efa",
           "#636efa",
           "#636efa",
           "#EF553B",
           "#EF553B",
           "#EF553B",
           "#EF553B",
           "#EF553B",
           "#EF553B",
           "#00cc96",
           "#00cc96",
           "#ab63fa",
           "#ab63fa",
           "#ab63fa",
           "#ab63fa",
           "#FFA15A",
           "#FFA15A",
           "#FFA15A",
           "#FFA15A",
           "#19d3f3",
           "#19d3f3",
           "#19d3f3",
           "#19d3f3",
           "#19d3f3",
           "#19d3f3",
           "#FF6692",
           "#FF6692",
           "#FF6692",
           "#FF6692",
           "#B6E880",
           "#B6E880",
           "#B6E880",
           "#FF97FF",
           "#FF97FF",
           "#FECB52",
           "#FECB52",
           "#FECB52",
           "#636efa",
           "#636efa",
           "#636efa",
           "#636efa",
           "#636efa",
           "#EF553B",
           "#EF553B",
           "#EF553B",
           "#EF553B",
           "#EF553B",
           "#EF553B"
          ]
         },
         "name": "",
         "parents": [
          "",
          "administrative",
          "administrative",
          "administrative",
          "",
          "coordination",
          "coordination",
          "coordination",
          "coordination",
          "coordination",
          "",
          "equipment selection",
          "",
          "mechanical",
          "mechanical",
          "mechanical",
          "",
          "monitoring",
          "monitoring",
          "monitoring",
          "negotiation",
          "negotiation",
          "negotiation",
          "",
          "negotiation",
          "negotiation",
          "",
          "programming",
          "programming",
          "programming",
          "psychology",
          "psychology",
          "",
          "speaking",
          "",
          "",
          "time management",
          "time management",
          "troubleshooting",
          "",
          "troubleshooting",
          "troubleshooting",
          "troubleshooting",
          "writing",
          "",
          "writing",
          "writing",
          "writing",
          "writing"
         ],
         "type": "sunburst",
         "values": {
          "bdata": "AAAAAJBPAEEAAAAAIHvtQAAAAABAdeRAAAAAAMCb3kAAAAAAqKIAQQAAAACA5dBAAAAAAAB0zEAAAAAAwLXiQAAAAADA3NdAAAAAAMBW5EAAAAAAYCDmQAAAAABgIOZAAAAAAADb+EAAAAAAQFPmQAAAAABgnuRAAAAAAIARy0AAAAAAwIYIQQAAAADw4fhAAAAAAGAF8UAAAAAAwJjcQAAAAAAA/OJAAAAAACBE5EAAAAAAII/nQAAAAAB4pQhBAAAAAMCQ6UAAAAAAwGvUQAAAAADY5AFBAAAAAOCv4kAAAAAAIJbkQAAAAACwJvBAAAAAAICS4kAAAAAAwKPpQAAAAAAgG/ZAAAAAAMAW2EAAAAAAwBbYQAAAAAAgI+hAAAAAAACQ20AAAAAAQLbUQAAAAABgi+RAAAAAAAzmE0EAAAAAQF71QAAAAACwIARBAAAAAIDL3kAAAAAAYPXgQAAAAACQygpBAAAAAAC050AAAAAAIBTtQAAAAADg++VAAAAAAMDh3kA=",
          "dtype": "f8"
         }
        }
       ],
       "layout": {
        "legend": {
         "tracegroupgap": 0
        },
        "margin": {
         "b": 0,
         "l": 0,
         "r": 0,
         "t": 0
        },
        "template": {
         "data": {
          "bar": [
           {
            "error_x": {
             "color": "#2a3f5f"
            },
            "error_y": {
             "color": "#2a3f5f"
            },
            "marker": {
             "line": {
              "color": "#E5ECF6",
              "width": 0.5
             },
             "pattern": {
              "fillmode": "overlay",
              "size": 10,
              "solidity": 0.2
             }
            },
            "type": "bar"
           }
          ],
          "barpolar": [
           {
            "marker": {
             "line": {
              "color": "#E5ECF6",
              "width": 0.5
             },
             "pattern": {
              "fillmode": "overlay",
              "size": 10,
              "solidity": 0.2
             }
            },
            "type": "barpolar"
           }
          ],
          "carpet": [
           {
            "aaxis": {
             "endlinecolor": "#2a3f5f",
             "gridcolor": "white",
             "linecolor": "white",
             "minorgridcolor": "white",
             "startlinecolor": "#2a3f5f"
            },
            "baxis": {
             "endlinecolor": "#2a3f5f",
             "gridcolor": "white",
             "linecolor": "white",
             "minorgridcolor": "white",
             "startlinecolor": "#2a3f5f"
            },
            "type": "carpet"
           }
          ],
          "choropleth": [
           {
            "colorbar": {
             "outlinewidth": 0,
             "ticks": ""
            },
            "type": "choropleth"
           }
          ],
          "contour": [
           {
            "colorbar": {
             "outlinewidth": 0,
             "ticks": ""
            },
            "colorscale": [
             [
              0,
              "#0d0887"
             ],
             [
              0.1111111111111111,
              "#46039f"
             ],
             [
              0.2222222222222222,
              "#7201a8"
             ],
             [
              0.3333333333333333,
              "#9c179e"
             ],
             [
              0.4444444444444444,
              "#bd3786"
             ],
             [
              0.5555555555555556,
              "#d8576b"
             ],
             [
              0.6666666666666666,
              "#ed7953"
             ],
             [
              0.7777777777777778,
              "#fb9f3a"
             ],
             [
              0.8888888888888888,
              "#fdca26"
             ],
             [
              1,
              "#f0f921"
             ]
            ],
            "type": "contour"
           }
          ],
          "contourcarpet": [
           {
            "colorbar": {
             "outlinewidth": 0,
             "ticks": ""
            },
            "type": "contourcarpet"
           }
          ],
          "heatmap": [
           {
            "colorbar": {
             "outlinewidth": 0,
             "ticks": ""
            },
            "colorscale": [
             [
              0,
              "#0d0887"
             ],
             [
              0.1111111111111111,
              "#46039f"
             ],
             [
              0.2222222222222222,
              "#7201a8"
             ],
             [
              0.3333333333333333,
              "#9c179e"
             ],
             [
              0.4444444444444444,
              "#bd3786"
             ],
             [
              0.5555555555555556,
              "#d8576b"
             ],
             [
              0.6666666666666666,
              "#ed7953"
             ],
             [
              0.7777777777777778,
              "#fb9f3a"
             ],
             [
              0.8888888888888888,
              "#fdca26"
             ],
             [
              1,
              "#f0f921"
             ]
            ],
            "type": "heatmap"
           }
          ],
          "histogram": [
           {
            "marker": {
             "pattern": {
              "fillmode": "overlay",
              "size": 10,
              "solidity": 0.2
             }
            },
            "type": "histogram"
           }
          ],
          "histogram2d": [
           {
            "colorbar": {
             "outlinewidth": 0,
             "ticks": ""
            },
            "colorscale": [
             [
              0,
              "#0d0887"
             ],
             [
              0.1111111111111111,
              "#46039f"
             ],
             [
              0.2222222222222222,
              "#7201a8"
             ],
             [
              0.3333333333333333,
              "#9c179e"
             ],
             [
              0.4444444444444444,
              "#bd3786"
             ],
             [
              0.5555555555555556,
              "#d8576b"
             ],
             [
              0.6666666666666666,
              "#ed7953"
             ],
             [
              0.7777777777777778,
              "#fb9f3a"
             ],
             [
              0.8888888888888888,
              "#fdca26"
             ],
             [
              1,
              "#f0f921"
             ]
            ],
            "type": "histogram2d"
           }
          ],
          "histogram2dcontour": [
           {
            "colorbar": {
             "outlinewidth": 0,
             "ticks": ""
            },
            "colorscale": [
             [
              0,
              "#0d0887"
             ],
             [
              0.1111111111111111,
              "#46039f"
             ],
             [
              0.2222222222222222,
              "#7201a8"
             ],
             [
              0.3333333333333333,
              "#9c179e"
             ],
             [
              0.4444444444444444,
              "#bd3786"
             ],
             [
              0.5555555555555556,
              "#d8576b"
             ],
             [
              0.6666666666666666,
              "#ed7953"
             ],
             [
              0.7777777777777778,
              "#fb9f3a"
             ],
             [
              0.8888888888888888,
              "#fdca26"
             ],
             [
              1,
              "#f0f921"
             ]
            ],
            "type": "histogram2dcontour"
           }
          ],
          "mesh3d": [
           {
            "colorbar": {
             "outlinewidth": 0,
             "ticks": ""
            },
            "type": "mesh3d"
           }
          ],
          "parcoords": [
           {
            "line": {
             "colorbar": {
              "outlinewidth": 0,
              "ticks": ""
             }
            },
            "type": "parcoords"
           }
          ],
          "pie": [
           {
            "automargin": true,
            "type": "pie"
           }
          ],
          "scatter": [
           {
            "fillpattern": {
             "fillmode": "overlay",
             "size": 10,
             "solidity": 0.2
            },
            "type": "scatter"
           }
          ],
          "scatter3d": [
           {
            "line": {
             "colorbar": {
              "outlinewidth": 0,
              "ticks": ""
             }
            },
            "marker": {
             "colorbar": {
              "outlinewidth": 0,
              "ticks": ""
             }
            },
            "type": "scatter3d"
           }
          ],
          "scattercarpet": [
           {
            "marker": {
             "colorbar": {
              "outlinewidth": 0,
              "ticks": ""
             }
            },
            "type": "scattercarpet"
           }
          ],
          "scattergeo": [
           {
            "marker": {
             "colorbar": {
              "outlinewidth": 0,
              "ticks": ""
             }
            },
            "type": "scattergeo"
           }
          ],
          "scattergl": [
           {
            "marker": {
             "colorbar": {
              "outlinewidth": 0,
              "ticks": ""
             }
            },
            "type": "scattergl"
           }
          ],
          "scattermap": [
           {
            "marker": {
             "colorbar": {
              "outlinewidth": 0,
              "ticks": ""
             }
            },
            "type": "scattermap"
           }
          ],
          "scattermapbox": [
           {
            "marker": {
             "colorbar": {
              "outlinewidth": 0,
              "ticks": ""
             }
            },
            "type": "scattermapbox"
           }
          ],
          "scatterpolar": [
           {
            "marker": {
             "colorbar": {
              "outlinewidth": 0,
              "ticks": ""
             }
            },
            "type": "scatterpolar"
           }
          ],
          "scatterpolargl": [
           {
            "marker": {
             "colorbar": {
              "outlinewidth": 0,
              "ticks": ""
             }
            },
            "type": "scatterpolargl"
           }
          ],
          "scatterternary": [
           {
            "marker": {
             "colorbar": {
              "outlinewidth": 0,
              "ticks": ""
             }
            },
            "type": "scatterternary"
           }
          ],
          "surface": [
           {
            "colorbar": {
             "outlinewidth": 0,
             "ticks": ""
            },
            "colorscale": [
             [
              0,
              "#0d0887"
             ],
             [
              0.1111111111111111,
              "#46039f"
             ],
             [
              0.2222222222222222,
              "#7201a8"
             ],
             [
              0.3333333333333333,
              "#9c179e"
             ],
             [
              0.4444444444444444,
              "#bd3786"
             ],
             [
              0.5555555555555556,
              "#d8576b"
             ],
             [
              0.6666666666666666,
              "#ed7953"
             ],
             [
              0.7777777777777778,
              "#fb9f3a"
             ],
             [
              0.8888888888888888,
              "#fdca26"
             ],
             [
              1,
              "#f0f921"
             ]
            ],
            "type": "surface"
           }
          ],
          "table": [
           {
            "cells": {
             "fill": {
              "color": "#EBF0F8"
             },
             "line": {
              "color": "white"
             }
            },
            "header": {
             "fill": {
              "color": "#C8D4E3"
             },
             "line": {
              "color": "white"
             }
            },
            "type": "table"
           }
          ]
         },
         "layout": {
          "annotationdefaults": {
           "arrowcolor": "#2a3f5f",
           "arrowhead": 0,
           "arrowwidth": 1
          },
          "autotypenumbers": "strict",
          "coloraxis": {
           "colorbar": {
            "outlinewidth": 0,
            "ticks": ""
           }
          },
          "colorscale": {
           "diverging": [
            [
             0,
             "#8e0152"
            ],
            [
             0.1,
             "#c51b7d"
            ],
            [
             0.2,
             "#de77ae"
            ],
            [
             0.3,
             "#f1b6da"
            ],
            [
             0.4,
             "#fde0ef"
            ],
            [
             0.5,
             "#f7f7f7"
            ],
            [
             0.6,
             "#e6f5d0"
            ],
            [
             0.7,
             "#b8e186"
            ],
            [
             0.8,
             "#7fbc41"
            ],
            [
             0.9,
             "#4d9221"
            ],
            [
             1,
             "#276419"
            ]
           ],
           "sequential": [
            [
             0,
             "#0d0887"
            ],
            [
             0.1111111111111111,
             "#46039f"
            ],
            [
             0.2222222222222222,
             "#7201a8"
            ],
            [
             0.3333333333333333,
             "#9c179e"
            ],
            [
             0.4444444444444444,
             "#bd3786"
            ],
            [
             0.5555555555555556,
             "#d8576b"
            ],
            [
             0.6666666666666666,
             "#ed7953"
            ],
            [
             0.7777777777777778,
             "#fb9f3a"
            ],
            [
             0.8888888888888888,
             "#fdca26"
            ],
            [
             1,
             "#f0f921"
            ]
           ],
           "sequentialminus": [
            [
             0,
             "#0d0887"
            ],
            [
             0.1111111111111111,
             "#46039f"
            ],
            [
             0.2222222222222222,
             "#7201a8"
            ],
            [
             0.3333333333333333,
             "#9c179e"
            ],
            [
             0.4444444444444444,
             "#bd3786"
            ],
            [
             0.5555555555555556,
             "#d8576b"
            ],
            [
             0.6666666666666666,
             "#ed7953"
            ],
            [
             0.7777777777777778,
             "#fb9f3a"
            ],
            [
             0.8888888888888888,
             "#fdca26"
            ],
            [
             1,
             "#f0f921"
            ]
           ]
          },
          "colorway": [
           "#636efa",
           "#EF553B",
           "#00cc96",
           "#ab63fa",
           "#FFA15A",
           "#19d3f3",
           "#FF6692",
           "#B6E880",
           "#FF97FF",
           "#FECB52"
          ],
          "font": {
           "color": "#2a3f5f"
          },
          "geo": {
           "bgcolor": "white",
           "lakecolor": "white",
           "landcolor": "#E5ECF6",
           "showlakes": true,
           "showland": true,
           "subunitcolor": "white"
          },
          "hoverlabel": {
           "align": "left"
          },
          "hovermode": "closest",
          "mapbox": {
           "style": "light"
          },
          "paper_bgcolor": "white",
          "plot_bgcolor": "#E5ECF6",
          "polar": {
           "angularaxis": {
            "gridcolor": "white",
            "linecolor": "white",
            "ticks": ""
           },
           "bgcolor": "#E5ECF6",
           "radialaxis": {
            "gridcolor": "white",
            "linecolor": "white",
            "ticks": ""
           }
          },
          "scene": {
           "xaxis": {
            "backgroundcolor": "#E5ECF6",
            "gridcolor": "white",
            "gridwidth": 2,
            "linecolor": "white",
            "showbackground": true,
            "ticks": "",
            "zerolinecolor": "white"
           },
           "yaxis": {
            "backgroundcolor": "#E5ECF6",
            "gridcolor": "white",
            "gridwidth": 2,
            "linecolor": "white",
            "showbackground": true,
            "ticks": "",
            "zerolinecolor": "white"
           },
           "zaxis": {
            "backgroundcolor": "#E5ECF6",
            "gridcolor": "white",
            "gridwidth": 2,
            "linecolor": "white",
            "showbackground": true,
            "ticks": "",
            "zerolinecolor": "white"
           }
          },
          "shapedefaults": {
           "line": {
            "color": "#2a3f5f"
           }
          },
          "ternary": {
           "aaxis": {
            "gridcolor": "white",
            "linecolor": "white",
            "ticks": ""
           },
           "baxis": {
            "gridcolor": "white",
            "linecolor": "white",
            "ticks": ""
           },
           "bgcolor": "#E5ECF6",
           "caxis": {
            "gridcolor": "white",
            "linecolor": "white",
            "ticks": ""
           }
          },
          "title": {
           "x": 0.05
          },
          "xaxis": {
           "automargin": true,
           "gridcolor": "white",
           "linecolor": "white",
           "ticks": "",
           "title": {
            "standoff": 15
           },
           "zerolinecolor": "white",
           "zerolinewidth": 2
          },
          "yaxis": {
           "automargin": true,
           "gridcolor": "white",
           "linecolor": "white",
           "ticks": "",
           "title": {
            "standoff": 15
           },
           "zerolinecolor": "white",
           "zerolinewidth": 2
          }
         }
        },
        "title": {
         "text": "Distribución jerárquica por término más frecuente (filtrado)"
        }
       }
      }
     },
     "metadata": {},
     "output_type": "display_data"
    }
   ],
   "source": [
    "fig = px.sunburst(\n",
    "    df_summary,\n",
    "    path=[\"main_term_filtered\", \"cluster\"],\n",
    "    values=\"num_offers\",\n",
    "    color=\"main_term_filtered\",\n",
    "    title=\"Distribución jerárquica por término más frecuente (filtrado)\"\n",
    ")\n",
    "fig.update_layout(margin=dict(t=0, l=0, r=0, b=0))\n",
    "fig.show()"
   ]
  },
  {
   "cell_type": "code",
   "execution_count": 118,
   "id": "5ffa1e9a",
   "metadata": {},
   "outputs": [
    {
     "name": "stdout",
     "output_type": "stream",
     "text": [
      "🔎 Total de habilidades únicas detectadas: 55\n"
     ]
    }
   ],
   "source": [
    "# Explota la columna de skills (ya separadas por comas)\n",
    "all_skills = combined_df[\"skills_extraidas\"].dropna().str.split(\", \").explode().str.lower().str.strip()\n",
    "\n",
    "# Elimina duplicados y valores vacíos\n",
    "unique_skills = all_skills[all_skills != \"\"].drop_duplicates().tolist()\n",
    "\n",
    "print(f\"🔎 Total de habilidades únicas detectadas: {len(unique_skills)}\")"
   ]
  },
  {
   "cell_type": "code",
   "execution_count": 119,
   "id": "f626036e",
   "metadata": {},
   "outputs": [
    {
     "name": "stderr",
     "output_type": "stream",
     "text": [
      "Batches: 100%|██████████| 2/2 [00:00<00:00,  7.72it/s]\n"
     ]
    }
   ],
   "source": [
    "from sentence_transformers import SentenceTransformer\n",
    "\n",
    "model = SentenceTransformer(\"all-MiniLM-L6-v2\")  # Ligero y efectivo\n",
    "skill_embeddings = model.encode(unique_skills, show_progress_bar=True)"
   ]
  },
  {
   "cell_type": "code",
   "execution_count": 120,
   "id": "2531b565",
   "metadata": {},
   "outputs": [],
   "source": [
    "from sklearn.cluster import KMeans\n",
    "import pandas as pd\n",
    "\n",
    "n_clusters = 35  # ajusta según el nivel de granularidad que desees\n",
    "kmeans = KMeans(n_clusters=n_clusters, random_state=42)\n",
    "labels = kmeans.fit_predict(skill_embeddings)\n",
    "\n",
    "skill_cluster_df = pd.DataFrame({\n",
    "    \"skill\": unique_skills,\n",
    "    \"cluster\": labels\n",
    "})"
   ]
  },
  {
   "cell_type": "code",
   "execution_count": 121,
   "id": "d1dc425f",
   "metadata": {},
   "outputs": [],
   "source": [
    "skill_to_cluster = dict(zip(skill_cluster_df[\"skill\"], skill_cluster_df[\"cluster\"]))\n",
    "\n",
    "# Función para mapear clústeres a cada fila\n",
    "def map_skill_clusters(skill_list):\n",
    "    if not isinstance(skill_list, str):\n",
    "        return []\n",
    "    skills = [s.strip().lower() for s in skill_list.split(\",\")]\n",
    "    return [skill_to_cluster.get(s) for s in skills if skill_to_cluster.get(s) is not None]\n",
    "\n",
    "combined_df[\"skill_clusters\"] = combined_df[\"skills_extraidas\"].apply(map_skill_clusters)\n"
   ]
  },
  {
   "cell_type": "code",
   "execution_count": 122,
   "id": "92419a71",
   "metadata": {},
   "outputs": [
    {
     "data": {
      "text/html": [
       "<div>\n",
       "<style scoped>\n",
       "    .dataframe tbody tr th:only-of-type {\n",
       "        vertical-align: middle;\n",
       "    }\n",
       "\n",
       "    .dataframe tbody tr th {\n",
       "        vertical-align: top;\n",
       "    }\n",
       "\n",
       "    .dataframe thead th {\n",
       "        text-align: right;\n",
       "    }\n",
       "</style>\n",
       "<table border=\"1\" class=\"dataframe\">\n",
       "  <thead>\n",
       "    <tr style=\"text-align: right;\">\n",
       "      <th></th>\n",
       "      <th>Cluster</th>\n",
       "      <th>N_skills</th>\n",
       "      <th>Top_skills</th>\n",
       "    </tr>\n",
       "  </thead>\n",
       "  <tbody>\n",
       "    <tr>\n",
       "      <th>0</th>\n",
       "      <td>3</td>\n",
       "      <td>5</td>\n",
       "      <td>science, chemistry, biology, mathematics, physics</td>\n",
       "    </tr>\n",
       "    <tr>\n",
       "      <th>1</th>\n",
       "      <td>5</td>\n",
       "      <td>3</td>\n",
       "      <td>mechanical, education and training, engineerin...</td>\n",
       "    </tr>\n",
       "    <tr>\n",
       "      <th>2</th>\n",
       "      <td>13</td>\n",
       "      <td>3</td>\n",
       "      <td>active listening, learning strategies, active ...</td>\n",
       "    </tr>\n",
       "    <tr>\n",
       "      <th>3</th>\n",
       "      <td>26</td>\n",
       "      <td>3</td>\n",
       "      <td>design, technology design, building and constr...</td>\n",
       "    </tr>\n",
       "    <tr>\n",
       "      <th>4</th>\n",
       "      <td>18</td>\n",
       "      <td>2</td>\n",
       "      <td>english language, foreign language</td>\n",
       "    </tr>\n",
       "    <tr>\n",
       "      <th>5</th>\n",
       "      <td>1</td>\n",
       "      <td>2</td>\n",
       "      <td>writing, reading comprehension</td>\n",
       "    </tr>\n",
       "    <tr>\n",
       "      <th>6</th>\n",
       "      <td>16</td>\n",
       "      <td>2</td>\n",
       "      <td>psychology, therapy and counseling</td>\n",
       "    </tr>\n",
       "    <tr>\n",
       "      <th>7</th>\n",
       "      <td>15</td>\n",
       "      <td>2</td>\n",
       "      <td>telecommunications, communications and media</td>\n",
       "    </tr>\n",
       "    <tr>\n",
       "      <th>8</th>\n",
       "      <td>12</td>\n",
       "      <td>2</td>\n",
       "      <td>monitoring, operations monitoring</td>\n",
       "    </tr>\n",
       "    <tr>\n",
       "      <th>9</th>\n",
       "      <td>11</td>\n",
       "      <td>2</td>\n",
       "      <td>food production, production and processing</td>\n",
       "    </tr>\n",
       "    <tr>\n",
       "      <th>10</th>\n",
       "      <td>9</td>\n",
       "      <td>2</td>\n",
       "      <td>administrative, administration and management</td>\n",
       "    </tr>\n",
       "    <tr>\n",
       "      <th>11</th>\n",
       "      <td>31</td>\n",
       "      <td>2</td>\n",
       "      <td>sales and marketing, economics and accounting</td>\n",
       "    </tr>\n",
       "    <tr>\n",
       "      <th>12</th>\n",
       "      <td>17</td>\n",
       "      <td>2</td>\n",
       "      <td>repairing, equipment maintenance</td>\n",
       "    </tr>\n",
       "    <tr>\n",
       "      <th>13</th>\n",
       "      <td>21</td>\n",
       "      <td>2</td>\n",
       "      <td>systems analysis, systems evaluation</td>\n",
       "    </tr>\n",
       "    <tr>\n",
       "      <th>14</th>\n",
       "      <td>0</td>\n",
       "      <td>1</td>\n",
       "      <td>equipment selection</td>\n",
       "    </tr>\n",
       "    <tr>\n",
       "      <th>15</th>\n",
       "      <td>2</td>\n",
       "      <td>1</td>\n",
       "      <td>transportation</td>\n",
       "    </tr>\n",
       "    <tr>\n",
       "      <th>16</th>\n",
       "      <td>4</td>\n",
       "      <td>1</td>\n",
       "      <td>time management</td>\n",
       "    </tr>\n",
       "    <tr>\n",
       "      <th>17</th>\n",
       "      <td>10</td>\n",
       "      <td>1</td>\n",
       "      <td>installation</td>\n",
       "    </tr>\n",
       "    <tr>\n",
       "      <th>18</th>\n",
       "      <td>6</td>\n",
       "      <td>1</td>\n",
       "      <td>operations analysis</td>\n",
       "    </tr>\n",
       "    <tr>\n",
       "      <th>19</th>\n",
       "      <td>14</td>\n",
       "      <td>1</td>\n",
       "      <td>judgment and decision making</td>\n",
       "    </tr>\n",
       "    <tr>\n",
       "      <th>20</th>\n",
       "      <td>7</td>\n",
       "      <td>1</td>\n",
       "      <td>coordination</td>\n",
       "    </tr>\n",
       "    <tr>\n",
       "      <th>21</th>\n",
       "      <td>8</td>\n",
       "      <td>1</td>\n",
       "      <td>negotiation</td>\n",
       "    </tr>\n",
       "    <tr>\n",
       "      <th>22</th>\n",
       "      <td>20</td>\n",
       "      <td>1</td>\n",
       "      <td>persuasion</td>\n",
       "    </tr>\n",
       "    <tr>\n",
       "      <th>23</th>\n",
       "      <td>22</td>\n",
       "      <td>1</td>\n",
       "      <td>fine arts</td>\n",
       "    </tr>\n",
       "    <tr>\n",
       "      <th>24</th>\n",
       "      <td>23</td>\n",
       "      <td>1</td>\n",
       "      <td>public safety and security</td>\n",
       "    </tr>\n",
       "    <tr>\n",
       "      <th>25</th>\n",
       "      <td>24</td>\n",
       "      <td>1</td>\n",
       "      <td>social perceptiveness</td>\n",
       "    </tr>\n",
       "    <tr>\n",
       "      <th>26</th>\n",
       "      <td>19</td>\n",
       "      <td>1</td>\n",
       "      <td>service orientation</td>\n",
       "    </tr>\n",
       "    <tr>\n",
       "      <th>27</th>\n",
       "      <td>25</td>\n",
       "      <td>1</td>\n",
       "      <td>critical thinking</td>\n",
       "    </tr>\n",
       "    <tr>\n",
       "      <th>28</th>\n",
       "      <td>27</td>\n",
       "      <td>1</td>\n",
       "      <td>quality control analysis</td>\n",
       "    </tr>\n",
       "    <tr>\n",
       "      <th>29</th>\n",
       "      <td>29</td>\n",
       "      <td>1</td>\n",
       "      <td>troubleshooting</td>\n",
       "    </tr>\n",
       "    <tr>\n",
       "      <th>30</th>\n",
       "      <td>28</td>\n",
       "      <td>1</td>\n",
       "      <td>speaking</td>\n",
       "    </tr>\n",
       "    <tr>\n",
       "      <th>31</th>\n",
       "      <td>30</td>\n",
       "      <td>1</td>\n",
       "      <td>geography</td>\n",
       "    </tr>\n",
       "    <tr>\n",
       "      <th>32</th>\n",
       "      <td>32</td>\n",
       "      <td>1</td>\n",
       "      <td>complex problem solving</td>\n",
       "    </tr>\n",
       "    <tr>\n",
       "      <th>33</th>\n",
       "      <td>33</td>\n",
       "      <td>1</td>\n",
       "      <td>programming</td>\n",
       "    </tr>\n",
       "    <tr>\n",
       "      <th>34</th>\n",
       "      <td>34</td>\n",
       "      <td>1</td>\n",
       "      <td>instructing</td>\n",
       "    </tr>\n",
       "  </tbody>\n",
       "</table>\n",
       "</div>"
      ],
      "text/plain": [
       "    Cluster  N_skills                                         Top_skills\n",
       "0         3         5  science, chemistry, biology, mathematics, physics\n",
       "1         5         3  mechanical, education and training, engineerin...\n",
       "2        13         3  active listening, learning strategies, active ...\n",
       "3        26         3  design, technology design, building and constr...\n",
       "4        18         2                 english language, foreign language\n",
       "5         1         2                     writing, reading comprehension\n",
       "6        16         2                 psychology, therapy and counseling\n",
       "7        15         2       telecommunications, communications and media\n",
       "8        12         2                  monitoring, operations monitoring\n",
       "9        11         2         food production, production and processing\n",
       "10        9         2      administrative, administration and management\n",
       "11       31         2      sales and marketing, economics and accounting\n",
       "12       17         2                   repairing, equipment maintenance\n",
       "13       21         2               systems analysis, systems evaluation\n",
       "14        0         1                                equipment selection\n",
       "15        2         1                                     transportation\n",
       "16        4         1                                    time management\n",
       "17       10         1                                       installation\n",
       "18        6         1                                operations analysis\n",
       "19       14         1                       judgment and decision making\n",
       "20        7         1                                       coordination\n",
       "21        8         1                                        negotiation\n",
       "22       20         1                                         persuasion\n",
       "23       22         1                                          fine arts\n",
       "24       23         1                         public safety and security\n",
       "25       24         1                              social perceptiveness\n",
       "26       19         1                                service orientation\n",
       "27       25         1                                  critical thinking\n",
       "28       27         1                           quality control analysis\n",
       "29       29         1                                    troubleshooting\n",
       "30       28         1                                           speaking\n",
       "31       30         1                                          geography\n",
       "32       32         1                            complex problem solving\n",
       "33       33         1                                        programming\n",
       "34       34         1                                        instructing"
      ]
     },
     "execution_count": 122,
     "metadata": {},
     "output_type": "execute_result"
    }
   ],
   "source": [
    "import pandas as pd\n",
    "from collections import Counter\n",
    "import matplotlib.pyplot as plt\n",
    "import seaborn as sns\n",
    "\n",
    "# Contar las habilidades por clúster de habilidades\n",
    "skill_counts = skill_cluster_df.groupby(\"cluster\")[\"skill\"].apply(list).reset_index()\n",
    "skill_counts[\"n_skills\"] = skill_counts[\"skill\"].apply(len)\n",
    "\n",
    "# Mostrar las 5 primeras filas como ejemplo\n",
    "skill_counts_sorted = skill_counts.sort_values(\"n_skills\", ascending=False)\n",
    "\n",
    "# Crear una tabla visual de los top skills por cluster\n",
    "top_skills_per_cluster = []\n",
    "for i, row in skill_counts_sorted.iterrows():\n",
    "    cluster_id = row[\"cluster\"]\n",
    "    skills = row[\"skill\"]\n",
    "    top_skills = \", \".join(skills[:10])  # Mostrar solo las 10 primeras\n",
    "    top_skills_per_cluster.append((cluster_id, len(skills), top_skills))\n",
    "\n",
    "# Convertir a DataFrame\n",
    "top_skills_df = pd.DataFrame(top_skills_per_cluster, columns=[\"Cluster\", \"N_skills\", \"Top_skills\"])\n",
    "top_skills_df\n"
   ]
  },
  {
   "cell_type": "code",
   "execution_count": 123,
   "id": "f7bb564e",
   "metadata": {},
   "outputs": [
    {
     "data": {
      "text/plain": [
       "'service orientation'"
      ]
     },
     "execution_count": 123,
     "metadata": {},
     "output_type": "execute_result"
    }
   ],
   "source": [
    "top_skills_df[\"Top_skills\"][26]"
   ]
  },
  {
   "cell_type": "markdown",
   "id": "761dbf23",
   "metadata": {},
   "source": [
    "✅ 5. Analizar por clúster de ofertas"
   ]
  },
  {
   "cell_type": "code",
   "execution_count": 124,
   "id": "a56c4775",
   "metadata": {},
   "outputs": [
    {
     "name": "stdout",
     "output_type": "stream",
     "text": [
      "\n",
      "🟦 Clúster de ofertas 0:\n",
      " - Skill Cluster 26: 13843 ocurrencias\n",
      " - Skill Cluster 2: 8273 ocurrencias\n",
      " - Skill Cluster 5: 29 ocurrencias\n",
      " - Skill Cluster 1: 13 ocurrencias\n",
      " - Skill Cluster 7: 9 ocurrencias\n",
      " - Skill Cluster 29: 6 ocurrencias\n",
      " - Skill Cluster 3: 4 ocurrencias\n",
      " - Skill Cluster 10: 4 ocurrencias\n",
      " - Skill Cluster 25: 4 ocurrencias\n",
      " - Skill Cluster 12: 4 ocurrencias\n",
      " - Skill Cluster 33: 2 ocurrencias\n",
      "\n",
      "🟦 Clúster de ofertas 1:\n",
      " - Skill Cluster 8: 38018 ocurrencias\n",
      " - Skill Cluster 2: 8466 ocurrencias\n",
      " - Skill Cluster 4: 8 ocurrencias\n",
      " - Skill Cluster 12: 5 ocurrencias\n",
      " - Skill Cluster 7: 4 ocurrencias\n",
      " - Skill Cluster 1: 3 ocurrencias\n",
      " - Skill Cluster 25: 2 ocurrencias\n",
      " - Skill Cluster 3: 2 ocurrencias\n",
      "\n",
      "🟦 Clúster de ofertas 2:\n",
      " - Skill Cluster 8: 14213 ocurrencias\n",
      " - Skill Cluster 2: 9182 ocurrencias\n",
      " - Skill Cluster 20: 470 ocurrencias\n",
      " - Skill Cluster 31: 313 ocurrencias\n",
      " - Skill Cluster 4: 233 ocurrencias\n",
      " - Skill Cluster 9: 197 ocurrencias\n",
      " - Skill Cluster 26: 161 ocurrencias\n",
      " - Skill Cluster 12: 147 ocurrencias\n",
      " - Skill Cluster 7: 138 ocurrencias\n",
      " - Skill Cluster 28: 109 ocurrencias\n",
      " - Skill Cluster 1: 106 ocurrencias\n",
      " - Skill Cluster 3: 102 ocurrencias\n",
      " - Skill Cluster 10: 51 ocurrencias\n",
      " - Skill Cluster 15: 47 ocurrencias\n",
      " - Skill Cluster 25: 34 ocurrencias\n",
      " - Skill Cluster 30: 30 ocurrencias\n",
      " - Skill Cluster 5: 28 ocurrencias\n",
      " - Skill Cluster 13: 19 ocurrencias\n",
      " - Skill Cluster 33: 18 ocurrencias\n",
      " - Skill Cluster 29: 12 ocurrencias\n",
      " - Skill Cluster 18: 10 ocurrencias\n",
      " - Skill Cluster 19: 9 ocurrencias\n",
      " - Skill Cluster 24: 4 ocurrencias\n",
      " - Skill Cluster 11: 2 ocurrencias\n",
      " - Skill Cluster 0: 2 ocurrencias\n",
      "\n",
      "🟦 Clúster de ofertas 3:\n",
      " - Skill Cluster 1: 10373 ocurrencias\n",
      " - Skill Cluster 2: 7012 ocurrencias\n",
      " - Skill Cluster 26: 6899 ocurrencias\n",
      " - Skill Cluster 33: 6 ocurrencias\n",
      " - Skill Cluster 18: 3 ocurrencias\n",
      " - Skill Cluster 32: 3 ocurrencias\n",
      " - Skill Cluster 29: 3 ocurrencias\n",
      " - Skill Cluster 12: 2 ocurrencias\n",
      "\n",
      "🟦 Clúster de ofertas 4:\n",
      " - Skill Cluster 2: 13850 ocurrencias\n",
      " - Skill Cluster 12: 3547 ocurrencias\n",
      " - Skill Cluster 3: 58 ocurrencias\n",
      " - Skill Cluster 9: 44 ocurrencias\n",
      " - Skill Cluster 4: 37 ocurrencias\n",
      " - Skill Cluster 7: 27 ocurrencias\n",
      " - Skill Cluster 1: 22 ocurrencias\n",
      " - Skill Cluster 26: 15 ocurrencias\n",
      " - Skill Cluster 25: 8 ocurrencias\n",
      " - Skill Cluster 28: 6 ocurrencias\n",
      " - Skill Cluster 8: 6 ocurrencias\n",
      " - Skill Cluster 29: 6 ocurrencias\n",
      " - Skill Cluster 33: 1 ocurrencias\n",
      "\n",
      "🟦 Clúster de ofertas 5:\n",
      " - Skill Cluster 29: 52479 ocurrencias\n",
      " - Skill Cluster 26: 27891 ocurrencias\n",
      " - Skill Cluster 2: 17319 ocurrencias\n",
      " - Skill Cluster 21: 7050 ocurrencias\n",
      " - Skill Cluster 1: 6985 ocurrencias\n",
      " - Skill Cluster 12: 3745 ocurrencias\n",
      " - Skill Cluster 33: 3486 ocurrencias\n",
      " - Skill Cluster 3: 196 ocurrencias\n",
      " - Skill Cluster 10: 195 ocurrencias\n",
      " - Skill Cluster 7: 97 ocurrencias\n",
      " - Skill Cluster 9: 70 ocurrencias\n",
      " - Skill Cluster 5: 17 ocurrencias\n",
      " - Skill Cluster 15: 16 ocurrencias\n",
      " - Skill Cluster 4: 13 ocurrencias\n",
      " - Skill Cluster 17: 10 ocurrencias\n",
      " - Skill Cluster 30: 9 ocurrencias\n",
      " - Skill Cluster 8: 8 ocurrencias\n",
      " - Skill Cluster 25: 8 ocurrencias\n",
      " - Skill Cluster 28: 4 ocurrencias\n",
      " - Skill Cluster 13: 3 ocurrencias\n",
      " - Skill Cluster 19: 2 ocurrencias\n",
      "\n",
      "🟦 Clúster de ofertas 6:\n",
      " - Skill Cluster 2: 4935 ocurrencias\n",
      " - Skill Cluster 28: 70 ocurrencias\n",
      " - Skill Cluster 26: 55 ocurrencias\n",
      " - Skill Cluster 3: 31 ocurrencias\n",
      " - Skill Cluster 29: 30 ocurrencias\n",
      " - Skill Cluster 1: 23 ocurrencias\n",
      " - Skill Cluster 12: 18 ocurrencias\n",
      " - Skill Cluster 10: 8 ocurrencias\n",
      " - Skill Cluster 9: 6 ocurrencias\n",
      " - Skill Cluster 7: 6 ocurrencias\n",
      " - Skill Cluster 33: 3 ocurrencias\n",
      " - Skill Cluster 4: 3 ocurrencias\n",
      " - Skill Cluster 15: 3 ocurrencias\n",
      " - Skill Cluster 6: 2 ocurrencias\n",
      "\n",
      "🟦 Clúster de ofertas 7:\n",
      " - Skill Cluster 26: 21206 ocurrencias\n",
      " - Skill Cluster 2: 4071 ocurrencias\n",
      " - Skill Cluster 4: 40 ocurrencias\n",
      " - Skill Cluster 22: 15 ocurrencias\n",
      " - Skill Cluster 31: 6 ocurrencias\n",
      "\n",
      "🟦 Clúster de ofertas 8:\n",
      " - Skill Cluster 2: 4131 ocurrencias\n",
      " - Skill Cluster 8: 3509 ocurrencias\n",
      " - Skill Cluster 12: 6 ocurrencias\n",
      " - Skill Cluster 5: 3 ocurrencias\n",
      " - Skill Cluster 4: 2 ocurrencias\n",
      " - Skill Cluster 9: 1 ocurrencias\n",
      " - Skill Cluster 3: 1 ocurrencias\n",
      "\n",
      "🟦 Clúster de ofertas 9:\n",
      " - Skill Cluster 2: 20197 ocurrencias\n",
      " - Skill Cluster 26: 7215 ocurrencias\n",
      " - Skill Cluster 12: 6995 ocurrencias\n",
      " - Skill Cluster 1: 3761 ocurrencias\n",
      " - Skill Cluster 29: 3381 ocurrencias\n",
      " - Skill Cluster 31: 208 ocurrencias\n",
      " - Skill Cluster 3: 149 ocurrencias\n",
      " - Skill Cluster 4: 69 ocurrencias\n",
      " - Skill Cluster 7: 46 ocurrencias\n",
      " - Skill Cluster 18: 25 ocurrencias\n",
      " - Skill Cluster 9: 24 ocurrencias\n",
      " - Skill Cluster 33: 22 ocurrencias\n",
      " - Skill Cluster 25: 20 ocurrencias\n",
      " - Skill Cluster 28: 10 ocurrencias\n",
      " - Skill Cluster 15: 8 ocurrencias\n",
      " - Skill Cluster 8: 2 ocurrencias\n",
      "\n",
      "🟦 Clúster de ofertas 10:\n",
      " - Skill Cluster 9: 41898 ocurrencias\n",
      " - Skill Cluster 4: 27792 ocurrencias\n",
      " - Skill Cluster 7: 17569 ocurrencias\n",
      " - Skill Cluster 2: 8436 ocurrencias\n",
      " - Skill Cluster 26: 14 ocurrencias\n",
      " - Skill Cluster 1: 9 ocurrencias\n",
      " - Skill Cluster 25: 7 ocurrencias\n",
      " - Skill Cluster 12: 6 ocurrencias\n",
      " - Skill Cluster 31: 1 ocurrencias\n",
      "\n",
      "🟦 Clúster de ofertas 11:\n",
      " - Skill Cluster 2: 8354 ocurrencias\n",
      " - Skill Cluster 29: 6926 ocurrencias\n",
      " - Skill Cluster 25: 3455 ocurrencias\n",
      " - Skill Cluster 3: 28 ocurrencias\n",
      " - Skill Cluster 28: 24 ocurrencias\n",
      " - Skill Cluster 10: 24 ocurrencias\n",
      " - Skill Cluster 8: 23 ocurrencias\n",
      " - Skill Cluster 4: 23 ocurrencias\n",
      " - Skill Cluster 9: 20 ocurrencias\n",
      " - Skill Cluster 13: 18 ocurrencias\n",
      " - Skill Cluster 26: 18 ocurrencias\n",
      " - Skill Cluster 1: 11 ocurrencias\n",
      " - Skill Cluster 12: 11 ocurrencias\n",
      " - Skill Cluster 33: 8 ocurrencias\n",
      " - Skill Cluster 7: 7 ocurrencias\n",
      " - Skill Cluster 5: 7 ocurrencias\n",
      " - Skill Cluster 17: 3 ocurrencias\n",
      " - Skill Cluster 31: 2 ocurrencias\n",
      " - Skill Cluster 18: 1 ocurrencias\n",
      "\n",
      "🟦 Clúster de ofertas 12:\n",
      " - Skill Cluster 26: 17184 ocurrencias\n",
      " - Skill Cluster 1: 13698 ocurrencias\n",
      " - Skill Cluster 2: 8981 ocurrencias\n",
      " - Skill Cluster 7: 3492 ocurrencias\n",
      " - Skill Cluster 3: 10 ocurrencias\n",
      " - Skill Cluster 31: 8 ocurrencias\n",
      " - Skill Cluster 16: 6 ocurrencias\n",
      " - Skill Cluster 9: 2 ocurrencias\n",
      "\n",
      "🟦 Clúster de ofertas 13:\n",
      " - Skill Cluster 26: 14101 ocurrencias\n",
      " - Skill Cluster 2: 8499 ocurrencias\n",
      " - Skill Cluster 33: 7085 ocurrencias\n",
      " - Skill Cluster 12: 3484 ocurrencias\n",
      " - Skill Cluster 3: 96 ocurrencias\n",
      " - Skill Cluster 7: 58 ocurrencias\n",
      " - Skill Cluster 1: 49 ocurrencias\n",
      " - Skill Cluster 29: 30 ocurrencias\n",
      " - Skill Cluster 23: 28 ocurrencias\n",
      " - Skill Cluster 5: 15 ocurrencias\n",
      " - Skill Cluster 8: 2 ocurrencias\n",
      " - Skill Cluster 15: 2 ocurrencias\n",
      " - Skill Cluster 4: 2 ocurrencias\n",
      " - Skill Cluster 17: 1 ocurrencias\n",
      "\n",
      "🟦 Clúster de ofertas 14:\n",
      " - Skill Cluster 2: 19453 ocurrencias\n",
      " - Skill Cluster 7: 10272 ocurrencias\n",
      " - Skill Cluster 26: 43 ocurrencias\n",
      " - Skill Cluster 8: 25 ocurrencias\n",
      " - Skill Cluster 3: 10 ocurrencias\n",
      " - Skill Cluster 12: 8 ocurrencias\n",
      " - Skill Cluster 25: 8 ocurrencias\n",
      " - Skill Cluster 4: 7 ocurrencias\n",
      " - Skill Cluster 31: 5 ocurrencias\n",
      " - Skill Cluster 9: 5 ocurrencias\n",
      " - Skill Cluster 33: 2 ocurrencias\n",
      " - Skill Cluster 10: 2 ocurrencias\n",
      " - Skill Cluster 1: 1 ocurrencias\n",
      "\n",
      "🟦 Clúster de ofertas 15:\n",
      " - Skill Cluster 26: 17586 ocurrencias\n",
      " - Skill Cluster 1: 13848 ocurrencias\n",
      " - Skill Cluster 2: 11809 ocurrencias\n",
      " - Skill Cluster 25: 10343 ocurrencias\n",
      " - Skill Cluster 3: 7240 ocurrencias\n",
      " - Skill Cluster 33: 7167 ocurrencias\n",
      " - Skill Cluster 16: 3321 ocurrencias\n",
      " - Skill Cluster 29: 85 ocurrencias\n",
      " - Skill Cluster 12: 48 ocurrencias\n",
      " - Skill Cluster 9: 32 ocurrencias\n",
      " - Skill Cluster 4: 22 ocurrencias\n",
      " - Skill Cluster 7: 12 ocurrencias\n",
      " - Skill Cluster 10: 11 ocurrencias\n",
      " - Skill Cluster 30: 10 ocurrencias\n",
      " - Skill Cluster 15: 9 ocurrencias\n",
      " - Skill Cluster 13: 1 ocurrencias\n",
      " - Skill Cluster 31: 1 ocurrencias\n",
      "\n",
      "🟦 Clúster de ofertas 16:\n",
      " - Skill Cluster 26: 31357 ocurrencias\n",
      " - Skill Cluster 2: 7556 ocurrencias\n",
      " - Skill Cluster 33: 3568 ocurrencias\n",
      " - Skill Cluster 29: 3558 ocurrencias\n",
      " - Skill Cluster 3: 5 ocurrencias\n",
      " - Skill Cluster 7: 4 ocurrencias\n",
      " - Skill Cluster 1: 2 ocurrencias\n",
      "\n",
      "🟦 Clúster de ofertas 17:\n",
      " - Skill Cluster 2: 6086 ocurrencias\n",
      " - Skill Cluster 9: 3647 ocurrencias\n",
      " - Skill Cluster 26: 64 ocurrencias\n",
      " - Skill Cluster 1: 41 ocurrencias\n",
      " - Skill Cluster 4: 40 ocurrencias\n",
      " - Skill Cluster 8: 37 ocurrencias\n",
      " - Skill Cluster 7: 31 ocurrencias\n",
      " - Skill Cluster 25: 28 ocurrencias\n",
      " - Skill Cluster 33: 13 ocurrencias\n",
      " - Skill Cluster 12: 8 ocurrencias\n",
      " - Skill Cluster 28: 8 ocurrencias\n",
      " - Skill Cluster 16: 7 ocurrencias\n",
      " - Skill Cluster 3: 4 ocurrencias\n",
      " - Skill Cluster 5: 3 ocurrencias\n",
      " - Skill Cluster 19: 2 ocurrencias\n",
      " - Skill Cluster 13: 2 ocurrencias\n",
      " - Skill Cluster 29: 1 ocurrencias\n",
      "\n",
      "🟦 Clúster de ofertas 18:\n",
      " - Skill Cluster 16: 13875 ocurrencias\n",
      " - Skill Cluster 2: 10432 ocurrencias\n",
      " - Skill Cluster 13: 6917 ocurrencias\n",
      " - Skill Cluster 7: 3620 ocurrencias\n",
      " - Skill Cluster 9: 67 ocurrencias\n",
      " - Skill Cluster 3: 16 ocurrencias\n",
      " - Skill Cluster 12: 9 ocurrencias\n",
      " - Skill Cluster 26: 7 ocurrencias\n",
      " - Skill Cluster 4: 5 ocurrencias\n",
      " - Skill Cluster 18: 4 ocurrencias\n",
      " - Skill Cluster 33: 2 ocurrencias\n",
      " - Skill Cluster 1: 1 ocurrencias\n",
      " - Skill Cluster 34: 1 ocurrencias\n",
      " - Skill Cluster 25: 1 ocurrencias\n",
      "\n",
      "🟦 Clúster de ofertas 19:\n",
      " - Skill Cluster 26: 41773 ocurrencias\n",
      " - Skill Cluster 2: 9095 ocurrencias\n",
      " - Skill Cluster 0: 3575 ocurrencias\n",
      " - Skill Cluster 3: 3 ocurrencias\n",
      "\n",
      "🟦 Clúster de ofertas 20:\n",
      " - Skill Cluster 26: 27674 ocurrencias\n",
      " - Skill Cluster 2: 9772 ocurrencias\n",
      " - Skill Cluster 1: 3483 ocurrencias\n",
      " - Skill Cluster 7: 3393 ocurrencias\n",
      " - Skill Cluster 3: 52 ocurrencias\n",
      " - Skill Cluster 5: 12 ocurrencias\n",
      " - Skill Cluster 12: 11 ocurrencias\n",
      " - Skill Cluster 25: 4 ocurrencias\n",
      " - Skill Cluster 9: 2 ocurrencias\n",
      " - Skill Cluster 4: 1 ocurrencias\n",
      "\n",
      "🟦 Clúster de ofertas 21:\n",
      " - Skill Cluster 26: 38036 ocurrencias\n",
      " - Skill Cluster 16: 20583 ocurrencias\n",
      " - Skill Cluster 2: 7614 ocurrencias\n",
      "\n",
      "🟦 Clúster de ofertas 22:\n",
      " - Skill Cluster 7: 6972 ocurrencias\n",
      " - Skill Cluster 2: 4917 ocurrencias\n",
      " - Skill Cluster 3: 76 ocurrencias\n",
      " - Skill Cluster 12: 71 ocurrencias\n",
      " - Skill Cluster 25: 43 ocurrencias\n",
      " - Skill Cluster 9: 32 ocurrencias\n",
      " - Skill Cluster 5: 15 ocurrencias\n",
      " - Skill Cluster 28: 10 ocurrencias\n",
      " - Skill Cluster 33: 9 ocurrencias\n",
      " - Skill Cluster 26: 7 ocurrencias\n",
      " - Skill Cluster 8: 7 ocurrencias\n",
      " - Skill Cluster 18: 7 ocurrencias\n",
      " - Skill Cluster 19: 5 ocurrencias\n",
      " - Skill Cluster 1: 4 ocurrencias\n",
      " - Skill Cluster 13: 3 ocurrencias\n",
      " - Skill Cluster 31: 1 ocurrencias\n",
      " - Skill Cluster 10: 1 ocurrencias\n",
      " - Skill Cluster 4: 1 ocurrencias\n",
      "\n",
      "🟦 Clúster de ofertas 23:\n",
      " - Skill Cluster 7: 34678 ocurrencias\n",
      " - Skill Cluster 9: 10400 ocurrencias\n",
      " - Skill Cluster 2: 7545 ocurrencias\n",
      " - Skill Cluster 8: 6860 ocurrencias\n",
      " - Skill Cluster 26: 24 ocurrencias\n",
      " - Skill Cluster 4: 14 ocurrencias\n",
      " - Skill Cluster 12: 14 ocurrencias\n",
      " - Skill Cluster 33: 8 ocurrencias\n",
      " - Skill Cluster 1: 3 ocurrencias\n",
      " - Skill Cluster 31: 3 ocurrencias\n",
      " - Skill Cluster 29: 1 ocurrencias\n",
      "\n",
      "🟦 Clúster de ofertas 24:\n",
      " - Skill Cluster 2: 5475 ocurrencias\n",
      " - Skill Cluster 4: 36 ocurrencias\n",
      " - Skill Cluster 33: 24 ocurrencias\n",
      " - Skill Cluster 26: 20 ocurrencias\n",
      " - Skill Cluster 9: 16 ocurrencias\n",
      " - Skill Cluster 12: 14 ocurrencias\n",
      " - Skill Cluster 19: 10 ocurrencias\n",
      " - Skill Cluster 25: 6 ocurrencias\n",
      " - Skill Cluster 3: 5 ocurrencias\n",
      " - Skill Cluster 30: 4 ocurrencias\n",
      " - Skill Cluster 28: 3 ocurrencias\n",
      " - Skill Cluster 7: 2 ocurrencias\n",
      " - Skill Cluster 29: 2 ocurrencias\n",
      "\n",
      "🟦 Clúster de ofertas 25:\n",
      " - Skill Cluster 7: 10688 ocurrencias\n",
      " - Skill Cluster 26: 7251 ocurrencias\n",
      " - Skill Cluster 8: 3500 ocurrencias\n",
      " - Skill Cluster 2: 2772 ocurrencias\n",
      " - Skill Cluster 5: 129 ocurrencias\n",
      " - Skill Cluster 10: 117 ocurrencias\n",
      " - Skill Cluster 12: 99 ocurrencias\n",
      " - Skill Cluster 9: 86 ocurrencias\n",
      " - Skill Cluster 4: 56 ocurrencias\n",
      " - Skill Cluster 1: 33 ocurrencias\n",
      " - Skill Cluster 19: 33 ocurrencias\n",
      " - Skill Cluster 29: 32 ocurrencias\n",
      " - Skill Cluster 20: 30 ocurrencias\n",
      " - Skill Cluster 28: 20 ocurrencias\n",
      " - Skill Cluster 15: 20 ocurrencias\n",
      " - Skill Cluster 3: 16 ocurrencias\n",
      " - Skill Cluster 17: 12 ocurrencias\n",
      " - Skill Cluster 34: 6 ocurrencias\n",
      " - Skill Cluster 13: 4 ocurrencias\n",
      " - Skill Cluster 18: 4 ocurrencias\n",
      " - Skill Cluster 30: 2 ocurrencias\n",
      "\n",
      "🟦 Clúster de ofertas 26:\n",
      " - Skill Cluster 12: 7314 ocurrencias\n",
      " - Skill Cluster 2: 5722 ocurrencias\n",
      " - Skill Cluster 26: 4127 ocurrencias\n",
      " - Skill Cluster 4: 3605 ocurrencias\n",
      " - Skill Cluster 1: 3556 ocurrencias\n",
      " - Skill Cluster 7: 240 ocurrencias\n",
      " - Skill Cluster 3: 216 ocurrencias\n",
      " - Skill Cluster 10: 136 ocurrencias\n",
      " - Skill Cluster 8: 132 ocurrencias\n",
      " - Skill Cluster 9: 113 ocurrencias\n",
      " - Skill Cluster 5: 57 ocurrencias\n",
      " - Skill Cluster 25: 35 ocurrencias\n",
      " - Skill Cluster 33: 25 ocurrencias\n",
      " - Skill Cluster 29: 19 ocurrencias\n",
      " - Skill Cluster 21: 18 ocurrencias\n",
      " - Skill Cluster 28: 17 ocurrencias\n",
      " - Skill Cluster 31: 10 ocurrencias\n",
      " - Skill Cluster 17: 6 ocurrencias\n",
      " - Skill Cluster 0: 3 ocurrencias\n",
      " - Skill Cluster 30: 2 ocurrencias\n",
      " - Skill Cluster 19: 1 ocurrencias\n",
      " - Skill Cluster 13: 1 ocurrencias\n",
      "\n",
      "🟦 Clúster de ofertas 27:\n",
      " - Skill Cluster 26: 27961 ocurrencias\n",
      " - Skill Cluster 33: 24328 ocurrencias\n",
      " - Skill Cluster 2: 13221 ocurrencias\n",
      " - Skill Cluster 29: 10521 ocurrencias\n",
      " - Skill Cluster 9: 6988 ocurrencias\n",
      " - Skill Cluster 4: 6988 ocurrencias\n",
      " - Skill Cluster 12: 3469 ocurrencias\n",
      " - Skill Cluster 3: 43 ocurrencias\n",
      " - Skill Cluster 1: 8 ocurrencias\n",
      " - Skill Cluster 10: 3 ocurrencias\n",
      " - Skill Cluster 21: 1 ocurrencias\n",
      "\n",
      "🟦 Clúster de ofertas 28:\n",
      " - Skill Cluster 29: 31510 ocurrencias\n",
      " - Skill Cluster 12: 7092 ocurrencias\n",
      " - Skill Cluster 26: 7041 ocurrencias\n",
      " - Skill Cluster 2: 6290 ocurrencias\n",
      " - Skill Cluster 3: 29 ocurrencias\n",
      " - Skill Cluster 10: 16 ocurrencias\n",
      " - Skill Cluster 15: 3 ocurrencias\n",
      " - Skill Cluster 17: 1 ocurrencias\n",
      " - Skill Cluster 1: 1 ocurrencias\n",
      " - Skill Cluster 7: 1 ocurrencias\n",
      "\n",
      "🟦 Clúster de ofertas 29:\n",
      " - Skill Cluster 2: 6310 ocurrencias\n",
      " - Skill Cluster 26: 40 ocurrencias\n",
      " - Skill Cluster 1: 25 ocurrencias\n",
      " - Skill Cluster 4: 24 ocurrencias\n",
      " - Skill Cluster 12: 12 ocurrencias\n",
      " - Skill Cluster 7: 9 ocurrencias\n",
      " - Skill Cluster 28: 8 ocurrencias\n",
      " - Skill Cluster 25: 6 ocurrencias\n",
      " - Skill Cluster 33: 2 ocurrencias\n",
      " - Skill Cluster 8: 2 ocurrencias\n",
      " - Skill Cluster 9: 2 ocurrencias\n",
      "\n",
      "🟦 Clúster de ofertas 30:\n",
      " - Skill Cluster 26: 10539 ocurrencias\n",
      " - Skill Cluster 2: 8432 ocurrencias\n",
      " - Skill Cluster 5: 7095 ocurrencias\n",
      " - Skill Cluster 3: 3630 ocurrencias\n",
      " - Skill Cluster 29: 42 ocurrencias\n",
      " - Skill Cluster 12: 22 ocurrencias\n",
      " - Skill Cluster 7: 16 ocurrencias\n",
      " - Skill Cluster 1: 14 ocurrencias\n",
      " - Skill Cluster 28: 10 ocurrencias\n",
      " - Skill Cluster 18: 9 ocurrencias\n",
      " - Skill Cluster 4: 7 ocurrencias\n",
      " - Skill Cluster 33: 5 ocurrencias\n",
      " - Skill Cluster 10: 5 ocurrencias\n",
      " - Skill Cluster 25: 3 ocurrencias\n",
      " - Skill Cluster 8: 3 ocurrencias\n",
      "\n",
      "🟦 Clúster de ofertas 31:\n",
      " - Skill Cluster 26: 17299 ocurrencias\n",
      " - Skill Cluster 7: 13946 ocurrencias\n",
      " - Skill Cluster 2: 3429 ocurrencias\n",
      "\n",
      "🟦 Clúster de ofertas 32:\n",
      " - Skill Cluster 8: 27951 ocurrencias\n",
      " - Skill Cluster 2: 7767 ocurrencias\n",
      " - Skill Cluster 4: 49 ocurrencias\n",
      " - Skill Cluster 7: 45 ocurrencias\n",
      " - Skill Cluster 1: 36 ocurrencias\n",
      " - Skill Cluster 26: 25 ocurrencias\n",
      " - Skill Cluster 12: 22 ocurrencias\n",
      " - Skill Cluster 28: 18 ocurrencias\n",
      " - Skill Cluster 31: 11 ocurrencias\n",
      " - Skill Cluster 3: 10 ocurrencias\n",
      " - Skill Cluster 9: 6 ocurrencias\n",
      " - Skill Cluster 15: 6 ocurrencias\n",
      " - Skill Cluster 20: 6 ocurrencias\n",
      " - Skill Cluster 29: 3 ocurrencias\n",
      " - Skill Cluster 10: 2 ocurrencias\n",
      " - Skill Cluster 33: 2 ocurrencias\n",
      " - Skill Cluster 5: 2 ocurrencias\n",
      " - Skill Cluster 13: 1 ocurrencias\n",
      "\n",
      "🟦 Clúster de ofertas 33:\n",
      " - Skill Cluster 2: 12214 ocurrencias\n",
      " - Skill Cluster 9: 150 ocurrencias\n",
      " - Skill Cluster 12: 109 ocurrencias\n",
      " - Skill Cluster 7: 73 ocurrencias\n",
      " - Skill Cluster 3: 41 ocurrencias\n",
      " - Skill Cluster 28: 29 ocurrencias\n",
      " - Skill Cluster 25: 27 ocurrencias\n",
      " - Skill Cluster 26: 19 ocurrencias\n",
      " - Skill Cluster 5: 18 ocurrencias\n",
      " - Skill Cluster 4: 18 ocurrencias\n",
      " - Skill Cluster 1: 15 ocurrencias\n",
      " - Skill Cluster 13: 12 ocurrencias\n",
      " - Skill Cluster 18: 7 ocurrencias\n",
      " - Skill Cluster 19: 6 ocurrencias\n",
      " - Skill Cluster 14: 6 ocurrencias\n",
      " - Skill Cluster 33: 5 ocurrencias\n",
      " - Skill Cluster 34: 3 ocurrencias\n",
      " - Skill Cluster 31: 3 ocurrencias\n",
      " - Skill Cluster 16: 2 ocurrencias\n",
      " - Skill Cluster 29: 1 ocurrencias\n",
      " - Skill Cluster 10: 1 ocurrencias\n",
      "\n",
      "🟦 Clúster de ofertas 34:\n",
      " - Skill Cluster 26: 45669 ocurrencias\n",
      " - Skill Cluster 5: 21084 ocurrencias\n",
      " - Skill Cluster 2: 11940 ocurrencias\n",
      " - Skill Cluster 10: 3519 ocurrencias\n",
      " - Skill Cluster 29: 159 ocurrencias\n",
      " - Skill Cluster 33: 116 ocurrencias\n",
      " - Skill Cluster 3: 116 ocurrencias\n",
      " - Skill Cluster 1: 45 ocurrencias\n",
      " - Skill Cluster 7: 35 ocurrencias\n",
      " - Skill Cluster 0: 29 ocurrencias\n",
      " - Skill Cluster 4: 18 ocurrencias\n",
      " - Skill Cluster 12: 17 ocurrencias\n",
      " - Skill Cluster 15: 14 ocurrencias\n",
      " - Skill Cluster 21: 9 ocurrencias\n",
      " - Skill Cluster 9: 8 ocurrencias\n",
      " - Skill Cluster 17: 8 ocurrencias\n",
      " - Skill Cluster 25: 7 ocurrencias\n",
      " - Skill Cluster 8: 2 ocurrencias\n",
      " - Skill Cluster 30: 2 ocurrencias\n",
      " - Skill Cluster 28: 1 ocurrencias\n",
      "\n",
      "🟦 Clúster de ofertas 35:\n",
      " - Skill Cluster 2: 10400 ocurrencias\n",
      " - Skill Cluster 8: 10396 ocurrencias\n",
      " - Skill Cluster 1: 7057 ocurrencias\n",
      " - Skill Cluster 9: 6940 ocurrencias\n",
      " - Skill Cluster 4: 6 ocurrencias\n",
      " - Skill Cluster 28: 4 ocurrencias\n",
      " - Skill Cluster 12: 3 ocurrencias\n",
      " - Skill Cluster 25: 2 ocurrencias\n",
      "\n",
      "🟦 Clúster de ofertas 36:\n",
      " - Skill Cluster 26: 42096 ocurrencias\n",
      " - Skill Cluster 2: 29392 ocurrencias\n",
      " - Skill Cluster 29: 12723 ocurrencias\n",
      " - Skill Cluster 12: 11093 ocurrencias\n",
      " - Skill Cluster 7: 10243 ocurrencias\n",
      " - Skill Cluster 3: 8578 ocurrencias\n",
      " - Skill Cluster 10: 8413 ocurrencias\n",
      " - Skill Cluster 8: 8106 ocurrencias\n",
      " - Skill Cluster 33: 6215 ocurrencias\n",
      " - Skill Cluster 1: 4313 ocurrencias\n",
      " - Skill Cluster 16: 3716 ocurrencias\n",
      " - Skill Cluster 22: 3690 ocurrencias\n",
      " - Skill Cluster 9: 3183 ocurrencias\n",
      " - Skill Cluster 4: 2658 ocurrencias\n",
      " - Skill Cluster 5: 2591 ocurrencias\n",
      " - Skill Cluster 28: 1073 ocurrencias\n",
      " - Skill Cluster 25: 957 ocurrencias\n",
      " - Skill Cluster 17: 464 ocurrencias\n",
      " - Skill Cluster 18: 422 ocurrencias\n",
      " - Skill Cluster 30: 394 ocurrencias\n",
      " - Skill Cluster 15: 368 ocurrencias\n",
      " - Skill Cluster 31: 338 ocurrencias\n",
      " - Skill Cluster 13: 219 ocurrencias\n",
      " - Skill Cluster 19: 124 ocurrencias\n",
      " - Skill Cluster 11: 90 ocurrencias\n",
      " - Skill Cluster 34: 75 ocurrencias\n",
      " - Skill Cluster 20: 69 ocurrencias\n",
      " - Skill Cluster 21: 64 ocurrencias\n",
      " - Skill Cluster 14: 58 ocurrencias\n",
      " - Skill Cluster 0: 39 ocurrencias\n",
      " - Skill Cluster 23: 28 ocurrencias\n",
      " - Skill Cluster 32: 22 ocurrencias\n",
      " - Skill Cluster 6: 7 ocurrencias\n",
      " - Skill Cluster 27: 1 ocurrencias\n"
     ]
    }
   ],
   "source": [
    "from collections import Counter\n",
    "\n",
    "for cluster_id in sorted(combined_df[\"cluster\"].dropna().unique()):\n",
    "    subset = combined_df[combined_df[\"cluster\"] == cluster_id]\n",
    "    skill_clusters = subset[\"skill_clusters\"].explode().dropna()\n",
    "    top_clusters = Counter(skill_clusters).most_common(100)\n",
    "    print(f\"\\n🟦 Clúster de ofertas {cluster_id}:\")\n",
    "    for c, count in top_clusters:\n",
    "        print(f\" - Skill Cluster {c}: {count} ocurrencias\")"
   ]
  },
  {
   "cell_type": "code",
   "execution_count": 125,
   "id": "fda0295a",
   "metadata": {},
   "outputs": [
    {
     "data": {
      "text/plain": [
       "<Figure size 1400x800 with 0 Axes>"
      ]
     },
     "metadata": {},
     "output_type": "display_data"
    },
    {
     "data": {
      "image/png": "[encoded data removed]",
      "text/plain": [
       "<Figure size 1400x800 with 1 Axes>"
      ]
     },
     "metadata": {},
     "output_type": "display_data"
    }
   ],
   "source": [
    "import matplotlib.pyplot as plt\n",
    "from matplotlib.colors import ListedColormap\n",
    "from collections import Counter\n",
    "\n",
    "def generar_grafico_skill_clusters(df, columna_cluster=\"cluster\", columna_skill=\"skill_clusters\"):\n",
    "    # Generar los datos para la visualización\n",
    "    records = []\n",
    "    for cluster_id in sorted(df[columna_cluster].dropna().unique()):\n",
    "        subset = df[df[columna_cluster] == cluster_id]\n",
    "        skill_clusters = subset[columna_skill].explode().dropna()\n",
    "        top_clusters = Counter(skill_clusters).most_common(100)\n",
    "        for c, count in top_clusters:\n",
    "            records.append({\"Oferta\": cluster_id, \"Skill Cluster\": f\"SC {c}\", \"Ocurrencias\": count})\n",
    "\n",
    "    df_resumen = pd.DataFrame(records)\n",
    "\n",
    "    # Pivotar el DataFrame para crear la matriz de barras apiladas\n",
    "    pivot_df = df_resumen.pivot(index=\"Oferta\", columns=\"Skill Cluster\", values=\"Ocurrencias\").fillna(0)\n",
    "\n",
    "    # Crear un colormap extendido con más colores\n",
    "    colormap = ListedColormap(plt.cm.tab20.colors + plt.cm.tab20b.colors)  # Combinando tab20 y tab20b\n",
    "\n",
    "    # Visualización con gráfico de barras apiladas\n",
    "    plt.figure(figsize=(14, 8))  # Aumentar la altura de la figura\n",
    "    pivot_df.plot(kind=\"bar\", stacked=True, colormap=colormap, figsize=(14, 8))\n",
    "    plt.title(\"Distribución de Skill Clusters por Clúster de Ofertas (Resumen)\")\n",
    "    plt.ylabel(\"Número de ocurrencias\")\n",
    "    plt.xlabel(\"Clúster de Ofertas\")\n",
    "    plt.xticks(rotation=0)\n",
    "    \n",
    "    # Configurar la leyenda en horizontal debajo con más altura\n",
    "    plt.legend(title=\"Skill Cluster\", bbox_to_anchor=(0.5, -0.4), loc='center', ncol=5, frameon=False)\n",
    "    \n",
    "    plt.tight_layout()\n",
    "    plt.show()\n",
    "\n",
    "# Llamada a la función con el dataframe 'combined_df'\n",
    "generar_grafico_skill_clusters(combined_df)\n",
    "\n"
   ]
  },
  {
   "cell_type": "code",
   "execution_count": 126,
   "id": "a2756f7b",
   "metadata": {},
   "outputs": [
    {
     "data": {
      "text/plain": [
       "<Figure size 1400x600 with 0 Axes>"
      ]
     },
     "metadata": {},
     "output_type": "display_data"
    },
    {
     "data": {
      "image/png": "[encoded data removed]",
      "text/plain": [
       "<Figure size 1400x600 with 1 Axes>"
      ]
     },
     "metadata": {},
     "output_type": "display_data"
    }
   ],
   "source": [
    "import pandas as pd\n",
    "import matplotlib.pyplot as plt\n",
    "import seaborn as sns\n",
    "from collections import defaultdict\n",
    "\n",
    "# Datos de ejemplo: resumen manual del usuario\n",
    "# Creamos una lista de diccionarios para representar los datos más relevantes\n",
    "resumen_data = [\n",
    "    {\"cluster_oferta\": 0, \"skill_clusters\": [26, 2, 1]},\n",
    "    {\"cluster_oferta\": 1, \"skill_clusters\": [26, 2, 1, 29]},\n",
    "    {\"cluster_oferta\": 2, \"skill_clusters\": [26, 29, 2, 4]},\n",
    "    {\"cluster_oferta\": 4, \"skill_clusters\": [16, 2, 13, 7]},\n",
    "    {\"cluster_oferta\": 7, \"skill_clusters\": [8, 2, 9, 20]},\n",
    "    {\"cluster_oferta\": 9, \"skill_clusters\": [9, 4, 7]},\n",
    "    {\"cluster_oferta\": 24, \"skill_clusters\": [2, 26, 1, 7, 29]},\n",
    "    {\"cluster_oferta\": 28, \"skill_clusters\": [26, 2, 29, 5, 7]},\n",
    "    {\"cluster_oferta\": 31, \"skill_clusters\": [26, 10, 2, 5]},\n",
    "    {\"cluster_oferta\": 33, \"skill_clusters\": [7, 9, 2, 8]},\n",
    "]\n",
    "\n",
    "# Convertir a DataFrame para análisis\n",
    "records = []\n",
    "for row in resumen_data:\n",
    "    for skill in row[\"skill_clusters\"]:\n",
    "        records.append({\"Oferta\": row[\"cluster_oferta\"], \"Skill Cluster\": f\"SC {skill}\"})\n",
    "\n",
    "df_resumen = pd.DataFrame(records)\n",
    "\n",
    "# Contar ocurrencias por grupo\n",
    "conteo = df_resumen.groupby([\"Oferta\", \"Skill Cluster\"]).size().reset_index(name=\"Ocurrencias\")\n",
    "\n",
    "# Visualización con gráfico de barras apiladas\n",
    "pivot_df = conteo.pivot(index=\"Oferta\", columns=\"Skill Cluster\", values=\"Ocurrencias\").fillna(0)\n",
    "\n",
    "plt.figure(figsize=(14, 6))\n",
    "pivot_df.plot(kind=\"bar\", stacked=True, colormap=\"tab20\", figsize=(14, 6))\n",
    "plt.title(\"Distribución de Skill Clusters por Clúster de Ofertas (Resumen)\")\n",
    "plt.ylabel(\"Número de ocurrencias\")\n",
    "plt.xlabel(\"Clúster de Ofertas\")\n",
    "plt.xticks(rotation=0)\n",
    "plt.legend(title=\"Skill Cluster\", bbox_to_anchor=(1.05, 1), loc='upper left')\n",
    "plt.tight_layout()\n",
    "plt.show()\n"
   ]
  },
  {
   "cell_type": "markdown",
   "id": "b40e4dda",
   "metadata": {},
   "source": [
    "EMpezamos con salario"
   ]
  },
  {
   "cell_type": "code",
   "execution_count": 127,
   "id": "53eef0fe",
   "metadata": {},
   "outputs": [
    {
     "data": {
      "text/plain": [
       "Index(['qualifications', 'location', 'country', 'work type', 'company size',\n",
       "       'job title', 'role', 'job description', 'benefits', 'skills',\n",
       "       'responsibilities', 'company', 'company profile', 'min_experience',\n",
       "       'max_experience', 'min_salary', 'max_salary', 'combined_text',\n",
       "       'avg_salary', 'source', 'job_id', 'title', 'description', 'skill_abr',\n",
       "       'formatted_experience_level', 'full_text', 'avg_annual',\n",
       "       'full_text_df1', 'full_text_combined', 'skills_extraidas',\n",
       "       'text_for_clustering', 'cluster', 'skill_clusters'],\n",
       "      dtype='object')"
      ]
     },
     "execution_count": 127,
     "metadata": {},
     "output_type": "execute_result"
    }
   ],
   "source": [
    "combined_df.columns"
   ]
  },
  {
   "cell_type": "code",
   "execution_count": 128,
   "id": "5ca315c6",
   "metadata": {},
   "outputs": [],
   "source": [
    "combined_salary_df = combined_df.dropna(subset=[\"min_salary\", \"max_salary\"]).copy()\n",
    "\n",
    "combined_salary_df[\"avg_salary\"] = combined_df[\"avg_salary\"]"
   ]
  },
  {
   "cell_type": "code",
   "execution_count": 129,
   "id": "7240d299",
   "metadata": {},
   "outputs": [
    {
     "name": "stdout",
     "output_type": "stream",
     "text": [
      "Ofertas con salario: 1642569 de 1676567 (98.0%)\n"
     ]
    }
   ],
   "source": [
    "total = len(combined_df)\n",
    "with_salary = combined_df.dropna(subset=[\"min_salary\", \"max_salary\"])\n",
    "num_with_salary = len(with_salary)\n",
    "print(f\"Ofertas con salario: {num_with_salary} de {total} ({num_with_salary / total:.1%})\")"
   ]
  },
  {
   "cell_type": "markdown",
   "id": "9ac11f0e",
   "metadata": {},
   "source": [
    "Salarios con imoutacion por cluster"
   ]
  },
  {
   "cell_type": "code",
   "execution_count": 132,
   "id": "2c5d79ae",
   "metadata": {},
   "outputs": [],
   "source": [
    "combined_salary_df[\"avg_salary_imputed\"] = combined_salary_df.groupby(\"cluster\")[\"avg_salary\"].transform(lambda x: x.fillna(x.median()))"
   ]
  },
  {
   "cell_type": "code",
   "execution_count": 133,
   "id": "1584ed71",
   "metadata": {},
   "outputs": [],
   "source": [
    "# Calcular medias por clúster\n",
    "cluster_salary_means = combined_salary_df.groupby(\"cluster\")[\"avg_salary\"].mean()"
   ]
  },
  {
   "cell_type": "code",
   "execution_count": 134,
   "id": "3d591e30",
   "metadata": {},
   "outputs": [],
   "source": [
    "# Aplicar imputación\n",
    "for cluster_id, mean_salary in cluster_salary_means.items():\n",
    "    mask = (combined_salary_df[\"cluster\"] == cluster_id) & (combined_salary_df[\"avg_salary_imputed\"].isna())\n",
    "    combined_salary_df.loc[mask, \"avg_salary_imputed\"] = mean_salary"
   ]
  },
  {
   "cell_type": "code",
   "execution_count": 135,
   "id": "cc01e7ca",
   "metadata": {},
   "outputs": [
    {
     "data": {
      "text/plain": [
       "np.int64(0)"
      ]
     },
     "execution_count": 135,
     "metadata": {},
     "output_type": "execute_result"
    }
   ],
   "source": [
    "# Mostrar resumen de valores nulos después de imputación\n",
    "null_count_after = combined_salary_df[\"avg_salary_imputed\"].isna().sum()\n",
    "null_count_after"
   ]
  },
  {
   "cell_type": "code",
   "execution_count": 136,
   "id": "ab6a77b0",
   "metadata": {},
   "outputs": [
    {
     "data": {
      "text/html": [
       "<div>\n",
       "<style scoped>\n",
       "    .dataframe tbody tr th:only-of-type {\n",
       "        vertical-align: middle;\n",
       "    }\n",
       "\n",
       "    .dataframe tbody tr th {\n",
       "        vertical-align: top;\n",
       "    }\n",
       "\n",
       "    .dataframe thead th {\n",
       "        text-align: right;\n",
       "    }\n",
       "</style>\n",
       "<table border=\"1\" class=\"dataframe\">\n",
       "  <thead>\n",
       "    <tr style=\"text-align: right;\">\n",
       "      <th></th>\n",
       "      <th>qualifications</th>\n",
       "      <th>location</th>\n",
       "      <th>country</th>\n",
       "      <th>work type</th>\n",
       "      <th>company size</th>\n",
       "      <th>job title</th>\n",
       "      <th>role</th>\n",
       "      <th>job description</th>\n",
       "      <th>benefits</th>\n",
       "      <th>skills</th>\n",
       "      <th>...</th>\n",
       "      <th>formatted_experience_level</th>\n",
       "      <th>full_text</th>\n",
       "      <th>avg_annual</th>\n",
       "      <th>full_text_df1</th>\n",
       "      <th>full_text_combined</th>\n",
       "      <th>skills_extraidas</th>\n",
       "      <th>text_for_clustering</th>\n",
       "      <th>cluster</th>\n",
       "      <th>skill_clusters</th>\n",
       "      <th>avg_salary_imputed</th>\n",
       "    </tr>\n",
       "  </thead>\n",
       "  <tbody>\n",
       "    <tr>\n",
       "      <th>0</th>\n",
       "      <td>M.Tech</td>\n",
       "      <td>Douglas</td>\n",
       "      <td>Isle of Man</td>\n",
       "      <td>Intern</td>\n",
       "      <td>26801.0</td>\n",
       "      <td>Digital Marketing Specialist</td>\n",
       "      <td>Social Media Manager</td>\n",
       "      <td>social media managers oversee an organizations...</td>\n",
       "      <td>flexible spending accounts fsas relocation ass...</td>\n",
       "      <td>social media platforms eg facebook twitter ins...</td>\n",
       "      <td>...</td>\n",
       "      <td>NaN</td>\n",
       "      <td>NaN</td>\n",
       "      <td>NaN</td>\n",
       "      <td>Digital Marketing Specialist social media mana...</td>\n",
       "      <td>Digital Marketing Specialist social media mana...</td>\n",
       "      <td></td>\n",
       "      <td>Digital Marketing Specialist social media man...</td>\n",
       "      <td>29</td>\n",
       "      <td>[]</td>\n",
       "      <td>79000.0</td>\n",
       "    </tr>\n",
       "    <tr>\n",
       "      <th>1</th>\n",
       "      <td>BCA</td>\n",
       "      <td>Ashgabat</td>\n",
       "      <td>Turkmenistan</td>\n",
       "      <td>Intern</td>\n",
       "      <td>100340.0</td>\n",
       "      <td>Web Developer</td>\n",
       "      <td>Frontend Web Developer</td>\n",
       "      <td>frontend web developers design and implement u...</td>\n",
       "      <td>health insurance retirement plans paid time of...</td>\n",
       "      <td>html css javascript frontend frameworks eg rea...</td>\n",
       "      <td>...</td>\n",
       "      <td>NaN</td>\n",
       "      <td>NaN</td>\n",
       "      <td>NaN</td>\n",
       "      <td>Web Developer frontend web developers design a...</td>\n",
       "      <td>Web Developer frontend web developers design a...</td>\n",
       "      <td>design</td>\n",
       "      <td>design Web Developer frontend web developers d...</td>\n",
       "      <td>16</td>\n",
       "      <td>[26]</td>\n",
       "      <td>86000.0</td>\n",
       "    </tr>\n",
       "    <tr>\n",
       "      <th>2</th>\n",
       "      <td>PhD</td>\n",
       "      <td>Macao</td>\n",
       "      <td>Macao SAR, China</td>\n",
       "      <td>Temporary</td>\n",
       "      <td>84525.0</td>\n",
       "      <td>Operations Manager</td>\n",
       "      <td>Quality Control Manager</td>\n",
       "      <td>quality control managers establish and enforce...</td>\n",
       "      <td>legal assistance bonuses and incentive program...</td>\n",
       "      <td>quality control processes and methodologies st...</td>\n",
       "      <td>...</td>\n",
       "      <td>NaN</td>\n",
       "      <td>NaN</td>\n",
       "      <td>NaN</td>\n",
       "      <td>Operations Manager quality control managers es...</td>\n",
       "      <td>Operations Manager quality control managers es...</td>\n",
       "      <td></td>\n",
       "      <td>Operations Manager quality control managers e...</td>\n",
       "      <td>30</td>\n",
       "      <td>[]</td>\n",
       "      <td>82500.0</td>\n",
       "    </tr>\n",
       "    <tr>\n",
       "      <th>3</th>\n",
       "      <td>PhD</td>\n",
       "      <td>Porto-Novo</td>\n",
       "      <td>Benin</td>\n",
       "      <td>Full-Time</td>\n",
       "      <td>129896.0</td>\n",
       "      <td>Network Engineer</td>\n",
       "      <td>Wireless Network Engineer</td>\n",
       "      <td>wireless network engineers design implement an...</td>\n",
       "      <td>transportation benefits professional developme...</td>\n",
       "      <td>wireless network design and architecture wifi ...</td>\n",
       "      <td>...</td>\n",
       "      <td>NaN</td>\n",
       "      <td>NaN</td>\n",
       "      <td>NaN</td>\n",
       "      <td>Network Engineer wireless network engineers de...</td>\n",
       "      <td>Network Engineer wireless network engineers de...</td>\n",
       "      <td>design, transportation, troubleshooting</td>\n",
       "      <td>design, transportation, troubleshooting Networ...</td>\n",
       "      <td>28</td>\n",
       "      <td>[26, 2, 29]</td>\n",
       "      <td>78000.0</td>\n",
       "    </tr>\n",
       "    <tr>\n",
       "      <th>4</th>\n",
       "      <td>MBA</td>\n",
       "      <td>Santiago</td>\n",
       "      <td>Chile</td>\n",
       "      <td>Intern</td>\n",
       "      <td>53944.0</td>\n",
       "      <td>Event Manager</td>\n",
       "      <td>Conference Manager</td>\n",
       "      <td>a conference manager coordinates and manages c...</td>\n",
       "      <td>flexible spending accounts fsas relocation ass...</td>\n",
       "      <td>event planning conference logistics budget man...</td>\n",
       "      <td>...</td>\n",
       "      <td>NaN</td>\n",
       "      <td>NaN</td>\n",
       "      <td>NaN</td>\n",
       "      <td>Event Manager a conference manager coordinates...</td>\n",
       "      <td>Event Manager a conference manager coordinates...</td>\n",
       "      <td>coordination</td>\n",
       "      <td>coordination Event Manager a conference manage...</td>\n",
       "      <td>23</td>\n",
       "      <td>[7]</td>\n",
       "      <td>75500.0</td>\n",
       "    </tr>\n",
       "    <tr>\n",
       "      <th>...</th>\n",
       "      <td>...</td>\n",
       "      <td>...</td>\n",
       "      <td>...</td>\n",
       "      <td>...</td>\n",
       "      <td>...</td>\n",
       "      <td>...</td>\n",
       "      <td>...</td>\n",
       "      <td>...</td>\n",
       "      <td>...</td>\n",
       "      <td>...</td>\n",
       "      <td>...</td>\n",
       "      <td>...</td>\n",
       "      <td>...</td>\n",
       "      <td>...</td>\n",
       "      <td>...</td>\n",
       "      <td>...</td>\n",
       "      <td>...</td>\n",
       "      <td>...</td>\n",
       "      <td>...</td>\n",
       "      <td>...</td>\n",
       "      <td>...</td>\n",
       "    </tr>\n",
       "    <tr>\n",
       "      <th>1676544</th>\n",
       "      <td>NaN</td>\n",
       "      <td>NaN</td>\n",
       "      <td>NaN</td>\n",
       "      <td>NaN</td>\n",
       "      <td>NaN</td>\n",
       "      <td>NaN</td>\n",
       "      <td>NaN</td>\n",
       "      <td>NaN</td>\n",
       "      <td>NaN</td>\n",
       "      <td>NaN</td>\n",
       "      <td>...</td>\n",
       "      <td>midsenior level</td>\n",
       "      <td>sr bilingual copywriter canadian french overvi...</td>\n",
       "      <td>98550.0</td>\n",
       "      <td>NaN</td>\n",
       "      <td>sr bilingual copywriter canadian french overvi...</td>\n",
       "      <td>writing</td>\n",
       "      <td>writing sr bilingual copywriter canadian frenc...</td>\n",
       "      <td>36</td>\n",
       "      <td>[1]</td>\n",
       "      <td>98550.0</td>\n",
       "    </tr>\n",
       "    <tr>\n",
       "      <th>1676545</th>\n",
       "      <td>NaN</td>\n",
       "      <td>NaN</td>\n",
       "      <td>NaN</td>\n",
       "      <td>NaN</td>\n",
       "      <td>NaN</td>\n",
       "      <td>NaN</td>\n",
       "      <td>NaN</td>\n",
       "      <td>NaN</td>\n",
       "      <td>NaN</td>\n",
       "      <td>NaN</td>\n",
       "      <td>...</td>\n",
       "      <td>midsenior level</td>\n",
       "      <td>sr bilingual copywriter canadian french overvi...</td>\n",
       "      <td>98550.0</td>\n",
       "      <td>NaN</td>\n",
       "      <td>sr bilingual copywriter canadian french overvi...</td>\n",
       "      <td>writing</td>\n",
       "      <td>writing sr bilingual copywriter canadian frenc...</td>\n",
       "      <td>36</td>\n",
       "      <td>[1]</td>\n",
       "      <td>98550.0</td>\n",
       "    </tr>\n",
       "    <tr>\n",
       "      <th>1676546</th>\n",
       "      <td>NaN</td>\n",
       "      <td>NaN</td>\n",
       "      <td>NaN</td>\n",
       "      <td>NaN</td>\n",
       "      <td>NaN</td>\n",
       "      <td>NaN</td>\n",
       "      <td>NaN</td>\n",
       "      <td>NaN</td>\n",
       "      <td>NaN</td>\n",
       "      <td>NaN</td>\n",
       "      <td>...</td>\n",
       "      <td>midsenior level</td>\n",
       "      <td>sr bilingual copywriter canadian french overvi...</td>\n",
       "      <td>98550.0</td>\n",
       "      <td>NaN</td>\n",
       "      <td>sr bilingual copywriter canadian french overvi...</td>\n",
       "      <td>writing</td>\n",
       "      <td>writing sr bilingual copywriter canadian frenc...</td>\n",
       "      <td>36</td>\n",
       "      <td>[1]</td>\n",
       "      <td>98550.0</td>\n",
       "    </tr>\n",
       "    <tr>\n",
       "      <th>1676547</th>\n",
       "      <td>NaN</td>\n",
       "      <td>NaN</td>\n",
       "      <td>NaN</td>\n",
       "      <td>NaN</td>\n",
       "      <td>NaN</td>\n",
       "      <td>NaN</td>\n",
       "      <td>NaN</td>\n",
       "      <td>NaN</td>\n",
       "      <td>NaN</td>\n",
       "      <td>NaN</td>\n",
       "      <td>...</td>\n",
       "      <td>midsenior level</td>\n",
       "      <td>sr bilingual copywriter canadian french overvi...</td>\n",
       "      <td>98550.0</td>\n",
       "      <td>NaN</td>\n",
       "      <td>sr bilingual copywriter canadian french overvi...</td>\n",
       "      <td>writing</td>\n",
       "      <td>writing sr bilingual copywriter canadian frenc...</td>\n",
       "      <td>36</td>\n",
       "      <td>[1]</td>\n",
       "      <td>98550.0</td>\n",
       "    </tr>\n",
       "    <tr>\n",
       "      <th>1676556</th>\n",
       "      <td>NaN</td>\n",
       "      <td>NaN</td>\n",
       "      <td>NaN</td>\n",
       "      <td>NaN</td>\n",
       "      <td>NaN</td>\n",
       "      <td>NaN</td>\n",
       "      <td>NaN</td>\n",
       "      <td>NaN</td>\n",
       "      <td>NaN</td>\n",
       "      <td>NaN</td>\n",
       "      <td>...</td>\n",
       "      <td>midsenior level</td>\n",
       "      <td>mri manager grade 105 job type officer of admi...</td>\n",
       "      <td>122500.0</td>\n",
       "      <td>NaN</td>\n",
       "      <td>mri manager grade 105 job type officer of admi...</td>\n",
       "      <td>installation</td>\n",
       "      <td>installation mri manager grade 105 job type of...</td>\n",
       "      <td>36</td>\n",
       "      <td>[10]</td>\n",
       "      <td>122500.0</td>\n",
       "    </tr>\n",
       "  </tbody>\n",
       "</table>\n",
       "<p>1642569 rows × 34 columns</p>\n",
       "</div>"
      ],
      "text/plain": [
       "        qualifications    location           country  work type  company size  \\\n",
       "0               M.Tech     Douglas       Isle of Man     Intern       26801.0   \n",
       "1                  BCA    Ashgabat      Turkmenistan     Intern      100340.0   \n",
       "2                  PhD       Macao  Macao SAR, China  Temporary       84525.0   \n",
       "3                  PhD  Porto-Novo             Benin  Full-Time      129896.0   \n",
       "4                  MBA    Santiago             Chile     Intern       53944.0   \n",
       "...                ...         ...               ...        ...           ...   \n",
       "1676544            NaN         NaN               NaN        NaN           NaN   \n",
       "1676545            NaN         NaN               NaN        NaN           NaN   \n",
       "1676546            NaN         NaN               NaN        NaN           NaN   \n",
       "1676547            NaN         NaN               NaN        NaN           NaN   \n",
       "1676556            NaN         NaN               NaN        NaN           NaN   \n",
       "\n",
       "                            job title                       role  \\\n",
       "0        Digital Marketing Specialist       Social Media Manager   \n",
       "1                       Web Developer     Frontend Web Developer   \n",
       "2                  Operations Manager    Quality Control Manager   \n",
       "3                    Network Engineer  Wireless Network Engineer   \n",
       "4                       Event Manager         Conference Manager   \n",
       "...                               ...                        ...   \n",
       "1676544                           NaN                        NaN   \n",
       "1676545                           NaN                        NaN   \n",
       "1676546                           NaN                        NaN   \n",
       "1676547                           NaN                        NaN   \n",
       "1676556                           NaN                        NaN   \n",
       "\n",
       "                                           job description  \\\n",
       "0        social media managers oversee an organizations...   \n",
       "1        frontend web developers design and implement u...   \n",
       "2        quality control managers establish and enforce...   \n",
       "3        wireless network engineers design implement an...   \n",
       "4        a conference manager coordinates and manages c...   \n",
       "...                                                    ...   \n",
       "1676544                                                NaN   \n",
       "1676545                                                NaN   \n",
       "1676546                                                NaN   \n",
       "1676547                                                NaN   \n",
       "1676556                                                NaN   \n",
       "\n",
       "                                                  benefits  \\\n",
       "0        flexible spending accounts fsas relocation ass...   \n",
       "1        health insurance retirement plans paid time of...   \n",
       "2        legal assistance bonuses and incentive program...   \n",
       "3        transportation benefits professional developme...   \n",
       "4        flexible spending accounts fsas relocation ass...   \n",
       "...                                                    ...   \n",
       "1676544                                                NaN   \n",
       "1676545                                                NaN   \n",
       "1676546                                                NaN   \n",
       "1676547                                                NaN   \n",
       "1676556                                                NaN   \n",
       "\n",
       "                                                    skills  ...  \\\n",
       "0        social media platforms eg facebook twitter ins...  ...   \n",
       "1        html css javascript frontend frameworks eg rea...  ...   \n",
       "2        quality control processes and methodologies st...  ...   \n",
       "3        wireless network design and architecture wifi ...  ...   \n",
       "4        event planning conference logistics budget man...  ...   \n",
       "...                                                    ...  ...   \n",
       "1676544                                                NaN  ...   \n",
       "1676545                                                NaN  ...   \n",
       "1676546                                                NaN  ...   \n",
       "1676547                                                NaN  ...   \n",
       "1676556                                                NaN  ...   \n",
       "\n",
       "        formatted_experience_level  \\\n",
       "0                              NaN   \n",
       "1                              NaN   \n",
       "2                              NaN   \n",
       "3                              NaN   \n",
       "4                              NaN   \n",
       "...                            ...   \n",
       "1676544            midsenior level   \n",
       "1676545            midsenior level   \n",
       "1676546            midsenior level   \n",
       "1676547            midsenior level   \n",
       "1676556            midsenior level   \n",
       "\n",
       "                                                 full_text avg_annual  \\\n",
       "0                                                      NaN        NaN   \n",
       "1                                                      NaN        NaN   \n",
       "2                                                      NaN        NaN   \n",
       "3                                                      NaN        NaN   \n",
       "4                                                      NaN        NaN   \n",
       "...                                                    ...        ...   \n",
       "1676544  sr bilingual copywriter canadian french overvi...    98550.0   \n",
       "1676545  sr bilingual copywriter canadian french overvi...    98550.0   \n",
       "1676546  sr bilingual copywriter canadian french overvi...    98550.0   \n",
       "1676547  sr bilingual copywriter canadian french overvi...    98550.0   \n",
       "1676556  mri manager grade 105 job type officer of admi...   122500.0   \n",
       "\n",
       "                                             full_text_df1  \\\n",
       "0        Digital Marketing Specialist social media mana...   \n",
       "1        Web Developer frontend web developers design a...   \n",
       "2        Operations Manager quality control managers es...   \n",
       "3        Network Engineer wireless network engineers de...   \n",
       "4        Event Manager a conference manager coordinates...   \n",
       "...                                                    ...   \n",
       "1676544                                                NaN   \n",
       "1676545                                                NaN   \n",
       "1676546                                                NaN   \n",
       "1676547                                                NaN   \n",
       "1676556                                                NaN   \n",
       "\n",
       "                                        full_text_combined  \\\n",
       "0        Digital Marketing Specialist social media mana...   \n",
       "1        Web Developer frontend web developers design a...   \n",
       "2        Operations Manager quality control managers es...   \n",
       "3        Network Engineer wireless network engineers de...   \n",
       "4        Event Manager a conference manager coordinates...   \n",
       "...                                                    ...   \n",
       "1676544  sr bilingual copywriter canadian french overvi...   \n",
       "1676545  sr bilingual copywriter canadian french overvi...   \n",
       "1676546  sr bilingual copywriter canadian french overvi...   \n",
       "1676547  sr bilingual copywriter canadian french overvi...   \n",
       "1676556  mri manager grade 105 job type officer of admi...   \n",
       "\n",
       "                                skills_extraidas  \\\n",
       "0                                                  \n",
       "1                                         design   \n",
       "2                                                  \n",
       "3        design, transportation, troubleshooting   \n",
       "4                                   coordination   \n",
       "...                                          ...   \n",
       "1676544                                  writing   \n",
       "1676545                                  writing   \n",
       "1676546                                  writing   \n",
       "1676547                                  writing   \n",
       "1676556                             installation   \n",
       "\n",
       "                                       text_for_clustering cluster  \\\n",
       "0         Digital Marketing Specialist social media man...      29   \n",
       "1        design Web Developer frontend web developers d...      16   \n",
       "2         Operations Manager quality control managers e...      30   \n",
       "3        design, transportation, troubleshooting Networ...      28   \n",
       "4        coordination Event Manager a conference manage...      23   \n",
       "...                                                    ...     ...   \n",
       "1676544  writing sr bilingual copywriter canadian frenc...      36   \n",
       "1676545  writing sr bilingual copywriter canadian frenc...      36   \n",
       "1676546  writing sr bilingual copywriter canadian frenc...      36   \n",
       "1676547  writing sr bilingual copywriter canadian frenc...      36   \n",
       "1676556  installation mri manager grade 105 job type of...      36   \n",
       "\n",
       "         skill_clusters avg_salary_imputed  \n",
       "0                    []            79000.0  \n",
       "1                  [26]            86000.0  \n",
       "2                    []            82500.0  \n",
       "3           [26, 2, 29]            78000.0  \n",
       "4                   [7]            75500.0  \n",
       "...                 ...                ...  \n",
       "1676544             [1]            98550.0  \n",
       "1676545             [1]            98550.0  \n",
       "1676546             [1]            98550.0  \n",
       "1676547             [1]            98550.0  \n",
       "1676556            [10]           122500.0  \n",
       "\n",
       "[1642569 rows x 34 columns]"
      ]
     },
     "execution_count": 136,
     "metadata": {},
     "output_type": "execute_result"
    }
   ],
   "source": [
    "combined_salary_df"
   ]
  },
  {
   "cell_type": "code",
   "execution_count": 138,
   "id": "3ab512b2",
   "metadata": {},
   "outputs": [
    {
     "name": "stdout",
     "output_type": "stream",
     "text": [
      "\n",
      "🟦 Clúster de ofertas 24 — 28224 ofertas\n",
      "🔝 Top 20 habilidades:\n",
      " - : 22653\n",
      " - transportation: 5475\n",
      " - time management: 36\n",
      " - programming: 24\n",
      " - design: 20\n",
      " - administrative: 16\n",
      " - monitoring: 14\n",
      " - service orientation: 10\n",
      " - critical thinking: 6\n",
      " - science: 5\n",
      " - geography: 4\n",
      " - speaking: 3\n",
      " - coordination: 2\n",
      " - troubleshooting: 2\n"
     ]
    },
    {
     "data": {
      "text/plain": [
       "Counter({'': 22653,\n",
       "         'transportation': 5475,\n",
       "         'time management': 36,\n",
       "         'programming': 24,\n",
       "         'design': 20,\n",
       "         'administrative': 16,\n",
       "         'monitoring': 14,\n",
       "         'service orientation': 10,\n",
       "         'critical thinking': 6,\n",
       "         'science': 5,\n",
       "         'geography': 4,\n",
       "         'speaking': 3,\n",
       "         'coordination': 2,\n",
       "         'troubleshooting': 2})"
      ]
     },
     "execution_count": 138,
     "metadata": {},
     "output_type": "execute_result"
    }
   ],
   "source": [
    "from collections import Counter\n",
    "\n",
    "def ver_habilidades_por_cluster(df, cluster_id, columna_cluster=\"cluster\", columna_skills=\"skills_extraidas\"):\n",
    "    subset = df[df[columna_cluster] == cluster_id]\n",
    "    skills_col = subset[columna_skills].dropna()\n",
    "    \n",
    "    # Separar por comas, eliminar espacios y unificar formato\n",
    "    skills_exploded = skills_col.str.split(\",\").explode().str.strip().str.lower()\n",
    "    \n",
    "    # Contar ocurrencias\n",
    "    skill_counts = Counter(skills_exploded)\n",
    "    \n",
    "    print(f\"\\n🟦 Clúster de ofertas {cluster_id} — {len(subset)} ofertas\")\n",
    "    print(\"🔝 Top 20 habilidades:\")\n",
    "    for skill, count in skill_counts.most_common(20):\n",
    "        print(f\" - {skill}: {count}\")\n",
    "    \n",
    "    return skill_counts  # por si lo quieres guardar o graficar\n",
    "\n",
    "# Ejemplo de uso:\n",
    "ver_habilidades_por_cluster(combined_df, cluster_id=24)\n"
   ]
  },
  {
   "cell_type": "code",
   "execution_count": 139,
   "id": "9a401a74",
   "metadata": {},
   "outputs": [],
   "source": [
    "combined_salary_df[\"avg_salary_imputed_cluster\"] = combined_salary_df.groupby(\"cluster\")[\"avg_salary\"].transform(lambda x: x.fillna(x.median()))\n"
   ]
  },
  {
   "cell_type": "code",
   "execution_count": 140,
   "id": "81ee3e4f",
   "metadata": {},
   "outputs": [
    {
     "data": {
      "image/png": "[encoded data removed]",
      "text/plain": [
       "<Figure size 1600x1000 with 2 Axes>"
      ]
     },
     "metadata": {},
     "output_type": "display_data"
    }
   ],
   "source": [
    "# Agrupar: media del salario por clúster de oferta y contar ocurrencias de cada clúster de skill\n",
    "skill_cluster_counts = (\n",
    "    combined_salary_df.explode(\"skill_clusters\")  # Asegurarse que cada skill_cluster esté en una fila\n",
    "    .groupby([\"cluster\", \"skill_clusters\"])\n",
    "    .size()\n",
    "    .unstack(fill_value=0)\n",
    ")\n",
    "\n",
    "# Media de salario por clúster de ofertas\n",
    "salary_by_cluster = (\n",
    "    combined_salary_df.groupby(\"cluster\")[\"avg_salary_imputed\"]\n",
    "    .median()\n",
    "    .rename(\"median_salary\")\n",
    ")\n",
    "\n",
    "# Unir ambas tablas\n",
    "analysis_df = skill_cluster_counts.join(salary_by_cluster)\n",
    "\n",
    "# Normalizar las ocurrencias de clústeres de habilidades para visualizar proporciones\n",
    "normalized_skills = skill_cluster_counts.div(skill_cluster_counts.sum(axis=1), axis=0)\n",
    "\n",
    "# Crear un heatmap cruzando salarios con proporciones de clústeres de habilidades\n",
    "plt.figure(figsize=(16, 10))\n",
    "sns.heatmap(normalized_skills.join(salary_by_cluster).sort_values(\"median_salary\", ascending=False).drop(columns=\"median_salary\"), cmap=\"viridis\")\n",
    "plt.title(\"Distribución de clústeres de habilidades por clúster de ofertas ordenado por salario medio\")\n",
    "plt.xlabel(\"Clústeres de habilidades\")\n",
    "plt.ylabel(\"Clústeres de ofertas (ordenados por salario)\")\n",
    "plt.tight_layout()\n",
    "plt.show()"
   ]
  },
  {
   "cell_type": "code",
   "execution_count": 141,
   "id": "a5b1be66",
   "metadata": {},
   "outputs": [
    {
     "data": {
      "text/plain": [
       "0           79000.0\n",
       "1           86000.0\n",
       "2           82500.0\n",
       "3           78000.0\n",
       "4           75500.0\n",
       "             ...   \n",
       "1676544     98550.0\n",
       "1676545     98550.0\n",
       "1676546     98550.0\n",
       "1676547     98550.0\n",
       "1676556    122500.0\n",
       "Name: avg_salary_imputed, Length: 1642569, dtype: float64"
      ]
     },
     "execution_count": 141,
     "metadata": {},
     "output_type": "execute_result"
    }
   ],
   "source": [
    "combined_salary_df[\"avg_salary_imputed\"]"
   ]
  },
  {
   "cell_type": "code",
   "execution_count": 142,
   "id": "53b6dbde",
   "metadata": {},
   "outputs": [],
   "source": [
    "# Filtramos solo columnas necesarias para evitar uso excesivo de memoria\n",
    "skills_subset = combined_df[[\"job_id\", \"skill_clusters\"]].drop_duplicates(\"job_id\")\n",
    "\n",
    "# Hacemos merge solo con eso\n",
    "combined_merged = combined_salary_df.merge(\n",
    "    skills_subset,\n",
    "    on=\"job_id\",\n",
    "    how=\"left\")"
   ]
  },
  {
   "cell_type": "code",
   "execution_count": 143,
   "id": "3f4d5759",
   "metadata": {},
   "outputs": [
    {
     "data": {
      "image/png": "[encoded data removed]",
      "text/plain": [
       "<Figure size 1200x600 with 1 Axes>"
      ]
     },
     "metadata": {},
     "output_type": "display_data"
    }
   ],
   "source": [
    "# 1. Filtramos y limpiamos job_id únicos\n",
    "df_skills_clean = combined_df[['job_id', 'skill_clusters']].dropna()\n",
    "df_salary_clean = combined_salary_df[['job_id', 'avg_salary_imputed']].dropna()\n",
    "\n",
    "# 2. Eliminamos duplicados (nos interesa un único job_id por entrada)\n",
    "df_skills_clean = df_skills_clean.drop_duplicates(subset='job_id')\n",
    "df_salary_clean = df_salary_clean.drop_duplicates(subset='job_id')\n",
    "\n",
    "# 3. Hacemos el merge limitado\n",
    "df_merged = pd.merge(df_salary_clean, df_skills_clean, on='job_id', how='inner')\n",
    "\n",
    "# 4. Expandimos\n",
    "df_exploded = df_merged.explode('skill_clusters')\n",
    "\n",
    "# 5. Calculamos los salarios promedio por skill_cluster\n",
    "salary_by_skill_cluster = df_exploded.groupby('skill_clusters')['avg_salary_imputed'].mean().sort_values(ascending=False)\n",
    "\n",
    "# 6. Visualizamos los 15 principales\n",
    "plt.figure(figsize=(12, 6))\n",
    "sns.barplot(x=salary_by_skill_cluster.head(15).index.astype(str), y=salary_by_skill_cluster.head(15).values)\n",
    "plt.title(\"Top 15 clústeres de habilidades con salario medio imputado más alto\")\n",
    "plt.xlabel(\"Skill Cluster\")\n",
    "plt.ylabel(\"Salario medio imputado\")\n",
    "plt.xticks(rotation=45)\n",
    "plt.tight_layout()\n",
    "plt.show()"
   ]
  },
  {
   "cell_type": "markdown",
   "id": "b99e002e",
   "metadata": {},
   "source": []
  },
  {
   "cell_type": "code",
   "execution_count": 144,
   "id": "001af151",
   "metadata": {},
   "outputs": [
    {
     "name": "stdout",
     "output_type": "stream",
     "text": [
      "\n",
      "🟦 Skill Cluster 3 (top salario):\n",
      " - science: 11121\n",
      " - design: 10985\n",
      " - writing: 7757\n",
      " - chemistry: 7518\n",
      " - critical thinking: 3566\n",
      " - psychology: 3418\n",
      " - transportation: 2419\n",
      " - monitoring: 1559\n",
      " - programming: 1337\n",
      " - biology: 884\n",
      "\n",
      "🟦 Skill Cluster 32 (top salario):\n",
      " - complex problem solving: 25\n",
      " - design: 4\n",
      " - critical thinking: 4\n",
      " - writing: 3\n",
      " - speaking: 2\n",
      " - programming: 2\n",
      " - monitoring: 1\n",
      " - time management: 1\n",
      "\n",
      "🟦 Skill Cluster 21 (top salario):\n",
      " - systems analysis: 7141\n",
      " - troubleshooting: 3560\n",
      " - transportation: 1406\n",
      " - design: 81\n",
      " - science: 46\n",
      " - monitoring: 16\n",
      " - installation: 13\n",
      " - coordination: 12\n",
      " - programming: 11\n",
      " - administrative: 10\n",
      "\n",
      "🟦 Skill Cluster 26 (top salario):\n",
      " - design: 427238\n",
      " - transportation: 91791\n",
      " - troubleshooting: 43075\n",
      " - coordination: 32607\n",
      " - writing: 32583\n",
      " - psychology: 23970\n",
      " - programming: 22726\n",
      " - mechanical: 22064\n",
      " - installation: 11351\n",
      " - science: 7153\n",
      "\n",
      "🟦 Skill Cluster 33 (top salario):\n",
      " - programming: 52122\n",
      " - design: 22726\n",
      " - transportation: 9973\n",
      " - troubleshooting: 3957\n",
      " - science: 1291\n",
      " - writing: 461\n",
      " - monitoring: 399\n",
      " - installation: 251\n",
      " - coordination: 236\n",
      " - mechanical: 206\n",
      "\n",
      "🟦 Skill Cluster 8 (top salario):\n",
      " - negotiation: 112802\n",
      " - transportation: 22492\n",
      " - coordination: 10419\n",
      " - writing: 3706\n",
      " - design: 494\n",
      " - monitoring: 252\n",
      " - time management: 190\n",
      " - science: 141\n",
      " - critical thinking: 106\n",
      " - speaking: 85\n",
      "\n",
      "🟦 Skill Cluster 12 (top salario):\n",
      " - monitoring: 47398\n",
      " - troubleshooting: 21535\n",
      " - transportation: 8805\n",
      " - design: 5084\n",
      " - time management: 3828\n",
      " - science: 1461\n",
      " - coordination: 685\n",
      " - writing: 523\n",
      " - administrative: 451\n",
      " - programming: 405\n",
      "\n",
      "🟦 Skill Cluster 7 (top salario):\n",
      " - coordination: 115733\n",
      " - design: 32607\n",
      " - transportation: 28342\n",
      " - administrative: 18273\n",
      " - time management: 17824\n",
      " - negotiation: 10419\n",
      " - administration and management: 10377\n",
      " - monitoring: 685\n",
      " - writing: 487\n",
      " - science: 482\n",
      "\n",
      "🟦 Skill Cluster 15 (top salario):\n",
      " - telecommunications: 489\n",
      " - design: 292\n",
      " - programming: 110\n",
      " - troubleshooting: 92\n",
      " - science: 80\n",
      " - installation: 68\n",
      " - monitoring: 53\n",
      " - coordination: 53\n",
      " - transportation: 36\n",
      " - administrative: 35\n",
      "\n",
      "🟦 Skill Cluster 1 (top salario):\n",
      " - writing: 67448\n",
      " - design: 32585\n",
      " - transportation: 12842\n",
      " - critical thinking: 10483\n",
      " - science: 4139\n",
      " - negotiation: 3706\n",
      " - chemistry: 3545\n",
      " - psychology: 3359\n",
      " - administrative: 568\n",
      " - monitoring: 523\n",
      "\n",
      "🟦 Skill Cluster 31 (top salario):\n",
      " - sales and marketing: 906\n",
      " - writing: 240\n",
      " - design: 135\n",
      " - time management: 68\n",
      " - monitoring: 66\n",
      " - administrative: 66\n",
      " - negotiation: 64\n",
      " - science: 54\n",
      " - coordination: 52\n",
      " - transportation: 50\n",
      "\n",
      "🟦 Skill Cluster 13 (top salario):\n",
      " - active listening: 7148\n",
      " - transportation: 1398\n",
      " - time management: 129\n",
      " - troubleshooting: 97\n",
      " - administrative: 45\n",
      " - learning strategies: 40\n",
      " - installation: 33\n",
      " - critical thinking: 28\n",
      " - design: 18\n",
      " - negotiation: 16\n",
      "\n",
      "🟦 Skill Cluster 25 (top salario):\n",
      " - critical thinking: 15008\n",
      " - writing: 10483\n",
      " - design: 7108\n",
      " - science: 3519\n",
      " - troubleshooting: 3491\n",
      " - psychology: 3322\n",
      " - transportation: 2829\n",
      " - time management: 181\n",
      " - monitoring: 160\n",
      " - coordination: 152\n",
      "\n",
      "🟦 Skill Cluster 20 (top salario):\n",
      " - persuasion: 575\n",
      " - negotiation: 66\n",
      " - design: 57\n",
      " - mechanical: 32\n",
      " - writing: 26\n",
      " - time management: 12\n",
      " - coordination: 10\n",
      " - operations analysis: 6\n",
      " - programming: 6\n",
      " - science: 5\n",
      "\n",
      "🟦 Skill Cluster 29 (top salario):\n",
      " - troubleshooting: 121530\n",
      " - design: 43075\n",
      " - transportation: 23619\n",
      " - monitoring: 21534\n",
      " - programming: 3957\n",
      " - systems analysis: 3560\n",
      " - critical thinking: 3491\n",
      " - science: 782\n",
      " - mechanical: 513\n",
      " - installation: 498\n",
      "\n",
      "🟦 Skill Cluster 0 (top salario):\n",
      " - equipment selection: 3648\n",
      " - design: 3644\n",
      " - transportation: 698\n",
      " - mechanical: 31\n",
      " - science: 20\n",
      " - time management: 8\n",
      " - troubleshooting: 8\n",
      " - writing: 6\n",
      " - critical thinking: 3\n",
      " - monitoring: 3\n",
      "\n",
      "🟦 Skill Cluster 10 (top salario):\n",
      " - installation: 12508\n",
      " - design: 11351\n",
      " - mechanical: 3952\n",
      " - transportation: 2278\n",
      " - troubleshooting: 498\n",
      " - science: 355\n",
      " - monitoring: 330\n",
      " - coordination: 253\n",
      " - programming: 251\n",
      " - administrative: 225\n",
      "\n",
      "🟦 Skill Cluster 5 (top salario):\n",
      " - mechanical: 30809\n",
      " - design: 22126\n",
      " - transportation: 5726\n",
      " - installation: 3953\n",
      " - troubleshooting: 521\n",
      " - science: 469\n",
      " - monitoring: 318\n",
      " - coordination: 287\n",
      " - writing: 263\n",
      " - programming: 259\n",
      "\n",
      "🟦 Skill Cluster 14 (top salario):\n",
      " - judgment and decision making: 64\n",
      " - science: 32\n",
      " - design: 26\n",
      " - mathematics: 26\n",
      " - administrative: 14\n",
      " - time management: 12\n",
      " - coordination: 10\n",
      " - negotiation: 4\n",
      " - transportation: 3\n",
      " - monitoring: 1\n",
      "\n",
      "🟦 Skill Cluster 28 (top salario):\n",
      " - speaking: 1424\n",
      " - writing: 504\n",
      " - design: 214\n",
      " - science: 149\n",
      " - coordination: 133\n",
      " - monitoring: 127\n",
      " - administrative: 117\n",
      " - programming: 101\n",
      " - time management: 96\n",
      " - negotiation: 85\n",
      "\n",
      "🟦 Skill Cluster 22 (top salario):\n",
      " - fine arts: 3705\n",
      " - transportation: 739\n",
      " - writing: 45\n",
      " - design: 15\n",
      " - time management: 3\n",
      "\n",
      "🟦 Skill Cluster 19 (top salario):\n",
      " - service orientation: 192\n",
      " - installation: 51\n",
      " - design: 40\n",
      " - coordination: 36\n",
      " - administrative: 26\n",
      " - programming: 21\n",
      " - science: 18\n",
      " - critical thinking: 18\n",
      " - monitoring: 17\n",
      " - writing: 17\n",
      "\n",
      "🟦 Skill Cluster 16 (top salario):\n",
      " - psychology: 38056\n",
      " - design: 23971\n",
      " - transportation: 7667\n",
      " - therapy and counseling: 3454\n",
      " - science: 3416\n",
      " - writing: 3359\n",
      " - critical thinking: 3322\n",
      " - monitoring: 83\n",
      " - administrative: 47\n",
      " - coordination: 33\n",
      "\n",
      "🟦 Skill Cluster 6 (top salario):\n",
      " - operations analysis: 9\n",
      " - design: 6\n",
      " - negotiation: 6\n",
      " - persuasion: 6\n",
      " - monitoring: 2\n",
      " - coordination: 1\n",
      "\n",
      "🟦 Skill Cluster 2 (top salario):\n",
      " - transportation: 349349\n",
      " - design: 91790\n",
      " - coordination: 28342\n",
      " - troubleshooting: 23619\n",
      " - negotiation: 22492\n",
      " - writing: 12841\n",
      " - administrative: 12214\n",
      " - programming: 9973\n",
      " - monitoring: 8805\n",
      " - time management: 7906\n",
      "\n",
      "🟦 Skill Cluster 4 (top salario):\n",
      " - time management: 41777\n",
      " - administrative: 35234\n",
      " - coordination: 17824\n",
      " - transportation: 7906\n",
      " - monitoring: 3828\n",
      " - design: 714\n",
      " - writing: 329\n",
      " - science: 252\n",
      " - troubleshooting: 226\n",
      " - negotiation: 190\n",
      "\n",
      "🟦 Skill Cluster 11 (top salario):\n",
      " - food production: 85\n",
      " - monitoring: 17\n",
      " - design: 16\n",
      " - administrative: 12\n",
      " - time management: 9\n",
      " - science: 8\n",
      " - production and processing: 7\n",
      " - mechanical: 6\n",
      " - coordination: 4\n",
      " - programming: 2\n",
      "\n",
      "🟦 Skill Cluster 9 (top salario):\n",
      " - administrative: 63540\n",
      " - time management: 35255\n",
      " - coordination: 28648\n",
      " - transportation: 14249\n",
      " - administration and management: 10399\n",
      " - design: 656\n",
      " - writing: 572\n",
      " - monitoring: 455\n",
      " - science: 291\n",
      " - installation: 225\n",
      "\n",
      "🟦 Skill Cluster 34 (top salario):\n",
      " - instructing: 85\n",
      " - monitoring: 10\n",
      " - speaking: 9\n",
      " - troubleshooting: 6\n",
      " - installation: 5\n",
      " - writing: 4\n",
      " - design: 3\n",
      " - telecommunications: 3\n",
      " - administrative: 2\n",
      " - transportation: 2\n",
      "\n",
      "🟦 Skill Cluster 30 (top salario):\n",
      " - geography: 453\n",
      " - design: 164\n",
      " - writing: 102\n",
      " - administrative: 81\n",
      " - science: 77\n",
      " - chemistry: 36\n",
      " - negotiation: 31\n",
      " - coordination: 29\n",
      " - mechanical: 23\n",
      " - transportation: 22\n",
      "\n",
      "🟦 Skill Cluster 17 (top salario):\n",
      " - repairing: 355\n",
      " - mechanical: 180\n",
      " - troubleshooting: 158\n",
      " - equipment maintenance: 150\n",
      " - installation: 90\n",
      " - design: 84\n",
      " - monitoring: 65\n",
      " - coordination: 45\n",
      " - science: 34\n",
      " - programming: 30\n",
      "\n",
      "🟦 Skill Cluster 18 (top salario):\n",
      " - english language: 472\n",
      " - science: 256\n",
      " - writing: 71\n",
      " - design: 60\n",
      " - mechanical: 36\n",
      " - administrative: 28\n",
      " - transportation: 23\n",
      " - critical thinking: 21\n",
      " - foreign language: 20\n",
      " - programming: 17\n"
     ]
    }
   ],
   "source": [
    "\n",
    "\n",
    "\n",
    "from collections import Counter\n",
    "\n",
    "# Seleccionamos los top skill_clusters\n",
    "top_clusters = salary_by_skill_cluster.head(40).index.tolist()\n",
    "\n",
    "for cluster_id in top_clusters:\n",
    "    habilidades = combined_df['skills_extraidas'][combined_df['skill_clusters'].apply(lambda scs: isinstance(scs, list) and cluster_id in scs)]\n",
    "    habilidades = habilidades.dropna().str.split(', ').explode().str.strip()\n",
    "    top_skills = Counter(habilidades).most_common(10)\n",
    "    \n",
    "    print(f\"\\n🟦 Skill Cluster {cluster_id} (top salario):\")\n",
    "    for skill, count in top_skills:\n",
    "        print(f\" - {skill}: {count}\")\n"
   ]
  },
  {
   "cell_type": "markdown",
   "id": "96052225",
   "metadata": {},
   "source": [
    "limpiar"
   ]
  },
  {
   "cell_type": "code",
   "execution_count": 146,
   "id": "70932c51",
   "metadata": {},
   "outputs": [
    {
     "name": "stderr",
     "output_type": "stream",
     "text": [
      "C:\\Users\\maria\\AppData\\Local\\Temp\\ipykernel_28156\\1278600100.py:12: SettingWithCopyWarning:\n",
      "\n",
      "\n",
      "A value is trying to be set on a copy of a slice from a DataFrame.\n",
      "Try using .loc[row_indexer,col_indexer] = value instead\n",
      "\n",
      "See the caveats in the documentation: https://pandas.pydata.org/pandas-docs/stable/user_guide/indexing.html#returning-a-view-versus-a-copy\n",
      "\n"
     ]
    }
   ],
   "source": [
    "# Convertir 'skill_clusters' a lista si viene como string\n",
    "combined_salary_df[\"skill_clusters\"] = combined_salary_df[\"skill_clusters\"].apply(\n",
    "    lambda x: eval(x) if isinstance(x, str) else x\n",
    ")\n",
    "\n",
    "# Filtrar filas sin skill_clusters útiles\n",
    "combined_salary_df = combined_salary_df[\n",
    "    combined_salary_df[\"skill_clusters\"].apply(lambda x: isinstance(x, list) and len(x) > 0)\n",
    "]\n",
    "\n",
    "# Limpiar skills_extraidas: quitar NaN, espacios y vacíos\n",
    "combined_salary_df[\"skills_extraidas\"] = combined_salary_df[\"skills_extraidas\"].fillna(\"\").str.strip()\n",
    "combined_salary_df = combined_salary_df[combined_salary_df[\"skills_extraidas\"] != \"\"]\n",
    "\n",
    "# Convertir a lista, quitar blancos y eliminar genéricos\n",
    "skills_to_exclude = {\"\", \"transportation\", \"design\"}\n",
    "\n",
    "def limpiar_skills(skills_str):\n",
    "    skills = [s.strip() for s in skills_str.split(',')]\n",
    "    skills_filtradas = [s for s in skills if s.lower() not in skills_to_exclude]\n",
    "    return ', '.join(skills_filtradas)\n",
    "\n",
    "combined_salary_df[\"skills_extraidas\"] = combined_salary_df[\"skills_extraidas\"].apply(limpiar_skills)\n",
    "\n",
    "# Eliminar filas que hayan quedado sin skills después de la limpieza\n",
    "combined_salary_df = combined_salary_df[combined_salary_df[\"skills_extraidas\"] != \"\"]\n",
    "\n"
   ]
  },
  {
   "cell_type": "code",
   "execution_count": 147,
   "id": "06799a11",
   "metadata": {},
   "outputs": [
    {
     "data": {
      "text/plain": [
       "<Axes: xlabel='skill_clusters', ylabel='cluster'>"
      ]
     },
     "execution_count": 147,
     "metadata": {},
     "output_type": "execute_result"
    },
    {
     "data": {
      "image/png": "[encoded data removed]",
      "text/plain": [
       "<Figure size 640x480 with 2 Axes>"
      ]
     },
     "metadata": {},
     "output_type": "display_data"
    }
   ],
   "source": [
    "cross_counts = (\n",
    "    combined_salary_df.explode(\"skill_clusters\")\n",
    "    .groupby([\"cluster\", \"skill_clusters\"])\n",
    "    .size()\n",
    "    .unstack(fill_value=0)\n",
    ")\n",
    "\n",
    "sns.heatmap(cross_counts, cmap=\"Blues\")"
   ]
  },
  {
   "cell_type": "markdown",
   "id": "2f9e1e96",
   "metadata": {},
   "source": [
    "| Skill Cluster | Salario medio aprox. | Habilidades dominantes (de análisis previo)               |\n",
    "| ------------- | -------------------- | --------------------------------------------------------- |\n",
    "| 3             | 109 k €              | science, design, chemistry, critical thinking             |\n",
    "| 8             | 102 k €              | negotiation, coordination, leadership                     |\n",
    "| 26            | 101 k €              | diseño técnico, troubleshooting, mechanical, programación |\n",
    "| 20            | 94 k €               | persuasion, negotiation, análisis de operaciones          |\n",
    "| 12            | 89 k €               | monitoring, troubleshooting, gestión del tiempo           |\n"
   ]
  },
  {
   "cell_type": "code",
   "execution_count": 148,
   "id": "9e780d66",
   "metadata": {},
   "outputs": [
    {
     "data": {
      "text/plain": [
       "<Axes: xlabel='skill_clusters', ylabel='cluster'>"
      ]
     },
     "execution_count": 148,
     "metadata": {},
     "output_type": "execute_result"
    },
    {
     "data": {
      "image/png": "[encoded data removed]",
      "text/plain": [
       "<Figure size 640x480 with 2 Axes>"
      ]
     },
     "metadata": {},
     "output_type": "display_data"
    }
   ],
   "source": [
    "df_exp = combined_salary_df.explode(\"skill_clusters\")\n",
    "salary_matrix = df_exp.groupby([\"cluster\", \"skill_clusters\"])[\"avg_salary_imputed\"].mean().unstack()\n",
    "\n",
    "sns.heatmap(salary_matrix, cmap=\"viridis\")\n"
   ]
  },
  {
   "cell_type": "code",
   "execution_count": 149,
   "id": "2dcc6c02",
   "metadata": {},
   "outputs": [
    {
     "name": "stdout",
     "output_type": "stream",
     "text": [
      "🟦 Cluster 28 → Top habilidades:\n",
      "[('troubleshooting', 51858), ('monitoring', 19116), ('installation', 46), ('science', 17), ('writing', 4)]\n",
      "🟦 Cluster 23 → Top habilidades:\n",
      "[('coordination', 58743), ('administration and management', 22757), ('negotiation', 15051), ('programming', 6), ('writing', 6)]\n",
      "🟦 Cluster 21 → Top habilidades:\n",
      "[('psychology', 45275)]\n",
      "🟦 Cluster 31 → Top habilidades:\n",
      "[('coordination', 30653)]\n",
      "🟦 Cluster 13 → Top habilidades:\n",
      "[('programming', 15656), ('monitoring', 4224), ('science', 123), ('writing', 118), ('troubleshooting', 82)]\n",
      "🟦 Cluster 34 → Top habilidades:\n",
      "[('mechanical', 49028), ('installation', 11033), ('troubleshooting', 214), ('programming', 83), ('equipment selection', 76)]\n",
      "🟦 Cluster 32 → Top habilidades:\n",
      "[('negotiation', 33644), ('time management', 58), ('coordination', 54), ('science', 32), ('writing', 32)]\n",
      "🟦 Cluster 3 → Top habilidades:\n",
      "[('writing', 19311), ('english language', 6), ('complex problem solving', 6), ('programming', 6), ('troubleshooting', 6)]\n",
      "🟦 Cluster 9 → Top habilidades:\n",
      "[('monitoring', 11814), ('troubleshooting', 7460), ('writing', 4304), ('time management', 167), ('sales and marketing', 81)]\n",
      "🟦 Cluster 17 → Top habilidades:\n",
      "[('administrative', 4406), ('writing', 75), ('time management', 20), ('programming', 16), ('monitoring', 8)]\n",
      "🟦 Cluster 10 → Top habilidades:\n",
      "[('administrative', 95601), ('time management', 78675), ('coordination', 56214), ('critical thinking', 21), ('monitoring', 12)]\n",
      "🟦 Cluster 27 → Top habilidades:\n",
      "[('programming', 36130), ('troubleshooting', 22996), ('administrative', 15329), ('time management', 15329), ('monitoring', 4190)]\n",
      "🟦 Cluster 14 → Top habilidades:\n",
      "[('coordination', 17884), ('critical thinking', 18), ('science', 18), ('administrative', 8), ('negotiation', 6)]\n",
      "🟦 Cluster 18 → Top habilidades:\n",
      "[('psychology', 16011), ('active listening', 8309), ('therapy and counseling', 7612), ('coordination', 4352), ('administrative', 70)]\n",
      "🟦 Cluster 5 → Top habilidades:\n",
      "[('troubleshooting', 87321), ('systems analysis', 11989), ('monitoring', 8398), ('writing', 8383), ('programming', 7840)]\n",
      "🟦 Cluster 15 → Top habilidades:\n",
      "[('writing', 47246), ('critical thinking', 36151), ('science', 17782), ('psychology', 17258), ('chemistry', 11052)]\n",
      "🟦 Cluster 36 → Top habilidades:\n",
      "[('troubleshooting', 25321), ('monitoring', 19739), ('coordination', 18820), ('installation', 17306), ('negotiation', 9810)]\n",
      "🟦 Cluster 1 → Top habilidades:\n",
      "[('negotiation', 45783), ('monitoring', 9), ('writing', 9), ('time management', 8), ('coordination', 6)]\n",
      "🟦 Cluster 2 → Top habilidades:\n",
      "[('negotiation', 16809), ('sales and marketing', 165), ('monitoring', 160), ('speaking', 147), ('writing', 139)]\n",
      "🟦 Cluster 35 → Top habilidades:\n",
      "[('negotiation', 15989), ('writing', 12022), ('administrative', 8373), ('critical thinking', 8), ('time management', 1)]\n",
      "🟦 Cluster 25 → Top habilidades:\n",
      "[('coordination', 19648), ('negotiation', 7597), ('installation', 225), ('monitoring', 146), ('telecommunications', 112)]\n",
      "🟦 Cluster 16 → Top habilidades:\n",
      "[('programming', 11422), ('troubleshooting', 11406), ('science', 2)]\n",
      "🟦 Cluster 12 → Top habilidades:\n",
      "[('writing', 30116), ('coordination', 7718), ('sales and marketing', 18), ('psychology', 4)]\n",
      "🟦 Cluster 22 → Top habilidades:\n",
      "[('coordination', 8360), ('science', 49), ('monitoring', 33), ('critical thinking', 22), ('education and training', 18)]\n",
      "🟦 Cluster 4 → Top habilidades:\n",
      "[('monitoring', 4236), ('time management', 20), ('administrative', 18), ('writing', 18), ('coordination', 14)]\n",
      "🟦 Cluster 8 → Top habilidades:\n",
      "[('negotiation', 4193)]\n",
      "🟦 Cluster 20 → Top habilidades:\n",
      "[('coordination', 7445), ('writing', 4168), ('science', 18), ('critical thinking', 12), ('monitoring', 12)]\n",
      "🟦 Cluster 26 → Top habilidades:\n",
      "[('monitoring', 11827), ('time management', 7786), ('writing', 4458), ('coordination', 321), ('administrative', 159)]\n",
      "🟦 Cluster 11 → Top habilidades:\n",
      "[('troubleshooting', 11748), ('critical thinking', 7579), ('administrative', 31), ('time management', 31), ('active listening', 24)]\n",
      "🟦 Cluster 30 → Top habilidades:\n",
      "[('mechanical', 8391), ('chemistry', 4218), ('science', 51), ('english language', 36), ('coordination', 15)]\n",
      "🟦 Cluster 19 → Top habilidades:\n",
      "[('equipment selection', 7848), ('physics', 6)]\n",
      "🟦 Cluster 7 → Top habilidades:\n",
      "[('time management', 81), ('fine arts', 9), ('sales and marketing', 6)]\n",
      "🟦 Cluster 24 → Top habilidades:\n",
      "[('programming', 60), ('monitoring', 38), ('time management', 38), ('administrative', 22), ('service orientation', 10)]\n",
      "🟦 Cluster 6 → Top habilidades:\n",
      "[('speaking', 72), ('science', 41), ('troubleshooting', 30), ('monitoring', 15), ('writing', 8)]\n",
      "🟦 Cluster 33 → Top habilidades:\n",
      "[('coordination', 50), ('administrative', 48), ('monitoring', 28), ('speaking', 17), ('education and training', 15)]\n",
      "🟦 Cluster 29 → Top habilidades:\n",
      "[('monitoring', 32), ('time management', 28), ('critical thinking', 24), ('writing', 24), ('coordination', 9)]\n",
      "🟦 Cluster 0 → Top habilidades:\n",
      "[('mechanical', 50), ('troubleshooting', 22), ('installation', 12), ('chemistry', 10), ('science', 10)]\n"
     ]
    }
   ],
   "source": [
    "from collections import Counter\n",
    "\n",
    "for c in df_exp[\"cluster\"].unique():\n",
    "    top = (\n",
    "        df_exp[df_exp[\"cluster\"] == c][\"skills_extraidas\"]\n",
    "        .dropna().str.split(\", \").explode().str.strip()\n",
    "    )\n",
    "    print(f\"🟦 Cluster {c} → Top habilidades:\")\n",
    "    print(Counter(top).most_common(5))\n"
   ]
  },
  {
   "cell_type": "code",
   "execution_count": 150,
   "id": "eacbe55f",
   "metadata": {},
   "outputs": [],
   "source": [
    "file_path = \"combined_salary_with_skills.csv\"\n",
    "combined_salary_df.to_csv(file_path, index=False)"
   ]
  },
  {
   "cell_type": "code",
   "execution_count": 151,
   "id": "cbdff683",
   "metadata": {},
   "outputs": [
    {
     "data": {
      "text/plain": [
       "0          Digital Marketing Specialist\n",
       "1                         Web Developer\n",
       "2                    Operations Manager\n",
       "3                      Network Engineer\n",
       "4                         Event Manager\n",
       "                       ...             \n",
       "1676562                             NaN\n",
       "1676563                             NaN\n",
       "1676564                             NaN\n",
       "1676565                             NaN\n",
       "1676566                             NaN\n",
       "Name: job title, Length: 1676567, dtype: object"
      ]
     },
     "execution_count": 151,
     "metadata": {},
     "output_type": "execute_result"
    }
   ],
   "source": [
    "combined_df[\"job title\"]"
   ]
  },
  {
   "cell_type": "code",
   "execution_count": 152,
   "id": "baac0308",
   "metadata": {},
   "outputs": [],
   "source": [
    "# Cargar el notebook proporcionado por el usuario para analizar cómo se genera la información\n",
    "skill_cluster_df.to_csv(\"skills_clustered.csv\", index=False)"
   ]
  },
  {
   "cell_type": "code",
   "execution_count": 153,
   "id": "ff1ec7a6",
   "metadata": {},
   "outputs": [],
   "source": [
    "combined_df.to_csv(\"data/combined_df.csv\", index=False)\n"
   ]
  },
  {
   "cell_type": "code",
   "execution_count": 154,
   "id": "4a30caf9",
   "metadata": {},
   "outputs": [
    {
     "data": {
      "text/plain": [
       "['skill_to_cluster.pkl']"
      ]
     },
     "execution_count": 154,
     "metadata": {},
     "output_type": "execute_result"
    }
   ],
   "source": [
    "import joblib\n",
    "joblib.dump(skill_to_cluster, \"skill_to_cluster.pkl\")"
   ]
  },
  {
   "cell_type": "code",
   "execution_count": 155,
   "id": "5478b1b3",
   "metadata": {},
   "outputs": [],
   "source": [
    "import pickle"
   ]
  },
  {
   "cell_type": "code",
   "execution_count": 156,
   "id": "d5e4498c",
   "metadata": {},
   "outputs": [],
   "source": [
    "np.save(\"data/skill_embeddings.npy\", skill_embeddings)\n",
    "with open(\"data/unique_skills.pkl\", \"wb\") as f:\n",
    "    pickle.dump(unique_skills, f)"
   ]
  },
  {
   "cell_type": "code",
   "execution_count": 157,
   "id": "e31074ca",
   "metadata": {},
   "outputs": [],
   "source": [
    "np.save(\"data/skill_embeddings.npy\", skill_embeddings)\n",
    "with open(\"data/unique_skills.pkl\", \"wb\") as f:\n",
    "    pickle.dump(unique_skills, f)\n",
    "\n",
    "skill_cluster_df.to_csv(\"data/skill_cluster_df.csv\", index=False)\n",
    "with open(\"data/skill_to_cluster.pkl\", \"wb\") as f:\n",
    "    pickle.dump(skill_to_cluster, f)\n"
   ]
  },
  {
   "cell_type": "code",
   "execution_count": 158,
   "id": "7d665e6b",
   "metadata": {},
   "outputs": [],
   "source": [
    "combined_salary_df.to_csv(\"data/ofertas_con_salario_cluster.csv\", index=False)\n",
    "\n"
   ]
  },
  {
   "cell_type": "code",
   "execution_count": null,
   "id": "16a15750",
   "metadata": {},
   "outputs": [],
   "source": []
  },
  {
   "cell_type": "code",
   "execution_count": null,
   "id": "cff9e4d9",
   "metadata": {},
   "outputs": [],
   "source": []
  },
  {
   "cell_type": "code",
   "execution_count": null,
   "id": "debfbef7",
   "metadata": {},
   "outputs": [],
   "source": []
  },
  {
   "cell_type": "code",
   "execution_count": null,
   "id": "2464b91e",
   "metadata": {},
   "outputs": [],
   "source": []
  },
  {
   "cell_type": "code",
   "execution_count": null,
   "id": "509e3199",
   "metadata": {},
   "outputs": [],
   "source": []
  },
  {
   "cell_type": "code",
   "execution_count": null,
   "id": "b3b90e18",
   "metadata": {},
   "outputs": [],
   "source": []
  },
  {
   "cell_type": "code",
   "execution_count": null,
   "id": "dd271890",
   "metadata": {},
   "outputs": [],
   "source": []
  },
  {
   "cell_type": "code",
   "execution_count": null,
   "id": "96880079",
   "metadata": {},
   "outputs": [],
   "source": []
  },
  {
   "cell_type": "code",
   "execution_count": null,
   "id": "79977119",
   "metadata": {},
   "outputs": [],
   "source": []
  },
  {
   "cell_type": "code",
   "execution_count": null,
   "id": "c22cf843",
   "metadata": {},
   "outputs": [],
   "source": []
  }
 ],
 "metadata": {
  "kernelspec": {
   "display_name": "tfm",
   "language": "python",
   "name": "python3"
  },
  "language_info": {
   "codemirror_mode": {
    "name": "ipython",
    "version": 3
   },
   "file_extension": ".py",
   "mimetype": "text/x-python",
   "name": "python",
   "nbconvert_exporter": "python",
   "pygments_lexer": "ipython3",
   "version": "3.10.16"
  }
 },
 "nbformat": 4,
 "nbformat_minor": 5
}
