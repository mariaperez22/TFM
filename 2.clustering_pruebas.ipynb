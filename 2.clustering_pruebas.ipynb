{
 "cells": [
  {
   "cell_type": "markdown",
   "id": "f9594bd7",
   "metadata": {},
   "source": [
    "V2 limpia"
   ]
  },
  {
   "cell_type": "code",
   "execution_count": 1,
   "id": "c36231c7",
   "metadata": {},
   "outputs": [],
   "source": [
    "# 📦 Imports\n",
    "import pandas as pd\n",
    "import joblib\n",
    "import zipfile\n",
    "from sklearn.cluster import KMeans\n",
    "from sklearn.feature_extraction.text import TfidfVectorizer\n",
    "from collections import Counter\n",
    "import matplotlib.pyplot as plt"
   ]
  },
  {
   "cell_type": "code",
   "execution_count": 2,
   "id": "11d46ca1",
   "metadata": {},
   "outputs": [],
   "source": [
    "# 📥 Cargar ambos datasets procesados y unirlos\n",
    "DATASETS = [\"dataset1\", \"dataset2\"]\n",
    "frames = []"
   ]
  },
  {
   "cell_type": "markdown",
   "id": "f81b82b8",
   "metadata": {},
   "source": [
    "Leemos los dataset desde zip"
   ]
  },
  {
   "cell_type": "code",
   "execution_count": 3,
   "id": "88db0fc0",
   "metadata": {},
   "outputs": [],
   "source": [
    "for name in DATASETS:\n",
    "    with zipfile.ZipFile(f\"{name}_procesado.zip\", 'r') as zip_ref:\n",
    "        zip_ref.extractall(\"./\")\n",
    "    df_temp = pd.read_csv(f\"{name}_procesado.csv\")\n",
    "    df_temp[\"source\"] = name  # Para saber de dónde viene cada fila\n",
    "    frames.append(df_temp)"
   ]
  },
  {
   "cell_type": "code",
   "execution_count": 4,
   "id": "8dde8907",
   "metadata": {},
   "outputs": [
    {
     "name": "stdout",
     "output_type": "stream",
     "text": [
      "✅ Datasets unidos: 1676567 filas\n"
     ]
    }
   ],
   "source": [
    "# 🔗 Unir datasets\n",
    "combined_df = pd.concat(frames, ignore_index=True)\n",
    "print(f\"✅ Datasets unidos: {combined_df.shape[0]} filas\")"
   ]
  },
  {
   "cell_type": "code",
   "execution_count": 5,
   "id": "2a11fcda",
   "metadata": {},
   "outputs": [],
   "source": [
    "combined_df[\"full_text_df1\"] = combined_df['combined_text']"
   ]
  },
  {
   "cell_type": "code",
   "execution_count": 6,
   "id": "c386c0c5",
   "metadata": {},
   "outputs": [],
   "source": [
    "combined_df[\"full_text_combined\"] = (\n",
    "    combined_df[\"full_text_df1\"].fillna(\"\") + \" \" +\n",
    "    combined_df[\"full_text\"].fillna(\"\")\n",
    ").str.strip()"
   ]
  },
  {
   "cell_type": "code",
   "execution_count": 7,
   "id": "7fa77074",
   "metadata": {},
   "outputs": [
    {
     "name": "stdout",
     "output_type": "stream",
     "text": [
      "✅ TF-IDF aplicado al texto combinado\n"
     ]
    }
   ],
   "source": [
    "# 🔠 Vectorización conjunta del texto\n",
    "vectorizer = TfidfVectorizer(\n",
    "    max_features=1500,\n",
    "    stop_words='english',\n",
    "    max_df=0.85,\n",
    "    min_df=5,\n",
    "    ngram_range=(1, 2)\n",
    ")\n",
    "combined_df = combined_df.dropna(subset=[\"full_text_combined\"])\n",
    "combined_df = combined_df[combined_df[\"full_text_combined\"].str.strip() != \"\"]\n",
    "text_features = vectorizer.fit_transform(combined_df[\"full_text_combined\"])\n",
    "print(\"✅ TF-IDF aplicado al texto combinado\")"
   ]
  },
  {
   "cell_type": "code",
   "execution_count": 8,
   "id": "cd821778",
   "metadata": {},
   "outputs": [
    {
     "name": "stdout",
     "output_type": "stream",
     "text": [
      "Index(['O*NET-SOC Code', 'Title', 'Element ID', 'Element Name', 'Scale ID',\n",
      "       'Scale Name', 'Data Value', 'N', 'Standard Error', 'Lower CI Bound',\n",
      "       'Upper CI Bound', 'Recommend Suppress', 'Not Relevant', 'Date',\n",
      "       'Domain Source'],\n",
      "      dtype='object')\n"
     ]
    }
   ],
   "source": [
    "import pandas as pd\n",
    "\n",
    "# Cargar el CSV con las skills desde O*NET\n",
    "df_skills = pd.read_csv(\"dataset4/Skills.csv\", sep=\";\")  # Ajusta el nombre si es distinto\n",
    "\n",
    "# Verificar columnas disponibles\n",
    "print(df_skills.columns)"
   ]
  },
  {
   "cell_type": "code",
   "execution_count": 9,
   "id": "9ed3df5a",
   "metadata": {},
   "outputs": [],
   "source": [
    "df_knowledge = pd.read_csv(\"dataset4/Knowledge.csv\", sep=\";\")"
   ]
  },
  {
   "cell_type": "code",
   "execution_count": 10,
   "id": "375396ee",
   "metadata": {},
   "outputs": [],
   "source": [
    "# Obtener todos los nombres de skills y conocimientos sin filtro\n",
    "skills_filtered = df_skills[\"Element Name\"].dropna().str.lower().str.strip().unique().tolist()\n",
    "knowledge_filtered = df_knowledge[\"Element Name\"].dropna().str.lower().str.strip().unique().tolist()"
   ]
  },
  {
   "cell_type": "markdown",
   "id": "13980950",
   "metadata": {},
   "source": [
    "aqui cogemos lños de onet que no sean nan, las pasamos a minusculas, separamos que sean unicas  y en una lista y quitamos espacios delante y detras\n"
   ]
  },
  {
   "cell_type": "code",
   "execution_count": 11,
   "id": "ae43460b",
   "metadata": {},
   "outputs": [
    {
     "data": {
      "text/plain": [
       "['complex problem solving',\n",
       " 'foreign language',\n",
       " 'public safety and security',\n",
       " 'communications and media',\n",
       " 'management of material resources',\n",
       " 'sociology and anthropology',\n",
       " 'production and processing',\n",
       " 'writing',\n",
       " 'computers and electronics',\n",
       " 'equipment maintenance',\n",
       " 'mathematics',\n",
       " 'quality control analysis',\n",
       " 'medicine and dentistry',\n",
       " 'education and training',\n",
       " 'technology design',\n",
       " 'administration and management',\n",
       " 'building and construction',\n",
       " 'active learning',\n",
       " 'systems evaluation',\n",
       " 'chemistry',\n",
       " 'negotiation',\n",
       " 'telecommunications',\n",
       " 'learning strategies',\n",
       " 'transportation',\n",
       " 'design',\n",
       " 'administrative',\n",
       " 'physics',\n",
       " 'history and archeology',\n",
       " 'engineering and technology',\n",
       " 'law and government',\n",
       " 'time management',\n",
       " 'operation and control',\n",
       " 'mechanical',\n",
       " 'social perceptiveness',\n",
       " 'operations analysis',\n",
       " 'biology',\n",
       " 'philosophy and theology',\n",
       " 'reading comprehension',\n",
       " 'equipment selection',\n",
       " 'sales and marketing',\n",
       " 'therapy and counseling',\n",
       " 'coordination',\n",
       " 'judgment and decision making',\n",
       " 'service orientation',\n",
       " 'economics and accounting',\n",
       " 'management of personnel resources',\n",
       " 'personnel and human resources',\n",
       " 'installation',\n",
       " 'management of financial resources',\n",
       " 'science',\n",
       " 'customer and personal service',\n",
       " 'psychology',\n",
       " 'english language',\n",
       " 'repairing',\n",
       " 'monitoring',\n",
       " 'active listening',\n",
       " 'fine arts',\n",
       " 'geography',\n",
       " 'programming',\n",
       " 'speaking',\n",
       " 'operations monitoring',\n",
       " 'critical thinking',\n",
       " 'troubleshooting',\n",
       " 'systems analysis',\n",
       " 'food production',\n",
       " 'persuasion',\n",
       " 'instructing']"
      ]
     },
     "execution_count": 11,
     "metadata": {},
     "output_type": "execute_result"
    }
   ],
   "source": [
    "all_terms = list(set(skills_filtered + knowledge_filtered))\n",
    "\n",
    "all_terms"
   ]
  },
  {
   "cell_type": "code",
   "execution_count": 12,
   "id": "ca29a87d",
   "metadata": {},
   "outputs": [
    {
     "data": {
      "text/plain": [
       "['reading comprehension',\n",
       " 'active listening',\n",
       " 'writing',\n",
       " 'speaking',\n",
       " 'mathematics',\n",
       " 'science',\n",
       " 'critical thinking',\n",
       " 'active learning',\n",
       " 'learning strategies',\n",
       " 'monitoring',\n",
       " 'social perceptiveness',\n",
       " 'coordination',\n",
       " 'persuasion',\n",
       " 'negotiation',\n",
       " 'instructing',\n",
       " 'service orientation',\n",
       " 'complex problem solving',\n",
       " 'operations analysis',\n",
       " 'technology design',\n",
       " 'equipment selection',\n",
       " 'installation',\n",
       " 'programming',\n",
       " 'operations monitoring',\n",
       " 'operation and control',\n",
       " 'equipment maintenance',\n",
       " 'troubleshooting',\n",
       " 'repairing',\n",
       " 'quality control analysis',\n",
       " 'judgment and decision making',\n",
       " 'systems analysis',\n",
       " 'systems evaluation',\n",
       " 'time management',\n",
       " 'management of financial resources',\n",
       " 'management of material resources',\n",
       " 'management of personnel resources']"
      ]
     },
     "execution_count": 12,
     "metadata": {},
     "output_type": "execute_result"
    }
   ],
   "source": [
    "skills_filtered"
   ]
  },
  {
   "cell_type": "code",
   "execution_count": 13,
   "id": "ff2b14a4",
   "metadata": {},
   "outputs": [],
   "source": [
    "from flashtext import KeywordProcessor\n",
    "\n",
    "keyword_processor = KeywordProcessor()\n",
    "for skill in all_terms:\n",
    "    keyword_processor.add_keyword(skill)"
   ]
  },
  {
   "cell_type": "markdown",
   "id": "0cccdbda",
   "metadata": {},
   "source": [
    "aplicar a lo que haya puesto en los full_text"
   ]
  },
  {
   "cell_type": "code",
   "execution_count": 14,
   "id": "c4b56ef3",
   "metadata": {},
   "outputs": [],
   "source": [
    "# Aplicar al campo 'description'\n",
    "combined_df[\"skills_extraidas\"] = combined_df[\"full_text_combined\"].fillna(\"\").apply(\n",
    "    lambda x: \", \".join(sorted(set(keyword_processor.extract_keywords(x.lower()))))\n",
    ")"
   ]
  },
  {
   "cell_type": "code",
   "execution_count": 15,
   "id": "cb0e9617",
   "metadata": {},
   "outputs": [
    {
     "name": "stdout",
     "output_type": "stream",
     "text": [
      "🎯 Términos más detectados:\n",
      " - : 644443\n",
      " - design: 427238\n",
      " - transportation: 349349\n",
      " - troubleshooting: 121530\n",
      " - coordination: 115733\n",
      " - negotiation: 112802\n",
      " - writing: 67448\n",
      " - administrative: 63540\n",
      " - programming: 52122\n",
      " - monitoring: 47398\n",
      " - time management: 41777\n",
      " - psychology: 38056\n",
      " - mechanical: 30809\n",
      " - critical thinking: 15008\n",
      " - installation: 12508\n",
      " - science: 11121\n",
      " - administration and management: 10399\n",
      " - chemistry: 7518\n",
      " - active listening: 7148\n",
      " - systems analysis: 7141\n",
      " - fine arts: 3705\n",
      " - equipment selection: 3648\n",
      " - therapy and counseling: 3454\n",
      " - speaking: 1424\n",
      " - sales and marketing: 906\n",
      " - biology: 884\n",
      " - mathematics: 867\n",
      " - persuasion: 575\n",
      " - telecommunications: 489\n",
      " - english language: 472\n"
     ]
    }
   ],
   "source": [
    "from collections import Counter\n",
    "\n",
    "skills_detected = combined_df[\"skills_extraidas\"].dropna().str.split(\", \").explode()\n",
    "top_terms = Counter(skills_detected).most_common(30)\n",
    "\n",
    "print(\"🎯 Términos más detectados:\")\n",
    "for skill, count in top_terms:\n",
    "    print(f\" - {skill}: {count}\")"
   ]
  },
  {
   "cell_type": "code",
   "execution_count": 16,
   "id": "fc88597d",
   "metadata": {},
   "outputs": [
    {
     "data": {
      "text/plain": [
       "0           Digital Marketing Specialist social media man...\n",
       "1          design Web Developer frontend web developers d...\n",
       "2           Operations Manager quality control managers e...\n",
       "3          design, transportation, troubleshooting Networ...\n",
       "4          coordination Event Manager a conference manage...\n",
       "                                 ...                        \n",
       "1676562     area director of business development nexion ...\n",
       "1676563     area director of business development nexion ...\n",
       "1676564     area director of business development nexion ...\n",
       "1676565     area director of business development nexion ...\n",
       "1676566     area director of business development nexion ...\n",
       "Name: text_for_clustering, Length: 1676567, dtype: object"
      ]
     },
     "execution_count": 16,
     "metadata": {},
     "output_type": "execute_result"
    }
   ],
   "source": [
    "### 2. Combinar texto base para clustering (puedes ajustar esta fusión)\n",
    "combined_df[\"text_for_clustering\"] = combined_df[\"skills_extraidas\"].fillna(\"\") + \" \" + combined_df[\"full_text_combined\"].fillna(\"\")\n",
    "\n",
    "combined_df[\"text_for_clustering\"]"
   ]
  },
  {
   "cell_type": "code",
   "execution_count": 17,
   "id": "a7a5a5de",
   "metadata": {},
   "outputs": [
    {
     "name": "stdout",
     "output_type": "stream",
     "text": [
      "✅ TF-IDF vector shape: (1676567, 1500)\n"
     ]
    }
   ],
   "source": [
    "### 3. TF-IDF sobre el texto combinado\n",
    "tfidf = TfidfVectorizer(\n",
    "    max_features=1500,\n",
    "    stop_words=\"english\",\n",
    "    ngram_range=(1, 2),\n",
    "    max_df=0.85,\n",
    "    min_df=5\n",
    ")\n",
    "X = tfidf.fit_transform(combined_df[\"text_for_clustering\"])\n",
    "print(\"✅ TF-IDF vector shape:\", X.shape)"
   ]
  },
  {
   "cell_type": "markdown",
   "id": "6eca931e",
   "metadata": {},
   "source": [
    "KMEANS"
   ]
  },
  {
   "cell_type": "code",
   "execution_count": 18,
   "id": "b7a8c130",
   "metadata": {},
   "outputs": [],
   "source": [
    "k = 40\n",
    "kmeans = KMeans(n_clusters=k, random_state=42)\n",
    "combined_df[\"cluster\"] = kmeans.fit_predict(X)"
   ]
  },
  {
   "cell_type": "code",
   "execution_count": 19,
   "id": "617abf27",
   "metadata": {},
   "outputs": [
    {
     "name": "stdout",
     "output_type": "stream",
     "text": [
      "\n",
      "🟦 Clúster 0 — 10382 ofertas / 10382 con skills extraídas\n",
      "🔝 Top 10 skills/conocimientos:\n",
      " - design: 10338\n",
      " - transportation: 4776\n",
      " - mechanical: 37\n",
      " - writing: 13\n",
      " - coordination: 9\n",
      " - troubleshooting: 6\n",
      " - monitoring: 6\n",
      " - science: 4\n",
      " - installation: 4\n",
      " - critical thinking: 4\n",
      "\n",
      "🟦 Clúster 1 — 41505 ofertas / 41505 con skills extraídas\n",
      "🔝 Top 10 skills/conocimientos:\n",
      " - negotiation: 38018\n",
      " - transportation: 8466\n",
      " - time management: 8\n",
      " - monitoring: 5\n",
      " - coordination: 4\n",
      " - writing: 3\n",
      " - critical thinking: 2\n",
      " - science: 2\n",
      "\n",
      "🟦 Clúster 2 — 52014 ofertas / 52014 con skills extraídas\n",
      "🔝 Top 10 skills/conocimientos:\n",
      " - negotiation: 14233\n",
      " - transportation: 9875\n",
      " - persuasion: 472\n",
      " - sales and marketing: 356\n",
      " - time management: 243\n",
      " - administrative: 221\n",
      " - design: 178\n",
      " - monitoring: 147\n",
      " - coordination: 138\n",
      " - speaking: 113\n",
      "\n",
      "🟦 Clúster 3 — 34738 ofertas / 34738 con skills extraídas\n",
      "🔝 Top 10 skills/conocimientos:\n",
      " - writing: 10380\n",
      " - transportation: 7012\n",
      " - design: 6906\n",
      " - science: 7\n",
      " - programming: 6\n",
      " - english language: 3\n",
      " - complex problem solving: 3\n",
      " - troubleshooting: 3\n",
      " - monitoring: 2\n",
      "\n",
      "🟦 Clúster 4 — 69676 ofertas / 69676 con skills extraídas\n",
      "🔝 Top 10 skills/conocimientos:\n",
      " - transportation: 13850\n",
      " - monitoring: 3547\n",
      " - administrative: 44\n",
      " - science: 43\n",
      " - writing: 22\n",
      " - time management: 19\n",
      " - coordination: 16\n",
      " - critical thinking: 8\n",
      " - speaking: 6\n",
      " - design: 6\n",
      "\n",
      "🟦 Clúster 5 — 105401 ofertas / 105401 con skills extraídas\n",
      "🔝 Top 10 skills/conocimientos:\n",
      " - troubleshooting: 56093\n",
      " - design: 38838\n",
      " - transportation: 23649\n",
      " - systems analysis: 7053\n",
      " - writing: 7041\n",
      " - monitoring: 3791\n",
      " - programming: 3660\n",
      " - science: 244\n",
      " - installation: 241\n",
      " - telecommunications: 124\n",
      "\n",
      "🟦 Clúster 6 — 24667 ofertas / 24667 con skills extraídas\n",
      "🔝 Top 10 skills/conocimientos:\n",
      " - transportation: 4935\n",
      " - speaking: 70\n",
      " - design: 55\n",
      " - troubleshooting: 30\n",
      " - science: 30\n",
      " - writing: 19\n",
      " - monitoring: 18\n",
      " - installation: 8\n",
      " - administrative: 6\n",
      " - coordination: 6\n",
      "\n",
      "🟦 Clúster 7 — 21226 ofertas / 21226 con skills extraídas\n",
      "🔝 Top 10 skills/conocimientos:\n",
      " - design: 21223\n",
      " - transportation: 4071\n",
      " - time management: 40\n",
      " - fine arts: 15\n",
      " - sales and marketing: 6\n",
      "\n",
      "🟦 Clúster 8 — 20911 ofertas / 20911 con skills extraídas\n",
      "🔝 Top 10 skills/conocimientos:\n",
      " - transportation: 4131\n",
      " - negotiation: 3509\n",
      " - monitoring: 6\n",
      " - mechanical: 2\n",
      " - time management: 2\n",
      " - administrative: 1\n",
      " - science: 1\n",
      " - education and training: 1\n",
      "\n",
      "🟦 Clúster 9 — 105455 ofertas / 105455 con skills extraídas\n",
      "🔝 Top 10 skills/conocimientos:\n",
      " - transportation: 20848\n",
      " - design: 7220\n",
      " - monitoring: 6995\n",
      " - writing: 3757\n",
      " - troubleshooting: 3390\n",
      " - sales and marketing: 219\n",
      " - science: 137\n",
      " - time management: 86\n",
      " - coordination: 46\n",
      " - english language: 25\n",
      "\n",
      "🟦 Clúster 10 — 41860 ofertas / 41860 con skills extraídas\n",
      "🔝 Top 10 skills/conocimientos:\n",
      " - administrative: 41860\n",
      " - time management: 27792\n",
      " - coordination: 17532\n",
      " - transportation: 8436\n",
      " - design: 14\n",
      " - critical thinking: 7\n",
      " - monitoring: 6\n",
      " - writing: 5\n",
      " - sales and marketing: 1\n",
      "\n",
      "🟦 Clúster 11 — 42042 ofertas / 42042 con skills extraídas\n",
      "🔝 Top 10 skills/conocimientos:\n",
      " - transportation: 8350\n",
      " - troubleshooting: 6926\n",
      " - critical thinking: 3455\n",
      " - speaking: 24\n",
      " - installation: 24\n",
      " - negotiation: 23\n",
      " - active listening: 18\n",
      " - design: 18\n",
      " - administrative: 16\n",
      " - science: 16\n",
      "\n",
      "🟦 Clúster 12 — 45023 ofertas / 45023 con skills extraídas\n",
      "🔝 Top 10 skills/conocimientos:\n",
      " - design: 17184\n",
      " - writing: 13698\n",
      " - transportation: 8981\n",
      " - coordination: 3492\n",
      " - science: 10\n",
      " - sales and marketing: 8\n",
      " - psychology: 6\n",
      " - administrative: 2\n",
      "\n",
      "🟦 Clúster 13 — 42165 ofertas / 42165 con skills extraídas\n",
      "🔝 Top 10 skills/conocimientos:\n",
      " - design: 14107\n",
      " - transportation: 8499\n",
      " - programming: 7085\n",
      " - monitoring: 3482\n",
      " - science: 82\n",
      " - coordination: 64\n",
      " - writing: 49\n",
      " - troubleshooting: 36\n",
      " - public safety and security: 28\n",
      " - mechanical: 11\n",
      "\n",
      "🟦 Clúster 14 — 41648 ofertas / 41648 con skills extraídas\n",
      "🔝 Top 10 skills/conocimientos:\n",
      " - transportation: 19451\n",
      " - coordination: 10272\n",
      " - design: 41\n",
      " - negotiation: 25\n",
      " - science: 10\n",
      " - monitoring: 8\n",
      " - critical thinking: 8\n",
      " - administrative: 5\n",
      " - sales and marketing: 3\n",
      " - time management: 3\n",
      "\n",
      "🟦 Clúster 15 — 62997 ofertas / 62997 con skills extraídas\n",
      "🔝 Top 10 skills/conocimientos:\n",
      " - design: 21022\n",
      " - writing: 13848\n",
      " - transportation: 12486\n",
      " - critical thinking: 10343\n",
      " - programming: 7170\n",
      " - science: 3739\n",
      " - chemistry: 3469\n",
      " - psychology: 3321\n",
      " - troubleshooting: 86\n",
      " - mathematics: 49\n",
      "\n",
      "🟦 Clúster 16 — 34923 ofertas / 34923 con skills extraídas\n",
      "🔝 Top 10 skills/conocimientos:\n",
      " - design: 31357\n",
      " - transportation: 6906\n",
      " - programming: 3566\n",
      " - troubleshooting: 3558\n",
      " - science: 5\n",
      " - coordination: 2\n",
      "\n",
      "🟦 Clúster 17 — 31324 ofertas / 31324 con skills extraídas\n",
      "🔝 Top 10 skills/conocimientos:\n",
      " - transportation: 6086\n",
      " - administrative: 3646\n",
      " - design: 56\n",
      " - writing: 41\n",
      " - negotiation: 37\n",
      " - time management: 36\n",
      " - coordination: 31\n",
      " - critical thinking: 28\n",
      " - programming: 13\n",
      " - speaking: 8\n",
      "\n",
      "🟦 Clúster 18 — 45486 ofertas / 45486 con skills extraídas\n",
      "🔝 Top 10 skills/conocimientos:\n",
      " - psychology: 10421\n",
      " - transportation: 9034\n",
      " - active listening: 6917\n",
      " - coordination: 3620\n",
      " - therapy and counseling: 3453\n",
      " - administrative: 66\n",
      " - science: 16\n",
      " - monitoring: 9\n",
      " - time management: 5\n",
      " - design: 5\n",
      "\n",
      "🟦 Clúster 19 — 34864 ofertas / 34864 con skills extraídas\n",
      "🔝 Top 10 skills/conocimientos:\n",
      " - design: 31322\n",
      " - transportation: 6989\n",
      " - physics: 3\n",
      "\n",
      "🟦 Clúster 20 — 48522 ofertas / 48522 con skills extraídas\n",
      "🔝 Top 10 skills/conocimientos:\n",
      " - design: 27656\n",
      " - transportation: 9792\n",
      " - writing: 3477\n",
      " - coordination: 3387\n",
      " - biology: 19\n",
      " - chemistry: 19\n",
      " - education and training: 12\n",
      " - science: 12\n",
      " - troubleshooting: 6\n",
      " - monitoring: 5\n",
      "\n",
      "🟦 Clúster 21 — 38037 ofertas / 38037 con skills extraídas\n",
      "🔝 Top 10 skills/conocimientos:\n",
      " - design: 38037\n",
      " - psychology: 20583\n",
      " - transportation: 7614\n",
      "\n",
      "🟦 Clúster 22 — 24424 ofertas / 24424 con skills extraídas\n",
      "🔝 Top 10 skills/conocimientos:\n",
      " - coordination: 6969\n",
      " - transportation: 4917\n",
      " - science: 73\n",
      " - monitoring: 65\n",
      " - critical thinking: 42\n",
      " - administrative: 31\n",
      " - education and training: 12\n",
      " - speaking: 10\n",
      " - programming: 9\n",
      " - design: 7\n",
      "\n",
      "🟦 Clúster 23 — 38319 ofertas / 38319 con skills extraídas\n",
      "🔝 Top 10 skills/conocimientos:\n",
      " - coordination: 34679\n",
      " - administration and management: 10361\n",
      " - transportation: 7545\n",
      " - negotiation: 6860\n",
      " - administrative: 39\n",
      " - design: 25\n",
      " - time management: 15\n",
      " - monitoring: 14\n",
      " - programming: 8\n",
      " - writing: 3\n",
      "\n",
      "🟦 Clúster 24 — 28212 ofertas / 28212 con skills extraídas\n",
      "🔝 Top 10 skills/conocimientos:\n",
      " - transportation: 5475\n",
      " - time management: 24\n",
      " - design: 20\n",
      " - administrative: 16\n",
      " - programming: 12\n",
      " - service orientation: 10\n",
      " - critical thinking: 6\n",
      " - science: 5\n",
      " - geography: 4\n",
      " - speaking: 3\n",
      "\n",
      "🟦 Clúster 25 — 14592 ofertas / 14592 con skills extraídas\n",
      "🔝 Top 10 skills/conocimientos:\n",
      " - coordination: 10696\n",
      " - design: 7266\n",
      " - negotiation: 3500\n",
      " - transportation: 2766\n",
      " - mechanical: 129\n",
      " - installation: 117\n",
      " - monitoring: 105\n",
      " - administrative: 80\n",
      " - time management: 58\n",
      " - writing: 33\n",
      "\n",
      "🟦 Clúster 26 — 25707 ofertas / 25707 con skills extraídas\n",
      "🔝 Top 10 skills/conocimientos:\n",
      " - monitoring: 7267\n",
      " - transportation: 4992\n",
      " - time management: 3583\n",
      " - writing: 3550\n",
      " - design: 617\n",
      " - science: 203\n",
      " - coordination: 203\n",
      " - negotiation: 129\n",
      " - installation: 127\n",
      " - administrative: 97\n",
      "\n",
      "🟦 Clúster 27 — 41770 ofertas / 41770 con skills extraídas\n",
      "🔝 Top 10 skills/conocimientos:\n",
      " - design: 24447\n",
      " - troubleshooting: 10511\n",
      " - transportation: 8351\n",
      " - administrative: 6988\n",
      " - time management: 6988\n",
      " - monitoring: 3469\n",
      " - programming: 3463\n",
      " - science: 30\n",
      " - writing: 7\n",
      " - installation: 2\n",
      "\n",
      "🟦 Clúster 28 — 31534 ofertas / 31534 con skills extraídas\n",
      "🔝 Top 10 skills/conocimientos:\n",
      " - troubleshooting: 31510\n",
      " - monitoring: 7092\n",
      " - design: 7041\n",
      " - transportation: 6290\n",
      " - science: 29\n",
      " - installation: 16\n",
      " - telecommunications: 3\n",
      " - equipment maintenance: 1\n",
      " - writing: 1\n",
      " - coordination: 1\n",
      "\n",
      "🟦 Clúster 29 — 35174 ofertas / 35174 con skills extraídas\n",
      "🔝 Top 10 skills/conocimientos:\n",
      " - transportation: 7036\n",
      " - design: 40\n",
      " - writing: 27\n",
      " - time management: 24\n",
      " - monitoring: 12\n",
      " - coordination: 9\n",
      " - speaking: 8\n",
      " - critical thinking: 6\n",
      " - programming: 2\n",
      " - negotiation: 2\n",
      "\n",
      "🟦 Clúster 30 — 42220 ofertas / 42220 con skills extraídas\n",
      "🔝 Top 10 skills/conocimientos:\n",
      " - design: 10537\n",
      " - transportation: 8432\n",
      " - mechanical: 7093\n",
      " - chemistry: 3547\n",
      " - science: 65\n",
      " - troubleshooting: 42\n",
      " - monitoring: 21\n",
      " - coordination: 16\n",
      " - writing: 13\n",
      " - biology: 11\n",
      "\n",
      "🟦 Clúster 31 — 17302 ofertas / 17302 con skills extraídas\n",
      "🔝 Top 10 skills/conocimientos:\n",
      " - design: 17299\n",
      " - coordination: 13946\n",
      " - transportation: 3429\n",
      "\n",
      "🟦 Clúster 32 — 38773 ofertas / 38773 con skills extraídas\n",
      "🔝 Top 10 skills/conocimientos:\n",
      " - negotiation: 27899\n",
      " - transportation: 7767\n",
      " - writing: 36\n",
      " - monitoring: 22\n",
      " - time management: 21\n",
      " - design: 21\n",
      " - speaking: 18\n",
      " - sales and marketing: 11\n",
      " - science: 10\n",
      " - administrative: 6\n",
      "\n",
      "🟦 Clúster 33 — 60367 ofertas / 60367 con skills extraídas\n",
      "🔝 Top 10 skills/conocimientos:\n",
      " - transportation: 12209\n",
      " - administrative: 149\n",
      " - monitoring: 109\n",
      " - coordination: 73\n",
      " - science: 34\n",
      " - speaking: 29\n",
      " - critical thinking: 27\n",
      " - design: 19\n",
      " - time management: 18\n",
      " - psychology: 13\n",
      "\n",
      "🟦 Clúster 34 — 42007 ofertas / 42007 con skills extraídas\n",
      "🔝 Top 10 skills/conocimientos:\n",
      " - design: 41977\n",
      " - mechanical: 21010\n",
      " - transportation: 11197\n",
      " - installation: 3445\n",
      " - troubleshooting: 90\n",
      " - science: 57\n",
      " - programming: 43\n",
      " - equipment selection: 29\n",
      " - coordination: 23\n",
      " - time management: 17\n",
      "\n",
      "🟦 Clúster 35 — 38545 ofertas / 38545 con skills extraídas\n",
      "🔝 Top 10 skills/conocimientos:\n",
      " - transportation: 7658\n",
      " - writing: 7040\n",
      " - negotiation: 6961\n",
      " - administrative: 3507\n",
      " - time management: 6\n",
      " - speaking: 4\n",
      " - critical thinking: 2\n",
      "\n",
      "🟦 Clúster 36 — 126286 ofertas / 126286 con skills extraídas\n",
      "🔝 Top 10 skills/conocimientos:\n",
      " - design: 24475\n",
      " - transportation: 21749\n",
      " - monitoring: 11121\n",
      " - coordination: 10342\n",
      " - troubleshooting: 9155\n",
      " - science: 6152\n",
      " - programming: 6139\n",
      " - negotiation: 4540\n",
      " - writing: 4231\n",
      " - psychology: 3705\n",
      "\n",
      "🟦 Clúster 37 — 27715 ofertas / 27715 con skills extraídas\n",
      "🔝 Top 10 skills/conocimientos:\n",
      " - programming: 20854\n",
      " - transportation: 5520\n",
      " - design: 3499\n",
      " - troubleshooting: 8\n",
      " - science: 4\n",
      " - monitoring: 2\n",
      "\n",
      "🟦 Clúster 38 — 24371 ofertas / 24371 con skills extraídas\n",
      "🔝 Top 10 skills/conocimientos:\n",
      " - design: 24365\n",
      " - installation: 6988\n",
      " - transportation: 4875\n",
      " - equipment selection: 3575\n",
      " - coordination: 26\n",
      " - administrative: 3\n",
      "\n",
      "🟦 Clúster 39 — 24383 ofertas / 24383 con skills extraídas\n",
      "🔝 Top 10 skills/conocimientos:\n",
      " - negotiation: 7024\n",
      " - transportation: 4904\n",
      " - administrative: 3430\n",
      " - writing: 13\n"
     ]
    }
   ],
   "source": [
    "from collections import Counter\n",
    "\n",
    "for cluster_id in sorted(combined_df[\"cluster\"].dropna().unique()):\n",
    "    subset = combined_df[combined_df[\"cluster\"] == cluster_id]\n",
    "    \n",
    "    skills_col = subset[\"skills_extraidas\"].dropna()\n",
    "    skills_exploded = skills_col.str.split(\", \").explode()\n",
    "    skills_cleaned = skills_exploded[skills_exploded.str.strip() != \"\"]\n",
    "    \n",
    "    total_ofertas = subset.shape[0]\n",
    "    total_con_skills = skills_col.shape[0]\n",
    "\n",
    "    print(f\"\\n🟦 Clúster {cluster_id} — {total_ofertas} ofertas / {total_con_skills} con skills extraídas\")\n",
    "\n",
    "    if not skills_cleaned.empty:\n",
    "        print(\"🔝 Top 10 skills/conocimientos:\")\n",
    "        for skill, count in Counter(skills_cleaned).most_common(10):\n",
    "            print(f\" - {skill}: {count}\")\n",
    "    else:\n",
    "        print(\"⚠️ No hay skills extraídas en este clúster.\")\n"
   ]
  },
  {
   "cell_type": "markdown",
   "id": "2676852d",
   "metadata": {},
   "source": [
    "A tabla"
   ]
  },
  {
   "cell_type": "code",
   "execution_count": 20,
   "id": "edfcf1a7",
   "metadata": {},
   "outputs": [
    {
     "data": {
      "text/html": [
       "<div>\n",
       "<style scoped>\n",
       "    .dataframe tbody tr th:only-of-type {\n",
       "        vertical-align: middle;\n",
       "    }\n",
       "\n",
       "    .dataframe tbody tr th {\n",
       "        vertical-align: top;\n",
       "    }\n",
       "\n",
       "    .dataframe thead th {\n",
       "        text-align: right;\n",
       "    }\n",
       "</style>\n",
       "<table border=\"1\" class=\"dataframe\">\n",
       "  <thead>\n",
       "    <tr style=\"text-align: right;\">\n",
       "      <th></th>\n",
       "      <th>cluster</th>\n",
       "      <th>num_offers</th>\n",
       "      <th>matched_knowledge_terms</th>\n",
       "    </tr>\n",
       "  </thead>\n",
       "  <tbody>\n",
       "    <tr>\n",
       "      <th>0</th>\n",
       "      <td>0</td>\n",
       "      <td>10382</td>\n",
       "      <td>{'design': 10338, 'transportation': 4776, 'mec...</td>\n",
       "    </tr>\n",
       "    <tr>\n",
       "      <th>1</th>\n",
       "      <td>1</td>\n",
       "      <td>41505</td>\n",
       "      <td>{'transportation': 8466}</td>\n",
       "    </tr>\n",
       "    <tr>\n",
       "      <th>2</th>\n",
       "      <td>2</td>\n",
       "      <td>52014</td>\n",
       "      <td>{'transportation': 9875, 'sales and marketing'...</td>\n",
       "    </tr>\n",
       "    <tr>\n",
       "      <th>3</th>\n",
       "      <td>3</td>\n",
       "      <td>34738</td>\n",
       "      <td>{'transportation': 7012, 'design': 6906, 'engl...</td>\n",
       "    </tr>\n",
       "    <tr>\n",
       "      <th>4</th>\n",
       "      <td>4</td>\n",
       "      <td>69676</td>\n",
       "      <td>{'transportation': 13850, 'administrative': 44...</td>\n",
       "    </tr>\n",
       "    <tr>\n",
       "      <th>5</th>\n",
       "      <td>5</td>\n",
       "      <td>105401</td>\n",
       "      <td>{'design': 38838, 'transportation': 23649, 'te...</td>\n",
       "    </tr>\n",
       "    <tr>\n",
       "      <th>6</th>\n",
       "      <td>6</td>\n",
       "      <td>24667</td>\n",
       "      <td>{'transportation': 4935, 'design': 55, 'admini...</td>\n",
       "    </tr>\n",
       "    <tr>\n",
       "      <th>7</th>\n",
       "      <td>7</td>\n",
       "      <td>21226</td>\n",
       "      <td>{'design': 21223, 'transportation': 4071, 'fin...</td>\n",
       "    </tr>\n",
       "    <tr>\n",
       "      <th>8</th>\n",
       "      <td>8</td>\n",
       "      <td>20911</td>\n",
       "      <td>{'transportation': 4131, 'mechanical': 2, 'adm...</td>\n",
       "    </tr>\n",
       "    <tr>\n",
       "      <th>9</th>\n",
       "      <td>9</td>\n",
       "      <td>105455</td>\n",
       "      <td>{'transportation': 20848, 'design': 7220, 'sal...</td>\n",
       "    </tr>\n",
       "    <tr>\n",
       "      <th>10</th>\n",
       "      <td>10</td>\n",
       "      <td>41860</td>\n",
       "      <td>{'administrative': 41860, 'transportation': 84...</td>\n",
       "    </tr>\n",
       "    <tr>\n",
       "      <th>11</th>\n",
       "      <td>11</td>\n",
       "      <td>42042</td>\n",
       "      <td>{'transportation': 8350, 'design': 18, 'admini...</td>\n",
       "    </tr>\n",
       "    <tr>\n",
       "      <th>12</th>\n",
       "      <td>12</td>\n",
       "      <td>45023</td>\n",
       "      <td>{'design': 17184, 'transportation': 8981, 'sal...</td>\n",
       "    </tr>\n",
       "    <tr>\n",
       "      <th>13</th>\n",
       "      <td>13</td>\n",
       "      <td>42165</td>\n",
       "      <td>{'design': 14107, 'transportation': 8499, 'pub...</td>\n",
       "    </tr>\n",
       "    <tr>\n",
       "      <th>14</th>\n",
       "      <td>14</td>\n",
       "      <td>41648</td>\n",
       "      <td>{'transportation': 19451, 'design': 41, 'admin...</td>\n",
       "    </tr>\n",
       "    <tr>\n",
       "      <th>15</th>\n",
       "      <td>15</td>\n",
       "      <td>62997</td>\n",
       "      <td>{'design': 21022, 'transportation': 12486, 'ch...</td>\n",
       "    </tr>\n",
       "    <tr>\n",
       "      <th>16</th>\n",
       "      <td>16</td>\n",
       "      <td>34923</td>\n",
       "      <td>{'design': 31357, 'transportation': 6906}</td>\n",
       "    </tr>\n",
       "    <tr>\n",
       "      <th>17</th>\n",
       "      <td>17</td>\n",
       "      <td>31324</td>\n",
       "      <td>{'transportation': 6086, 'administrative': 364...</td>\n",
       "    </tr>\n",
       "    <tr>\n",
       "      <th>18</th>\n",
       "      <td>18</td>\n",
       "      <td>45486</td>\n",
       "      <td>{'psychology': 10421, 'transportation': 9034, ...</td>\n",
       "    </tr>\n",
       "    <tr>\n",
       "      <th>19</th>\n",
       "      <td>19</td>\n",
       "      <td>34864</td>\n",
       "      <td>{'design': 31322, 'transportation': 6989, 'phy...</td>\n",
       "    </tr>\n",
       "    <tr>\n",
       "      <th>20</th>\n",
       "      <td>20</td>\n",
       "      <td>48522</td>\n",
       "      <td>{'design': 27656, 'transportation': 9792, 'che...</td>\n",
       "    </tr>\n",
       "    <tr>\n",
       "      <th>21</th>\n",
       "      <td>21</td>\n",
       "      <td>38037</td>\n",
       "      <td>{'design': 38037, 'psychology': 20583, 'transp...</td>\n",
       "    </tr>\n",
       "    <tr>\n",
       "      <th>22</th>\n",
       "      <td>22</td>\n",
       "      <td>24424</td>\n",
       "      <td>{'transportation': 4917, 'administrative': 31,...</td>\n",
       "    </tr>\n",
       "    <tr>\n",
       "      <th>23</th>\n",
       "      <td>23</td>\n",
       "      <td>38319</td>\n",
       "      <td>{'administration and management': 10361, 'tran...</td>\n",
       "    </tr>\n",
       "    <tr>\n",
       "      <th>24</th>\n",
       "      <td>24</td>\n",
       "      <td>28212</td>\n",
       "      <td>{'transportation': 5475, 'design': 20, 'admini...</td>\n",
       "    </tr>\n",
       "    <tr>\n",
       "      <th>25</th>\n",
       "      <td>25</td>\n",
       "      <td>14592</td>\n",
       "      <td>{'design': 7266, 'transportation': 2766, 'mech...</td>\n",
       "    </tr>\n",
       "    <tr>\n",
       "      <th>26</th>\n",
       "      <td>26</td>\n",
       "      <td>25707</td>\n",
       "      <td>{'transportation': 4992, 'design': 617, 'admin...</td>\n",
       "    </tr>\n",
       "    <tr>\n",
       "      <th>27</th>\n",
       "      <td>27</td>\n",
       "      <td>41770</td>\n",
       "      <td>{'design': 24447, 'transportation': 8351, 'adm...</td>\n",
       "    </tr>\n",
       "    <tr>\n",
       "      <th>28</th>\n",
       "      <td>28</td>\n",
       "      <td>31534</td>\n",
       "      <td>{'design': 7041, 'transportation': 6290, 'tele...</td>\n",
       "    </tr>\n",
       "    <tr>\n",
       "      <th>29</th>\n",
       "      <td>29</td>\n",
       "      <td>35174</td>\n",
       "      <td>{'transportation': 7036, 'design': 40, 'admini...</td>\n",
       "    </tr>\n",
       "    <tr>\n",
       "      <th>30</th>\n",
       "      <td>30</td>\n",
       "      <td>42220</td>\n",
       "      <td>{'design': 10537, 'transportation': 8432, 'mec...</td>\n",
       "    </tr>\n",
       "    <tr>\n",
       "      <th>31</th>\n",
       "      <td>31</td>\n",
       "      <td>17302</td>\n",
       "      <td>{'design': 17299, 'transportation': 3429}</td>\n",
       "    </tr>\n",
       "    <tr>\n",
       "      <th>32</th>\n",
       "      <td>32</td>\n",
       "      <td>38773</td>\n",
       "      <td>{'transportation': 7767, 'design': 21, 'sales ...</td>\n",
       "    </tr>\n",
       "    <tr>\n",
       "      <th>33</th>\n",
       "      <td>33</td>\n",
       "      <td>60367</td>\n",
       "      <td>{'transportation': 12209, 'administrative': 14...</td>\n",
       "    </tr>\n",
       "    <tr>\n",
       "      <th>34</th>\n",
       "      <td>34</td>\n",
       "      <td>42007</td>\n",
       "      <td>{'design': 41977, 'mechanical': 21010, 'transp...</td>\n",
       "    </tr>\n",
       "    <tr>\n",
       "      <th>35</th>\n",
       "      <td>35</td>\n",
       "      <td>38545</td>\n",
       "      <td>{'transportation': 7658, 'administrative': 3507}</td>\n",
       "    </tr>\n",
       "    <tr>\n",
       "      <th>36</th>\n",
       "      <td>36</td>\n",
       "      <td>126286</td>\n",
       "      <td>{'design': 24475, 'transportation': 21749, 'ps...</td>\n",
       "    </tr>\n",
       "    <tr>\n",
       "      <th>37</th>\n",
       "      <td>37</td>\n",
       "      <td>27715</td>\n",
       "      <td>{'transportation': 5520, 'design': 3499}</td>\n",
       "    </tr>\n",
       "    <tr>\n",
       "      <th>38</th>\n",
       "      <td>38</td>\n",
       "      <td>24371</td>\n",
       "      <td>{'design': 24365, 'transportation': 4875, 'adm...</td>\n",
       "    </tr>\n",
       "    <tr>\n",
       "      <th>39</th>\n",
       "      <td>39</td>\n",
       "      <td>24383</td>\n",
       "      <td>{'transportation': 4904, 'administrative': 3430}</td>\n",
       "    </tr>\n",
       "  </tbody>\n",
       "</table>\n",
       "</div>"
      ],
      "text/plain": [
       "    cluster  num_offers                            matched_knowledge_terms\n",
       "0         0       10382  {'design': 10338, 'transportation': 4776, 'mec...\n",
       "1         1       41505                           {'transportation': 8466}\n",
       "2         2       52014  {'transportation': 9875, 'sales and marketing'...\n",
       "3         3       34738  {'transportation': 7012, 'design': 6906, 'engl...\n",
       "4         4       69676  {'transportation': 13850, 'administrative': 44...\n",
       "5         5      105401  {'design': 38838, 'transportation': 23649, 'te...\n",
       "6         6       24667  {'transportation': 4935, 'design': 55, 'admini...\n",
       "7         7       21226  {'design': 21223, 'transportation': 4071, 'fin...\n",
       "8         8       20911  {'transportation': 4131, 'mechanical': 2, 'adm...\n",
       "9         9      105455  {'transportation': 20848, 'design': 7220, 'sal...\n",
       "10       10       41860  {'administrative': 41860, 'transportation': 84...\n",
       "11       11       42042  {'transportation': 8350, 'design': 18, 'admini...\n",
       "12       12       45023  {'design': 17184, 'transportation': 8981, 'sal...\n",
       "13       13       42165  {'design': 14107, 'transportation': 8499, 'pub...\n",
       "14       14       41648  {'transportation': 19451, 'design': 41, 'admin...\n",
       "15       15       62997  {'design': 21022, 'transportation': 12486, 'ch...\n",
       "16       16       34923          {'design': 31357, 'transportation': 6906}\n",
       "17       17       31324  {'transportation': 6086, 'administrative': 364...\n",
       "18       18       45486  {'psychology': 10421, 'transportation': 9034, ...\n",
       "19       19       34864  {'design': 31322, 'transportation': 6989, 'phy...\n",
       "20       20       48522  {'design': 27656, 'transportation': 9792, 'che...\n",
       "21       21       38037  {'design': 38037, 'psychology': 20583, 'transp...\n",
       "22       22       24424  {'transportation': 4917, 'administrative': 31,...\n",
       "23       23       38319  {'administration and management': 10361, 'tran...\n",
       "24       24       28212  {'transportation': 5475, 'design': 20, 'admini...\n",
       "25       25       14592  {'design': 7266, 'transportation': 2766, 'mech...\n",
       "26       26       25707  {'transportation': 4992, 'design': 617, 'admin...\n",
       "27       27       41770  {'design': 24447, 'transportation': 8351, 'adm...\n",
       "28       28       31534  {'design': 7041, 'transportation': 6290, 'tele...\n",
       "29       29       35174  {'transportation': 7036, 'design': 40, 'admini...\n",
       "30       30       42220  {'design': 10537, 'transportation': 8432, 'mec...\n",
       "31       31       17302          {'design': 17299, 'transportation': 3429}\n",
       "32       32       38773  {'transportation': 7767, 'design': 21, 'sales ...\n",
       "33       33       60367  {'transportation': 12209, 'administrative': 14...\n",
       "34       34       42007  {'design': 41977, 'mechanical': 21010, 'transp...\n",
       "35       35       38545   {'transportation': 7658, 'administrative': 3507}\n",
       "36       36      126286  {'design': 24475, 'transportation': 21749, 'ps...\n",
       "37       37       27715           {'transportation': 5520, 'design': 3499}\n",
       "38       38       24371  {'design': 24365, 'transportation': 4875, 'adm...\n",
       "39       39       24383   {'transportation': 4904, 'administrative': 3430}"
      ]
     },
     "execution_count": 20,
     "metadata": {},
     "output_type": "execute_result"
    }
   ],
   "source": [
    "# Agrupar skills por clúster y cruzar con áreas de conocimiento\n",
    "cluster_knowledge_summary = []\n",
    "\n",
    "for cluster_id in sorted(combined_df[\"cluster\"].dropna().unique()):\n",
    "    subset = combined_df[combined_df[\"cluster\"] == cluster_id]\n",
    "    skills = subset[\"skills_extraidas\"].dropna().str.lower().str.split(\", \").explode()\n",
    "    matched_knowledge = skills[skills.isin(knowledge_filtered)]\n",
    "    \n",
    "    # Contar ocurrencias de cada término de conocimiento\n",
    "    top_knowledge = matched_knowledge.value_counts().head(5).to_dict()\n",
    "    cluster_knowledge_summary.append({\n",
    "        \"cluster\": int(cluster_id),\n",
    "        \"num_offers\": len(subset),\n",
    "        \"matched_knowledge_terms\": top_knowledge\n",
    "    })\n",
    "\n",
    "\n",
    "\n",
    "summary_df = pd.DataFrame(cluster_knowledge_summary)\n",
    "summary_df"
   ]
  },
  {
   "cell_type": "code",
   "execution_count": 21,
   "id": "fdf53a68",
   "metadata": {},
   "outputs": [],
   "source": [
    "from collections import Counter\n",
    "\n",
    "# Nueva lista para los resultados\n",
    "resumen = []\n",
    "\n",
    "# Iterar por cada clúster\n",
    "for cluster_id in sorted(combined_df[\"cluster\"].dropna().unique()):\n",
    "    subset = combined_df[combined_df[\"cluster\"] == cluster_id]\n",
    "    \n",
    "    # Extraer skills como lista\n",
    "    all_terms = subset[\"skills_extraidas\"].dropna().str.split(\", \").explode()\n",
    "    \n",
    "    # Contar\n",
    "    term_counts = Counter(all_terms)\n",
    "    \n",
    "    if term_counts:\n",
    "        main_term = term_counts.most_common(1)[0][0]\n",
    "    else:\n",
    "        main_term = \"sin datos\"\n",
    "    \n",
    "    resumen.append({\n",
    "        \"cluster\": cluster_id,\n",
    "        \"num_offers\": len(subset),\n",
    "        \"main_term\": main_term,\n",
    "        \"term_counts\": dict(term_counts)\n",
    "    })\n",
    "\n",
    "# Crear el nuevo dataframe\n",
    "df_summary = pd.DataFrame(resumen)"
   ]
  },
  {
   "cell_type": "code",
   "execution_count": 22,
   "id": "97abd820",
   "metadata": {},
   "outputs": [
    {
     "data": {
      "application/vnd.plotly.v1+json": {
       "config": {
        "plotlyServerURL": "https://plot.ly"
       },
       "data": [
        {
         "branchvalues": "total",
         "customdata": [
          [
           ""
          ],
          [
           ""
          ],
          [
           ""
          ],
          [
           ""
          ],
          [
           ""
          ],
          [
           ""
          ],
          [
           ""
          ],
          [
           ""
          ],
          [
           ""
          ],
          [
           ""
          ],
          [
           ""
          ],
          [
           ""
          ],
          [
           ""
          ],
          [
           ""
          ],
          [
           ""
          ],
          [
           ""
          ],
          [
           ""
          ],
          [
           ""
          ],
          [
           ""
          ],
          [
           ""
          ],
          [
           ""
          ],
          [
           ""
          ],
          [
           ""
          ],
          [
           "administrative"
          ],
          [
           "administrative"
          ],
          [
           "coordination"
          ],
          [
           "coordination"
          ],
          [
           "coordination"
          ],
          [
           "design"
          ],
          [
           "design"
          ],
          [
           "design"
          ],
          [
           "design"
          ],
          [
           "design"
          ],
          [
           "design"
          ],
          [
           "design"
          ],
          [
           "design"
          ],
          [
           "design"
          ],
          [
           "design"
          ],
          [
           "design"
          ],
          [
           "negotiation"
          ],
          [
           "negotiation"
          ],
          [
           "negotiation"
          ],
          [
           "programming"
          ],
          [
           "programming"
          ],
          [
           "troubleshooting"
          ],
          [
           "troubleshooting"
          ],
          [
           "troubleshooting"
          ]
         ],
         "domain": {
          "x": [
           0,
           1
          ],
          "y": [
           0,
           1
          ]
         },
         "hovertemplate": "labels=%{label}<br>num_offers=%{value}<br>parent=%{parent}<br>id=%{id}<br>main_term=%{customdata[0]}<extra></extra>",
         "ids": [
          "/15",
          "/33",
          "/26",
          "/24",
          "/22",
          "/35",
          "/36",
          "/18",
          "/17",
          "/39",
          "/29",
          "/14",
          "/13",
          "/30",
          "/11",
          "/2",
          "/3",
          "/12",
          "",
          "/6",
          "/4",
          "/8",
          "/9",
          "administrative/10",
          "administrative",
          "coordination",
          "coordination/25",
          "coordination/23",
          "design",
          "design/34",
          "design/38",
          "design/0",
          "design/27",
          "design/21",
          "design/20",
          "design/19",
          "design/16",
          "design/7",
          "design/31",
          "negotiation/32",
          "negotiation",
          "negotiation/1",
          "programming/37",
          "programming",
          "troubleshooting/28",
          "troubleshooting/5",
          "troubleshooting"
         ],
         "labels": [
          "15",
          "33",
          "26",
          "24",
          "22",
          "35",
          "36",
          "18",
          "17",
          "39",
          "29",
          "14",
          "13",
          "30",
          "11",
          "2",
          "3",
          "12",
          "",
          "6",
          "4",
          "8",
          "9",
          "10",
          "administrative",
          "coordination",
          "25",
          "23",
          "design",
          "34",
          "38",
          "0",
          "27",
          "21",
          "20",
          "19",
          "16",
          "7",
          "31",
          "32",
          "negotiation",
          "1",
          "37",
          "programming",
          "28",
          "5",
          "troubleshooting"
         ],
         "marker": {
          "colors": [
           "#636efa",
           "#636efa",
           "#636efa",
           "#636efa",
           "#636efa",
           "#636efa",
           "#636efa",
           "#636efa",
           "#636efa",
           "#636efa",
           "#636efa",
           "#636efa",
           "#636efa",
           "#636efa",
           "#636efa",
           "#636efa",
           "#636efa",
           "#636efa",
           "#636efa",
           "#636efa",
           "#636efa",
           "#636efa",
           "#636efa",
           "#EF553B",
           "#EF553B",
           "#00cc96",
           "#00cc96",
           "#00cc96",
           "#ab63fa",
           "#ab63fa",
           "#ab63fa",
           "#ab63fa",
           "#ab63fa",
           "#ab63fa",
           "#ab63fa",
           "#ab63fa",
           "#ab63fa",
           "#ab63fa",
           "#ab63fa",
           "#FFA15A",
           "#FFA15A",
           "#FFA15A",
           "#19d3f3",
           "#19d3f3",
           "#FF6692",
           "#FF6692",
           "#FF6692"
          ]
         },
         "name": "",
         "parents": [
          "",
          "",
          "",
          "",
          "",
          "",
          "",
          "",
          "",
          "",
          "",
          "",
          "",
          "",
          "",
          "",
          "",
          "",
          "",
          "",
          "",
          "",
          "",
          "administrative",
          "",
          "",
          "coordination",
          "coordination",
          "",
          "design",
          "design",
          "design",
          "design",
          "design",
          "design",
          "design",
          "design",
          "design",
          "design",
          "negotiation",
          "",
          "negotiation",
          "programming",
          "",
          "troubleshooting",
          "troubleshooting",
          ""
         ],
         "type": "sunburst",
         "values": {
          "bdata": "AAAAAKDC7kAAAAAA4HntQAAAAADAGtlAAAAAAACN20AAAAAAANrXQAAAAAAg0uJAAAAAAODU/kAAAAAAwDXmQAAAAAAAl95AAAAAAMDP10AAAAAAwCzhQAAAAAAAVuRAAAAAAKCW5EAAAAAAgJ3kQAAAAABAh+RAAAAAAMBl6UAAAAAAQPbgQAAAAADg++VAAAAAANA7L0EAAAAAwBbYQAAAAADAAvFAAAAAAMBr1EAAAAAA8L75QAAAAACAcORAAAAAAIBw5EAAAAAA4NXpQAAAAAAAgMxAAAAAAOC14kAAAAAA8CATQQAAAADgguRAAAAAAMDM10AAAAAAAEfEQAAAAABAZeRAAAAAAKCS4kAAAAAAQLHnQAAAAAAABuFAAAAAAGAN4UAAAAAAgLrUQAAAAACA5dBAAAAAAKDu4kAAAAAAYJnzQAAAAAAgRORAAAAAAMAQ20AAAAAAwBDbQAAAAACAy95AAAAAAJC7+UAAAAAAOLcAQQ==",
          "dtype": "f8"
         }
        }
       ],
       "layout": {
        "legend": {
         "tracegroupgap": 0
        },
        "margin": {
         "b": 25,
         "l": 25,
         "r": 25,
         "t": 50
        },
        "template": {
         "data": {
          "bar": [
           {
            "error_x": {
             "color": "#2a3f5f"
            },
            "error_y": {
             "color": "#2a3f5f"
            },
            "marker": {
             "line": {
              "color": "#E5ECF6",
              "width": 0.5
             },
             "pattern": {
              "fillmode": "overlay",
              "size": 10,
              "solidity": 0.2
             }
            },
            "type": "bar"
           }
          ],
          "barpolar": [
           {
            "marker": {
             "line": {
              "color": "#E5ECF6",
              "width": 0.5
             },
             "pattern": {
              "fillmode": "overlay",
              "size": 10,
              "solidity": 0.2
             }
            },
            "type": "barpolar"
           }
          ],
          "carpet": [
           {
            "aaxis": {
             "endlinecolor": "#2a3f5f",
             "gridcolor": "white",
             "linecolor": "white",
             "minorgridcolor": "white",
             "startlinecolor": "#2a3f5f"
            },
            "baxis": {
             "endlinecolor": "#2a3f5f",
             "gridcolor": "white",
             "linecolor": "white",
             "minorgridcolor": "white",
             "startlinecolor": "#2a3f5f"
            },
            "type": "carpet"
           }
          ],
          "choropleth": [
           {
            "colorbar": {
             "outlinewidth": 0,
             "ticks": ""
            },
            "type": "choropleth"
           }
          ],
          "contour": [
           {
            "colorbar": {
             "outlinewidth": 0,
             "ticks": ""
            },
            "colorscale": [
             [
              0,
              "#0d0887"
             ],
             [
              0.1111111111111111,
              "#46039f"
             ],
             [
              0.2222222222222222,
              "#7201a8"
             ],
             [
              0.3333333333333333,
              "#9c179e"
             ],
             [
              0.4444444444444444,
              "#bd3786"
             ],
             [
              0.5555555555555556,
              "#d8576b"
             ],
             [
              0.6666666666666666,
              "#ed7953"
             ],
             [
              0.7777777777777778,
              "#fb9f3a"
             ],
             [
              0.8888888888888888,
              "#fdca26"
             ],
             [
              1,
              "#f0f921"
             ]
            ],
            "type": "contour"
           }
          ],
          "contourcarpet": [
           {
            "colorbar": {
             "outlinewidth": 0,
             "ticks": ""
            },
            "type": "contourcarpet"
           }
          ],
          "heatmap": [
           {
            "colorbar": {
             "outlinewidth": 0,
             "ticks": ""
            },
            "colorscale": [
             [
              0,
              "#0d0887"
             ],
             [
              0.1111111111111111,
              "#46039f"
             ],
             [
              0.2222222222222222,
              "#7201a8"
             ],
             [
              0.3333333333333333,
              "#9c179e"
             ],
             [
              0.4444444444444444,
              "#bd3786"
             ],
             [
              0.5555555555555556,
              "#d8576b"
             ],
             [
              0.6666666666666666,
              "#ed7953"
             ],
             [
              0.7777777777777778,
              "#fb9f3a"
             ],
             [
              0.8888888888888888,
              "#fdca26"
             ],
             [
              1,
              "#f0f921"
             ]
            ],
            "type": "heatmap"
           }
          ],
          "histogram": [
           {
            "marker": {
             "pattern": {
              "fillmode": "overlay",
              "size": 10,
              "solidity": 0.2
             }
            },
            "type": "histogram"
           }
          ],
          "histogram2d": [
           {
            "colorbar": {
             "outlinewidth": 0,
             "ticks": ""
            },
            "colorscale": [
             [
              0,
              "#0d0887"
             ],
             [
              0.1111111111111111,
              "#46039f"
             ],
             [
              0.2222222222222222,
              "#7201a8"
             ],
             [
              0.3333333333333333,
              "#9c179e"
             ],
             [
              0.4444444444444444,
              "#bd3786"
             ],
             [
              0.5555555555555556,
              "#d8576b"
             ],
             [
              0.6666666666666666,
              "#ed7953"
             ],
             [
              0.7777777777777778,
              "#fb9f3a"
             ],
             [
              0.8888888888888888,
              "#fdca26"
             ],
             [
              1,
              "#f0f921"
             ]
            ],
            "type": "histogram2d"
           }
          ],
          "histogram2dcontour": [
           {
            "colorbar": {
             "outlinewidth": 0,
             "ticks": ""
            },
            "colorscale": [
             [
              0,
              "#0d0887"
             ],
             [
              0.1111111111111111,
              "#46039f"
             ],
             [
              0.2222222222222222,
              "#7201a8"
             ],
             [
              0.3333333333333333,
              "#9c179e"
             ],
             [
              0.4444444444444444,
              "#bd3786"
             ],
             [
              0.5555555555555556,
              "#d8576b"
             ],
             [
              0.6666666666666666,
              "#ed7953"
             ],
             [
              0.7777777777777778,
              "#fb9f3a"
             ],
             [
              0.8888888888888888,
              "#fdca26"
             ],
             [
              1,
              "#f0f921"
             ]
            ],
            "type": "histogram2dcontour"
           }
          ],
          "mesh3d": [
           {
            "colorbar": {
             "outlinewidth": 0,
             "ticks": ""
            },
            "type": "mesh3d"
           }
          ],
          "parcoords": [
           {
            "line": {
             "colorbar": {
              "outlinewidth": 0,
              "ticks": ""
             }
            },
            "type": "parcoords"
           }
          ],
          "pie": [
           {
            "automargin": true,
            "type": "pie"
           }
          ],
          "scatter": [
           {
            "fillpattern": {
             "fillmode": "overlay",
             "size": 10,
             "solidity": 0.2
            },
            "type": "scatter"
           }
          ],
          "scatter3d": [
           {
            "line": {
             "colorbar": {
              "outlinewidth": 0,
              "ticks": ""
             }
            },
            "marker": {
             "colorbar": {
              "outlinewidth": 0,
              "ticks": ""
             }
            },
            "type": "scatter3d"
           }
          ],
          "scattercarpet": [
           {
            "marker": {
             "colorbar": {
              "outlinewidth": 0,
              "ticks": ""
             }
            },
            "type": "scattercarpet"
           }
          ],
          "scattergeo": [
           {
            "marker": {
             "colorbar": {
              "outlinewidth": 0,
              "ticks": ""
             }
            },
            "type": "scattergeo"
           }
          ],
          "scattergl": [
           {
            "marker": {
             "colorbar": {
              "outlinewidth": 0,
              "ticks": ""
             }
            },
            "type": "scattergl"
           }
          ],
          "scattermap": [
           {
            "marker": {
             "colorbar": {
              "outlinewidth": 0,
              "ticks": ""
             }
            },
            "type": "scattermap"
           }
          ],
          "scattermapbox": [
           {
            "marker": {
             "colorbar": {
              "outlinewidth": 0,
              "ticks": ""
             }
            },
            "type": "scattermapbox"
           }
          ],
          "scatterpolar": [
           {
            "marker": {
             "colorbar": {
              "outlinewidth": 0,
              "ticks": ""
             }
            },
            "type": "scatterpolar"
           }
          ],
          "scatterpolargl": [
           {
            "marker": {
             "colorbar": {
              "outlinewidth": 0,
              "ticks": ""
             }
            },
            "type": "scatterpolargl"
           }
          ],
          "scatterternary": [
           {
            "marker": {
             "colorbar": {
              "outlinewidth": 0,
              "ticks": ""
             }
            },
            "type": "scatterternary"
           }
          ],
          "surface": [
           {
            "colorbar": {
             "outlinewidth": 0,
             "ticks": ""
            },
            "colorscale": [
             [
              0,
              "#0d0887"
             ],
             [
              0.1111111111111111,
              "#46039f"
             ],
             [
              0.2222222222222222,
              "#7201a8"
             ],
             [
              0.3333333333333333,
              "#9c179e"
             ],
             [
              0.4444444444444444,
              "#bd3786"
             ],
             [
              0.5555555555555556,
              "#d8576b"
             ],
             [
              0.6666666666666666,
              "#ed7953"
             ],
             [
              0.7777777777777778,
              "#fb9f3a"
             ],
             [
              0.8888888888888888,
              "#fdca26"
             ],
             [
              1,
              "#f0f921"
             ]
            ],
            "type": "surface"
           }
          ],
          "table": [
           {
            "cells": {
             "fill": {
              "color": "#EBF0F8"
             },
             "line": {
              "color": "white"
             }
            },
            "header": {
             "fill": {
              "color": "#C8D4E3"
             },
             "line": {
              "color": "white"
             }
            },
            "type": "table"
           }
          ]
         },
         "layout": {
          "annotationdefaults": {
           "arrowcolor": "#2a3f5f",
           "arrowhead": 0,
           "arrowwidth": 1
          },
          "autotypenumbers": "strict",
          "coloraxis": {
           "colorbar": {
            "outlinewidth": 0,
            "ticks": ""
           }
          },
          "colorscale": {
           "diverging": [
            [
             0,
             "#8e0152"
            ],
            [
             0.1,
             "#c51b7d"
            ],
            [
             0.2,
             "#de77ae"
            ],
            [
             0.3,
             "#f1b6da"
            ],
            [
             0.4,
             "#fde0ef"
            ],
            [
             0.5,
             "#f7f7f7"
            ],
            [
             0.6,
             "#e6f5d0"
            ],
            [
             0.7,
             "#b8e186"
            ],
            [
             0.8,
             "#7fbc41"
            ],
            [
             0.9,
             "#4d9221"
            ],
            [
             1,
             "#276419"
            ]
           ],
           "sequential": [
            [
             0,
             "#0d0887"
            ],
            [
             0.1111111111111111,
             "#46039f"
            ],
            [
             0.2222222222222222,
             "#7201a8"
            ],
            [
             0.3333333333333333,
             "#9c179e"
            ],
            [
             0.4444444444444444,
             "#bd3786"
            ],
            [
             0.5555555555555556,
             "#d8576b"
            ],
            [
             0.6666666666666666,
             "#ed7953"
            ],
            [
             0.7777777777777778,
             "#fb9f3a"
            ],
            [
             0.8888888888888888,
             "#fdca26"
            ],
            [
             1,
             "#f0f921"
            ]
           ],
           "sequentialminus": [
            [
             0,
             "#0d0887"
            ],
            [
             0.1111111111111111,
             "#46039f"
            ],
            [
             0.2222222222222222,
             "#7201a8"
            ],
            [
             0.3333333333333333,
             "#9c179e"
            ],
            [
             0.4444444444444444,
             "#bd3786"
            ],
            [
             0.5555555555555556,
             "#d8576b"
            ],
            [
             0.6666666666666666,
             "#ed7953"
            ],
            [
             0.7777777777777778,
             "#fb9f3a"
            ],
            [
             0.8888888888888888,
             "#fdca26"
            ],
            [
             1,
             "#f0f921"
            ]
           ]
          },
          "colorway": [
           "#636efa",
           "#EF553B",
           "#00cc96",
           "#ab63fa",
           "#FFA15A",
           "#19d3f3",
           "#FF6692",
           "#B6E880",
           "#FF97FF",
           "#FECB52"
          ],
          "font": {
           "color": "#2a3f5f"
          },
          "geo": {
           "bgcolor": "white",
           "lakecolor": "white",
           "landcolor": "#E5ECF6",
           "showlakes": true,
           "showland": true,
           "subunitcolor": "white"
          },
          "hoverlabel": {
           "align": "left"
          },
          "hovermode": "closest",
          "mapbox": {
           "style": "light"
          },
          "paper_bgcolor": "white",
          "plot_bgcolor": "#E5ECF6",
          "polar": {
           "angularaxis": {
            "gridcolor": "white",
            "linecolor": "white",
            "ticks": ""
           },
           "bgcolor": "#E5ECF6",
           "radialaxis": {
            "gridcolor": "white",
            "linecolor": "white",
            "ticks": ""
           }
          },
          "scene": {
           "xaxis": {
            "backgroundcolor": "#E5ECF6",
            "gridcolor": "white",
            "gridwidth": 2,
            "linecolor": "white",
            "showbackground": true,
            "ticks": "",
            "zerolinecolor": "white"
           },
           "yaxis": {
            "backgroundcolor": "#E5ECF6",
            "gridcolor": "white",
            "gridwidth": 2,
            "linecolor": "white",
            "showbackground": true,
            "ticks": "",
            "zerolinecolor": "white"
           },
           "zaxis": {
            "backgroundcolor": "#E5ECF6",
            "gridcolor": "white",
            "gridwidth": 2,
            "linecolor": "white",
            "showbackground": true,
            "ticks": "",
            "zerolinecolor": "white"
           }
          },
          "shapedefaults": {
           "line": {
            "color": "#2a3f5f"
           }
          },
          "ternary": {
           "aaxis": {
            "gridcolor": "white",
            "linecolor": "white",
            "ticks": ""
           },
           "baxis": {
            "gridcolor": "white",
            "linecolor": "white",
            "ticks": ""
           },
           "bgcolor": "#E5ECF6",
           "caxis": {
            "gridcolor": "white",
            "linecolor": "white",
            "ticks": ""
           }
          },
          "title": {
           "x": 0.05
          },
          "xaxis": {
           "automargin": true,
           "gridcolor": "white",
           "linecolor": "white",
           "ticks": "",
           "title": {
            "standoff": 15
           },
           "zerolinecolor": "white",
           "zerolinewidth": 2
          },
          "yaxis": {
           "automargin": true,
           "gridcolor": "white",
           "linecolor": "white",
           "ticks": "",
           "title": {
            "standoff": 15
           },
           "zerolinecolor": "white",
           "zerolinewidth": 2
          }
         }
        },
        "title": {
         "text": "Distribución jerárquica por término más frecuente (skills o conocimientos)"
        }
       }
      }
     },
     "metadata": {},
     "output_type": "display_data"
    }
   ],
   "source": [
    "import plotly.express as px\n",
    "\n",
    "fig = px.sunburst(\n",
    "    df_summary,\n",
    "    path=[\"main_term\", \"cluster\"],\n",
    "    values=\"num_offers\",\n",
    "    color=\"main_term\",\n",
    "    title=\"Distribución jerárquica por término más frecuente (skills o conocimientos)\"\n",
    ")\n",
    "fig.update_layout(margin=dict(t=50, l=25, r=25, b=25))\n",
    "fig.show()"
   ]
  },
  {
   "cell_type": "code",
   "execution_count": 23,
   "id": "1121a060",
   "metadata": {},
   "outputs": [],
   "source": [
    "def get_main_term_filtered(term_counts):\n",
    "    if isinstance(term_counts, dict):\n",
    "        # Filtrar términos vacíos, 'design' y 'transportation'\n",
    "        filtered = {k: v for k, v in term_counts.items() if k.strip() not in [\"\",]}\n",
    "        if filtered:\n",
    "            return max(filtered, key=filtered.get)\n",
    "    return \"sin datos\"\n",
    "\n",
    "df_summary[\"main_term_filtered\"] = df_summary[\"term_counts\"].apply(get_main_term_filtered)\n"
   ]
  },
  {
   "cell_type": "code",
   "execution_count": 24,
   "id": "a7b9291b",
   "metadata": {},
   "outputs": [
    {
     "data": {
      "application/vnd.plotly.v1+json": {
       "config": {
        "plotlyServerURL": "https://plot.ly"
       },
       "data": [
        {
         "branchvalues": "total",
         "customdata": [
          [
           "administrative"
          ],
          [
           "administrative"
          ],
          [
           "coordination"
          ],
          [
           "coordination"
          ],
          [
           "coordination"
          ],
          [
           "coordination"
          ],
          [
           "design"
          ],
          [
           "design"
          ],
          [
           "design"
          ],
          [
           "design"
          ],
          [
           "design"
          ],
          [
           "design"
          ],
          [
           "design"
          ],
          [
           "design"
          ],
          [
           "design"
          ],
          [
           "design"
          ],
          [
           "design"
          ],
          [
           "design"
          ],
          [
           "design"
          ],
          [
           "design"
          ],
          [
           "design"
          ],
          [
           "design"
          ],
          [
           "monitoring"
          ],
          [
           "monitoring"
          ],
          [
           "negotiation"
          ],
          [
           "negotiation"
          ],
          [
           "negotiation"
          ],
          [
           "negotiation"
          ],
          [
           "negotiation"
          ],
          [
           "programming"
          ],
          [
           "programming"
          ],
          [
           "psychology"
          ],
          [
           "psychology"
          ],
          [
           "transportation"
          ],
          [
           "transportation"
          ],
          [
           "transportation"
          ],
          [
           "transportation"
          ],
          [
           "transportation"
          ],
          [
           "transportation"
          ],
          [
           "transportation"
          ],
          [
           "transportation"
          ],
          [
           "transportation"
          ],
          [
           "transportation"
          ],
          [
           "transportation"
          ],
          [
           "transportation"
          ],
          [
           "troubleshooting"
          ],
          [
           "troubleshooting"
          ],
          [
           "troubleshooting"
          ],
          [
           "writing"
          ],
          [
           "writing"
          ]
         ],
         "domain": {
          "x": [
           0,
           1
          ],
          "y": [
           0,
           1
          ]
         },
         "hovertemplate": "labels=%{label}<br>num_offers=%{value}<br>parent=%{parent}<br>id=%{id}<br>main_term_filtered=%{customdata[0]}<extra></extra>",
         "ids": [
          "administrative",
          "administrative/10",
          "coordination/25",
          "coordination",
          "coordination/23",
          "coordination/22",
          "design/0",
          "design/27",
          "design/21",
          "design/20",
          "design/19",
          "design/34",
          "design/16",
          "design/15",
          "design/36",
          "design/13",
          "design/12",
          "design/38",
          "design/7",
          "design",
          "design/31",
          "design/30",
          "monitoring",
          "monitoring/26",
          "negotiation/32",
          "negotiation/39",
          "negotiation",
          "negotiation/2",
          "negotiation/1",
          "programming/37",
          "programming",
          "psychology/18",
          "psychology",
          "transportation/6",
          "transportation/4",
          "transportation",
          "transportation/29",
          "transportation/8",
          "transportation/24",
          "transportation/11",
          "transportation/14",
          "transportation/35",
          "transportation/17",
          "transportation/33",
          "transportation/9",
          "troubleshooting/5",
          "troubleshooting",
          "troubleshooting/28",
          "writing",
          "writing/3"
         ],
         "labels": [
          "administrative",
          "10",
          "25",
          "coordination",
          "23",
          "22",
          "0",
          "27",
          "21",
          "20",
          "19",
          "34",
          "16",
          "15",
          "36",
          "13",
          "12",
          "38",
          "7",
          "design",
          "31",
          "30",
          "monitoring",
          "26",
          "32",
          "39",
          "negotiation",
          "2",
          "1",
          "37",
          "programming",
          "18",
          "psychology",
          "6",
          "4",
          "transportation",
          "29",
          "8",
          "24",
          "11",
          "14",
          "35",
          "17",
          "33",
          "9",
          "5",
          "troubleshooting",
          "28",
          "writing",
          "3"
         ],
         "marker": {
          "colors": [
           "#636efa",
           "#636efa",
           "#EF553B",
           "#EF553B",
           "#EF553B",
           "#EF553B",
           "#00cc96",
           "#00cc96",
           "#00cc96",
           "#00cc96",
           "#00cc96",
           "#00cc96",
           "#00cc96",
           "#00cc96",
           "#00cc96",
           "#00cc96",
           "#00cc96",
           "#00cc96",
           "#00cc96",
           "#00cc96",
           "#00cc96",
           "#00cc96",
           "#ab63fa",
           "#ab63fa",
           "#FFA15A",
           "#FFA15A",
           "#FFA15A",
           "#FFA15A",
           "#FFA15A",
           "#19d3f3",
           "#19d3f3",
           "#FF6692",
           "#FF6692",
           "#B6E880",
           "#B6E880",
           "#B6E880",
           "#B6E880",
           "#B6E880",
           "#B6E880",
           "#B6E880",
           "#B6E880",
           "#B6E880",
           "#B6E880",
           "#B6E880",
           "#B6E880",
           "#FF97FF",
           "#FF97FF",
           "#FF97FF",
           "#FECB52",
           "#FECB52"
          ]
         },
         "name": "",
         "parents": [
          "",
          "administrative",
          "coordination",
          "",
          "coordination",
          "coordination",
          "design",
          "design",
          "design",
          "design",
          "design",
          "design",
          "design",
          "design",
          "design",
          "design",
          "design",
          "design",
          "design",
          "",
          "design",
          "design",
          "",
          "monitoring",
          "negotiation",
          "negotiation",
          "",
          "negotiation",
          "negotiation",
          "programming",
          "",
          "psychology",
          "",
          "transportation",
          "transportation",
          "",
          "transportation",
          "transportation",
          "transportation",
          "transportation",
          "transportation",
          "transportation",
          "transportation",
          "transportation",
          "transportation",
          "troubleshooting",
          "",
          "troubleshooting",
          "",
          "writing"
         ],
         "type": "sunburst",
         "values": {
          "bdata": "AAAAAIBw5EAAAAAAgHDkQAAAAAAAgMxAAAAAAHDh8kAAAAAA4LXiQAAAAAAA2tdAAAAAAABHxEAAAAAAQGXkQAAAAACgkuJAAAAAAECx50AAAAAAAAbhQAAAAADgguRAAAAAAGAN4UAAAAAAoMLuQAAAAADg1P5AAAAAAKCW5EAAAAAA4PvlQAAAAADAzNdAAAAAAIC61EAAAAAAPkojQQAAAACA5dBAAAAAAICd5EAAAAAAwBrZQAAAAADAGtlAAAAAAKDu4kAAAAAAwM/XQAAAAAAYIANBAAAAAMBl6UAAAAAAIETkQAAAAADAENtAAAAAAMAQ20AAAAAAwDXmQAAAAADANeZAAAAAAMAW2EAAAAAAwALxQAAAAACUZR5BAAAAAMAs4UAAAAAAwGvUQAAAAAAAjdtAAAAAAECH5EAAAAAAAFbkQAAAAAAg0uJAAAAAAACX3kAAAAAA4HntQAAAAADwvvlAAAAAAJC7+UAAAAAAOLcAQQAAAACAy95AAAAAAED24EAAAAAAQPbgQA==",
          "dtype": "f8"
         }
        }
       ],
       "layout": {
        "legend": {
         "tracegroupgap": 0
        },
        "margin": {
         "b": 25,
         "l": 25,
         "r": 25,
         "t": 50
        },
        "template": {
         "data": {
          "bar": [
           {
            "error_x": {
             "color": "#2a3f5f"
            },
            "error_y": {
             "color": "#2a3f5f"
            },
            "marker": {
             "line": {
              "color": "#E5ECF6",
              "width": 0.5
             },
             "pattern": {
              "fillmode": "overlay",
              "size": 10,
              "solidity": 0.2
             }
            },
            "type": "bar"
           }
          ],
          "barpolar": [
           {
            "marker": {
             "line": {
              "color": "#E5ECF6",
              "width": 0.5
             },
             "pattern": {
              "fillmode": "overlay",
              "size": 10,
              "solidity": 0.2
             }
            },
            "type": "barpolar"
           }
          ],
          "carpet": [
           {
            "aaxis": {
             "endlinecolor": "#2a3f5f",
             "gridcolor": "white",
             "linecolor": "white",
             "minorgridcolor": "white",
             "startlinecolor": "#2a3f5f"
            },
            "baxis": {
             "endlinecolor": "#2a3f5f",
             "gridcolor": "white",
             "linecolor": "white",
             "minorgridcolor": "white",
             "startlinecolor": "#2a3f5f"
            },
            "type": "carpet"
           }
          ],
          "choropleth": [
           {
            "colorbar": {
             "outlinewidth": 0,
             "ticks": ""
            },
            "type": "choropleth"
           }
          ],
          "contour": [
           {
            "colorbar": {
             "outlinewidth": 0,
             "ticks": ""
            },
            "colorscale": [
             [
              0,
              "#0d0887"
             ],
             [
              0.1111111111111111,
              "#46039f"
             ],
             [
              0.2222222222222222,
              "#7201a8"
             ],
             [
              0.3333333333333333,
              "#9c179e"
             ],
             [
              0.4444444444444444,
              "#bd3786"
             ],
             [
              0.5555555555555556,
              "#d8576b"
             ],
             [
              0.6666666666666666,
              "#ed7953"
             ],
             [
              0.7777777777777778,
              "#fb9f3a"
             ],
             [
              0.8888888888888888,
              "#fdca26"
             ],
             [
              1,
              "#f0f921"
             ]
            ],
            "type": "contour"
           }
          ],
          "contourcarpet": [
           {
            "colorbar": {
             "outlinewidth": 0,
             "ticks": ""
            },
            "type": "contourcarpet"
           }
          ],
          "heatmap": [
           {
            "colorbar": {
             "outlinewidth": 0,
             "ticks": ""
            },
            "colorscale": [
             [
              0,
              "#0d0887"
             ],
             [
              0.1111111111111111,
              "#46039f"
             ],
             [
              0.2222222222222222,
              "#7201a8"
             ],
             [
              0.3333333333333333,
              "#9c179e"
             ],
             [
              0.4444444444444444,
              "#bd3786"
             ],
             [
              0.5555555555555556,
              "#d8576b"
             ],
             [
              0.6666666666666666,
              "#ed7953"
             ],
             [
              0.7777777777777778,
              "#fb9f3a"
             ],
             [
              0.8888888888888888,
              "#fdca26"
             ],
             [
              1,
              "#f0f921"
             ]
            ],
            "type": "heatmap"
           }
          ],
          "histogram": [
           {
            "marker": {
             "pattern": {
              "fillmode": "overlay",
              "size": 10,
              "solidity": 0.2
             }
            },
            "type": "histogram"
           }
          ],
          "histogram2d": [
           {
            "colorbar": {
             "outlinewidth": 0,
             "ticks": ""
            },
            "colorscale": [
             [
              0,
              "#0d0887"
             ],
             [
              0.1111111111111111,
              "#46039f"
             ],
             [
              0.2222222222222222,
              "#7201a8"
             ],
             [
              0.3333333333333333,
              "#9c179e"
             ],
             [
              0.4444444444444444,
              "#bd3786"
             ],
             [
              0.5555555555555556,
              "#d8576b"
             ],
             [
              0.6666666666666666,
              "#ed7953"
             ],
             [
              0.7777777777777778,
              "#fb9f3a"
             ],
             [
              0.8888888888888888,
              "#fdca26"
             ],
             [
              1,
              "#f0f921"
             ]
            ],
            "type": "histogram2d"
           }
          ],
          "histogram2dcontour": [
           {
            "colorbar": {
             "outlinewidth": 0,
             "ticks": ""
            },
            "colorscale": [
             [
              0,
              "#0d0887"
             ],
             [
              0.1111111111111111,
              "#46039f"
             ],
             [
              0.2222222222222222,
              "#7201a8"
             ],
             [
              0.3333333333333333,
              "#9c179e"
             ],
             [
              0.4444444444444444,
              "#bd3786"
             ],
             [
              0.5555555555555556,
              "#d8576b"
             ],
             [
              0.6666666666666666,
              "#ed7953"
             ],
             [
              0.7777777777777778,
              "#fb9f3a"
             ],
             [
              0.8888888888888888,
              "#fdca26"
             ],
             [
              1,
              "#f0f921"
             ]
            ],
            "type": "histogram2dcontour"
           }
          ],
          "mesh3d": [
           {
            "colorbar": {
             "outlinewidth": 0,
             "ticks": ""
            },
            "type": "mesh3d"
           }
          ],
          "parcoords": [
           {
            "line": {
             "colorbar": {
              "outlinewidth": 0,
              "ticks": ""
             }
            },
            "type": "parcoords"
           }
          ],
          "pie": [
           {
            "automargin": true,
            "type": "pie"
           }
          ],
          "scatter": [
           {
            "fillpattern": {
             "fillmode": "overlay",
             "size": 10,
             "solidity": 0.2
            },
            "type": "scatter"
           }
          ],
          "scatter3d": [
           {
            "line": {
             "colorbar": {
              "outlinewidth": 0,
              "ticks": ""
             }
            },
            "marker": {
             "colorbar": {
              "outlinewidth": 0,
              "ticks": ""
             }
            },
            "type": "scatter3d"
           }
          ],
          "scattercarpet": [
           {
            "marker": {
             "colorbar": {
              "outlinewidth": 0,
              "ticks": ""
             }
            },
            "type": "scattercarpet"
           }
          ],
          "scattergeo": [
           {
            "marker": {
             "colorbar": {
              "outlinewidth": 0,
              "ticks": ""
             }
            },
            "type": "scattergeo"
           }
          ],
          "scattergl": [
           {
            "marker": {
             "colorbar": {
              "outlinewidth": 0,
              "ticks": ""
             }
            },
            "type": "scattergl"
           }
          ],
          "scattermap": [
           {
            "marker": {
             "colorbar": {
              "outlinewidth": 0,
              "ticks": ""
             }
            },
            "type": "scattermap"
           }
          ],
          "scattermapbox": [
           {
            "marker": {
             "colorbar": {
              "outlinewidth": 0,
              "ticks": ""
             }
            },
            "type": "scattermapbox"
           }
          ],
          "scatterpolar": [
           {
            "marker": {
             "colorbar": {
              "outlinewidth": 0,
              "ticks": ""
             }
            },
            "type": "scatterpolar"
           }
          ],
          "scatterpolargl": [
           {
            "marker": {
             "colorbar": {
              "outlinewidth": 0,
              "ticks": ""
             }
            },
            "type": "scatterpolargl"
           }
          ],
          "scatterternary": [
           {
            "marker": {
             "colorbar": {
              "outlinewidth": 0,
              "ticks": ""
             }
            },
            "type": "scatterternary"
           }
          ],
          "surface": [
           {
            "colorbar": {
             "outlinewidth": 0,
             "ticks": ""
            },
            "colorscale": [
             [
              0,
              "#0d0887"
             ],
             [
              0.1111111111111111,
              "#46039f"
             ],
             [
              0.2222222222222222,
              "#7201a8"
             ],
             [
              0.3333333333333333,
              "#9c179e"
             ],
             [
              0.4444444444444444,
              "#bd3786"
             ],
             [
              0.5555555555555556,
              "#d8576b"
             ],
             [
              0.6666666666666666,
              "#ed7953"
             ],
             [
              0.7777777777777778,
              "#fb9f3a"
             ],
             [
              0.8888888888888888,
              "#fdca26"
             ],
             [
              1,
              "#f0f921"
             ]
            ],
            "type": "surface"
           }
          ],
          "table": [
           {
            "cells": {
             "fill": {
              "color": "#EBF0F8"
             },
             "line": {
              "color": "white"
             }
            },
            "header": {
             "fill": {
              "color": "#C8D4E3"
             },
             "line": {
              "color": "white"
             }
            },
            "type": "table"
           }
          ]
         },
         "layout": {
          "annotationdefaults": {
           "arrowcolor": "#2a3f5f",
           "arrowhead": 0,
           "arrowwidth": 1
          },
          "autotypenumbers": "strict",
          "coloraxis": {
           "colorbar": {
            "outlinewidth": 0,
            "ticks": ""
           }
          },
          "colorscale": {
           "diverging": [
            [
             0,
             "#8e0152"
            ],
            [
             0.1,
             "#c51b7d"
            ],
            [
             0.2,
             "#de77ae"
            ],
            [
             0.3,
             "#f1b6da"
            ],
            [
             0.4,
             "#fde0ef"
            ],
            [
             0.5,
             "#f7f7f7"
            ],
            [
             0.6,
             "#e6f5d0"
            ],
            [
             0.7,
             "#b8e186"
            ],
            [
             0.8,
             "#7fbc41"
            ],
            [
             0.9,
             "#4d9221"
            ],
            [
             1,
             "#276419"
            ]
           ],
           "sequential": [
            [
             0,
             "#0d0887"
            ],
            [
             0.1111111111111111,
             "#46039f"
            ],
            [
             0.2222222222222222,
             "#7201a8"
            ],
            [
             0.3333333333333333,
             "#9c179e"
            ],
            [
             0.4444444444444444,
             "#bd3786"
            ],
            [
             0.5555555555555556,
             "#d8576b"
            ],
            [
             0.6666666666666666,
             "#ed7953"
            ],
            [
             0.7777777777777778,
             "#fb9f3a"
            ],
            [
             0.8888888888888888,
             "#fdca26"
            ],
            [
             1,
             "#f0f921"
            ]
           ],
           "sequentialminus": [
            [
             0,
             "#0d0887"
            ],
            [
             0.1111111111111111,
             "#46039f"
            ],
            [
             0.2222222222222222,
             "#7201a8"
            ],
            [
             0.3333333333333333,
             "#9c179e"
            ],
            [
             0.4444444444444444,
             "#bd3786"
            ],
            [
             0.5555555555555556,
             "#d8576b"
            ],
            [
             0.6666666666666666,
             "#ed7953"
            ],
            [
             0.7777777777777778,
             "#fb9f3a"
            ],
            [
             0.8888888888888888,
             "#fdca26"
            ],
            [
             1,
             "#f0f921"
            ]
           ]
          },
          "colorway": [
           "#636efa",
           "#EF553B",
           "#00cc96",
           "#ab63fa",
           "#FFA15A",
           "#19d3f3",
           "#FF6692",
           "#B6E880",
           "#FF97FF",
           "#FECB52"
          ],
          "font": {
           "color": "#2a3f5f"
          },
          "geo": {
           "bgcolor": "white",
           "lakecolor": "white",
           "landcolor": "#E5ECF6",
           "showlakes": true,
           "showland": true,
           "subunitcolor": "white"
          },
          "hoverlabel": {
           "align": "left"
          },
          "hovermode": "closest",
          "mapbox": {
           "style": "light"
          },
          "paper_bgcolor": "white",
          "plot_bgcolor": "#E5ECF6",
          "polar": {
           "angularaxis": {
            "gridcolor": "white",
            "linecolor": "white",
            "ticks": ""
           },
           "bgcolor": "#E5ECF6",
           "radialaxis": {
            "gridcolor": "white",
            "linecolor": "white",
            "ticks": ""
           }
          },
          "scene": {
           "xaxis": {
            "backgroundcolor": "#E5ECF6",
            "gridcolor": "white",
            "gridwidth": 2,
            "linecolor": "white",
            "showbackground": true,
            "ticks": "",
            "zerolinecolor": "white"
           },
           "yaxis": {
            "backgroundcolor": "#E5ECF6",
            "gridcolor": "white",
            "gridwidth": 2,
            "linecolor": "white",
            "showbackground": true,
            "ticks": "",
            "zerolinecolor": "white"
           },
           "zaxis": {
            "backgroundcolor": "#E5ECF6",
            "gridcolor": "white",
            "gridwidth": 2,
            "linecolor": "white",
            "showbackground": true,
            "ticks": "",
            "zerolinecolor": "white"
           }
          },
          "shapedefaults": {
           "line": {
            "color": "#2a3f5f"
           }
          },
          "ternary": {
           "aaxis": {
            "gridcolor": "white",
            "linecolor": "white",
            "ticks": ""
           },
           "baxis": {
            "gridcolor": "white",
            "linecolor": "white",
            "ticks": ""
           },
           "bgcolor": "#E5ECF6",
           "caxis": {
            "gridcolor": "white",
            "linecolor": "white",
            "ticks": ""
           }
          },
          "title": {
           "x": 0.05
          },
          "xaxis": {
           "automargin": true,
           "gridcolor": "white",
           "linecolor": "white",
           "ticks": "",
           "title": {
            "standoff": 15
           },
           "zerolinecolor": "white",
           "zerolinewidth": 2
          },
          "yaxis": {
           "automargin": true,
           "gridcolor": "white",
           "linecolor": "white",
           "ticks": "",
           "title": {
            "standoff": 15
           },
           "zerolinecolor": "white",
           "zerolinewidth": 2
          }
         }
        },
        "title": {
         "text": "Distribución jerárquica por término más frecuente (filtrado)"
        }
       }
      }
     },
     "metadata": {},
     "output_type": "display_data"
    }
   ],
   "source": [
    "fig = px.sunburst(\n",
    "    df_summary,\n",
    "    path=[\"main_term_filtered\", \"cluster\"],\n",
    "    values=\"num_offers\",\n",
    "    color=\"main_term_filtered\",\n",
    "    title=\"Distribución jerárquica por término más frecuente (filtrado)\"\n",
    ")\n",
    "fig.update_layout(margin=dict(t=50, l=25, r=25, b=25))\n",
    "fig.show()"
   ]
  },
  {
   "cell_type": "code",
   "execution_count": 25,
   "id": "568c31fb",
   "metadata": {},
   "outputs": [],
   "source": [
    "def get_main_term_filtered(term_counts):\n",
    "    if isinstance(term_counts, dict):\n",
    "        # Filtrar términos vacíos, 'design' y 'transportation'\n",
    "        filtered = {k: v for k, v in term_counts.items() if k.strip() not in [\"\",\"transportation\", \"design\"]}\n",
    "        if filtered:\n",
    "            return max(filtered, key=filtered.get)\n",
    "    return \"sin datos\"\n",
    "\n",
    "df_summary[\"main_term_filtered\"] = df_summary[\"term_counts\"].apply(get_main_term_filtered)"
   ]
  },
  {
   "cell_type": "code",
   "execution_count": 26,
   "id": "e49dfa77",
   "metadata": {},
   "outputs": [
    {
     "data": {
      "application/vnd.plotly.v1+json": {
       "config": {
        "plotlyServerURL": "https://plot.ly"
       },
       "data": [
        {
         "branchvalues": "total",
         "customdata": [
          [
           "administrative"
          ],
          [
           "administrative"
          ],
          [
           "administrative"
          ],
          [
           "administrative"
          ],
          [
           "coordination"
          ],
          [
           "coordination"
          ],
          [
           "coordination"
          ],
          [
           "coordination"
          ],
          [
           "coordination"
          ],
          [
           "coordination"
          ],
          [
           "installation"
          ],
          [
           "installation"
          ],
          [
           "mechanical"
          ],
          [
           "mechanical"
          ],
          [
           "mechanical"
          ],
          [
           "mechanical"
          ],
          [
           "monitoring"
          ],
          [
           "monitoring"
          ],
          [
           "monitoring"
          ],
          [
           "monitoring"
          ],
          [
           "monitoring"
          ],
          [
           "negotiation"
          ],
          [
           "negotiation"
          ],
          [
           "negotiation"
          ],
          [
           "negotiation"
          ],
          [
           "negotiation"
          ],
          [
           "negotiation"
          ],
          [
           "physics"
          ],
          [
           "physics"
          ],
          [
           "programming"
          ],
          [
           "programming"
          ],
          [
           "programming"
          ],
          [
           "programming"
          ],
          [
           "psychology"
          ],
          [
           "psychology"
          ],
          [
           "psychology"
          ],
          [
           "speaking"
          ],
          [
           "speaking"
          ],
          [
           "time management"
          ],
          [
           "time management"
          ],
          [
           "time management"
          ],
          [
           "troubleshooting"
          ],
          [
           "troubleshooting"
          ],
          [
           "troubleshooting"
          ],
          [
           "troubleshooting"
          ],
          [
           "troubleshooting"
          ],
          [
           "writing"
          ],
          [
           "writing"
          ],
          [
           "writing"
          ],
          [
           "writing"
          ],
          [
           "writing"
          ],
          [
           "writing"
          ],
          [
           "writing"
          ]
         ],
         "domain": {
          "x": [
           0,
           1
          ],
          "y": [
           0,
           1
          ]
         },
         "hovertemplate": "labels=%{label}<br>num_offers=%{value}<br>parent=%{parent}<br>id=%{id}<br>main_term_filtered=%{customdata[0]}<extra></extra>",
         "ids": [
          "administrative",
          "administrative/33",
          "administrative/10",
          "administrative/17",
          "coordination",
          "coordination/31",
          "coordination/25",
          "coordination/23",
          "coordination/22",
          "coordination/14",
          "installation",
          "installation/38",
          "mechanical",
          "mechanical/34",
          "mechanical/30",
          "mechanical/0",
          "monitoring/26",
          "monitoring",
          "monitoring/4",
          "monitoring/9",
          "monitoring/36",
          "negotiation/1",
          "negotiation/2",
          "negotiation",
          "negotiation/39",
          "negotiation/32",
          "negotiation/8",
          "physics/19",
          "physics",
          "programming",
          "programming/37",
          "programming/16",
          "programming/13",
          "psychology",
          "psychology/18",
          "psychology/21",
          "speaking/6",
          "speaking",
          "time management/24",
          "time management/7",
          "time management",
          "troubleshooting/5",
          "troubleshooting/28",
          "troubleshooting/27",
          "troubleshooting/11",
          "troubleshooting",
          "writing/20",
          "writing/29",
          "writing/3",
          "writing/35",
          "writing/15",
          "writing/12",
          "writing"
         ],
         "labels": [
          "administrative",
          "33",
          "10",
          "17",
          "coordination",
          "31",
          "25",
          "23",
          "22",
          "14",
          "installation",
          "38",
          "mechanical",
          "34",
          "30",
          "0",
          "26",
          "monitoring",
          "4",
          "9",
          "36",
          "1",
          "2",
          "negotiation",
          "39",
          "32",
          "8",
          "19",
          "physics",
          "programming",
          "37",
          "16",
          "13",
          "psychology",
          "18",
          "21",
          "6",
          "speaking",
          "24",
          "7",
          "time management",
          "5",
          "28",
          "27",
          "11",
          "troubleshooting",
          "20",
          "29",
          "3",
          "35",
          "15",
          "12",
          "writing"
         ],
         "marker": {
          "colors": [
           "#636efa",
           "#636efa",
           "#636efa",
           "#636efa",
           "#EF553B",
           "#EF553B",
           "#EF553B",
           "#EF553B",
           "#EF553B",
           "#EF553B",
           "#00cc96",
           "#00cc96",
           "#ab63fa",
           "#ab63fa",
           "#ab63fa",
           "#ab63fa",
           "#FFA15A",
           "#FFA15A",
           "#FFA15A",
           "#FFA15A",
           "#FFA15A",
           "#19d3f3",
           "#19d3f3",
           "#19d3f3",
           "#19d3f3",
           "#19d3f3",
           "#19d3f3",
           "#FF6692",
           "#FF6692",
           "#B6E880",
           "#B6E880",
           "#B6E880",
           "#B6E880",
           "#FF97FF",
           "#FF97FF",
           "#FF97FF",
           "#FECB52",
           "#FECB52",
           "#636efa",
           "#636efa",
           "#636efa",
           "#EF553B",
           "#EF553B",
           "#EF553B",
           "#EF553B",
           "#EF553B",
           "#00cc96",
           "#00cc96",
           "#00cc96",
           "#00cc96",
           "#00cc96",
           "#00cc96",
           "#00cc96"
          ]
         },
         "name": "",
         "parents": [
          "",
          "administrative",
          "administrative",
          "administrative",
          "",
          "coordination",
          "coordination",
          "coordination",
          "coordination",
          "coordination",
          "",
          "installation",
          "",
          "mechanical",
          "mechanical",
          "mechanical",
          "monitoring",
          "",
          "monitoring",
          "monitoring",
          "monitoring",
          "negotiation",
          "negotiation",
          "",
          "negotiation",
          "negotiation",
          "negotiation",
          "physics",
          "",
          "",
          "programming",
          "programming",
          "programming",
          "",
          "psychology",
          "psychology",
          "speaking",
          "",
          "time management",
          "time management",
          "",
          "troubleshooting",
          "troubleshooting",
          "troubleshooting",
          "troubleshooting",
          "",
          "writing",
          "writing",
          "writing",
          "writing",
          "writing",
          "writing",
          ""
         ],
         "type": "sunburst",
         "values": {
          "bdata": "AAAAAHhNAEEAAAAA4HntQAAAAACAcORAAAAAAACX3kAAAAAA6KIAQQAAAACA5dBAAAAAAACAzEAAAAAA4LXiQAAAAAAA2tdAAAAAAABW5EAAAAAAwMzXQAAAAADAzNdAAAAAABAZ90AAAAAA4ILkQAAAAACAneRAAAAAAABHxEAAAAAAwBrZQAAAAABQ9xNBAAAAAMAC8UAAAAAA8L75QAAAAADg1P5AAAAAACBE5EAAAAAAwGXpQAAAAACQrQVBAAAAAMDP10AAAAAAoO7iQAAAAADAa9RAAAAAAAAG4UAAAAAAAAbhQAAAAAAwlvlAAAAAAMAQ20AAAAAAYA3hQAAAAACgluRAAAAAADBk9EAAAAAAwDXmQAAAAACgkuJAAAAAAMAW2EAAAAAAwBbYQAAAAAAAjdtAAAAAAIC61EAAAAAAwCPoQAAAAACQu/lAAAAAAIDL3kAAAAAAQGXkQAAAAABAh+RAAAAAAFjyCkEAAAAAQLHnQAAAAADALOFAAAAAAED24EAAAAAAINLiQAAAAACgwu5AAAAAAOD75UAAAAAAnCwQQQ==",
          "dtype": "f8"
         }
        }
       ],
       "layout": {
        "legend": {
         "tracegroupgap": 0
        },
        "margin": {
         "b": 25,
         "l": 25,
         "r": 25,
         "t": 50
        },
        "template": {
         "data": {
          "bar": [
           {
            "error_x": {
             "color": "#2a3f5f"
            },
            "error_y": {
             "color": "#2a3f5f"
            },
            "marker": {
             "line": {
              "color": "#E5ECF6",
              "width": 0.5
             },
             "pattern": {
              "fillmode": "overlay",
              "size": 10,
              "solidity": 0.2
             }
            },
            "type": "bar"
           }
          ],
          "barpolar": [
           {
            "marker": {
             "line": {
              "color": "#E5ECF6",
              "width": 0.5
             },
             "pattern": {
              "fillmode": "overlay",
              "size": 10,
              "solidity": 0.2
             }
            },
            "type": "barpolar"
           }
          ],
          "carpet": [
           {
            "aaxis": {
             "endlinecolor": "#2a3f5f",
             "gridcolor": "white",
             "linecolor": "white",
             "minorgridcolor": "white",
             "startlinecolor": "#2a3f5f"
            },
            "baxis": {
             "endlinecolor": "#2a3f5f",
             "gridcolor": "white",
             "linecolor": "white",
             "minorgridcolor": "white",
             "startlinecolor": "#2a3f5f"
            },
            "type": "carpet"
           }
          ],
          "choropleth": [
           {
            "colorbar": {
             "outlinewidth": 0,
             "ticks": ""
            },
            "type": "choropleth"
           }
          ],
          "contour": [
           {
            "colorbar": {
             "outlinewidth": 0,
             "ticks": ""
            },
            "colorscale": [
             [
              0,
              "#0d0887"
             ],
             [
              0.1111111111111111,
              "#46039f"
             ],
             [
              0.2222222222222222,
              "#7201a8"
             ],
             [
              0.3333333333333333,
              "#9c179e"
             ],
             [
              0.4444444444444444,
              "#bd3786"
             ],
             [
              0.5555555555555556,
              "#d8576b"
             ],
             [
              0.6666666666666666,
              "#ed7953"
             ],
             [
              0.7777777777777778,
              "#fb9f3a"
             ],
             [
              0.8888888888888888,
              "#fdca26"
             ],
             [
              1,
              "#f0f921"
             ]
            ],
            "type": "contour"
           }
          ],
          "contourcarpet": [
           {
            "colorbar": {
             "outlinewidth": 0,
             "ticks": ""
            },
            "type": "contourcarpet"
           }
          ],
          "heatmap": [
           {
            "colorbar": {
             "outlinewidth": 0,
             "ticks": ""
            },
            "colorscale": [
             [
              0,
              "#0d0887"
             ],
             [
              0.1111111111111111,
              "#46039f"
             ],
             [
              0.2222222222222222,
              "#7201a8"
             ],
             [
              0.3333333333333333,
              "#9c179e"
             ],
             [
              0.4444444444444444,
              "#bd3786"
             ],
             [
              0.5555555555555556,
              "#d8576b"
             ],
             [
              0.6666666666666666,
              "#ed7953"
             ],
             [
              0.7777777777777778,
              "#fb9f3a"
             ],
             [
              0.8888888888888888,
              "#fdca26"
             ],
             [
              1,
              "#f0f921"
             ]
            ],
            "type": "heatmap"
           }
          ],
          "histogram": [
           {
            "marker": {
             "pattern": {
              "fillmode": "overlay",
              "size": 10,
              "solidity": 0.2
             }
            },
            "type": "histogram"
           }
          ],
          "histogram2d": [
           {
            "colorbar": {
             "outlinewidth": 0,
             "ticks": ""
            },
            "colorscale": [
             [
              0,
              "#0d0887"
             ],
             [
              0.1111111111111111,
              "#46039f"
             ],
             [
              0.2222222222222222,
              "#7201a8"
             ],
             [
              0.3333333333333333,
              "#9c179e"
             ],
             [
              0.4444444444444444,
              "#bd3786"
             ],
             [
              0.5555555555555556,
              "#d8576b"
             ],
             [
              0.6666666666666666,
              "#ed7953"
             ],
             [
              0.7777777777777778,
              "#fb9f3a"
             ],
             [
              0.8888888888888888,
              "#fdca26"
             ],
             [
              1,
              "#f0f921"
             ]
            ],
            "type": "histogram2d"
           }
          ],
          "histogram2dcontour": [
           {
            "colorbar": {
             "outlinewidth": 0,
             "ticks": ""
            },
            "colorscale": [
             [
              0,
              "#0d0887"
             ],
             [
              0.1111111111111111,
              "#46039f"
             ],
             [
              0.2222222222222222,
              "#7201a8"
             ],
             [
              0.3333333333333333,
              "#9c179e"
             ],
             [
              0.4444444444444444,
              "#bd3786"
             ],
             [
              0.5555555555555556,
              "#d8576b"
             ],
             [
              0.6666666666666666,
              "#ed7953"
             ],
             [
              0.7777777777777778,
              "#fb9f3a"
             ],
             [
              0.8888888888888888,
              "#fdca26"
             ],
             [
              1,
              "#f0f921"
             ]
            ],
            "type": "histogram2dcontour"
           }
          ],
          "mesh3d": [
           {
            "colorbar": {
             "outlinewidth": 0,
             "ticks": ""
            },
            "type": "mesh3d"
           }
          ],
          "parcoords": [
           {
            "line": {
             "colorbar": {
              "outlinewidth": 0,
              "ticks": ""
             }
            },
            "type": "parcoords"
           }
          ],
          "pie": [
           {
            "automargin": true,
            "type": "pie"
           }
          ],
          "scatter": [
           {
            "fillpattern": {
             "fillmode": "overlay",
             "size": 10,
             "solidity": 0.2
            },
            "type": "scatter"
           }
          ],
          "scatter3d": [
           {
            "line": {
             "colorbar": {
              "outlinewidth": 0,
              "ticks": ""
             }
            },
            "marker": {
             "colorbar": {
              "outlinewidth": 0,
              "ticks": ""
             }
            },
            "type": "scatter3d"
           }
          ],
          "scattercarpet": [
           {
            "marker": {
             "colorbar": {
              "outlinewidth": 0,
              "ticks": ""
             }
            },
            "type": "scattercarpet"
           }
          ],
          "scattergeo": [
           {
            "marker": {
             "colorbar": {
              "outlinewidth": 0,
              "ticks": ""
             }
            },
            "type": "scattergeo"
           }
          ],
          "scattergl": [
           {
            "marker": {
             "colorbar": {
              "outlinewidth": 0,
              "ticks": ""
             }
            },
            "type": "scattergl"
           }
          ],
          "scattermap": [
           {
            "marker": {
             "colorbar": {
              "outlinewidth": 0,
              "ticks": ""
             }
            },
            "type": "scattermap"
           }
          ],
          "scattermapbox": [
           {
            "marker": {
             "colorbar": {
              "outlinewidth": 0,
              "ticks": ""
             }
            },
            "type": "scattermapbox"
           }
          ],
          "scatterpolar": [
           {
            "marker": {
             "colorbar": {
              "outlinewidth": 0,
              "ticks": ""
             }
            },
            "type": "scatterpolar"
           }
          ],
          "scatterpolargl": [
           {
            "marker": {
             "colorbar": {
              "outlinewidth": 0,
              "ticks": ""
             }
            },
            "type": "scatterpolargl"
           }
          ],
          "scatterternary": [
           {
            "marker": {
             "colorbar": {
              "outlinewidth": 0,
              "ticks": ""
             }
            },
            "type": "scatterternary"
           }
          ],
          "surface": [
           {
            "colorbar": {
             "outlinewidth": 0,
             "ticks": ""
            },
            "colorscale": [
             [
              0,
              "#0d0887"
             ],
             [
              0.1111111111111111,
              "#46039f"
             ],
             [
              0.2222222222222222,
              "#7201a8"
             ],
             [
              0.3333333333333333,
              "#9c179e"
             ],
             [
              0.4444444444444444,
              "#bd3786"
             ],
             [
              0.5555555555555556,
              "#d8576b"
             ],
             [
              0.6666666666666666,
              "#ed7953"
             ],
             [
              0.7777777777777778,
              "#fb9f3a"
             ],
             [
              0.8888888888888888,
              "#fdca26"
             ],
             [
              1,
              "#f0f921"
             ]
            ],
            "type": "surface"
           }
          ],
          "table": [
           {
            "cells": {
             "fill": {
              "color": "#EBF0F8"
             },
             "line": {
              "color": "white"
             }
            },
            "header": {
             "fill": {
              "color": "#C8D4E3"
             },
             "line": {
              "color": "white"
             }
            },
            "type": "table"
           }
          ]
         },
         "layout": {
          "annotationdefaults": {
           "arrowcolor": "#2a3f5f",
           "arrowhead": 0,
           "arrowwidth": 1
          },
          "autotypenumbers": "strict",
          "coloraxis": {
           "colorbar": {
            "outlinewidth": 0,
            "ticks": ""
           }
          },
          "colorscale": {
           "diverging": [
            [
             0,
             "#8e0152"
            ],
            [
             0.1,
             "#c51b7d"
            ],
            [
             0.2,
             "#de77ae"
            ],
            [
             0.3,
             "#f1b6da"
            ],
            [
             0.4,
             "#fde0ef"
            ],
            [
             0.5,
             "#f7f7f7"
            ],
            [
             0.6,
             "#e6f5d0"
            ],
            [
             0.7,
             "#b8e186"
            ],
            [
             0.8,
             "#7fbc41"
            ],
            [
             0.9,
             "#4d9221"
            ],
            [
             1,
             "#276419"
            ]
           ],
           "sequential": [
            [
             0,
             "#0d0887"
            ],
            [
             0.1111111111111111,
             "#46039f"
            ],
            [
             0.2222222222222222,
             "#7201a8"
            ],
            [
             0.3333333333333333,
             "#9c179e"
            ],
            [
             0.4444444444444444,
             "#bd3786"
            ],
            [
             0.5555555555555556,
             "#d8576b"
            ],
            [
             0.6666666666666666,
             "#ed7953"
            ],
            [
             0.7777777777777778,
             "#fb9f3a"
            ],
            [
             0.8888888888888888,
             "#fdca26"
            ],
            [
             1,
             "#f0f921"
            ]
           ],
           "sequentialminus": [
            [
             0,
             "#0d0887"
            ],
            [
             0.1111111111111111,
             "#46039f"
            ],
            [
             0.2222222222222222,
             "#7201a8"
            ],
            [
             0.3333333333333333,
             "#9c179e"
            ],
            [
             0.4444444444444444,
             "#bd3786"
            ],
            [
             0.5555555555555556,
             "#d8576b"
            ],
            [
             0.6666666666666666,
             "#ed7953"
            ],
            [
             0.7777777777777778,
             "#fb9f3a"
            ],
            [
             0.8888888888888888,
             "#fdca26"
            ],
            [
             1,
             "#f0f921"
            ]
           ]
          },
          "colorway": [
           "#636efa",
           "#EF553B",
           "#00cc96",
           "#ab63fa",
           "#FFA15A",
           "#19d3f3",
           "#FF6692",
           "#B6E880",
           "#FF97FF",
           "#FECB52"
          ],
          "font": {
           "color": "#2a3f5f"
          },
          "geo": {
           "bgcolor": "white",
           "lakecolor": "white",
           "landcolor": "#E5ECF6",
           "showlakes": true,
           "showland": true,
           "subunitcolor": "white"
          },
          "hoverlabel": {
           "align": "left"
          },
          "hovermode": "closest",
          "mapbox": {
           "style": "light"
          },
          "paper_bgcolor": "white",
          "plot_bgcolor": "#E5ECF6",
          "polar": {
           "angularaxis": {
            "gridcolor": "white",
            "linecolor": "white",
            "ticks": ""
           },
           "bgcolor": "#E5ECF6",
           "radialaxis": {
            "gridcolor": "white",
            "linecolor": "white",
            "ticks": ""
           }
          },
          "scene": {
           "xaxis": {
            "backgroundcolor": "#E5ECF6",
            "gridcolor": "white",
            "gridwidth": 2,
            "linecolor": "white",
            "showbackground": true,
            "ticks": "",
            "zerolinecolor": "white"
           },
           "yaxis": {
            "backgroundcolor": "#E5ECF6",
            "gridcolor": "white",
            "gridwidth": 2,
            "linecolor": "white",
            "showbackground": true,
            "ticks": "",
            "zerolinecolor": "white"
           },
           "zaxis": {
            "backgroundcolor": "#E5ECF6",
            "gridcolor": "white",
            "gridwidth": 2,
            "linecolor": "white",
            "showbackground": true,
            "ticks": "",
            "zerolinecolor": "white"
           }
          },
          "shapedefaults": {
           "line": {
            "color": "#2a3f5f"
           }
          },
          "ternary": {
           "aaxis": {
            "gridcolor": "white",
            "linecolor": "white",
            "ticks": ""
           },
           "baxis": {
            "gridcolor": "white",
            "linecolor": "white",
            "ticks": ""
           },
           "bgcolor": "#E5ECF6",
           "caxis": {
            "gridcolor": "white",
            "linecolor": "white",
            "ticks": ""
           }
          },
          "title": {
           "x": 0.05
          },
          "xaxis": {
           "automargin": true,
           "gridcolor": "white",
           "linecolor": "white",
           "ticks": "",
           "title": {
            "standoff": 15
           },
           "zerolinecolor": "white",
           "zerolinewidth": 2
          },
          "yaxis": {
           "automargin": true,
           "gridcolor": "white",
           "linecolor": "white",
           "ticks": "",
           "title": {
            "standoff": 15
           },
           "zerolinecolor": "white",
           "zerolinewidth": 2
          }
         }
        },
        "title": {
         "text": "Distribución jerárquica por término más frecuente (filtrado)"
        }
       }
      }
     },
     "metadata": {},
     "output_type": "display_data"
    }
   ],
   "source": [
    "fig = px.sunburst(\n",
    "    df_summary,\n",
    "    path=[\"main_term_filtered\", \"cluster\"],\n",
    "    values=\"num_offers\",\n",
    "    color=\"main_term_filtered\",\n",
    "    title=\"Distribución jerárquica por término más frecuente (filtrado)\"\n",
    ")\n",
    "fig.update_layout(margin=dict(t=50, l=25, r=25, b=25))\n",
    "fig.show()"
   ]
  },
  {
   "cell_type": "code",
   "execution_count": 27,
   "id": "5ffa1e9a",
   "metadata": {},
   "outputs": [
    {
     "name": "stdout",
     "output_type": "stream",
     "text": [
      "🔎 Total de habilidades únicas detectadas: 55\n"
     ]
    }
   ],
   "source": [
    "# Explota la columna de skills (ya separadas por comas)\n",
    "all_skills = combined_df[\"skills_extraidas\"].dropna().str.split(\", \").explode().str.lower().str.strip()\n",
    "\n",
    "# Elimina duplicados y valores vacíos\n",
    "unique_skills = all_skills[all_skills != \"\"].drop_duplicates().tolist()\n",
    "\n",
    "print(f\"🔎 Total de habilidades únicas detectadas: {len(unique_skills)}\")"
   ]
  },
  {
   "cell_type": "code",
   "execution_count": 28,
   "id": "f626036e",
   "metadata": {},
   "outputs": [
    {
     "name": "stderr",
     "output_type": "stream",
     "text": [
      "c:\\Users\\maria\\anaconda3\\envs\\tfm\\lib\\site-packages\\tqdm\\auto.py:21: TqdmWarning:\n",
      "\n",
      "IProgress not found. Please update jupyter and ipywidgets. See https://ipywidgets.readthedocs.io/en/stable/user_install.html\n",
      "\n",
      "Batches: 100%|██████████| 2/2 [00:00<00:00, 42.16it/s]\n"
     ]
    }
   ],
   "source": [
    "from sentence_transformers import SentenceTransformer\n",
    "\n",
    "model = SentenceTransformer(\"all-MiniLM-L6-v2\")  # Ligero y efectivo\n",
    "skill_embeddings = model.encode(unique_skills, show_progress_bar=True)"
   ]
  },
  {
   "cell_type": "code",
   "execution_count": 33,
   "id": "290c4ea4",
   "metadata": {},
   "outputs": [
    {
     "data": {
      "image/png": "[encoded data removed]",
      "text/plain": [
       "<Figure size 640x480 with 1 Axes>"
      ]
     },
     "metadata": {},
     "output_type": "display_data"
    }
   ],
   "source": [
    "from sklearn.metrics import silhouette_score\n",
    "\n",
    "silhouette_score(skill_embeddings, kmeans.labels_)\n",
    "\n",
    "import matplotlib.pyplot as plt\n",
    "scores = []\n",
    "k_range = range(20, 45)\n",
    "\n",
    "for k in k_range:\n",
    "    kmeans = KMeans(n_clusters=k, random_state=42)\n",
    "    labels = kmeans.fit_predict(skill_embeddings)\n",
    "    score = silhouette_score(skill_embeddings, labels)\n",
    "    scores.append(score)\n",
    "\n",
    "plt.plot(k_range, scores)\n",
    "plt.xlabel(\"Número de clústeres (k)\")\n",
    "plt.ylabel(\"Silhouette Score\")\n",
    "plt.title(\"Evaluación del número óptimo de clústeres\")\n",
    "plt.show()"
   ]
  },
  {
   "cell_type": "code",
   "execution_count": 34,
   "id": "4836a9f8",
   "metadata": {},
   "outputs": [
    {
     "data": {
      "image/png": "[encoded data removed]",
      "text/plain": [
       "<Figure size 640x480 with 1 Axes>"
      ]
     },
     "metadata": {},
     "output_type": "display_data"
    }
   ],
   "source": [
    "inertias = []\n",
    "for k in k_range:\n",
    "    kmeans = KMeans(n_clusters=k, random_state=42)\n",
    "    kmeans.fit(skill_embeddings)\n",
    "    inertias.append(kmeans.inertia_)\n",
    "\n",
    "plt.plot(k_range, inertias, marker='o')\n",
    "plt.xlabel('Número de clústeres (k)')\n",
    "plt.ylabel('Inercia')\n",
    "plt.title('Elbow Method')\n",
    "plt.show()\n"
   ]
  },
  {
   "cell_type": "code",
   "execution_count": 31,
   "id": "2531b565",
   "metadata": {},
   "outputs": [],
   "source": [
    "from sklearn.cluster import KMeans\n",
    "import pandas as pd\n",
    "\n",
    "n_clusters = 35  # ajusta según el nivel de granularidad que desees\n",
    "kmeans = KMeans(n_clusters=n_clusters, random_state=42)\n",
    "labels = kmeans.fit_predict(skill_embeddings)\n",
    "\n",
    "skill_cluster_df = pd.DataFrame({\n",
    "    \"skill\": unique_skills,\n",
    "    \"cluster\": labels\n",
    "})"
   ]
  },
  {
   "cell_type": "code",
   "execution_count": 32,
   "id": "d1dc425f",
   "metadata": {},
   "outputs": [],
   "source": [
    "skill_to_cluster = dict(zip(skill_cluster_df[\"skill\"], skill_cluster_df[\"cluster\"]))\n",
    "\n",
    "# Función para mapear clústeres a cada fila\n",
    "def map_skill_clusters(skill_list):\n",
    "    if not isinstance(skill_list, str):\n",
    "        return []\n",
    "    skills = [s.strip().lower() for s in skill_list.split(\",\")]\n",
    "    return [skill_to_cluster.get(s) for s in skills if skill_to_cluster.get(s) is not None]\n",
    "\n",
    "combined_df[\"skill_clusters\"] = combined_df[\"skills_extraidas\"].apply(map_skill_clusters)\n"
   ]
  },
  {
   "cell_type": "code",
   "execution_count": 116,
   "id": "92419a71",
   "metadata": {},
   "outputs": [
    {
     "data": {
      "text/html": [
       "<div>\n",
       "<style scoped>\n",
       "    .dataframe tbody tr th:only-of-type {\n",
       "        vertical-align: middle;\n",
       "    }\n",
       "\n",
       "    .dataframe tbody tr th {\n",
       "        vertical-align: top;\n",
       "    }\n",
       "\n",
       "    .dataframe thead th {\n",
       "        text-align: right;\n",
       "    }\n",
       "</style>\n",
       "<table border=\"1\" class=\"dataframe\">\n",
       "  <thead>\n",
       "    <tr style=\"text-align: right;\">\n",
       "      <th></th>\n",
       "      <th>Cluster</th>\n",
       "      <th>N_skills</th>\n",
       "      <th>Top_skills</th>\n",
       "    </tr>\n",
       "  </thead>\n",
       "  <tbody>\n",
       "    <tr>\n",
       "      <th>0</th>\n",
       "      <td>3</td>\n",
       "      <td>5</td>\n",
       "      <td>science, chemistry, biology, mathematics, physics</td>\n",
       "    </tr>\n",
       "    <tr>\n",
       "      <th>1</th>\n",
       "      <td>5</td>\n",
       "      <td>3</td>\n",
       "      <td>mechanical, education and training, engineerin...</td>\n",
       "    </tr>\n",
       "    <tr>\n",
       "      <th>2</th>\n",
       "      <td>13</td>\n",
       "      <td>3</td>\n",
       "      <td>active listening, learning strategies, active ...</td>\n",
       "    </tr>\n",
       "    <tr>\n",
       "      <th>3</th>\n",
       "      <td>26</td>\n",
       "      <td>3</td>\n",
       "      <td>design, technology design, building and constr...</td>\n",
       "    </tr>\n",
       "    <tr>\n",
       "      <th>4</th>\n",
       "      <td>18</td>\n",
       "      <td>2</td>\n",
       "      <td>english language, foreign language</td>\n",
       "    </tr>\n",
       "    <tr>\n",
       "      <th>5</th>\n",
       "      <td>1</td>\n",
       "      <td>2</td>\n",
       "      <td>writing, reading comprehension</td>\n",
       "    </tr>\n",
       "    <tr>\n",
       "      <th>6</th>\n",
       "      <td>16</td>\n",
       "      <td>2</td>\n",
       "      <td>psychology, therapy and counseling</td>\n",
       "    </tr>\n",
       "    <tr>\n",
       "      <th>7</th>\n",
       "      <td>15</td>\n",
       "      <td>2</td>\n",
       "      <td>telecommunications, communications and media</td>\n",
       "    </tr>\n",
       "    <tr>\n",
       "      <th>8</th>\n",
       "      <td>12</td>\n",
       "      <td>2</td>\n",
       "      <td>monitoring, operations monitoring</td>\n",
       "    </tr>\n",
       "    <tr>\n",
       "      <th>9</th>\n",
       "      <td>11</td>\n",
       "      <td>2</td>\n",
       "      <td>food production, production and processing</td>\n",
       "    </tr>\n",
       "    <tr>\n",
       "      <th>10</th>\n",
       "      <td>9</td>\n",
       "      <td>2</td>\n",
       "      <td>administrative, administration and management</td>\n",
       "    </tr>\n",
       "    <tr>\n",
       "      <th>11</th>\n",
       "      <td>31</td>\n",
       "      <td>2</td>\n",
       "      <td>sales and marketing, economics and accounting</td>\n",
       "    </tr>\n",
       "    <tr>\n",
       "      <th>12</th>\n",
       "      <td>17</td>\n",
       "      <td>2</td>\n",
       "      <td>repairing, equipment maintenance</td>\n",
       "    </tr>\n",
       "    <tr>\n",
       "      <th>13</th>\n",
       "      <td>21</td>\n",
       "      <td>2</td>\n",
       "      <td>systems analysis, systems evaluation</td>\n",
       "    </tr>\n",
       "    <tr>\n",
       "      <th>14</th>\n",
       "      <td>0</td>\n",
       "      <td>1</td>\n",
       "      <td>equipment selection</td>\n",
       "    </tr>\n",
       "    <tr>\n",
       "      <th>15</th>\n",
       "      <td>2</td>\n",
       "      <td>1</td>\n",
       "      <td>transportation</td>\n",
       "    </tr>\n",
       "    <tr>\n",
       "      <th>16</th>\n",
       "      <td>4</td>\n",
       "      <td>1</td>\n",
       "      <td>time management</td>\n",
       "    </tr>\n",
       "    <tr>\n",
       "      <th>17</th>\n",
       "      <td>10</td>\n",
       "      <td>1</td>\n",
       "      <td>installation</td>\n",
       "    </tr>\n",
       "    <tr>\n",
       "      <th>18</th>\n",
       "      <td>6</td>\n",
       "      <td>1</td>\n",
       "      <td>operations analysis</td>\n",
       "    </tr>\n",
       "    <tr>\n",
       "      <th>19</th>\n",
       "      <td>14</td>\n",
       "      <td>1</td>\n",
       "      <td>judgment and decision making</td>\n",
       "    </tr>\n",
       "    <tr>\n",
       "      <th>20</th>\n",
       "      <td>7</td>\n",
       "      <td>1</td>\n",
       "      <td>coordination</td>\n",
       "    </tr>\n",
       "    <tr>\n",
       "      <th>21</th>\n",
       "      <td>8</td>\n",
       "      <td>1</td>\n",
       "      <td>negotiation</td>\n",
       "    </tr>\n",
       "    <tr>\n",
       "      <th>22</th>\n",
       "      <td>20</td>\n",
       "      <td>1</td>\n",
       "      <td>persuasion</td>\n",
       "    </tr>\n",
       "    <tr>\n",
       "      <th>23</th>\n",
       "      <td>22</td>\n",
       "      <td>1</td>\n",
       "      <td>fine arts</td>\n",
       "    </tr>\n",
       "    <tr>\n",
       "      <th>24</th>\n",
       "      <td>23</td>\n",
       "      <td>1</td>\n",
       "      <td>public safety and security</td>\n",
       "    </tr>\n",
       "    <tr>\n",
       "      <th>25</th>\n",
       "      <td>24</td>\n",
       "      <td>1</td>\n",
       "      <td>social perceptiveness</td>\n",
       "    </tr>\n",
       "    <tr>\n",
       "      <th>26</th>\n",
       "      <td>19</td>\n",
       "      <td>1</td>\n",
       "      <td>service orientation</td>\n",
       "    </tr>\n",
       "    <tr>\n",
       "      <th>27</th>\n",
       "      <td>25</td>\n",
       "      <td>1</td>\n",
       "      <td>critical thinking</td>\n",
       "    </tr>\n",
       "    <tr>\n",
       "      <th>28</th>\n",
       "      <td>27</td>\n",
       "      <td>1</td>\n",
       "      <td>quality control analysis</td>\n",
       "    </tr>\n",
       "    <tr>\n",
       "      <th>29</th>\n",
       "      <td>29</td>\n",
       "      <td>1</td>\n",
       "      <td>troubleshooting</td>\n",
       "    </tr>\n",
       "    <tr>\n",
       "      <th>30</th>\n",
       "      <td>28</td>\n",
       "      <td>1</td>\n",
       "      <td>speaking</td>\n",
       "    </tr>\n",
       "    <tr>\n",
       "      <th>31</th>\n",
       "      <td>30</td>\n",
       "      <td>1</td>\n",
       "      <td>geography</td>\n",
       "    </tr>\n",
       "    <tr>\n",
       "      <th>32</th>\n",
       "      <td>32</td>\n",
       "      <td>1</td>\n",
       "      <td>complex problem solving</td>\n",
       "    </tr>\n",
       "    <tr>\n",
       "      <th>33</th>\n",
       "      <td>33</td>\n",
       "      <td>1</td>\n",
       "      <td>programming</td>\n",
       "    </tr>\n",
       "    <tr>\n",
       "      <th>34</th>\n",
       "      <td>34</td>\n",
       "      <td>1</td>\n",
       "      <td>instructing</td>\n",
       "    </tr>\n",
       "  </tbody>\n",
       "</table>\n",
       "</div>"
      ],
      "text/plain": [
       "    Cluster  N_skills                                         Top_skills\n",
       "0         3         5  science, chemistry, biology, mathematics, physics\n",
       "1         5         3  mechanical, education and training, engineerin...\n",
       "2        13         3  active listening, learning strategies, active ...\n",
       "3        26         3  design, technology design, building and constr...\n",
       "4        18         2                 english language, foreign language\n",
       "5         1         2                     writing, reading comprehension\n",
       "6        16         2                 psychology, therapy and counseling\n",
       "7        15         2       telecommunications, communications and media\n",
       "8        12         2                  monitoring, operations monitoring\n",
       "9        11         2         food production, production and processing\n",
       "10        9         2      administrative, administration and management\n",
       "11       31         2      sales and marketing, economics and accounting\n",
       "12       17         2                   repairing, equipment maintenance\n",
       "13       21         2               systems analysis, systems evaluation\n",
       "14        0         1                                equipment selection\n",
       "15        2         1                                     transportation\n",
       "16        4         1                                    time management\n",
       "17       10         1                                       installation\n",
       "18        6         1                                operations analysis\n",
       "19       14         1                       judgment and decision making\n",
       "20        7         1                                       coordination\n",
       "21        8         1                                        negotiation\n",
       "22       20         1                                         persuasion\n",
       "23       22         1                                          fine arts\n",
       "24       23         1                         public safety and security\n",
       "25       24         1                              social perceptiveness\n",
       "26       19         1                                service orientation\n",
       "27       25         1                                  critical thinking\n",
       "28       27         1                           quality control analysis\n",
       "29       29         1                                    troubleshooting\n",
       "30       28         1                                           speaking\n",
       "31       30         1                                          geography\n",
       "32       32         1                            complex problem solving\n",
       "33       33         1                                        programming\n",
       "34       34         1                                        instructing"
      ]
     },
     "execution_count": 116,
     "metadata": {},
     "output_type": "execute_result"
    }
   ],
   "source": [
    "import pandas as pd\n",
    "from collections import Counter\n",
    "import matplotlib.pyplot as plt\n",
    "import seaborn as sns\n",
    "\n",
    "# Contar las habilidades por clúster de habilidades\n",
    "skill_counts = skill_cluster_df.groupby(\"cluster\")[\"skill\"].apply(list).reset_index()\n",
    "skill_counts[\"n_skills\"] = skill_counts[\"skill\"].apply(len)\n",
    "\n",
    "# Mostrar las 5 primeras filas como ejemplo\n",
    "skill_counts_sorted = skill_counts.sort_values(\"n_skills\", ascending=False)\n",
    "\n",
    "# Crear una tabla visual de los top skills por cluster\n",
    "top_skills_per_cluster = []\n",
    "for i, row in skill_counts_sorted.iterrows():\n",
    "    cluster_id = row[\"cluster\"]\n",
    "    skills = row[\"skill\"]\n",
    "    top_skills = \", \".join(skills[:10])  # Mostrar solo las 10 primeras\n",
    "    top_skills_per_cluster.append((cluster_id, len(skills), top_skills))\n",
    "\n",
    "# Convertir a DataFrame\n",
    "top_skills_df = pd.DataFrame(top_skills_per_cluster, columns=[\"Cluster\", \"N_skills\", \"Top_skills\"])\n",
    "top_skills_df\n"
   ]
  },
  {
   "cell_type": "code",
   "execution_count": 121,
   "id": "f7bb564e",
   "metadata": {},
   "outputs": [
    {
     "data": {
      "text/plain": [
       "'service orientation'"
      ]
     },
     "execution_count": 121,
     "metadata": {},
     "output_type": "execute_result"
    }
   ],
   "source": [
    "top_skills_df[\"Top_skills\"][26]"
   ]
  },
  {
   "cell_type": "markdown",
   "id": "761dbf23",
   "metadata": {},
   "source": [
    "✅ 5. Analizar por clúster de ofertas"
   ]
  },
  {
   "cell_type": "code",
   "execution_count": 118,
   "id": "a56c4775",
   "metadata": {},
   "outputs": [
    {
     "name": "stdout",
     "output_type": "stream",
     "text": [
      "\n",
      "🟦 Clúster de ofertas 0:\n",
      " - Skill Cluster 26: 13991 ocurrencias\n",
      " - Skill Cluster 2: 7129 ocurrencias\n",
      " - Skill Cluster 1: 3483 ocurrencias\n",
      " - Skill Cluster 3: 56 ocurrencias\n",
      " - Skill Cluster 5: 26 ocurrencias\n",
      " - Skill Cluster 7: 13 ocurrencias\n",
      " - Skill Cluster 12: 11 ocurrencias\n",
      " - Skill Cluster 25: 8 ocurrencias\n",
      " - Skill Cluster 9: 2 ocurrencias\n",
      " - Skill Cluster 4: 1 ocurrencias\n",
      "\n",
      "🟦 Clúster de ofertas 1:\n",
      " - Skill Cluster 26: 38325 ocurrencias\n",
      " - Skill Cluster 2: 7578 ocurrencias\n",
      " - Skill Cluster 33: 3560 ocurrencias\n",
      " - Skill Cluster 29: 3558 ocurrencias\n",
      " - Skill Cluster 3: 5 ocurrencias\n",
      " - Skill Cluster 1: 2 ocurrencias\n",
      " - Skill Cluster 7: 2 ocurrencias\n",
      "\n",
      "🟦 Clúster de ofertas 2:\n",
      " - Skill Cluster 26: 24450 ocurrencias\n",
      " - Skill Cluster 29: 10511 ocurrencias\n",
      " - Skill Cluster 2: 7656 ocurrencias\n",
      " - Skill Cluster 4: 6988 ocurrencias\n",
      " - Skill Cluster 12: 3467 ocurrencias\n",
      " - Skill Cluster 33: 3463 ocurrencias\n",
      " - Skill Cluster 3: 28 ocurrencias\n",
      " - Skill Cluster 1: 7 ocurrencias\n",
      " - Skill Cluster 10: 2 ocurrencias\n",
      " - Skill Cluster 21: 1 ocurrencias\n",
      "\n",
      "🟦 Clúster de ofertas 3:\n",
      " - Skill Cluster 2: 13850 ocurrencias\n",
      " - Skill Cluster 12: 3549 ocurrencias\n",
      " - Skill Cluster 3: 48 ocurrencias\n",
      " - Skill Cluster 9: 44 ocurrencias\n",
      " - Skill Cluster 4: 28 ocurrencias\n",
      " - Skill Cluster 7: 26 ocurrencias\n",
      " - Skill Cluster 26: 15 ocurrencias\n",
      " - Skill Cluster 1: 12 ocurrencias\n",
      " - Skill Cluster 25: 8 ocurrencias\n",
      " - Skill Cluster 28: 6 ocurrencias\n",
      " - Skill Cluster 8: 6 ocurrencias\n",
      " - Skill Cluster 29: 6 ocurrencias\n",
      " - Skill Cluster 33: 1 ocurrencias\n",
      "\n",
      "🟦 Clúster de ofertas 4:\n",
      " - Skill Cluster 16: 17304 ocurrencias\n",
      " - Skill Cluster 2: 8337 ocurrencias\n",
      " - Skill Cluster 13: 6917 ocurrencias\n",
      " - Skill Cluster 7: 3615 ocurrencias\n",
      " - Skill Cluster 9: 69 ocurrencias\n",
      " - Skill Cluster 1: 27 ocurrencias\n",
      " - Skill Cluster 3: 13 ocurrencias\n",
      " - Skill Cluster 12: 10 ocurrencias\n",
      " - Skill Cluster 26: 7 ocurrencias\n",
      " - Skill Cluster 4: 5 ocurrencias\n",
      " - Skill Cluster 33: 3 ocurrencias\n",
      " - Skill Cluster 34: 1 ocurrencias\n",
      " - Skill Cluster 25: 1 ocurrencias\n",
      "\n",
      "🟦 Clúster de ofertas 5:\n",
      " - Skill Cluster 2: 4073 ocurrencias\n",
      " - Skill Cluster 7: 3344 ocurrencias\n",
      " - Skill Cluster 26: 16 ocurrencias\n",
      " - Skill Cluster 8: 4 ocurrencias\n",
      " - Skill Cluster 31: 3 ocurrencias\n",
      " - Skill Cluster 4: 3 ocurrencias\n",
      " - Skill Cluster 3: 2 ocurrencias\n",
      " - Skill Cluster 10: 2 ocurrencias\n",
      " - Skill Cluster 9: 1 ocurrencias\n",
      " - Skill Cluster 1: 1 ocurrencias\n",
      "\n",
      "🟦 Clúster de ofertas 6:\n",
      " - Skill Cluster 2: 7107 ocurrencias\n",
      " - Skill Cluster 26: 3662 ocurrencias\n",
      " - Skill Cluster 1: 264 ocurrencias\n",
      " - Skill Cluster 31: 205 ocurrencias\n",
      " - Skill Cluster 3: 132 ocurrencias\n",
      " - Skill Cluster 12: 75 ocurrencias\n",
      " - Skill Cluster 4: 60 ocurrencias\n",
      " - Skill Cluster 7: 27 ocurrencias\n",
      " - Skill Cluster 18: 24 ocurrencias\n",
      " - Skill Cluster 25: 20 ocurrencias\n",
      " - Skill Cluster 33: 20 ocurrencias\n",
      " - Skill Cluster 9: 19 ocurrencias\n",
      " - Skill Cluster 28: 8 ocurrencias\n",
      " - Skill Cluster 15: 8 ocurrencias\n",
      " - Skill Cluster 29: 6 ocurrencias\n",
      " - Skill Cluster 8: 2 ocurrencias\n",
      "\n",
      "🟦 Clúster de ofertas 7:\n",
      " - Skill Cluster 8: 21223 ocurrencias\n",
      " - Skill Cluster 2: 11410 ocurrencias\n",
      " - Skill Cluster 20: 478 ocurrencias\n",
      " - Skill Cluster 31: 367 ocurrencias\n",
      " - Skill Cluster 4: 243 ocurrencias\n",
      " - Skill Cluster 26: 210 ocurrencias\n",
      " - Skill Cluster 9: 204 ocurrencias\n",
      " - Skill Cluster 12: 164 ocurrencias\n",
      " - Skill Cluster 7: 146 ocurrencias\n",
      " - Skill Cluster 28: 125 ocurrencias\n",
      " - Skill Cluster 1: 122 ocurrencias\n",
      " - Skill Cluster 3: 118 ocurrencias\n",
      " - Skill Cluster 10: 53 ocurrencias\n",
      " - Skill Cluster 15: 47 ocurrencias\n",
      " - Skill Cluster 25: 38 ocurrencias\n",
      " - Skill Cluster 5: 34 ocurrencias\n",
      " - Skill Cluster 30: 30 ocurrencias\n",
      " - Skill Cluster 13: 23 ocurrencias\n",
      " - Skill Cluster 33: 20 ocurrencias\n",
      " - Skill Cluster 29: 19 ocurrencias\n",
      " - Skill Cluster 18: 18 ocurrencias\n",
      " - Skill Cluster 19: 9 ocurrencias\n",
      " - Skill Cluster 24: 4 ocurrencias\n",
      " - Skill Cluster 11: 2 ocurrencias\n",
      " - Skill Cluster 0: 2 ocurrencias\n",
      "\n",
      "🟦 Clúster de ofertas 8:\n",
      " - Skill Cluster 29: 34995 ocurrencias\n",
      " - Skill Cluster 2: 7713 ocurrencias\n",
      " - Skill Cluster 12: 7100 ocurrencias\n",
      " - Skill Cluster 26: 7050 ocurrencias\n",
      " - Skill Cluster 3: 40 ocurrencias\n",
      " - Skill Cluster 10: 21 ocurrencias\n",
      " - Skill Cluster 1: 4 ocurrencias\n",
      " - Skill Cluster 15: 4 ocurrencias\n",
      " - Skill Cluster 28: 3 ocurrencias\n",
      " - Skill Cluster 7: 2 ocurrencias\n",
      " - Skill Cluster 17: 1 ocurrencias\n",
      "\n",
      "🟦 Clúster de ofertas 9:\n",
      " - Skill Cluster 9: 35041 ocurrencias\n",
      " - Skill Cluster 4: 31355 ocurrencias\n",
      " - Skill Cluster 7: 24652 ocurrencias\n",
      " - Skill Cluster 2: 11282 ocurrencias\n",
      " - Skill Cluster 12: 7195 ocurrencias\n",
      " - Skill Cluster 8: 3558 ocurrencias\n",
      " - Skill Cluster 26: 356 ocurrencias\n",
      " - Skill Cluster 3: 82 ocurrencias\n",
      " - Skill Cluster 10: 50 ocurrencias\n",
      " - Skill Cluster 1: 26 ocurrencias\n",
      " - Skill Cluster 5: 16 ocurrencias\n",
      " - Skill Cluster 25: 15 ocurrencias\n",
      " - Skill Cluster 33: 14 ocurrencias\n",
      " - Skill Cluster 31: 10 ocurrencias\n",
      " - Skill Cluster 29: 8 ocurrencias\n",
      " - Skill Cluster 28: 6 ocurrencias\n",
      " - Skill Cluster 17: 6 ocurrencias\n",
      " - Skill Cluster 30: 4 ocurrencias\n",
      " - Skill Cluster 0: 3 ocurrencias\n",
      " - Skill Cluster 13: 2 ocurrencias\n",
      " - Skill Cluster 19: 1 ocurrencias\n",
      "\n",
      "🟦 Clúster de ofertas 10:\n",
      " - Skill Cluster 26: 10588 ocurrencias\n",
      " - Skill Cluster 2: 7784 ocurrencias\n",
      " - Skill Cluster 33: 3567 ocurrencias\n",
      " - Skill Cluster 12: 3482 ocurrencias\n",
      " - Skill Cluster 3: 91 ocurrencias\n",
      " - Skill Cluster 7: 58 ocurrencias\n",
      " - Skill Cluster 1: 43 ocurrencias\n",
      " - Skill Cluster 23: 28 ocurrencias\n",
      " - Skill Cluster 29: 24 ocurrencias\n",
      " - Skill Cluster 5: 15 ocurrencias\n",
      " - Skill Cluster 8: 2 ocurrencias\n",
      " - Skill Cluster 15: 2 ocurrencias\n",
      " - Skill Cluster 4: 2 ocurrencias\n",
      " - Skill Cluster 17: 1 ocurrencias\n",
      "\n",
      "🟦 Clúster de ofertas 11:\n",
      " - Skill Cluster 8: 7024 ocurrencias\n",
      " - Skill Cluster 2: 6240 ocurrencias\n",
      " - Skill Cluster 9: 3434 ocurrencias\n",
      " - Skill Cluster 1: 19 ocurrencias\n",
      " - Skill Cluster 3: 5 ocurrencias\n",
      " - Skill Cluster 12: 3 ocurrencias\n",
      " - Skill Cluster 7: 1 ocurrencias\n",
      " - Skill Cluster 5: 1 ocurrencias\n",
      " - Skill Cluster 10: 1 ocurrencias\n",
      " - Skill Cluster 16: 1 ocurrencias\n",
      "\n",
      "🟦 Clúster de ofertas 12:\n",
      " - Skill Cluster 8: 24249 ocurrencias\n",
      " - Skill Cluster 2: 4976 ocurrencias\n",
      " - Skill Cluster 12: 5 ocurrencias\n",
      " - Skill Cluster 1: 3 ocurrencias\n",
      " - Skill Cluster 7: 2 ocurrencias\n",
      " - Skill Cluster 25: 2 ocurrencias\n",
      "\n",
      "🟦 Clúster de ofertas 13:\n",
      " - Skill Cluster 1: 13853 ocurrencias\n",
      " - Skill Cluster 2: 6947 ocurrencias\n",
      " - Skill Cluster 26: 6906 ocurrencias\n",
      " - Skill Cluster 3: 7 ocurrencias\n",
      " - Skill Cluster 33: 6 ocurrencias\n",
      " - Skill Cluster 18: 3 ocurrencias\n",
      " - Skill Cluster 32: 3 ocurrencias\n",
      " - Skill Cluster 29: 3 ocurrencias\n",
      " - Skill Cluster 12: 2 ocurrencias\n",
      "\n",
      "🟦 Clúster de ofertas 14:\n",
      " - Skill Cluster 2: 12485 ocurrencias\n",
      " - Skill Cluster 26: 10393 ocurrencias\n",
      " - Skill Cluster 1: 10296 ocurrencias\n",
      " - Skill Cluster 12: 3493 ocurrencias\n",
      " - Skill Cluster 3: 43 ocurrencias\n",
      " - Skill Cluster 31: 20 ocurrencias\n",
      " - Skill Cluster 8: 14 ocurrencias\n",
      " - Skill Cluster 33: 9 ocurrencias\n",
      " - Skill Cluster 4: 8 ocurrencias\n",
      " - Skill Cluster 16: 2 ocurrencias\n",
      " - Skill Cluster 7: 1 ocurrencias\n",
      "\n",
      "🟦 Clúster de ofertas 15:\n",
      " - Skill Cluster 26: 10488 ocurrencias\n",
      " - Skill Cluster 2: 7755 ocurrencias\n",
      " - Skill Cluster 33: 3392 ocurrencias\n",
      " - Skill Cluster 3: 106 ocurrencias\n",
      " - Skill Cluster 5: 95 ocurrencias\n",
      " - Skill Cluster 29: 40 ocurrencias\n",
      " - Skill Cluster 12: 22 ocurrencias\n",
      " - Skill Cluster 7: 16 ocurrencias\n",
      " - Skill Cluster 1: 11 ocurrencias\n",
      " - Skill Cluster 18: 9 ocurrencias\n",
      " - Skill Cluster 4: 5 ocurrencias\n",
      " - Skill Cluster 10: 3 ocurrencias\n",
      " - Skill Cluster 8: 3 ocurrencias\n",
      " - Skill Cluster 28: 2 ocurrencias\n",
      " - Skill Cluster 25: 1 ocurrencias\n",
      "\n",
      "🟦 Clúster de ofertas 16:\n",
      " - Skill Cluster 26: 20580 ocurrencias\n",
      " - Skill Cluster 16: 20580 ocurrencias\n",
      " - Skill Cluster 2: 4115 ocurrencias\n",
      "\n",
      "🟦 Clúster de ofertas 17:\n",
      " - Skill Cluster 33: 24386 ocurrencias\n",
      " - Skill Cluster 26: 7035 ocurrencias\n",
      " - Skill Cluster 2: 6961 ocurrencias\n",
      " - Skill Cluster 29: 10 ocurrencias\n",
      " - Skill Cluster 3: 10 ocurrencias\n",
      " - Skill Cluster 1: 2 ocurrencias\n",
      " - Skill Cluster 12: 2 ocurrencias\n",
      "\n",
      "🟦 Clúster de ofertas 18:\n",
      " - Skill Cluster 26: 31612 ocurrencias\n",
      " - Skill Cluster 2: 6179 ocurrencias\n",
      " - Skill Cluster 4: 15 ocurrencias\n",
      " - Skill Cluster 22: 15 ocurrencias\n",
      " - Skill Cluster 31: 3 ocurrencias\n",
      "\n",
      "🟦 Clúster de ofertas 19:\n",
      " - Skill Cluster 2: 2059 ocurrencias\n",
      " - Skill Cluster 7: 6 ocurrencias\n",
      " - Skill Cluster 16: 1 ocurrencias\n",
      " - Skill Cluster 1: 1 ocurrencias\n",
      "\n",
      "🟦 Clúster de ofertas 20:\n",
      " - Skill Cluster 2: 7729 ocurrencias\n",
      " - Skill Cluster 26: 43 ocurrencias\n",
      " - Skill Cluster 1: 30 ocurrencias\n",
      " - Skill Cluster 4: 24 ocurrencias\n",
      " - Skill Cluster 12: 13 ocurrencias\n",
      " - Skill Cluster 7: 9 ocurrencias\n",
      " - Skill Cluster 28: 8 ocurrencias\n",
      " - Skill Cluster 25: 6 ocurrencias\n",
      " - Skill Cluster 9: 3 ocurrencias\n",
      " - Skill Cluster 8: 3 ocurrencias\n",
      " - Skill Cluster 33: 2 ocurrencias\n",
      " - Skill Cluster 15: 2 ocurrencias\n",
      "\n",
      "🟦 Clúster de ofertas 21:\n",
      " - Skill Cluster 26: 31231 ocurrencias\n",
      " - Skill Cluster 2: 7685 ocurrencias\n",
      " - Skill Cluster 16: 3 ocurrencias\n",
      " - Skill Cluster 3: 3 ocurrencias\n",
      "\n",
      "🟦 Clúster de ofertas 22:\n",
      " - Skill Cluster 2: 11151 ocurrencias\n",
      " - Skill Cluster 33: 10570 ocurrencias\n",
      " - Skill Cluster 26: 3989 ocurrencias\n",
      " - Skill Cluster 1: 3596 ocurrencias\n",
      " - Skill Cluster 25: 3550 ocurrencias\n",
      " - Skill Cluster 3: 594 ocurrencias\n",
      " - Skill Cluster 29: 86 ocurrencias\n",
      " - Skill Cluster 12: 47 ocurrencias\n",
      " - Skill Cluster 9: 32 ocurrencias\n",
      " - Skill Cluster 4: 22 ocurrencias\n",
      " - Skill Cluster 7: 12 ocurrencias\n",
      " - Skill Cluster 10: 11 ocurrencias\n",
      " - Skill Cluster 30: 10 ocurrencias\n",
      " - Skill Cluster 15: 9 ocurrencias\n",
      " - Skill Cluster 31: 1 ocurrencias\n",
      "\n",
      "🟦 Clúster de ofertas 23:\n",
      " - Skill Cluster 2: 15398 ocurrencias\n",
      " - Skill Cluster 7: 6928 ocurrencias\n",
      " - Skill Cluster 26: 17 ocurrencias\n",
      " - Skill Cluster 8: 15 ocurrencias\n",
      " - Skill Cluster 12: 15 ocurrencias\n",
      " - Skill Cluster 3: 12 ocurrencias\n",
      " - Skill Cluster 25: 10 ocurrencias\n",
      " - Skill Cluster 4: 8 ocurrencias\n",
      " - Skill Cluster 5: 6 ocurrencias\n",
      " - Skill Cluster 9: 5 ocurrencias\n",
      " - Skill Cluster 29: 4 ocurrencias\n",
      " - Skill Cluster 1: 2 ocurrencias\n",
      " - Skill Cluster 33: 2 ocurrencias\n",
      " - Skill Cluster 31: 2 ocurrencias\n",
      "\n",
      "🟦 Clúster de ofertas 24:\n",
      " - Skill Cluster 2: 36225 ocurrencias\n",
      " - Skill Cluster 26: 32330 ocurrencias\n",
      " - Skill Cluster 1: 11419 ocurrencias\n",
      " - Skill Cluster 7: 10621 ocurrencias\n",
      " - Skill Cluster 29: 9513 ocurrencias\n",
      " - Skill Cluster 3: 8631 ocurrencias\n",
      " - Skill Cluster 21: 7130 ocurrencias\n",
      " - Skill Cluster 9: 6960 ocurrencias\n",
      " - Skill Cluster 8: 4707 ocurrencias\n",
      " - Skill Cluster 12: 4552 ocurrencias\n",
      " - Skill Cluster 22: 3690 ocurrencias\n",
      " - Skill Cluster 33: 2910 ocurrencias\n",
      " - Skill Cluster 4: 2879 ocurrencias\n",
      " - Skill Cluster 5: 2823 ocurrencias\n",
      " - Skill Cluster 10: 1752 ocurrencias\n",
      " - Skill Cluster 28: 1121 ocurrencias\n",
      " - Skill Cluster 25: 1019 ocurrencias\n",
      " - Skill Cluster 17: 476 ocurrencias\n",
      " - Skill Cluster 18: 423 ocurrencias\n",
      " - Skill Cluster 15: 398 ocurrencias\n",
      " - Skill Cluster 30: 351 ocurrencias\n",
      " - Skill Cluster 31: 292 ocurrencias\n",
      " - Skill Cluster 16: 276 ocurrencias\n",
      " - Skill Cluster 13: 229 ocurrencias\n",
      " - Skill Cluster 19: 161 ocurrencias\n",
      " - Skill Cluster 20: 97 ocurrencias\n",
      " - Skill Cluster 11: 90 ocurrencias\n",
      " - Skill Cluster 34: 80 ocurrencias\n",
      " - Skill Cluster 14: 58 ocurrencias\n",
      " - Skill Cluster 0: 57 ocurrencias\n",
      " - Skill Cluster 23: 28 ocurrencias\n",
      " - Skill Cluster 32: 22 ocurrencias\n",
      " - Skill Cluster 6: 7 ocurrencias\n",
      " - Skill Cluster 27: 1 ocurrencias\n",
      "\n",
      "🟦 Clúster de ofertas 25:\n",
      " - Skill Cluster 29: 24301 ocurrencias\n",
      " - Skill Cluster 2: 8330 ocurrencias\n",
      " - Skill Cluster 25: 3455 ocurrencias\n",
      " - Skill Cluster 10: 31 ocurrencias\n",
      " - Skill Cluster 28: 21 ocurrencias\n",
      " - Skill Cluster 9: 19 ocurrencias\n",
      " - Skill Cluster 5: 17 ocurrencias\n",
      " - Skill Cluster 13: 13 ocurrencias\n",
      " - Skill Cluster 7: 12 ocurrencias\n",
      " - Skill Cluster 26: 12 ocurrencias\n",
      " - Skill Cluster 3: 10 ocurrencias\n",
      " - Skill Cluster 4: 9 ocurrencias\n",
      " - Skill Cluster 12: 9 ocurrencias\n",
      " - Skill Cluster 15: 9 ocurrencias\n",
      " - Skill Cluster 17: 6 ocurrencias\n",
      " - Skill Cluster 1: 5 ocurrencias\n",
      " - Skill Cluster 33: 4 ocurrencias\n",
      " - Skill Cluster 8: 1 ocurrencias\n",
      " - Skill Cluster 18: 1 ocurrencias\n",
      "\n",
      "🟦 Clúster de ofertas 26:\n",
      " - Skill Cluster 7: 6973 ocurrencias\n",
      " - Skill Cluster 2: 4919 ocurrencias\n",
      " - Skill Cluster 3: 76 ocurrencias\n",
      " - Skill Cluster 12: 69 ocurrencias\n",
      " - Skill Cluster 25: 39 ocurrencias\n",
      " - Skill Cluster 9: 31 ocurrencias\n",
      " - Skill Cluster 5: 15 ocurrencias\n",
      " - Skill Cluster 28: 10 ocurrencias\n",
      " - Skill Cluster 33: 9 ocurrencias\n",
      " - Skill Cluster 26: 7 ocurrencias\n",
      " - Skill Cluster 8: 7 ocurrencias\n",
      " - Skill Cluster 18: 7 ocurrencias\n",
      " - Skill Cluster 19: 5 ocurrencias\n",
      " - Skill Cluster 1: 3 ocurrencias\n",
      " - Skill Cluster 13: 3 ocurrencias\n",
      " - Skill Cluster 31: 1 ocurrencias\n",
      " - Skill Cluster 10: 1 ocurrencias\n",
      " - Skill Cluster 4: 1 ocurrencias\n",
      "\n",
      "🟦 Clúster de ofertas 27:\n",
      " - Skill Cluster 2: 6123 ocurrencias\n",
      " - Skill Cluster 3: 12 ocurrencias\n",
      " - Skill Cluster 28: 1 ocurrencias\n",
      "\n",
      "🟦 Clúster de ofertas 28:\n",
      " - Skill Cluster 26: 70008 ocurrencias\n",
      " - Skill Cluster 2: 22121 ocurrencias\n",
      " - Skill Cluster 29: 13996 ocurrencias\n",
      " - Skill Cluster 5: 10876 ocurrencias\n",
      " - Skill Cluster 7: 6994 ocurrencias\n",
      " - Skill Cluster 3: 167 ocurrencias\n",
      " - Skill Cluster 10: 152 ocurrencias\n",
      " - Skill Cluster 33: 133 ocurrencias\n",
      " - Skill Cluster 12: 45 ocurrencias\n",
      " - Skill Cluster 1: 39 ocurrencias\n",
      " - Skill Cluster 4: 21 ocurrencias\n",
      " - Skill Cluster 17: 15 ocurrencias\n",
      " - Skill Cluster 15: 14 ocurrencias\n",
      " - Skill Cluster 0: 11 ocurrencias\n",
      " - Skill Cluster 21: 9 ocurrencias\n",
      " - Skill Cluster 9: 8 ocurrencias\n",
      " - Skill Cluster 25: 7 ocurrencias\n",
      " - Skill Cluster 8: 2 ocurrencias\n",
      " - Skill Cluster 28: 1 ocurrencias\n",
      "\n",
      "🟦 Clúster de ofertas 29:\n",
      " - Skill Cluster 8: 20892 ocurrencias\n",
      " - Skill Cluster 2: 8362 ocurrencias\n",
      " - Skill Cluster 7: 40 ocurrencias\n",
      " - Skill Cluster 1: 4 ocurrencias\n",
      " - Skill Cluster 12: 3 ocurrencias\n",
      " - Skill Cluster 9: 3 ocurrencias\n",
      " - Skill Cluster 4: 2 ocurrencias\n",
      " - Skill Cluster 13: 1 ocurrencias\n",
      "\n",
      "🟦 Clúster de ofertas 30:\n",
      " - Skill Cluster 2: 11527 ocurrencias\n",
      " - Skill Cluster 9: 150 ocurrencias\n",
      " - Skill Cluster 12: 109 ocurrencias\n",
      " - Skill Cluster 7: 74 ocurrencias\n",
      " - Skill Cluster 3: 38 ocurrencias\n",
      " - Skill Cluster 28: 29 ocurrencias\n",
      " - Skill Cluster 25: 27 ocurrencias\n",
      " - Skill Cluster 26: 19 ocurrencias\n",
      " - Skill Cluster 5: 18 ocurrencias\n",
      " - Skill Cluster 4: 18 ocurrencias\n",
      " - Skill Cluster 1: 15 ocurrencias\n",
      " - Skill Cluster 13: 12 ocurrencias\n",
      " - Skill Cluster 16: 12 ocurrencias\n",
      " - Skill Cluster 18: 7 ocurrencias\n",
      " - Skill Cluster 19: 6 ocurrencias\n",
      " - Skill Cluster 14: 6 ocurrencias\n",
      " - Skill Cluster 33: 5 ocurrencias\n",
      " - Skill Cluster 34: 4 ocurrencias\n",
      " - Skill Cluster 31: 3 ocurrencias\n",
      " - Skill Cluster 29: 1 ocurrencias\n",
      " - Skill Cluster 10: 1 ocurrencias\n",
      "\n",
      "🟦 Clúster de ofertas 31:\n",
      " - Skill Cluster 26: 48536 ocurrencias\n",
      " - Skill Cluster 10: 10410 ocurrencias\n",
      " - Skill Cluster 2: 9693 ocurrencias\n",
      " - Skill Cluster 5: 6791 ocurrencias\n",
      " - Skill Cluster 0: 3575 ocurrencias\n",
      " - Skill Cluster 7: 31 ocurrencias\n",
      " - Skill Cluster 4: 10 ocurrencias\n",
      " - Skill Cluster 1: 3 ocurrencias\n",
      " - Skill Cluster 9: 3 ocurrencias\n",
      "\n",
      "🟦 Clúster de ofertas 32:\n",
      " - Skill Cluster 2: 5475 ocurrencias\n",
      " - Skill Cluster 4: 28 ocurrencias\n",
      " - Skill Cluster 33: 24 ocurrencias\n",
      " - Skill Cluster 26: 20 ocurrencias\n",
      " - Skill Cluster 9: 16 ocurrencias\n",
      " - Skill Cluster 12: 14 ocurrencias\n",
      " - Skill Cluster 19: 10 ocurrencias\n",
      " - Skill Cluster 25: 6 ocurrencias\n",
      " - Skill Cluster 3: 5 ocurrencias\n",
      " - Skill Cluster 30: 4 ocurrencias\n",
      " - Skill Cluster 28: 3 ocurrencias\n",
      " - Skill Cluster 7: 2 ocurrencias\n",
      " - Skill Cluster 29: 2 ocurrencias\n",
      "\n",
      "🟦 Clúster de ofertas 33:\n",
      " - Skill Cluster 7: 34682 ocurrencias\n",
      " - Skill Cluster 9: 17333 ocurrencias\n",
      " - Skill Cluster 2: 8921 ocurrencias\n",
      " - Skill Cluster 8: 6860 ocurrencias\n",
      " - Skill Cluster 26: 39 ocurrencias\n",
      " - Skill Cluster 4: 29 ocurrencias\n",
      " - Skill Cluster 12: 14 ocurrencias\n",
      " - Skill Cluster 33: 8 ocurrencias\n",
      " - Skill Cluster 1: 3 ocurrencias\n",
      " - Skill Cluster 31: 3 ocurrencias\n",
      " - Skill Cluster 29: 1 ocurrencias\n",
      "\n",
      "🟦 Clúster de ofertas 34:\n",
      " - Skill Cluster 2: 4935 ocurrencias\n",
      " - Skill Cluster 28: 70 ocurrencias\n",
      " - Skill Cluster 26: 55 ocurrencias\n",
      " - Skill Cluster 29: 31 ocurrencias\n",
      " - Skill Cluster 3: 31 ocurrencias\n",
      " - Skill Cluster 1: 23 ocurrencias\n",
      " - Skill Cluster 12: 18 ocurrencias\n",
      " - Skill Cluster 10: 8 ocurrencias\n",
      " - Skill Cluster 9: 7 ocurrencias\n",
      " - Skill Cluster 7: 6 ocurrencias\n",
      " - Skill Cluster 33: 4 ocurrencias\n",
      " - Skill Cluster 4: 3 ocurrencias\n",
      " - Skill Cluster 15: 3 ocurrencias\n",
      " - Skill Cluster 6: 2 ocurrencias\n",
      "\n",
      "🟦 Clúster de ofertas 35:\n",
      " - Skill Cluster 8: 13757 ocurrencias\n",
      " - Skill Cluster 2: 3490 ocurrencias\n",
      "\n",
      "🟦 Clúster de ofertas 36:\n",
      " - Skill Cluster 8: 10471 ocurrencias\n",
      " - Skill Cluster 2: 9770 ocurrencias\n",
      " - Skill Cluster 1: 7040 ocurrencias\n",
      " - Skill Cluster 9: 3505 ocurrencias\n",
      " - Skill Cluster 4: 7 ocurrencias\n",
      " - Skill Cluster 12: 6 ocurrencias\n",
      " - Skill Cluster 28: 4 ocurrencias\n",
      " - Skill Cluster 25: 3 ocurrencias\n",
      " - Skill Cluster 5: 2 ocurrencias\n",
      "\n",
      "🟦 Clúster de ofertas 37:\n",
      " - Skill Cluster 26: 30966 ocurrencias\n",
      " - Skill Cluster 1: 17169 ocurrencias\n",
      " - Skill Cluster 3: 10366 ocurrencias\n",
      " - Skill Cluster 2: 6892 ocurrencias\n",
      " - Skill Cluster 25: 6792 ocurrencias\n",
      " - Skill Cluster 7: 3492 ocurrencias\n",
      " - Skill Cluster 16: 3331 ocurrencias\n",
      " - Skill Cluster 9: 62 ocurrencias\n",
      " - Skill Cluster 30: 54 ocurrencias\n",
      " - Skill Cluster 28: 6 ocurrencias\n",
      " - Skill Cluster 4: 3 ocurrencias\n",
      " - Skill Cluster 12: 3 ocurrencias\n",
      " - Skill Cluster 33: 3 ocurrencias\n",
      " - Skill Cluster 29: 2 ocurrencias\n",
      "\n",
      "🟦 Clúster de ofertas 38:\n",
      " - Skill Cluster 29: 24413 ocurrencias\n",
      " - Skill Cluster 12: 13908 ocurrencias\n",
      " - Skill Cluster 26: 7005 ocurrencias\n",
      " - Skill Cluster 2: 5538 ocurrencias\n",
      " - Skill Cluster 3: 36 ocurrencias\n",
      " - Skill Cluster 1: 12 ocurrencias\n",
      " - Skill Cluster 10: 10 ocurrencias\n",
      " - Skill Cluster 33: 7 ocurrencias\n",
      " - Skill Cluster 21: 2 ocurrencias\n",
      " - Skill Cluster 8: 2 ocurrencias\n",
      " - Skill Cluster 25: 1 ocurrencias\n",
      "\n",
      "🟦 Clúster de ofertas 39:\n",
      " - Skill Cluster 26: 17299 ocurrencias\n",
      " - Skill Cluster 7: 13946 ocurrencias\n",
      " - Skill Cluster 2: 3429 ocurrencias\n"
     ]
    }
   ],
   "source": [
    "from collections import Counter\n",
    "\n",
    "for cluster_id in sorted(combined_df[\"cluster\"].dropna().unique()):\n",
    "    subset = combined_df[combined_df[\"cluster\"] == cluster_id]\n",
    "    skill_clusters = subset[\"skill_clusters\"].explode().dropna()\n",
    "    top_clusters = Counter(skill_clusters).most_common(100)\n",
    "    print(f\"\\n🟦 Clúster de ofertas {cluster_id}:\")\n",
    "    for c, count in top_clusters:\n",
    "        print(f\" - Skill Cluster {c}: {count} ocurrencias\")"
   ]
  },
  {
   "cell_type": "code",
   "execution_count": 119,
   "id": "fda0295a",
   "metadata": {},
   "outputs": [
    {
     "data": {
      "text/plain": [
       "<Figure size 1400x800 with 0 Axes>"
      ]
     },
     "metadata": {},
     "output_type": "display_data"
    },
    {
     "data": {
      "image/png": "[encoded data removed]",
      "text/plain": [
       "<Figure size 1400x800 with 1 Axes>"
      ]
     },
     "metadata": {},
     "output_type": "display_data"
    }
   ],
   "source": [
    "import matplotlib.pyplot as plt\n",
    "from matplotlib.colors import ListedColormap\n",
    "from collections import Counter\n",
    "\n",
    "def generar_grafico_skill_clusters(df, columna_cluster=\"cluster\", columna_skill=\"skill_clusters\"):\n",
    "    # Generar los datos para la visualización\n",
    "    records = []\n",
    "    for cluster_id in sorted(df[columna_cluster].dropna().unique()):\n",
    "        subset = df[df[columna_cluster] == cluster_id]\n",
    "        skill_clusters = subset[columna_skill].explode().dropna()\n",
    "        top_clusters = Counter(skill_clusters).most_common(100)\n",
    "        for c, count in top_clusters:\n",
    "            records.append({\"Oferta\": cluster_id, \"Skill Cluster\": f\"SC {c}\", \"Ocurrencias\": count})\n",
    "\n",
    "    df_resumen = pd.DataFrame(records)\n",
    "\n",
    "    # Pivotar el DataFrame para crear la matriz de barras apiladas\n",
    "    pivot_df = df_resumen.pivot(index=\"Oferta\", columns=\"Skill Cluster\", values=\"Ocurrencias\").fillna(0)\n",
    "\n",
    "    # Crear un colormap extendido con más colores\n",
    "    colormap = ListedColormap(plt.cm.tab20.colors + plt.cm.tab20b.colors)  # Combinando tab20 y tab20b\n",
    "\n",
    "    # Visualización con gráfico de barras apiladas\n",
    "    plt.figure(figsize=(14, 8))  # Aumentar la altura de la figura\n",
    "    pivot_df.plot(kind=\"bar\", stacked=True, colormap=colormap, figsize=(14, 8))\n",
    "    plt.title(\"Distribución de Skill Clusters por Clúster de Ofertas (Resumen)\")\n",
    "    plt.ylabel(\"Número de ocurrencias\")\n",
    "    plt.xlabel(\"Clúster de Ofertas\")\n",
    "    plt.xticks(rotation=0)\n",
    "    \n",
    "    # Configurar la leyenda en horizontal debajo con más altura\n",
    "    plt.legend(title=\"Skill Cluster\", bbox_to_anchor=(0.5, -0.4), loc='center', ncol=5, frameon=False)\n",
    "    \n",
    "    plt.tight_layout()\n",
    "    plt.show()\n",
    "\n",
    "# Llamada a la función con el dataframe 'combined_df'\n",
    "generar_grafico_skill_clusters(combined_df)\n",
    "\n"
   ]
  },
  {
   "cell_type": "code",
   "execution_count": 66,
   "id": "a2756f7b",
   "metadata": {},
   "outputs": [
    {
     "data": {
      "text/plain": [
       "<Figure size 1400x600 with 0 Axes>"
      ]
     },
     "metadata": {},
     "output_type": "display_data"
    },
    {
     "data": {
      "image/png": "[encoded data removed]",
      "text/plain": [
       "<Figure size 1400x600 with 1 Axes>"
      ]
     },
     "metadata": {},
     "output_type": "display_data"
    }
   ],
   "source": [
    "import pandas as pd\n",
    "import matplotlib.pyplot as plt\n",
    "import seaborn as sns\n",
    "from collections import defaultdict\n",
    "\n",
    "# Datos de ejemplo: resumen manual del usuario\n",
    "# Creamos una lista de diccionarios para representar los datos más relevantes\n",
    "resumen_data = [\n",
    "    {\"cluster_oferta\": 0, \"skill_clusters\": [26, 2, 1]},\n",
    "    {\"cluster_oferta\": 1, \"skill_clusters\": [26, 2, 1, 29]},\n",
    "    {\"cluster_oferta\": 2, \"skill_clusters\": [26, 29, 2, 4]},\n",
    "    {\"cluster_oferta\": 4, \"skill_clusters\": [16, 2, 13, 7]},\n",
    "    {\"cluster_oferta\": 7, \"skill_clusters\": [8, 2, 9, 20]},\n",
    "    {\"cluster_oferta\": 9, \"skill_clusters\": [9, 4, 7]},\n",
    "    {\"cluster_oferta\": 24, \"skill_clusters\": [2, 26, 1, 7, 29]},\n",
    "    {\"cluster_oferta\": 28, \"skill_clusters\": [26, 2, 29, 5, 7]},\n",
    "    {\"cluster_oferta\": 31, \"skill_clusters\": [26, 10, 2, 5]},\n",
    "    {\"cluster_oferta\": 33, \"skill_clusters\": [7, 9, 2, 8]},\n",
    "]\n",
    "\n",
    "# Convertir a DataFrame para análisis\n",
    "records = []\n",
    "for row in resumen_data:\n",
    "    for skill in row[\"skill_clusters\"]:\n",
    "        records.append({\"Oferta\": row[\"cluster_oferta\"], \"Skill Cluster\": f\"SC {skill}\"})\n",
    "\n",
    "df_resumen = pd.DataFrame(records)\n",
    "\n",
    "# Contar ocurrencias por grupo\n",
    "conteo = df_resumen.groupby([\"Oferta\", \"Skill Cluster\"]).size().reset_index(name=\"Ocurrencias\")\n",
    "\n",
    "# Visualización con gráfico de barras apiladas\n",
    "pivot_df = conteo.pivot(index=\"Oferta\", columns=\"Skill Cluster\", values=\"Ocurrencias\").fillna(0)\n",
    "\n",
    "plt.figure(figsize=(14, 6))\n",
    "pivot_df.plot(kind=\"bar\", stacked=True, colormap=\"tab20\", figsize=(14, 6))\n",
    "plt.title(\"Distribución de Skill Clusters por Clúster de Ofertas (Resumen)\")\n",
    "plt.ylabel(\"Número de ocurrencias\")\n",
    "plt.xlabel(\"Clúster de Ofertas\")\n",
    "plt.xticks(rotation=0)\n",
    "plt.legend(title=\"Skill Cluster\", bbox_to_anchor=(1.05, 1), loc='upper left')\n",
    "plt.tight_layout()\n",
    "plt.show()\n"
   ]
  },
  {
   "cell_type": "markdown",
   "id": "b40e4dda",
   "metadata": {},
   "source": [
    "EMpezamos con salario"
   ]
  },
  {
   "cell_type": "code",
   "execution_count": 122,
   "id": "1414ef43",
   "metadata": {},
   "outputs": [],
   "source": [
    "combined_salary_df = combined_df.dropna(subset=[\"min_salary\", \"max_salary\"]).copy()\n",
    "\n",
    "combined_salary_df[\"avg_salary\"] = combined_salary_df[[\"min_salary\", \"max_salary\"]].mean(axis=1)\n"
   ]
  },
  {
   "cell_type": "code",
   "execution_count": 123,
   "id": "fb034441",
   "metadata": {},
   "outputs": [
    {
     "name": "stdout",
     "output_type": "stream",
     "text": [
      "Ofertas con salario: 1642569 de 1676567 (98.0%)\n"
     ]
    }
   ],
   "source": [
    "total = len(combined_df)\n",
    "with_salary = combined_df.dropna(subset=[\"min_salary\", \"max_salary\"])\n",
    "num_with_salary = len(with_salary)\n",
    "print(f\"Ofertas con salario: {num_with_salary} de {total} ({num_with_salary / total:.1%})\")\n"
   ]
  },
  {
   "cell_type": "markdown",
   "id": "9ac11f0e",
   "metadata": {},
   "source": [
    "Salarios con imoutacion por cluster"
   ]
  },
  {
   "cell_type": "code",
   "execution_count": 124,
   "id": "2c5d79ae",
   "metadata": {},
   "outputs": [],
   "source": [
    "# Asegurarse de que avg_salary está bien calculado\n",
    "combined_salary_df[\"avg_salary\"] = combined_salary_df[[\"min_salary\", \"max_salary\"]].mean(axis=1)\n",
    "\n",
    "# Imputar los valores NaN de avg_salary con la media por clúster\n",
    "combined_salary_df[\"avg_salary_imputed\"] = combined_salary_df[\"avg_salary\"]"
   ]
  },
  {
   "cell_type": "code",
   "execution_count": 125,
   "id": "1584ed71",
   "metadata": {},
   "outputs": [],
   "source": [
    "# Calcular medias por clúster\n",
    "cluster_salary_means = combined_salary_df.groupby(\"cluster\")[\"avg_salary\"].mean()"
   ]
  },
  {
   "cell_type": "code",
   "execution_count": 126,
   "id": "3d591e30",
   "metadata": {},
   "outputs": [],
   "source": [
    "# Aplicar imputación\n",
    "for cluster_id, mean_salary in cluster_salary_means.items():\n",
    "    mask = (combined_salary_df[\"cluster\"] == cluster_id) & (combined_salary_df[\"avg_salary_imputed\"].isna())\n",
    "    combined_salary_df.loc[mask, \"avg_salary_imputed\"] = mean_salary"
   ]
  },
  {
   "cell_type": "code",
   "execution_count": 127,
   "id": "cc01e7ca",
   "metadata": {},
   "outputs": [
    {
     "data": {
      "text/plain": [
       "np.int64(0)"
      ]
     },
     "execution_count": 127,
     "metadata": {},
     "output_type": "execute_result"
    }
   ],
   "source": [
    "# Mostrar resumen de valores nulos después de imputación\n",
    "null_count_after = combined_salary_df[\"avg_salary_imputed\"].isna().sum()\n",
    "null_count_after"
   ]
  },
  {
   "cell_type": "markdown",
   "id": "3dec3ed8",
   "metadata": {},
   "source": [
    "Graficos salario"
   ]
  },
  {
   "cell_type": "code",
   "execution_count": 128,
   "id": "e1a3ed35",
   "metadata": {},
   "outputs": [
    {
     "name": "stderr",
     "output_type": "stream",
     "text": [
      "C:\\Users\\maria\\AppData\\Local\\Temp\\ipykernel_23156\\1408605216.py:9: FutureWarning:\n",
      "\n",
      "\n",
      "\n",
      "Passing `palette` without assigning `hue` is deprecated and will be removed in v0.14.0. Assign the `x` variable to `hue` and set `legend=False` for the same effect.\n",
      "\n",
      "\n"
     ]
    },
    {
     "data": {
      "image/png": "[encoded data removed]",
      "text/plain": [
       "<Figure size 1400x600 with 1 Axes>"
      ]
     },
     "metadata": {},
     "output_type": "display_data"
    }
   ],
   "source": [
    "import seaborn as sns\n",
    "import numpy as np\n",
    "\n",
    "# Agrupar por cluster y calcular estadísticas del salario imputado\n",
    "salary_stats = combined_salary_df.groupby(\"cluster\")[\"avg_salary_imputed\"].agg([\"count\", \"mean\", \"median\", \"min\", \"max\"]).reset_index()\n",
    "\n",
    "# Visualizar la mediana del salario por clúster\n",
    "plt.figure(figsize=(14, 6))\n",
    "sns.barplot(data=salary_stats, x=\"cluster\", y=\"median\", palette=\"viridis\")\n",
    "plt.title(\"Mediana del salario imputado por clúster de ofertas\")\n",
    "plt.xlabel(\"Clúster\")\n",
    "plt.ylabel(\"Salario promedio imputado (mediana)\")\n",
    "plt.xticks(rotation=90)\n",
    "plt.tight_layout()\n",
    "plt.show()\n"
   ]
  },
  {
   "cell_type": "code",
   "execution_count": 131,
   "id": "3ab512b2",
   "metadata": {},
   "outputs": [
    {
     "name": "stdout",
     "output_type": "stream",
     "text": [
      "\n",
      "🟦 Clúster de ofertas 24 — 201944 ofertas\n",
      "🔝 Top 20 habilidades:\n",
      " - : 101043\n",
      " - transportation: 36225\n",
      " - design: 32315\n",
      " - writing: 11333\n",
      " - coordination: 10621\n",
      " - troubleshooting: 9513\n",
      " - systems analysis: 7130\n",
      " - administrative: 6922\n",
      " - science: 6239\n",
      " - negotiation: 4707\n",
      " - monitoring: 4545\n",
      " - fine arts: 3690\n",
      " - programming: 2910\n",
      " - time management: 2879\n",
      " - mechanical: 2584\n",
      " - installation: 1752\n",
      " - speaking: 1121\n",
      " - critical thinking: 1019\n",
      " - biology: 822\n",
      " - mathematics: 790\n"
     ]
    },
    {
     "data": {
      "text/plain": [
       "Counter({'': 101043,\n",
       "         'transportation': 36225,\n",
       "         'design': 32315,\n",
       "         'writing': 11333,\n",
       "         'coordination': 10621,\n",
       "         'troubleshooting': 9513,\n",
       "         'systems analysis': 7130,\n",
       "         'administrative': 6922,\n",
       "         'science': 6239,\n",
       "         'negotiation': 4707,\n",
       "         'monitoring': 4545,\n",
       "         'fine arts': 3690,\n",
       "         'programming': 2910,\n",
       "         'time management': 2879,\n",
       "         'mechanical': 2584,\n",
       "         'installation': 1752,\n",
       "         'speaking': 1121,\n",
       "         'critical thinking': 1019,\n",
       "         'biology': 822,\n",
       "         'mathematics': 790,\n",
       "         'chemistry': 465,\n",
       "         'english language': 408,\n",
       "         'telecommunications': 393,\n",
       "         'geography': 351,\n",
       "         'repairing': 328,\n",
       "         'physics': 315,\n",
       "         'sales and marketing': 288,\n",
       "         'psychology': 275,\n",
       "         'education and training': 195,\n",
       "         'active listening': 186,\n",
       "         'service orientation': 161,\n",
       "         'equipment maintenance': 148,\n",
       "         'persuasion': 97,\n",
       "         'reading comprehension': 86,\n",
       "         'food production': 83,\n",
       "         'instructing': 80,\n",
       "         'judgment and decision making': 58,\n",
       "         'equipment selection': 57,\n",
       "         'engineering and technology': 44,\n",
       "         'learning strategies': 40,\n",
       "         'administration and management': 38,\n",
       "         'public safety and security': 28,\n",
       "         'complex problem solving': 22,\n",
       "         'foreign language': 15,\n",
       "         'building and construction': 11,\n",
       "         'operations analysis': 7,\n",
       "         'operations monitoring': 7,\n",
       "         'production and processing': 7,\n",
       "         'communications and media': 5,\n",
       "         'technology design': 4,\n",
       "         'economics and accounting': 4,\n",
       "         'active learning': 3,\n",
       "         'therapy and counseling': 1,\n",
       "         'quality control analysis': 1})"
      ]
     },
     "execution_count": 131,
     "metadata": {},
     "output_type": "execute_result"
    }
   ],
   "source": [
    "from collections import Counter\n",
    "\n",
    "def ver_habilidades_por_cluster(df, cluster_id, columna_cluster=\"cluster\", columna_skills=\"skills_extraidas\"):\n",
    "    subset = df[df[columna_cluster] == cluster_id]\n",
    "    skills_col = subset[columna_skills].dropna()\n",
    "    \n",
    "    # Separar por comas, eliminar espacios y unificar formato\n",
    "    skills_exploded = skills_col.str.split(\",\").explode().str.strip().str.lower()\n",
    "    \n",
    "    # Contar ocurrencias\n",
    "    skill_counts = Counter(skills_exploded)\n",
    "    \n",
    "    print(f\"\\n🟦 Clúster de ofertas {cluster_id} — {len(subset)} ofertas\")\n",
    "    print(\"🔝 Top 20 habilidades:\")\n",
    "    for skill, count in skill_counts.most_common(20):\n",
    "        print(f\" - {skill}: {count}\")\n",
    "    \n",
    "    return skill_counts  # por si lo quieres guardar o graficar\n",
    "\n",
    "# Ejemplo de uso:\n",
    "ver_habilidades_por_cluster(combined_df, cluster_id=24)\n"
   ]
  },
  {
   "cell_type": "code",
   "execution_count": 38,
   "id": "9a401a74",
   "metadata": {},
   "outputs": [],
   "source": [
    "combined_salary_df[\"avg_salary_imputed_cluster\"] = combined_salary_df.groupby(\"cluster\")[\"avg_salary\"].transform(lambda x: x.fillna(x.median()))\n"
   ]
  },
  {
   "cell_type": "code",
   "execution_count": 133,
   "id": "81ee3e4f",
   "metadata": {},
   "outputs": [
    {
     "data": {
      "image/png": "[encoded data removed]",
      "text/plain": [
       "<Figure size 1600x1000 with 2 Axes>"
      ]
     },
     "metadata": {},
     "output_type": "display_data"
    }
   ],
   "source": [
    "# Agrupar: media del salario por clúster de oferta y contar ocurrencias de cada clúster de skill\n",
    "skill_cluster_counts = (\n",
    "    combined_salary_df.explode(\"skill_clusters\")  # Asegurarse que cada skill_cluster esté en una fila\n",
    "    .groupby([\"cluster\", \"skill_clusters\"])\n",
    "    .size()\n",
    "    .unstack(fill_value=0)\n",
    ")\n",
    "\n",
    "# Media de salario por clúster de ofertas\n",
    "salary_by_cluster = (\n",
    "    combined_salary_df.groupby(\"cluster\")[\"avg_salary_imputed\"]\n",
    "    .median()\n",
    "    .rename(\"median_salary\")\n",
    ")\n",
    "\n",
    "# Unir ambas tablas\n",
    "analysis_df = skill_cluster_counts.join(salary_by_cluster)\n",
    "\n",
    "# Normalizar las ocurrencias de clústeres de habilidades para visualizar proporciones\n",
    "normalized_skills = skill_cluster_counts.div(skill_cluster_counts.sum(axis=1), axis=0)\n",
    "\n",
    "# Crear un heatmap cruzando salarios con proporciones de clústeres de habilidades\n",
    "plt.figure(figsize=(16, 10))\n",
    "sns.heatmap(normalized_skills.join(salary_by_cluster).sort_values(\"median_salary\", ascending=False).drop(columns=\"median_salary\"), cmap=\"viridis\")\n",
    "plt.title(\"Distribución de clústeres de habilidades por clúster de ofertas ordenado por salario mediano\")\n",
    "plt.xlabel(\"Clústeres de habilidades\")\n",
    "plt.ylabel(\"Clústeres de ofertas (ordenados por salario)\")\n",
    "plt.tight_layout()\n",
    "plt.show()"
   ]
  },
  {
   "cell_type": "code",
   "execution_count": 134,
   "id": "53b6dbde",
   "metadata": {},
   "outputs": [],
   "source": [
    "# Filtramos solo columnas necesarias para evitar uso excesivo de memoria\n",
    "skills_subset = combined_df[[\"job_id\", \"skill_clusters\"]].drop_duplicates(\"job_id\")\n",
    "\n",
    "# Hacemos merge solo con eso\n",
    "combined_merged = combined_salary_df.merge(\n",
    "    skills_subset,\n",
    "    on=\"job_id\",\n",
    "    how=\"left\")"
   ]
  },
  {
   "cell_type": "code",
   "execution_count": 135,
   "id": "3f4d5759",
   "metadata": {},
   "outputs": [
    {
     "data": {
      "image/png": "[encoded data removed]",
      "text/plain": [
       "<Figure size 1200x600 with 1 Axes>"
      ]
     },
     "metadata": {},
     "output_type": "display_data"
    }
   ],
   "source": [
    "# 1. Filtramos y limpiamos job_id únicos\n",
    "df_skills_clean = combined_df[['job_id', 'skill_clusters']].dropna()\n",
    "df_salary_clean = combined_salary_df[['job_id', 'avg_salary_imputed']].dropna()\n",
    "\n",
    "# 2. Eliminamos duplicados (nos interesa un único job_id por entrada)\n",
    "df_skills_clean = df_skills_clean.drop_duplicates(subset='job_id')\n",
    "df_salary_clean = df_salary_clean.drop_duplicates(subset='job_id')\n",
    "\n",
    "# 3. Hacemos el merge limitado\n",
    "df_merged = pd.merge(df_salary_clean, df_skills_clean, on='job_id', how='inner')\n",
    "\n",
    "# 4. Expandimos\n",
    "df_exploded = df_merged.explode('skill_clusters')\n",
    "\n",
    "# 5. Calculamos los salarios promedio por skill_cluster\n",
    "salary_by_skill_cluster = df_exploded.groupby('skill_clusters')['avg_salary_imputed'].mean().sort_values(ascending=False)\n",
    "\n",
    "# 6. Visualizamos los 15 principales\n",
    "plt.figure(figsize=(12, 6))\n",
    "sns.barplot(x=salary_by_skill_cluster.head(15).index.astype(str), y=salary_by_skill_cluster.head(15).values)\n",
    "plt.title(\"Top 15 clústeres de habilidades con salario medio imputado más alto\")\n",
    "plt.xlabel(\"Skill Cluster\")\n",
    "plt.ylabel(\"Salario medio imputado\")\n",
    "plt.xticks(rotation=45)\n",
    "plt.tight_layout()\n",
    "plt.show()"
   ]
  },
  {
   "cell_type": "code",
   "execution_count": 138,
   "id": "001af151",
   "metadata": {},
   "outputs": [
    {
     "name": "stdout",
     "output_type": "stream",
     "text": [
      "\n",
      "🟦 Skill Cluster 32 (top salario):\n",
      " - complex problem solving: 25\n",
      " - design: 4\n",
      " - critical thinking: 4\n",
      " - writing: 3\n",
      " - speaking: 2\n",
      " - programming: 2\n",
      " - monitoring: 1\n",
      " - time management: 1\n",
      "\n",
      "🟦 Skill Cluster 3 (top salario):\n",
      " - science: 11121\n",
      " - design: 10985\n",
      " - writing: 7757\n",
      " - chemistry: 7518\n",
      " - critical thinking: 3566\n",
      " - psychology: 3418\n",
      " - transportation: 2419\n",
      " - monitoring: 1559\n",
      " - programming: 1337\n",
      " - biology: 884\n",
      "\n",
      "🟦 Skill Cluster 33 (top salario):\n",
      " - programming: 52122\n",
      " - design: 22726\n",
      " - transportation: 9973\n",
      " - troubleshooting: 3957\n",
      " - science: 1291\n",
      " - writing: 461\n",
      " - monitoring: 399\n",
      " - installation: 251\n",
      " - coordination: 236\n",
      " - mechanical: 206\n",
      "\n",
      "🟦 Skill Cluster 8 (top salario):\n",
      " - negotiation: 112802\n",
      " - transportation: 22492\n",
      " - coordination: 10419\n",
      " - writing: 3706\n",
      " - design: 494\n",
      " - monitoring: 252\n",
      " - time management: 190\n",
      " - science: 141\n",
      " - critical thinking: 106\n",
      " - speaking: 85\n",
      "\n",
      "🟦 Skill Cluster 26 (top salario):\n",
      " - design: 427238\n",
      " - transportation: 91791\n",
      " - troubleshooting: 43075\n",
      " - coordination: 32607\n",
      " - writing: 32583\n",
      " - psychology: 23970\n",
      " - programming: 22726\n",
      " - mechanical: 18677\n",
      " - installation: 11351\n",
      " - science: 7153\n",
      "\n",
      "🟦 Skill Cluster 31 (top salario):\n",
      " - sales and marketing: 906\n",
      " - writing: 240\n",
      " - design: 135\n",
      " - time management: 68\n",
      " - monitoring: 66\n",
      " - administrative: 66\n",
      " - negotiation: 64\n",
      " - science: 54\n",
      " - coordination: 52\n",
      " - transportation: 50\n",
      "\n",
      "🟦 Skill Cluster 20 (top salario):\n",
      " - persuasion: 575\n",
      " - negotiation: 66\n",
      " - design: 57\n",
      " - mechanical: 32\n",
      " - writing: 26\n",
      " - time management: 12\n",
      " - coordination: 10\n",
      " - operations analysis: 6\n",
      " - programming: 6\n",
      " - science: 5\n",
      "\n",
      "🟦 Skill Cluster 12 (top salario):\n",
      " - monitoring: 47398\n",
      " - troubleshooting: 21535\n",
      " - transportation: 8805\n",
      " - design: 5084\n",
      " - time management: 3828\n",
      " - science: 1461\n",
      " - coordination: 685\n",
      " - writing: 523\n",
      " - administrative: 451\n",
      " - programming: 405\n",
      "\n",
      "🟦 Skill Cluster 14 (top salario):\n",
      " - judgment and decision making: 64\n",
      " - science: 32\n",
      " - design: 26\n",
      " - mathematics: 26\n",
      " - administrative: 14\n",
      " - time management: 12\n",
      " - coordination: 10\n",
      " - negotiation: 4\n",
      " - transportation: 3\n",
      " - monitoring: 1\n",
      "\n",
      "🟦 Skill Cluster 7 (top salario):\n",
      " - coordination: 115733\n",
      " - design: 32607\n",
      " - transportation: 28342\n",
      " - administrative: 18273\n",
      " - time management: 17824\n",
      " - negotiation: 10419\n",
      " - administration and management: 10377\n",
      " - monitoring: 685\n",
      " - writing: 487\n",
      " - science: 482\n",
      "\n",
      "🟦 Skill Cluster 21 (top salario):\n",
      " - systems analysis: 7141\n",
      " - troubleshooting: 3560\n",
      " - transportation: 1406\n",
      " - design: 81\n",
      " - science: 46\n",
      " - monitoring: 16\n",
      " - installation: 13\n",
      " - coordination: 12\n",
      " - programming: 11\n",
      " - administrative: 10\n",
      "\n",
      "🟦 Skill Cluster 1 (top salario):\n",
      " - writing: 67448\n",
      " - design: 32585\n",
      " - transportation: 12842\n",
      " - critical thinking: 10483\n",
      " - science: 4139\n",
      " - negotiation: 3706\n",
      " - chemistry: 3545\n",
      " - psychology: 3359\n",
      " - administrative: 568\n",
      " - monitoring: 523\n",
      "\n",
      "🟦 Skill Cluster 34 (top salario):\n",
      " - instructing: 85\n",
      " - monitoring: 10\n",
      " - speaking: 9\n",
      " - troubleshooting: 6\n",
      " - installation: 5\n",
      " - writing: 4\n",
      " - design: 3\n",
      " - telecommunications: 3\n",
      " - administrative: 2\n",
      " - transportation: 2\n",
      "\n",
      "🟦 Skill Cluster 15 (top salario):\n",
      " - telecommunications: 489\n",
      " - design: 292\n",
      " - programming: 110\n",
      " - troubleshooting: 92\n",
      " - science: 80\n",
      " - installation: 68\n",
      " - monitoring: 53\n",
      " - coordination: 53\n",
      " - transportation: 36\n",
      " - administrative: 35\n",
      "\n",
      "🟦 Skill Cluster 0 (top salario):\n",
      " - equipment selection: 3648\n",
      " - design: 3644\n",
      " - transportation: 698\n",
      " - mechanical: 31\n",
      " - science: 20\n",
      " - time management: 8\n",
      " - troubleshooting: 8\n",
      " - writing: 6\n",
      " - critical thinking: 3\n",
      " - monitoring: 3\n",
      "\n",
      "🟦 Skill Cluster 28 (top salario):\n",
      " - speaking: 1424\n",
      " - writing: 504\n",
      " - design: 214\n",
      " - science: 149\n",
      " - coordination: 133\n",
      " - monitoring: 127\n",
      " - administrative: 117\n",
      " - programming: 101\n",
      " - time management: 96\n",
      " - negotiation: 85\n",
      "\n",
      "🟦 Skill Cluster 25 (top salario):\n",
      " - critical thinking: 15008\n",
      " - writing: 10483\n",
      " - design: 7108\n",
      " - science: 3519\n",
      " - troubleshooting: 3491\n",
      " - psychology: 3322\n",
      " - transportation: 2829\n",
      " - time management: 181\n",
      " - monitoring: 160\n",
      " - coordination: 152\n",
      "\n",
      "🟦 Skill Cluster 13 (top salario):\n",
      " - active listening: 7148\n",
      " - transportation: 1398\n",
      " - time management: 129\n",
      " - troubleshooting: 97\n",
      " - administrative: 45\n",
      " - learning strategies: 40\n",
      " - installation: 33\n",
      " - critical thinking: 28\n",
      " - design: 18\n",
      " - negotiation: 16\n",
      "\n",
      "🟦 Skill Cluster 16 (top salario):\n",
      " - psychology: 38056\n",
      " - design: 23971\n",
      " - transportation: 7667\n",
      " - therapy and counseling: 3454\n",
      " - science: 3416\n",
      " - writing: 3359\n",
      " - critical thinking: 3322\n",
      " - monitoring: 83\n",
      " - administrative: 47\n",
      " - coordination: 33\n",
      "\n",
      "🟦 Skill Cluster 30 (top salario):\n",
      " - geography: 453\n",
      " - design: 164\n",
      " - writing: 102\n",
      " - administrative: 81\n",
      " - science: 77\n",
      " - chemistry: 36\n",
      " - negotiation: 31\n",
      " - coordination: 29\n",
      " - mechanical: 23\n",
      " - transportation: 22\n",
      "\n",
      "🟦 Skill Cluster 5 (top salario):\n",
      " - mechanical: 20439\n",
      " - design: 18739\n",
      " - installation: 3953\n",
      " - transportation: 3659\n",
      " - troubleshooting: 521\n",
      " - science: 469\n",
      " - monitoring: 318\n",
      " - coordination: 287\n",
      " - writing: 263\n",
      " - programming: 259\n",
      "\n",
      "🟦 Skill Cluster 29 (top salario):\n",
      " - troubleshooting: 121530\n",
      " - design: 43075\n",
      " - transportation: 23619\n",
      " - monitoring: 21534\n",
      " - programming: 3957\n",
      " - systems analysis: 3560\n",
      " - critical thinking: 3491\n",
      " - science: 782\n",
      " - mechanical: 513\n",
      " - installation: 498\n",
      "\n",
      "🟦 Skill Cluster 4 (top salario):\n",
      " - time management: 41777\n",
      " - administrative: 28246\n",
      " - coordination: 17824\n",
      " - transportation: 7906\n",
      " - monitoring: 3828\n",
      " - design: 714\n",
      " - writing: 329\n",
      " - science: 252\n",
      " - troubleshooting: 226\n",
      " - negotiation: 190\n",
      "\n",
      "🟦 Skill Cluster 10 (top salario):\n",
      " - installation: 12508\n",
      " - design: 11351\n",
      " - mechanical: 3952\n",
      " - transportation: 2278\n",
      " - troubleshooting: 498\n",
      " - science: 355\n",
      " - monitoring: 330\n",
      " - coordination: 253\n",
      " - programming: 251\n",
      " - administrative: 225\n",
      "\n",
      "🟦 Skill Cluster 9 (top salario):\n",
      " - administrative: 56552\n",
      " - coordination: 28648\n",
      " - time management: 28267\n",
      " - transportation: 12896\n",
      " - administration and management: 10399\n",
      " - design: 656\n",
      " - writing: 572\n",
      " - monitoring: 455\n",
      " - science: 291\n",
      " - installation: 225\n",
      "\n",
      "🟦 Skill Cluster 11 (top salario):\n",
      " - food production: 85\n",
      " - monitoring: 17\n",
      " - design: 16\n",
      " - administrative: 12\n",
      " - time management: 9\n",
      " - science: 8\n",
      " - production and processing: 7\n",
      " - mechanical: 6\n",
      " - coordination: 4\n",
      " - programming: 2\n",
      "\n",
      "🟦 Skill Cluster 2 (top salario):\n",
      " - transportation: 349349\n",
      " - design: 91790\n",
      " - coordination: 28342\n",
      " - troubleshooting: 23619\n",
      " - negotiation: 22492\n",
      " - writing: 12841\n",
      " - administrative: 10861\n",
      " - programming: 9973\n",
      " - monitoring: 8805\n",
      " - time management: 7906\n",
      "\n",
      "🟦 Skill Cluster 18 (top salario):\n",
      " - english language: 472\n",
      " - science: 256\n",
      " - writing: 71\n",
      " - design: 60\n",
      " - mechanical: 36\n",
      " - administrative: 28\n",
      " - transportation: 23\n",
      " - critical thinking: 21\n",
      " - foreign language: 20\n",
      " - programming: 17\n",
      "\n",
      "🟦 Skill Cluster 19 (top salario):\n",
      " - service orientation: 192\n",
      " - installation: 51\n",
      " - design: 40\n",
      " - coordination: 36\n",
      " - administrative: 26\n",
      " - programming: 21\n",
      " - science: 18\n",
      " - critical thinking: 18\n",
      " - monitoring: 17\n",
      " - writing: 17\n",
      "\n",
      "🟦 Skill Cluster 17 (top salario):\n",
      " - repairing: 355\n",
      " - mechanical: 180\n",
      " - troubleshooting: 158\n",
      " - equipment maintenance: 150\n",
      " - installation: 90\n",
      " - design: 84\n",
      " - monitoring: 65\n",
      " - coordination: 45\n",
      " - science: 34\n",
      " - programming: 30\n",
      "\n",
      "🟦 Skill Cluster 22 (top salario):\n",
      " - fine arts: 3705\n",
      " - transportation: 739\n",
      " - writing: 45\n",
      " - design: 15\n",
      " - time management: 3\n",
      "\n",
      "🟦 Skill Cluster 6 (top salario):\n",
      " - operations analysis: 9\n",
      " - design: 6\n",
      " - negotiation: 6\n",
      " - persuasion: 6\n",
      " - monitoring: 2\n",
      " - coordination: 1\n"
     ]
    }
   ],
   "source": [
    "\n",
    "\n",
    "\n",
    "from collections import Counter\n",
    "\n",
    "# Seleccionamos los top skill_clusters\n",
    "top_clusters = salary_by_skill_cluster.head(40).index.tolist()\n",
    "\n",
    "for cluster_id in top_clusters:\n",
    "    habilidades = combined_df['skills_extraidas'][combined_df['skill_clusters'].apply(lambda scs: isinstance(scs, list) and cluster_id in scs)]\n",
    "    habilidades = habilidades.dropna().str.split(', ').explode().str.strip()\n",
    "    top_skills = Counter(habilidades).most_common(10)\n",
    "    \n",
    "    print(f\"\\n🟦 Skill Cluster {cluster_id} (top salario):\")\n",
    "    for skill, count in top_skills:\n",
    "        print(f\" - {skill}: {count}\")\n"
   ]
  },
  {
   "cell_type": "code",
   "execution_count": 141,
   "id": "ea3bfee5",
   "metadata": {},
   "outputs": [
    {
     "data": {
      "text/html": [
       "<div>\n",
       "<style scoped>\n",
       "    .dataframe tbody tr th:only-of-type {\n",
       "        vertical-align: middle;\n",
       "    }\n",
       "\n",
       "    .dataframe tbody tr th {\n",
       "        vertical-align: top;\n",
       "    }\n",
       "\n",
       "    .dataframe thead th {\n",
       "        text-align: right;\n",
       "    }\n",
       "</style>\n",
       "<table border=\"1\" class=\"dataframe\">\n",
       "  <thead>\n",
       "    <tr style=\"text-align: right;\">\n",
       "      <th></th>\n",
       "      <th>Cluster</th>\n",
       "      <th>Top Skills</th>\n",
       "      <th>Posible Perfil</th>\n",
       "    </tr>\n",
       "  </thead>\n",
       "  <tbody>\n",
       "    <tr>\n",
       "      <th>0</th>\n",
       "      <td>0</td>\n",
       "      <td>[equipment selection, design, transportation, ...</td>\n",
       "      <td>Ingeniería industrial / Procesos</td>\n",
       "    </tr>\n",
       "    <tr>\n",
       "      <th>1</th>\n",
       "      <td>1</td>\n",
       "      <td>[writing, design, transportation, critical thi...</td>\n",
       "      <td>Redactor técnico / Comunicaciones científicas</td>\n",
       "    </tr>\n",
       "    <tr>\n",
       "      <th>2</th>\n",
       "      <td>2</td>\n",
       "      <td>[transportation, design, coordination, trouble...</td>\n",
       "      <td>Gestión logística / Operaciones</td>\n",
       "    </tr>\n",
       "    <tr>\n",
       "      <th>3</th>\n",
       "      <td>3</td>\n",
       "      <td>[science, design, writing, chemistry, psychology]</td>\n",
       "      <td>Investigación científica / I+D</td>\n",
       "    </tr>\n",
       "    <tr>\n",
       "      <th>4</th>\n",
       "      <td>4</td>\n",
       "      <td>[time management, administrative, coordination...</td>\n",
       "      <td>Asistente administrativo / Coordinación</td>\n",
       "    </tr>\n",
       "    <tr>\n",
       "      <th>5</th>\n",
       "      <td>5</td>\n",
       "      <td>[mechanical, design, installation, transportat...</td>\n",
       "      <td>Técnico en mantenimiento / Instalaciones</td>\n",
       "    </tr>\n",
       "    <tr>\n",
       "      <th>6</th>\n",
       "      <td>6</td>\n",
       "      <td>[operations analysis, design, negotiation, per...</td>\n",
       "      <td>Analista de operaciones / Ventas técnicas</td>\n",
       "    </tr>\n",
       "    <tr>\n",
       "      <th>7</th>\n",
       "      <td>7</td>\n",
       "      <td>[coordination, design, transportation, adminis...</td>\n",
       "      <td>Coordinador de proyectos / Operaciones</td>\n",
       "    </tr>\n",
       "    <tr>\n",
       "      <th>8</th>\n",
       "      <td>8</td>\n",
       "      <td>[negotiation, transportation, coordination]</td>\n",
       "      <td>Gestión de compras / Logística</td>\n",
       "    </tr>\n",
       "    <tr>\n",
       "      <th>9</th>\n",
       "      <td>9</td>\n",
       "      <td>[administrative, coordination, time management...</td>\n",
       "      <td>Administración / Gestión de oficinas</td>\n",
       "    </tr>\n",
       "    <tr>\n",
       "      <th>10</th>\n",
       "      <td>10</td>\n",
       "      <td>[installation, design, mechanical, transportat...</td>\n",
       "      <td>Instalaciones técnicas / Soporte industrial</td>\n",
       "    </tr>\n",
       "    <tr>\n",
       "      <th>11</th>\n",
       "      <td>11</td>\n",
       "      <td>[food production, design, administrative]</td>\n",
       "      <td>Producción alimentaria / Operaciones básicas</td>\n",
       "    </tr>\n",
       "    <tr>\n",
       "      <th>12</th>\n",
       "      <td>12</td>\n",
       "      <td>[monitoring, troubleshooting, transportation, ...</td>\n",
       "      <td>Supervisor técnico / Mantenimiento</td>\n",
       "    </tr>\n",
       "    <tr>\n",
       "      <th>13</th>\n",
       "      <td>13</td>\n",
       "      <td>[active listening, transportation, troubleshoo...</td>\n",
       "      <td>Soporte técnico / Atención al cliente</td>\n",
       "    </tr>\n",
       "    <tr>\n",
       "      <th>14</th>\n",
       "      <td>14</td>\n",
       "      <td>[judgment, science, design, mathematics]</td>\n",
       "      <td>Analista / Consultor técnico</td>\n",
       "    </tr>\n",
       "    <tr>\n",
       "      <th>15</th>\n",
       "      <td>15</td>\n",
       "      <td>[telecommunications, design, programming, trou...</td>\n",
       "      <td>Soporte de telecomunicaciones / Redes</td>\n",
       "    </tr>\n",
       "    <tr>\n",
       "      <th>16</th>\n",
       "      <td>16</td>\n",
       "      <td>[psychology, therapy, design, science]</td>\n",
       "      <td>Psicología clínica / Orientación</td>\n",
       "    </tr>\n",
       "    <tr>\n",
       "      <th>17</th>\n",
       "      <td>17</td>\n",
       "      <td>[repairing, mechanical, troubleshooting, equip...</td>\n",
       "      <td>Técnico reparador / Mantenimiento industrial</td>\n",
       "    </tr>\n",
       "    <tr>\n",
       "      <th>18</th>\n",
       "      <td>18</td>\n",
       "      <td>[english, science, writing, mechanical]</td>\n",
       "      <td>Redacción técnica / Comunicación científica</td>\n",
       "    </tr>\n",
       "    <tr>\n",
       "      <th>19</th>\n",
       "      <td>19</td>\n",
       "      <td>[service orientation, installation, coordination]</td>\n",
       "      <td>Técnico de soporte / Servicio al cliente</td>\n",
       "    </tr>\n",
       "    <tr>\n",
       "      <th>20</th>\n",
       "      <td>20</td>\n",
       "      <td>[persuasion, negotiation, design]</td>\n",
       "      <td>Ventas / Representante comercial</td>\n",
       "    </tr>\n",
       "    <tr>\n",
       "      <th>21</th>\n",
       "      <td>21</td>\n",
       "      <td>[systems analysis, troubleshooting, transporta...</td>\n",
       "      <td>Ingeniero de sistemas / Soporte IT</td>\n",
       "    </tr>\n",
       "    <tr>\n",
       "      <th>22</th>\n",
       "      <td>22</td>\n",
       "      <td>[fine arts, writing, design]</td>\n",
       "      <td>Diseñador gráfico / Ilustrador</td>\n",
       "    </tr>\n",
       "    <tr>\n",
       "      <th>23</th>\n",
       "      <td>25</td>\n",
       "      <td>[critical thinking, writing, design, science]</td>\n",
       "      <td>Educación / Formación técnica</td>\n",
       "    </tr>\n",
       "    <tr>\n",
       "      <th>24</th>\n",
       "      <td>26</td>\n",
       "      <td>[design, transportation, troubleshooting, coor...</td>\n",
       "      <td>Ingeniería de procesos / Diseño industrial</td>\n",
       "    </tr>\n",
       "    <tr>\n",
       "      <th>25</th>\n",
       "      <td>28</td>\n",
       "      <td>[speaking, writing, design]</td>\n",
       "      <td>Educación / Comunicación</td>\n",
       "    </tr>\n",
       "    <tr>\n",
       "      <th>26</th>\n",
       "      <td>29</td>\n",
       "      <td>[troubleshooting, design, monitoring]</td>\n",
       "      <td>Ingeniería eléctrica / Sistemas</td>\n",
       "    </tr>\n",
       "    <tr>\n",
       "      <th>27</th>\n",
       "      <td>30</td>\n",
       "      <td>[geography, design, writing]</td>\n",
       "      <td>Geógrafo / Especialista en SIG</td>\n",
       "    </tr>\n",
       "    <tr>\n",
       "      <th>28</th>\n",
       "      <td>31</td>\n",
       "      <td>[sales, writing, design, administrative]</td>\n",
       "      <td>Marketing / Ventas técnicas</td>\n",
       "    </tr>\n",
       "    <tr>\n",
       "      <th>29</th>\n",
       "      <td>32</td>\n",
       "      <td>[complex problem solving, design, critical thi...</td>\n",
       "      <td>Consultoría estratégica / Product Manager</td>\n",
       "    </tr>\n",
       "    <tr>\n",
       "      <th>30</th>\n",
       "      <td>33</td>\n",
       "      <td>[programming, design, transportation, troubles...</td>\n",
       "      <td>Ingeniero de software / DevOps</td>\n",
       "    </tr>\n",
       "    <tr>\n",
       "      <th>31</th>\n",
       "      <td>34</td>\n",
       "      <td>[instructing, monitoring, speaking]</td>\n",
       "      <td>Docente / Formación profesional</td>\n",
       "    </tr>\n",
       "  </tbody>\n",
       "</table>\n",
       "</div>"
      ],
      "text/plain": [
       "    Cluster                                         Top Skills  \\\n",
       "0         0  [equipment selection, design, transportation, ...   \n",
       "1         1  [writing, design, transportation, critical thi...   \n",
       "2         2  [transportation, design, coordination, trouble...   \n",
       "3         3  [science, design, writing, chemistry, psychology]   \n",
       "4         4  [time management, administrative, coordination...   \n",
       "5         5  [mechanical, design, installation, transportat...   \n",
       "6         6  [operations analysis, design, negotiation, per...   \n",
       "7         7  [coordination, design, transportation, adminis...   \n",
       "8         8        [negotiation, transportation, coordination]   \n",
       "9         9  [administrative, coordination, time management...   \n",
       "10       10  [installation, design, mechanical, transportat...   \n",
       "11       11          [food production, design, administrative]   \n",
       "12       12  [monitoring, troubleshooting, transportation, ...   \n",
       "13       13  [active listening, transportation, troubleshoo...   \n",
       "14       14           [judgment, science, design, mathematics]   \n",
       "15       15  [telecommunications, design, programming, trou...   \n",
       "16       16             [psychology, therapy, design, science]   \n",
       "17       17  [repairing, mechanical, troubleshooting, equip...   \n",
       "18       18            [english, science, writing, mechanical]   \n",
       "19       19  [service orientation, installation, coordination]   \n",
       "20       20                  [persuasion, negotiation, design]   \n",
       "21       21  [systems analysis, troubleshooting, transporta...   \n",
       "22       22                       [fine arts, writing, design]   \n",
       "23       25      [critical thinking, writing, design, science]   \n",
       "24       26  [design, transportation, troubleshooting, coor...   \n",
       "25       28                        [speaking, writing, design]   \n",
       "26       29              [troubleshooting, design, monitoring]   \n",
       "27       30                       [geography, design, writing]   \n",
       "28       31           [sales, writing, design, administrative]   \n",
       "29       32  [complex problem solving, design, critical thi...   \n",
       "30       33  [programming, design, transportation, troubles...   \n",
       "31       34                [instructing, monitoring, speaking]   \n",
       "\n",
       "                                   Posible Perfil  \n",
       "0                Ingeniería industrial / Procesos  \n",
       "1   Redactor técnico / Comunicaciones científicas  \n",
       "2                 Gestión logística / Operaciones  \n",
       "3                  Investigación científica / I+D  \n",
       "4         Asistente administrativo / Coordinación  \n",
       "5        Técnico en mantenimiento / Instalaciones  \n",
       "6       Analista de operaciones / Ventas técnicas  \n",
       "7          Coordinador de proyectos / Operaciones  \n",
       "8                  Gestión de compras / Logística  \n",
       "9            Administración / Gestión de oficinas  \n",
       "10    Instalaciones técnicas / Soporte industrial  \n",
       "11   Producción alimentaria / Operaciones básicas  \n",
       "12             Supervisor técnico / Mantenimiento  \n",
       "13          Soporte técnico / Atención al cliente  \n",
       "14                   Analista / Consultor técnico  \n",
       "15          Soporte de telecomunicaciones / Redes  \n",
       "16               Psicología clínica / Orientación  \n",
       "17   Técnico reparador / Mantenimiento industrial  \n",
       "18    Redacción técnica / Comunicación científica  \n",
       "19       Técnico de soporte / Servicio al cliente  \n",
       "20               Ventas / Representante comercial  \n",
       "21             Ingeniero de sistemas / Soporte IT  \n",
       "22                 Diseñador gráfico / Ilustrador  \n",
       "23                  Educación / Formación técnica  \n",
       "24     Ingeniería de procesos / Diseño industrial  \n",
       "25                       Educación / Comunicación  \n",
       "26                Ingeniería eléctrica / Sistemas  \n",
       "27                 Geógrafo / Especialista en SIG  \n",
       "28                    Marketing / Ventas técnicas  \n",
       "29      Consultoría estratégica / Product Manager  \n",
       "30                 Ingeniero de software / DevOps  \n",
       "31                Docente / Formación profesional  "
      ]
     },
     "execution_count": 141,
     "metadata": {},
     "output_type": "execute_result"
    }
   ],
   "source": [
    "# Lista completa de clústeres con habilidades resumidas (manual basado en los datos proporcionados por el usuario)\n",
    "\n",
    "all_clusters_data = [\n",
    "    {\"Cluster\": 0, \"Top Skills\": [\"equipment selection\", \"design\", \"transportation\", \"mechanical\"], \"Posible Perfil\": \"Ingeniería industrial / Procesos\"},\n",
    "    {\"Cluster\": 1, \"Top Skills\": [\"writing\", \"design\", \"transportation\", \"critical thinking\", \"science\"], \"Posible Perfil\": \"Redactor técnico / Comunicaciones científicas\"},\n",
    "    {\"Cluster\": 2, \"Top Skills\": [\"transportation\", \"design\", \"coordination\", \"troubleshooting\", \"negotiation\"], \"Posible Perfil\": \"Gestión logística / Operaciones\"},\n",
    "    {\"Cluster\": 3, \"Top Skills\": [\"science\", \"design\", \"writing\", \"chemistry\", \"psychology\"], \"Posible Perfil\": \"Investigación científica / I+D\"},\n",
    "    {\"Cluster\": 4, \"Top Skills\": [\"time management\", \"administrative\", \"coordination\", \"transportation\"], \"Posible Perfil\": \"Asistente administrativo / Coordinación\"},\n",
    "    {\"Cluster\": 5, \"Top Skills\": [\"mechanical\", \"design\", \"installation\", \"transportation\"], \"Posible Perfil\": \"Técnico en mantenimiento / Instalaciones\"},\n",
    "    {\"Cluster\": 6, \"Top Skills\": [\"operations analysis\", \"design\", \"negotiation\", \"persuasion\"], \"Posible Perfil\": \"Analista de operaciones / Ventas técnicas\"},\n",
    "    {\"Cluster\": 7, \"Top Skills\": [\"coordination\", \"design\", \"transportation\", \"administrative\"], \"Posible Perfil\": \"Coordinador de proyectos / Operaciones\"},\n",
    "    {\"Cluster\": 8, \"Top Skills\": [\"negotiation\", \"transportation\", \"coordination\"], \"Posible Perfil\": \"Gestión de compras / Logística\"},\n",
    "    {\"Cluster\": 9, \"Top Skills\": [\"administrative\", \"coordination\", \"time management\", \"transportation\"], \"Posible Perfil\": \"Administración / Gestión de oficinas\"},\n",
    "    {\"Cluster\": 10, \"Top Skills\": [\"installation\", \"design\", \"mechanical\", \"transportation\"], \"Posible Perfil\": \"Instalaciones técnicas / Soporte industrial\"},\n",
    "    {\"Cluster\": 11, \"Top Skills\": [\"food production\", \"design\", \"administrative\"], \"Posible Perfil\": \"Producción alimentaria / Operaciones básicas\"},\n",
    "    {\"Cluster\": 12, \"Top Skills\": [\"monitoring\", \"troubleshooting\", \"transportation\", \"design\"], \"Posible Perfil\": \"Supervisor técnico / Mantenimiento\"},\n",
    "    {\"Cluster\": 13, \"Top Skills\": [\"active listening\", \"transportation\", \"troubleshooting\"], \"Posible Perfil\": \"Soporte técnico / Atención al cliente\"},\n",
    "    {\"Cluster\": 14, \"Top Skills\": [\"judgment\", \"science\", \"design\", \"mathematics\"], \"Posible Perfil\": \"Analista / Consultor técnico\"},\n",
    "    {\"Cluster\": 15, \"Top Skills\": [\"telecommunications\", \"design\", \"programming\", \"troubleshooting\"], \"Posible Perfil\": \"Soporte de telecomunicaciones / Redes\"},\n",
    "    {\"Cluster\": 16, \"Top Skills\": [\"psychology\", \"therapy\", \"design\", \"science\"], \"Posible Perfil\": \"Psicología clínica / Orientación\"},\n",
    "    {\"Cluster\": 17, \"Top Skills\": [\"repairing\", \"mechanical\", \"troubleshooting\", \"equipment maintenance\"], \"Posible Perfil\": \"Técnico reparador / Mantenimiento industrial\"},\n",
    "    {\"Cluster\": 18, \"Top Skills\": [\"english\", \"science\", \"writing\", \"mechanical\"], \"Posible Perfil\": \"Redacción técnica / Comunicación científica\"},\n",
    "    {\"Cluster\": 19, \"Top Skills\": [\"service orientation\", \"installation\", \"coordination\"], \"Posible Perfil\": \"Técnico de soporte / Servicio al cliente\"},\n",
    "    {\"Cluster\": 20, \"Top Skills\": [\"persuasion\", \"negotiation\", \"design\"], \"Posible Perfil\": \"Ventas / Representante comercial\"},\n",
    "    {\"Cluster\": 21, \"Top Skills\": [\"systems analysis\", \"troubleshooting\", \"transportation\"], \"Posible Perfil\": \"Ingeniero de sistemas / Soporte IT\"},\n",
    "    {\"Cluster\": 22, \"Top Skills\": [\"fine arts\", \"writing\", \"design\"], \"Posible Perfil\": \"Diseñador gráfico / Ilustrador\"},\n",
    "    {\"Cluster\": 25, \"Top Skills\": [\"critical thinking\", \"writing\", \"design\", \"science\"], \"Posible Perfil\": \"Educación / Formación técnica\"},\n",
    "    {\"Cluster\": 26, \"Top Skills\": [\"design\", \"transportation\", \"troubleshooting\", \"coordination\"], \"Posible Perfil\": \"Ingeniería de procesos / Diseño industrial\"},\n",
    "    {\"Cluster\": 28, \"Top Skills\": [\"speaking\", \"writing\", \"design\"], \"Posible Perfil\": \"Educación / Comunicación\"},\n",
    "    {\"Cluster\": 29, \"Top Skills\": [\"troubleshooting\", \"design\", \"monitoring\"], \"Posible Perfil\": \"Ingeniería eléctrica / Sistemas\"},\n",
    "    {\"Cluster\": 30, \"Top Skills\": [\"geography\", \"design\", \"writing\"], \"Posible Perfil\": \"Geógrafo / Especialista en SIG\"},\n",
    "    {\"Cluster\": 31, \"Top Skills\": [\"sales\", \"writing\", \"design\", \"administrative\"], \"Posible Perfil\": \"Marketing / Ventas técnicas\"},\n",
    "    {\"Cluster\": 32, \"Top Skills\": [\"complex problem solving\", \"design\", \"critical thinking\"], \"Posible Perfil\": \"Consultoría estratégica / Product Manager\"},\n",
    "    {\"Cluster\": 33, \"Top Skills\": [\"programming\", \"design\", \"transportation\", \"troubleshooting\"], \"Posible Perfil\": \"Ingeniero de software / DevOps\"},\n",
    "    {\"Cluster\": 34, \"Top Skills\": [\"instructing\", \"monitoring\", \"speaking\"], \"Posible Perfil\": \"Docente / Formación profesional\"},\n",
    "]\n",
    "\n",
    "# Crear DataFrame\n",
    "full_cluster_df = pd.DataFrame(all_clusters_data)\n",
    "\n",
    "# Mostrar al usuario\n",
    "full_cluster_df\n"
   ]
  },
  {
   "cell_type": "markdown",
   "id": "96052225",
   "metadata": {},
   "source": [
    "limpiar"
   ]
  },
  {
   "cell_type": "code",
   "execution_count": 43,
   "id": "70932c51",
   "metadata": {},
   "outputs": [],
   "source": [
    "# Convertir 'skill_clusters' a lista si viene como string\n",
    "combined_salary_df[\"skill_clusters\"] = combined_salary_df[\"skill_clusters\"].apply(\n",
    "    lambda x: eval(x) if isinstance(x, str) else x\n",
    ")\n",
    "\n",
    "# Filtrar filas sin skill_clusters útiles\n",
    "combined_salary_df = combined_salary_df[\n",
    "    combined_salary_df[\"skill_clusters\"].apply(lambda x: isinstance(x, list) and len(x) > 0)\n",
    "]\n",
    "\n",
    "# Limpiar skills_extraidas: quitar NaN, espacios y vacíos\n",
    "combined_salary_df[\"skills_extraidas\"] = combined_salary_df[\"skills_extraidas\"].fillna(\"\").str.strip()\n",
    "combined_salary_df = combined_salary_df[combined_salary_df[\"skills_extraidas\"] != \"\"]\n",
    "\n",
    "# Convertir a lista, quitar blancos y eliminar genéricos\n",
    "skills_to_exclude = {\"\", \"transportation\", \"design\"}\n",
    "\n",
    "def limpiar_skills(skills_str):\n",
    "    skills = [s.strip() for s in skills_str.split(',')]\n",
    "    skills_filtradas = [s for s in skills if s.lower() not in skills_to_exclude]\n",
    "    return ', '.join(skills_filtradas)\n",
    "\n",
    "combined_salary_df[\"skills_extraidas\"] = combined_salary_df[\"skills_extraidas\"].apply(limpiar_skills)\n",
    "\n",
    "# Eliminar filas que hayan quedado sin skills después de la limpieza\n",
    "combined_salary_df = combined_salary_df[combined_salary_df[\"skills_extraidas\"] != \"\"]\n",
    "\n"
   ]
  },
  {
   "cell_type": "markdown",
   "id": "304ea1ba",
   "metadata": {},
   "source": [
    "1. MATRIZ CLUSTER ↔ SKILL_CLUSTER\n",
    "¿Qué habilidades (skill_clusters) predominan en cada grupo de trabajos (cluster)?\n",
    "\n",
    "¿Para qué sirve?\n",
    "\n",
    "Ver qué habilidades aparecen en cada tipo de trabajo.\n",
    "\n",
    "Detectar clústeres de trabajos especializados o multidisciplinares.\n",
    "\n",
    "Detectar skill_clusters versátiles que se usan en muchos clusters."
   ]
  },
  {
   "cell_type": "code",
   "execution_count": 139,
   "id": "06799a11",
   "metadata": {},
   "outputs": [
    {
     "data": {
      "text/plain": [
       "<Axes: xlabel='skill_clusters', ylabel='cluster'>"
      ]
     },
     "execution_count": 139,
     "metadata": {},
     "output_type": "execute_result"
    },
    {
     "data": {
      "image/png": "[encoded data removed]",
      "text/plain": [
       "<Figure size 640x480 with 2 Axes>"
      ]
     },
     "metadata": {},
     "output_type": "display_data"
    }
   ],
   "source": [
    "cross_counts = (\n",
    "    combined_salary_df.explode(\"skill_clusters\")\n",
    "    .groupby([\"cluster\", \"skill_clusters\"])\n",
    "    .size()\n",
    "    .unstack(fill_value=0)\n",
    ")\n",
    "\n",
    "sns.heatmap(cross_counts, cmap=\"Blues\")"
   ]
  },
  {
   "cell_type": "markdown",
   "id": "2f9e1e96",
   "metadata": {},
   "source": [
    "| Skill Cluster | Salario medio aprox. | Habilidades dominantes (de análisis previo)               |\n",
    "| ------------- | -------------------- | --------------------------------------------------------- |\n",
    "| 3             | 109 k €              | science, design, chemistry, critical thinking             |\n",
    "| 8             | 102 k €              | negotiation, coordination, leadership                     |\n",
    "| 26            | 101 k €              | diseño técnico, troubleshooting, mechanical, programación |\n",
    "| 20            | 94 k €               | persuasion, negotiation, análisis de operaciones          |\n",
    "| 12            | 89 k €               | monitoring, troubleshooting, gestión del tiempo           |\n"
   ]
  },
  {
   "cell_type": "markdown",
   "id": "e11369a8",
   "metadata": {},
   "source": [
    " Interpretación\n",
    "Habilidades técnicas y STEM dominan los primeros puestos:\n",
    "\n",
    "science, chemistry, troubleshooting, programming, mechanical, equipment selection...\n",
    "\n",
    "Soft skills estratégicas también destacan:\n",
    "\n",
    "negotiation, coordination, persuasion, judgment and decision making...\n",
    "\n",
    "Muchos clústeres bien pagados combinan habilidades técnicas con gestión o toma de decisiones."
   ]
  },
  {
   "cell_type": "markdown",
   "id": "c38537c4",
   "metadata": {},
   "source": [
    "2. MATRIZ CLUSTER ↔ SKILL_CLUSTER CON SALARIO\n",
    "¿Qué combinaciones de trabajo y habilidades tienen más salario?\n",
    "\n",
    "¿Para qué sirve?\n",
    "\n",
    "Identificar combinaciones potentes, como “clúster 5 (data jobs)” con “skill_cluster 3 (ML + Python)” con salarios altos.\n",
    "\n",
    "Sugerir habilidades que valen más en ciertos contextos laborales."
   ]
  },
  {
   "cell_type": "code",
   "execution_count": 140,
   "id": "9e780d66",
   "metadata": {},
   "outputs": [
    {
     "data": {
      "text/plain": [
       "<Axes: xlabel='skill_clusters', ylabel='cluster'>"
      ]
     },
     "execution_count": 140,
     "metadata": {},
     "output_type": "execute_result"
    },
    {
     "data": {
      "image/png": "[encoded data removed]",
      "text/plain": [
       "<Figure size 640x480 with 2 Axes>"
      ]
     },
     "metadata": {},
     "output_type": "display_data"
    }
   ],
   "source": [
    "df_exp = combined_salary_df.explode(\"skill_clusters\")\n",
    "salary_matrix = df_exp.groupby([\"cluster\", \"skill_clusters\"])[\"avg_salary_imputed\"].mean().unstack()\n",
    "\n",
    "sns.heatmap(salary_matrix, cmap=\"viridis\")\n"
   ]
  },
  {
   "cell_type": "markdown",
   "id": "ce98eec4",
   "metadata": {},
   "source": [
    "3. TOP HABILIDADES POR CLUSTER DE OFERTA\n",
    "\n",
    " ¿Para qué sirve?\n",
    "\n",
    "Explicar qué define cada clúster de trabajo, usando las habilidades como etiquetas."
   ]
  },
  {
   "cell_type": "code",
   "execution_count": 46,
   "id": "2dcc6c02",
   "metadata": {},
   "outputs": [
    {
     "name": "stdout",
     "output_type": "stream",
     "text": [
      "🟦 Cluster 8 → Top habilidades:\n",
      "[('troubleshooting', 56016), ('monitoring', 19116), ('installation', 49), ('science', 17), ('writing', 4)]\n",
      "🟦 Cluster 33 → Top habilidades:\n",
      "[('coordination', 58752), ('administration and management', 22757), ('negotiation', 15051), ('administrative', 8274), ('programming', 6)]\n",
      "🟦 Cluster 16 → Top habilidades:\n",
      "[('psychology', 45275)]\n",
      "🟦 Cluster 39 → Top habilidades:\n",
      "[('coordination', 30653)]\n",
      "🟦 Cluster 10 → Top habilidades:\n",
      "[('programming', 7917), ('monitoring', 4218), ('science', 121), ('writing', 118), ('troubleshooting', 82)]\n",
      "🟦 Cluster 28 → Top habilidades:\n",
      "[('troubleshooting', 30630), ('mechanical', 23266), ('coordination', 15226), ('installation', 336), ('science', 215)]\n",
      "🟦 Cluster 7 → Top habilidades:\n",
      "[('negotiation', 25256), ('sales and marketing', 216), ('writing', 175), ('speaking', 163), ('monitoring', 160)]\n",
      "🟦 Cluster 13 → Top habilidades:\n",
      "[('writing', 23499), ('science', 21), ('english language', 6), ('complex problem solving', 6), ('programming', 6)]\n",
      "🟦 Cluster 38 → Top habilidades:\n",
      "[('troubleshooting', 46672), ('monitoring', 30554), ('science', 76), ('installation', 28), ('writing', 16)]\n",
      "🟦 Cluster 24 → Top habilidades:\n",
      "[('coordination', 19493), ('troubleshooting', 18173), ('writing', 13568), ('systems analysis', 12149), ('science', 8027)]\n",
      "🟦 Cluster 9 → Top habilidades:\n",
      "[('administrative', 87439), ('time management', 86504), ('coordination', 68125), ('monitoring', 11727), ('negotiation', 7621)]\n",
      "🟦 Cluster 17 → Top habilidades:\n",
      "[('programming', 36235)]\n",
      "🟦 Cluster 23 → Top habilidades:\n",
      "[('coordination', 13852), ('critical thinking', 18), ('science', 18), ('time management', 16), ('administrative', 8)]\n",
      "🟦 Cluster 4 → Top habilidades:\n",
      "[('psychology', 20115), ('active listening', 8309), ('therapy and counseling', 7612), ('coordination', 4354), ('administrative', 71)]\n",
      "🟦 Cluster 25 → Top habilidades:\n",
      "[('troubleshooting', 32514), ('critical thinking', 7579), ('installation', 37), ('active listening', 24), ('speaking', 21)]\n",
      "🟦 Cluster 2 → Top habilidades:\n",
      "[('troubleshooting', 22996), ('time management', 8341), ('programming', 7625), ('monitoring', 4190), ('writing', 18)]\n",
      "🟦 Cluster 37 → Top habilidades:\n",
      "[('writing', 54729), ('critical thinking', 28414), ('science', 17294), ('psychology', 17258), ('chemistry', 15273)]\n",
      "🟦 Cluster 29 → Top habilidades:\n",
      "[('negotiation', 25112), ('coordination', 39), ('administrative', 3), ('monitoring', 1), ('active listening', 1)]\n",
      "🟦 Cluster 35 → Top habilidades:\n",
      "[('negotiation', 16554)]\n",
      "🟦 Cluster 36 → Top habilidades:\n",
      "[('negotiation', 16065), ('writing', 12003), ('administrative', 4213), ('critical thinking', 8), ('time management', 1)]\n",
      "🟦 Cluster 5 → Top habilidades:\n",
      "[('coordination', 4032), ('negotiation', 6)]\n",
      "🟦 Cluster 12 → Top habilidades:\n",
      "[('negotiation', 29219), ('monitoring', 9), ('writing', 9), ('coordination', 6), ('critical thinking', 6)]\n",
      "🟦 Cluster 1 → Top habilidades:\n",
      "[('programming', 11406), ('troubleshooting', 11406), ('science', 2)]\n",
      "🟦 Cluster 11 → Top habilidades:\n",
      "[('negotiation', 8442), ('administrative', 4160), ('writing', 19), ('science', 5)]\n",
      "🟦 Cluster 22 → Top habilidades:\n",
      "[('programming', 12684), ('writing', 7798), ('critical thinking', 7755), ('science', 709), ('troubleshooting', 273)]\n",
      "🟦 Cluster 26 → Top habilidades:\n",
      "[('coordination', 8360), ('science', 45), ('monitoring', 30), ('critical thinking', 22), ('education and training', 18)]\n",
      "🟦 Cluster 14 → Top habilidades:\n",
      "[('writing', 19253), ('monitoring', 4220), ('sales and marketing', 18), ('negotiation', 4), ('psychology', 4)]\n",
      "🟦 Cluster 3 → Top habilidades:\n",
      "[('monitoring', 4238), ('time management', 20), ('administrative', 18), ('writing', 18), ('coordination', 16)]\n",
      "🟦 Cluster 0 → Top habilidades:\n",
      "[('writing', 4168), ('mechanical', 28), ('coordination', 22), ('science', 22), ('critical thinking', 12)]\n",
      "🟦 Cluster 15 → Top habilidades:\n",
      "[('programming', 7446), ('mechanical', 52), ('science', 51), ('english language', 36), ('coordination', 15)]\n",
      "🟦 Cluster 31 → Top habilidades:\n",
      "[('installation', 26263), ('mechanical', 18320), ('equipment selection', 7848), ('administrative', 6)]\n",
      "🟦 Cluster 20 → Top habilidades:\n",
      "[('monitoring', 35), ('writing', 31), ('time management', 28), ('critical thinking', 24), ('coordination', 9)]\n",
      "🟦 Cluster 18 → Top habilidades:\n",
      "[('time management', 33), ('fine arts', 9)]\n",
      "🟦 Cluster 32 → Top habilidades:\n",
      "[('programming', 60), ('monitoring', 38), ('time management', 38), ('administrative', 22), ('service orientation', 10)]\n",
      "🟦 Cluster 6 → Top habilidades:\n",
      "[('monitoring', 151), ('time management', 149), ('writing', 113), ('sales and marketing', 79), ('programming', 50)]\n",
      "🟦 Cluster 34 → Top habilidades:\n",
      "[('speaking', 72), ('science', 41), ('troubleshooting', 35), ('monitoring', 20), ('programming', 10)]\n",
      "🟦 Cluster 30 → Top habilidades:\n",
      "[('coordination', 54), ('administrative', 50), ('monitoring', 28), ('speaking', 17), ('education and training', 15)]\n",
      "🟦 Cluster 27 → Top habilidades:\n",
      "[('science', 12)]\n",
      "🟦 Cluster 21 → Top habilidades:\n",
      "[('physics', 6)]\n"
     ]
    }
   ],
   "source": [
    "from collections import Counter\n",
    "\n",
    "for c in df_exp[\"cluster\"].unique():\n",
    "    top = (\n",
    "        df_exp[df_exp[\"cluster\"] == c][\"skills_extraidas\"]\n",
    "        .dropna().str.split(\", \").explode().str.strip()\n",
    "    )\n",
    "    print(f\"🟦 Cluster {c} → Top habilidades:\")\n",
    "    print(Counter(top).most_common(5))\n"
   ]
  },
  {
   "cell_type": "markdown",
   "id": "3b415967",
   "metadata": {},
   "source": [
    " Interpretación\n",
    "1. Alta variabilidad entre clústeres:\n",
    "Hay combinaciones de skill_cluster + oferta_cluster que superan los 250 000 €, aunque posiblemente sean outliers o directivos.\n",
    "\n",
    "Los clústeres 3, 5, 8, 26 y 31 muestran celdas con coloración clara → salarios más altos.\n",
    "\n",
    "2. Skill_clusters que se destacan:\n",
    "Clústeres de habilidades como el 3, 8, 26, y 20 se mantienen con valores elevados en diferentes ofertas.\n",
    "\n",
    "Eso implica que ciertas habilidades son consistentemente mejor pagadas, independientemente del grupo de ofertas.\n",
    "\n",
    "3. Clústeres de ofertas bien pagados:\n",
    "Algunos clústeres verticales tienen múltiples celdas claras, lo cual indica que varias habilidades asociadas a ese grupo conducen a salarios altos.\n",
    "\n",
    "⚠️ Posibles anomalías / cosas a vigilar\n",
    "Algunas celdas con valores muy altos (>300k) pueden ser outliers o errores en la imputación.\n",
    "\n",
    "Hay muchas combinaciones oscuras → significa que o hay pocas ofertas, o el salario medio es bajo."
   ]
  },
  {
   "cell_type": "markdown",
   "id": "b028b587",
   "metadata": {},
   "source": [
    "vale vamos a analizar los outliers que pueden ser directivos y ver cosas que ayudan o outliers aunque no creo"
   ]
  },
  {
   "cell_type": "markdown",
   "id": "c52b3a03",
   "metadata": {},
   "source": [
    "1. Habilidades que aparecen en los clústeres mejor pagados\n",
    "Clústeres como el 8, 33, 16, 28, 24, 17, 31 o 37 contienen habilidades muy técnicas o de responsabilidad:\n",
    "\n",
    "Clúster 8: Troubleshooting, monitoring → muy técnico, probablemente mantenimiento o ingeniería.\n",
    "\n",
    "Clúster 33: Coordination, administration and management, negotiation → perfil gerencial o gestión de equipos.\n",
    "\n",
    "Clúster 16: Psychology (única habilidad), posiblemente psicólogos clínicos especializados.\n",
    "\n",
    "Clúster 31: Installation, mechanical, equipment selection → roles técnicos muy específicos, posiblemente ingeniería industrial o mantenimiento avanzado.\n",
    "\n",
    "Clúster 17: solo programming → roles puramente técnicos de desarrollo.\n",
    "\n",
    "Clúster 24: combinación de habilidades técnicas y cognitivas: coordination, troubleshooting, systems analysis, writing.\n",
    "\n",
    "🧠 Conclusión: Estos clústeres apuntan a empleos cualificados, técnicos o de responsabilidad, que justifican salarios altos.\n",
    "\n",
    "🔍 2. Habilidades generalistas y su valor\n",
    "Habilidades como:\n",
    "\n",
    "Coordination, presente en muchos clústeres (33, 24, 23, 9…).\n",
    "\n",
    "Writing y Monitoring, que también aparecen repetidamente.\n",
    "\n",
    "Esto sugiere que:\n",
    "\n",
    "Aunque son habilidades más transversales o blandas, su combinación con otras (p. ej. science o troubleshooting) puede resultar muy valiosa.\n",
    "\n",
    "🔍 3. Outliers o posibles anomalías\n",
    "Algunos clústeres muestran muy pocos términos relevantes o parecen “raros”:\n",
    "\n",
    "Clúster 18: solo time management y fine arts. Su valor puede estar inflado si el número de muestras es bajo.\n",
    "\n",
    "Clúster 21: solo physics. También puede ser muestra pequeña o perfiles académicos.\n",
    "\n",
    "Clúster 27: solo science.\n",
    "\n",
    "Clúster 20: habilidades blandas en pequeña cantidad.\n",
    "\n",
    "📌 Sospecha: Pueden ser clústeres con muy pocas ofertas → revisar el num_offers de cada clúster para confirmar si estos altos salarios provienen de outliers o realmente de nichos bien pagados.\n",
    "\n",
    "🔍 4. Relevancia de ciertos términos\n",
    "Troubleshooting aparece en muchos clústeres (8, 28, 25, 38, 2…) y suele coincidir con salarios altos.\n",
    "\n",
    "Programming es transversal y aparece también en varios (1, 10, 17, 22…).\n",
    "\n",
    "Coordination, administrative, negotiation también se repiten en clústeres de salarios medios-altos.\n",
    "\n",
    "🧠 Conclusión general:\n",
    "Hay clústeres donde ciertas habilidades técnicas (como programming, troubleshooting) o de gestión (coordination, administration) dominan, y son claramente las más asociadas a salarios elevados.\n",
    "\n"
   ]
  },
  {
   "cell_type": "code",
   "execution_count": 47,
   "id": "eacbe55f",
   "metadata": {},
   "outputs": [],
   "source": [
    "file_path = \"combined_salary_with_skills.csv\"\n",
    "combined_salary_df.to_csv(file_path, index=False)"
   ]
  },
  {
   "cell_type": "markdown",
   "id": "7256bd72",
   "metadata": {},
   "source": [
    "| Método                  | Pros clave                                                | Contras                                   | Recomendación                                           |\n",
    "| ----------------------- | --------------------------------------------------------- | ----------------------------------------- | ------------------------------------------------------- |\n",
    "| **K-Means**             | Rápido, interpretable, bien con TF-IDF                    | Necesita definir `k`, sensible a outliers | ✅ Muy útil para exploración inicial                     |\n",
    "| **Agglomerative**       | Capta jerarquías y proximidad                             | Lento si hay muchos datos                 | ✅ Bueno para clústeres interpretables                   |\n",
    "| **LDA (Topic Model)**   | Capta temas latentes en texto                             | No siempre da grupos nítidos              | ⚠️ Bueno para análisis temático más que clustering puro |\n",
    "| **Spectral Clustering** | Útil para relaciones no lineales, con matriz de similitud | Costoso con TF-IDF                        | ❌ No recomendado en TF-IDF directamente                 |\n"
   ]
  },
  {
   "cell_type": "markdown",
   "id": "a2b9ab07",
   "metadata": {},
   "source": [
    "| Método             | Pros clave                                                 | Contras                             | Recomendación                                                     |\n",
    "| ------------------ | ---------------------------------------------------------- | ----------------------------------- | ----------------------------------------------------------------- |\n",
    "| **K-Means**        | Rápido y simple sobre embeddings                           | Puede forzar límites artificiales   | ✅ Bueno si ya sabes el número aproximado de clústeres             |\n",
    "| **HDBSCAN**        | No requiere definir `k`, detecta outliers                  | Más costoso de entrenar             | ✅ Recomendado si buscas clústeres naturales y limpieza automática |\n",
    "| **BERTopic**       | Agrupa semánticamente usando embeddings + HDBSCAN + TF-IDF | Requiere modelo pesado, más lento   | ✅ Muy potente para entender temas en descripciones                |\n",
    "| **GMM**            | Probabilístico, útil si hay solapamientos                  | Supone distribuciones gaussianas    | ⚠️ Útil si esperas roles intermedios, pero no siempre claro       |\n",
    "| **UMAP + K-Means** | Reduce dimensionalidad y luego agrupa                      | UMAP no es determinista por defecto | ✅ Bueno para visualización previa + clustering                    |\n"
   ]
  },
  {
   "cell_type": "markdown",
   "id": "06a8effc",
   "metadata": {},
   "source": [
    "Para agrupar descripciones de empleo u ofertas:\n",
    "➤ Usa embeddings con:\n",
    "\n",
    "HDBSCAN si no sabes cuántos grupos hay y quieres ignorar ruido.\n",
    "\n",
    "K-Means si prefieres controlar la cantidad de grupos.\n",
    "\n",
    "BERTopic si quieres que te diga qué temas hay y qué palabras los representan.\n",
    "\n",
    "Para agrupar habilidades:\n",
    "➤ Usa TF-IDF o embeddings de frases (por ejemplo, con Sentence-BERT sobre cada skill si están en texto) con:\n",
    "\n",
    "Agglomerative Clustering si quieres ver similitudes y jerarquía.\n",
    "\n",
    "K-Means si ya tienes número de clústeres o necesitas eficiencia.\n",
    "\n",
    "Para analizar relaciones cruzadas (skills ↔ ofertas):\n",
    "➤ Cruza los dos clustering (como ya estás haciendo).\n",
    "\n",
    "➤ Usa heatmaps, gráficos bipartitos o Sankey para mostrar conexiones entre clústeres.\n",
    "\n"
   ]
  },
  {
   "cell_type": "code",
   "execution_count": null,
   "id": "baac0308",
   "metadata": {},
   "outputs": [],
   "source": []
  }
 ],
 "metadata": {
  "kernelspec": {
   "display_name": "tfm",
   "language": "python",
   "name": "python3"
  },
  "language_info": {
   "codemirror_mode": {
    "name": "ipython",
    "version": 3
   },
   "file_extension": ".py",
   "mimetype": "text/x-python",
   "name": "python",
   "nbconvert_exporter": "python",
   "pygments_lexer": "ipython3",
   "version": "3.10.16"
  }
 },
 "nbformat": 4,
 "nbformat_minor": 5
}
